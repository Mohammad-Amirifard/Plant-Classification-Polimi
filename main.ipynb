{
  "cells": [
    {
      "cell_type": "markdown",
      "source": [
        "<div class=\"alert alert-block alert-success\">\n",
        "    <h1 align=\"center\">Plant Classification</h1>\n",
        "    <h3 align=\"center\">A2NDL POLIMI</h3>\n",
        "\n",
        "</div>"
      ],
      "metadata": {
        "id": "vo-FU0uSzSsB"
      }
    },
    {
      "cell_type": "markdown",
      "source": [
        "### 1-Mount Google drive and unzip data"
      ],
      "metadata": {
        "id": "2Vyl23BS0Qly"
      }
    },
    {
      "cell_type": "code",
      "source": [
        "from google.colab import drive\n",
        "drive.mount('/content/drive')\n"
      ],
      "metadata": {
        "id": "pXEekFrYzSKX",
        "colab": {
          "base_uri": "https://localhost:8080/"
        },
        "outputId": "ef81e935-8fa3-49f3-a5d2-bd4d3a8da66e"
      },
      "execution_count": null,
      "outputs": [
        {
          "output_type": "stream",
          "name": "stdout",
          "text": [
            "Mounted at /content/drive\n"
          ]
        }
      ]
    },
    {
      "cell_type": "code",
      "source": [
        "!unzip -qq \"/content/drive/MyDrive/public_data.zip\" -d \"/content\""
      ],
      "metadata": {
        "id": "3e5nOoI3NSv9"
      },
      "execution_count": null,
      "outputs": []
    },
    {
      "cell_type": "markdown",
      "source": [
        "### 2-Import Libraries"
      ],
      "metadata": {
        "id": "WdIAHH3y1MGL"
      }
    },
    {
      "cell_type": "code",
      "source": [
        "import os, datetime\n",
        "import warnings\n",
        "import numpy as np\n",
        "import logging\n",
        "import random\n",
        "import pandas as pd\n",
        "import matplotlib.pyplot as plt\n",
        "from sklearn import preprocessing\n",
        "import tensorflow as tf\n",
        "from tensorflow import keras as tfk\n",
        "from tensorflow.keras import layers as tfkl\n",
        "import matplotlib.pyplot as plt\n",
        "import seaborn as sns\n",
        "from sklearn.model_selection import train_test_split, StratifiedKFold\n",
        "tf.keras.callbacks\n",
        "from sklearn.metrics import mean_squared_error\n",
        "from keras import callbacks\n",
        "from keras import layers\n",
        "from keras import models\n",
        "from keras.layers import Dropout\n",
        "import keras\n",
        "from keras import optimizers\n",
        "from sklearn import preprocessing\n",
        "from matplotlib import pyplot as plt\n",
        "import seaborn as sns\n",
        "from tqdm.notebook import tqdm\n",
        "import cv2, glob, random, os, time, shutil, datetime,time, keras\n",
        "import tensorflow as tf\n",
        "from keras.preprocessing.image import ImageDataGenerator\n",
        "from tensorflow.keras.layers import Conv2D,MaxPool2D, BatchNormalization, Activation, Input, Add, Dense, ZeroPadding2D,Flatten, AveragePooling2D, Rescaling\n",
        "from tensorflow.keras.models import Model\n",
        "from tensorflow.keras.optimizers import Adam\n",
        "from keras import layers, callbacks , metrics\n",
        "from joblib import Parallel, delayed\n",
        "from sklearn.metrics import accuracy_score, confusion_matrix\n",
        "%load_ext tensorboard"
      ],
      "metadata": {
        "id": "qH4lmQYsrspb"
      },
      "execution_count": null,
      "outputs": []
    },
    {
      "cell_type": "markdown",
      "source": [
        "### 3-Fix randomness and hide warnings"
      ],
      "metadata": {
        "id": "P2ULXjC2r2G1"
      }
    },
    {
      "cell_type": "code",
      "source": [
        "seed = 42\n",
        "#####\n",
        "os.environ['TF_CPP_MIN_LOG_LEVEL'] = '3'\n",
        "os.environ['PYTHONHASHSEED'] = str(seed)\n",
        "os.environ['MPLCONFIGDIR'] = os.getcwd()+'/configs/'\n",
        "#####\n",
        "warnings.simplefilter(action='ignore', category=FutureWarning)\n",
        "warnings.simplefilter(action='ignore', category=Warning)\n",
        "#####\n",
        "np.random.seed(seed)\n",
        "random.seed(seed)"
      ],
      "metadata": {
        "id": "oEYVRRdgMuWt"
      },
      "execution_count": null,
      "outputs": []
    },
    {
      "cell_type": "markdown",
      "source": [
        "### 4-Set first parameters of tensorflow"
      ],
      "metadata": {
        "id": "pua8lra2sVWf"
      }
    },
    {
      "cell_type": "code",
      "source": [
        "# Import tensorflow\n",
        "tf.autograph.set_verbosity(0)\n",
        "tf.get_logger().setLevel(logging.ERROR)\n",
        "tf.compat.v1.logging.set_verbosity(tf.compat.v1.logging.ERROR)\n",
        "tf.random.set_seed(seed)\n",
        "tf.compat.v1.set_random_seed(seed)\n",
        "print(tf.__version__)"
      ],
      "metadata": {
        "id": "WC9nG5HlMvHd",
        "colab": {
          "base_uri": "https://localhost:8080/"
        },
        "outputId": "83da3f85-1dd2-4978-c3ea-9fb6073e1f22"
      },
      "execution_count": null,
      "outputs": [
        {
          "output_type": "stream",
          "name": "stdout",
          "text": [
            "2.14.0\n"
          ]
        }
      ]
    },
    {
      "cell_type": "markdown",
      "source": [
        "### 5-Load dataset"
      ],
      "metadata": {
        "id": "-WhQFn5S1D3z"
      }
    },
    {
      "cell_type": "code",
      "source": [
        "dataset = np.load(\"/content/public_data.npz\", allow_pickle=True)"
      ],
      "metadata": {
        "id": "7Sfce8o_08iF"
      },
      "execution_count": null,
      "outputs": []
    },
    {
      "cell_type": "markdown",
      "source": [
        "### EDA On Dataset"
      ],
      "metadata": {
        "id": "Ub3zPKGT1fiy"
      }
    },
    {
      "cell_type": "code",
      "source": [
        "# Watch keys available in the numpy array\n",
        "keys = list(dataset.keys())\n",
        "print('keys in our dataset are: ', keys)\n",
        "print('*'*100)\n",
        "\n",
        "# look at data\n",
        "data = dataset[\"data\"]\n",
        "no_images = data.shape[0]\n",
        "size_images = data.shape[1:3]\n",
        "print('Data shape: ',data.shape)\n",
        "print('*'*100)\n",
        "\n",
        "# Lool aat labels\n",
        "labels = dataset[\"labels\"]\n",
        "no_labels = labels.shape[0]\n",
        "print(\"Labels are : \",labels)\n",
        "print('*'*100)\n",
        "\n",
        "# Look at bing balanced or imblanced\n",
        "_, counts = np.unique(labels,return_counts=True)\n",
        "no_healthy_images = counts[0]\n",
        "no_unhealthy_images = counts[1]\n",
        "info_table_dict = {\"no_images\":no_images, \"image_width\": size_images[0],\"image_length\": size_images[1], \"no_labels\":no_labels,\n",
        "                   \"no_healthy_images\":no_healthy_images,\"percentage%\":no_healthy_images*100/no_labels,\n",
        "                   \"no_unhealthy_images\":no_unhealthy_images,\"percentage %\":no_unhealthy_images*100/no_labels }\n",
        "info_table = pd.DataFrame(info_table_dict, index =['value'])\n",
        "info_table"
      ],
      "metadata": {
        "id": "Ay-MIDxM1dvU",
        "colab": {
          "base_uri": "https://localhost:8080/",
          "height": 185
        },
        "outputId": "a1cde684-7133-4702-8ba1-ca0267cc2bf0"
      },
      "execution_count": null,
      "outputs": [
        {
          "output_type": "stream",
          "name": "stdout",
          "text": [
            "keys in our dataset are:  ['data', 'labels']\n",
            "****************************************************************************************************\n",
            "Data shape:  (5200, 96, 96, 3)\n",
            "****************************************************************************************************\n",
            "Labels are :  ['healthy' 'healthy' 'healthy' ... 'healthy' 'healthy' 'healthy']\n",
            "****************************************************************************************************\n"
          ]
        },
        {
          "output_type": "execute_result",
          "data": {
            "text/plain": [
              "       no_images  image_width  image_length  no_labels  no_healthy_images  \\\n",
              "value       5200           96            96       5200               3199   \n",
              "\n",
              "       percentage%  no_unhealthy_images  percentage %  \n",
              "value    61.519231                 2001     38.480769  "
            ],
            "text/html": [
              "\n",
              "  <div id=\"df-bac2ccb0-82fa-4871-8496-af4927cc2f61\" class=\"colab-df-container\">\n",
              "    <div>\n",
              "<style scoped>\n",
              "    .dataframe tbody tr th:only-of-type {\n",
              "        vertical-align: middle;\n",
              "    }\n",
              "\n",
              "    .dataframe tbody tr th {\n",
              "        vertical-align: top;\n",
              "    }\n",
              "\n",
              "    .dataframe thead th {\n",
              "        text-align: right;\n",
              "    }\n",
              "</style>\n",
              "<table border=\"1\" class=\"dataframe\">\n",
              "  <thead>\n",
              "    <tr style=\"text-align: right;\">\n",
              "      <th></th>\n",
              "      <th>no_images</th>\n",
              "      <th>image_width</th>\n",
              "      <th>image_length</th>\n",
              "      <th>no_labels</th>\n",
              "      <th>no_healthy_images</th>\n",
              "      <th>percentage%</th>\n",
              "      <th>no_unhealthy_images</th>\n",
              "      <th>percentage %</th>\n",
              "    </tr>\n",
              "  </thead>\n",
              "  <tbody>\n",
              "    <tr>\n",
              "      <th>value</th>\n",
              "      <td>5200</td>\n",
              "      <td>96</td>\n",
              "      <td>96</td>\n",
              "      <td>5200</td>\n",
              "      <td>3199</td>\n",
              "      <td>61.519231</td>\n",
              "      <td>2001</td>\n",
              "      <td>38.480769</td>\n",
              "    </tr>\n",
              "  </tbody>\n",
              "</table>\n",
              "</div>\n",
              "    <div class=\"colab-df-buttons\">\n",
              "\n",
              "  <div class=\"colab-df-container\">\n",
              "    <button class=\"colab-df-convert\" onclick=\"convertToInteractive('df-bac2ccb0-82fa-4871-8496-af4927cc2f61')\"\n",
              "            title=\"Convert this dataframe to an interactive table.\"\n",
              "            style=\"display:none;\">\n",
              "\n",
              "  <svg xmlns=\"http://www.w3.org/2000/svg\" height=\"24px\" viewBox=\"0 -960 960 960\">\n",
              "    <path d=\"M120-120v-720h720v720H120Zm60-500h600v-160H180v160Zm220 220h160v-160H400v160Zm0 220h160v-160H400v160ZM180-400h160v-160H180v160Zm440 0h160v-160H620v160ZM180-180h160v-160H180v160Zm440 0h160v-160H620v160Z\"/>\n",
              "  </svg>\n",
              "    </button>\n",
              "\n",
              "  <style>\n",
              "    .colab-df-container {\n",
              "      display:flex;\n",
              "      gap: 12px;\n",
              "    }\n",
              "\n",
              "    .colab-df-convert {\n",
              "      background-color: #E8F0FE;\n",
              "      border: none;\n",
              "      border-radius: 50%;\n",
              "      cursor: pointer;\n",
              "      display: none;\n",
              "      fill: #1967D2;\n",
              "      height: 32px;\n",
              "      padding: 0 0 0 0;\n",
              "      width: 32px;\n",
              "    }\n",
              "\n",
              "    .colab-df-convert:hover {\n",
              "      background-color: #E2EBFA;\n",
              "      box-shadow: 0px 1px 2px rgba(60, 64, 67, 0.3), 0px 1px 3px 1px rgba(60, 64, 67, 0.15);\n",
              "      fill: #174EA6;\n",
              "    }\n",
              "\n",
              "    .colab-df-buttons div {\n",
              "      margin-bottom: 4px;\n",
              "    }\n",
              "\n",
              "    [theme=dark] .colab-df-convert {\n",
              "      background-color: #3B4455;\n",
              "      fill: #D2E3FC;\n",
              "    }\n",
              "\n",
              "    [theme=dark] .colab-df-convert:hover {\n",
              "      background-color: #434B5C;\n",
              "      box-shadow: 0px 1px 3px 1px rgba(0, 0, 0, 0.15);\n",
              "      filter: drop-shadow(0px 1px 2px rgba(0, 0, 0, 0.3));\n",
              "      fill: #FFFFFF;\n",
              "    }\n",
              "  </style>\n",
              "\n",
              "    <script>\n",
              "      const buttonEl =\n",
              "        document.querySelector('#df-bac2ccb0-82fa-4871-8496-af4927cc2f61 button.colab-df-convert');\n",
              "      buttonEl.style.display =\n",
              "        google.colab.kernel.accessAllowed ? 'block' : 'none';\n",
              "\n",
              "      async function convertToInteractive(key) {\n",
              "        const element = document.querySelector('#df-bac2ccb0-82fa-4871-8496-af4927cc2f61');\n",
              "        const dataTable =\n",
              "          await google.colab.kernel.invokeFunction('convertToInteractive',\n",
              "                                                    [key], {});\n",
              "        if (!dataTable) return;\n",
              "\n",
              "        const docLinkHtml = 'Like what you see? Visit the ' +\n",
              "          '<a target=\"_blank\" href=https://colab.research.google.com/notebooks/data_table.ipynb>data table notebook</a>'\n",
              "          + ' to learn more about interactive tables.';\n",
              "        element.innerHTML = '';\n",
              "        dataTable['output_type'] = 'display_data';\n",
              "        await google.colab.output.renderOutput(dataTable, element);\n",
              "        const docLink = document.createElement('div');\n",
              "        docLink.innerHTML = docLinkHtml;\n",
              "        element.appendChild(docLink);\n",
              "      }\n",
              "    </script>\n",
              "  </div>\n",
              "\n",
              "    </div>\n",
              "  </div>\n"
            ]
          },
          "metadata": {},
          "execution_count": 7
        }
      ]
    },
    {
      "cell_type": "code",
      "source": [
        "plt.figure(figsize=(8,6))\n",
        "plt.hist(labels, bins=3,align='mid')\n",
        "plt.show()"
      ],
      "metadata": {
        "id": "7Ev0bRMB1txc",
        "colab": {
          "base_uri": "https://localhost:8080/",
          "height": 522
        },
        "outputId": "b3239292-170b-474f-e69e-05274162b809"
      },
      "execution_count": null,
      "outputs": [
        {
          "output_type": "display_data",
          "data": {
            "text/plain": [
              "<Figure size 800x600 with 1 Axes>"
            ],
            "image/png": "[encoded data removed]"
          },
          "metadata": {}
        }
      ]
    },
    {
      "cell_type": "code",
      "source": [
        "# Turn healty and unhealthy labels to two classes of 0 and 1, using labelEncoder\n",
        "before = labels.copy()\n",
        "\n",
        "# Create a LabelEncoder\n",
        "label_encoder = preprocessing.LabelEncoder()\n",
        "# Fit and transform the encoder on the original array\n",
        "labels = label_encoder.fit_transform(labels)\n",
        "\n",
        "after = labels.copy()\n",
        "print(f\"before label encoding list is like this :{before}. And, unique items are: {np.unique(before)}\")\n",
        "print(f\"after label encoding list is like this :{after}. And, unique items are: {np.unique(after)}\")"
      ],
      "metadata": {
        "id": "eu4sX-LHAJji",
        "colab": {
          "base_uri": "https://localhost:8080/"
        },
        "outputId": "fc48218f-1e3c-4231-f911-30d4260ee6d1"
      },
      "execution_count": null,
      "outputs": [
        {
          "output_type": "stream",
          "name": "stdout",
          "text": [
            "before label encoding list is like this :['healthy' 'healthy' 'healthy' ... 'healthy' 'healthy' 'healthy']. And, unique items are: ['healthy' 'unhealthy']\n",
            "after label encoding list is like this :[0 0 0 ... 0 0 0]. And, unique items are: [0 1]\n"
          ]
        }
      ]
    },
    {
      "cell_type": "code",
      "source": [
        "data[1]"
      ],
      "metadata": {
        "id": "l56UM2iXtaNn",
        "colab": {
          "base_uri": "https://localhost:8080/"
        },
        "outputId": "46560da2-d82c-425c-9f29-6117db125b1e"
      },
      "execution_count": null,
      "outputs": [
        {
          "output_type": "execute_result",
          "data": {
            "text/plain": [
              "array([[[ 94., 125.,  83.],\n",
              "        [ 46.,  79.,  34.],\n",
              "        [ 62., 103.,  47.],\n",
              "        ...,\n",
              "        [129., 178., 133.],\n",
              "        [125., 174., 127.],\n",
              "        [124., 173., 126.]],\n",
              "\n",
              "       [[ 67.,  98.,  56.],\n",
              "        [ 31.,  64.,  19.],\n",
              "        [ 57.,  98.,  42.],\n",
              "        ...,\n",
              "        [129., 177., 135.],\n",
              "        [129., 178., 133.],\n",
              "        [130., 179., 134.]],\n",
              "\n",
              "       [[  1.,  32.,   0.],\n",
              "        [  0.,  30.,   0.],\n",
              "        [ 53.,  94.,  38.],\n",
              "        ...,\n",
              "        [139., 185., 149.],\n",
              "        [135., 181., 144.],\n",
              "        [134., 180., 143.]],\n",
              "\n",
              "       ...,\n",
              "\n",
              "       [[144., 194., 159.],\n",
              "        [139., 189., 154.],\n",
              "        [139., 189., 154.],\n",
              "        ...,\n",
              "        [138., 193., 151.],\n",
              "        [138., 193., 153.],\n",
              "        [142., 197., 157.]],\n",
              "\n",
              "       [[142., 192., 157.],\n",
              "        [142., 192., 157.],\n",
              "        [146., 196., 161.],\n",
              "        ...,\n",
              "        [147., 201., 165.],\n",
              "        [145., 199., 163.],\n",
              "        [152., 206., 170.]],\n",
              "\n",
              "       [[141., 191., 156.],\n",
              "        [143., 193., 158.],\n",
              "        [148., 198., 163.],\n",
              "        ...,\n",
              "        [146., 200., 164.],\n",
              "        [143., 197., 163.],\n",
              "        [151., 205., 171.]]], dtype=float32)"
            ]
          },
          "metadata": {},
          "execution_count": 10
        }
      ]
    },
    {
      "cell_type": "markdown",
      "source": [
        "### 5-Splitting data"
      ],
      "metadata": {
        "id": "PrB7sWt7urCD"
      }
    },
    {
      "cell_type": "code",
      "source": [
        "x_training_data, x_test, y_training_data, y_test = train_test_split(\n",
        "    data,\n",
        "    labels,\n",
        "    test_size = 0.2,\n",
        "    shuffle =True,\n",
        "    random_state=seed,\n",
        "    stratify=labels)"
      ],
      "metadata": {
        "id": "-ZS-_bkGPUVD"
      },
      "execution_count": null,
      "outputs": []
    },
    {
      "cell_type": "markdown",
      "source": [
        "####5-1 hold_out splitting"
      ],
      "metadata": {
        "id": "J7ITNoQQHSNK"
      }
    },
    {
      "cell_type": "code",
      "source": [
        "# Further split the combined training and validation set into a training set and a validation set\n",
        "x_train, x_val, y_train, y_val = train_test_split(\n",
        "    x_training_data,\n",
        "    y_training_data,\n",
        "    test_size = len(x_test), # Ensure validation set size matches test set size--> Why??\n",
        "    random_state=seed,\n",
        "    shuffle =True,\n",
        "    stratify=y_training_data)"
      ],
      "metadata": {
        "id": "0WoRqDvaG287"
      },
      "execution_count": null,
      "outputs": []
    },
    {
      "cell_type": "code",
      "source": [
        "# Print the shapes of the resulting datasets\n",
        "print('X_train.shape:',x_train.shape,'y_train.shape:', y_train.shape)\n",
        "print('X_val.shape:',x_val.shape, 'y_val.shape:',y_val.shape)\n",
        "print('X_test.shape:',x_test.shape,'y_test.shape', y_test.shape)"
      ],
      "metadata": {
        "id": "SKxmMIow9xmM",
        "colab": {
          "base_uri": "https://localhost:8080/"
        },
        "outputId": "dbaf7a25-cdcc-46aa-8994-91c922cf802e"
      },
      "execution_count": null,
      "outputs": [
        {
          "output_type": "stream",
          "name": "stdout",
          "text": [
            "X_train.shape: (3120, 96, 96, 3) y_train.shape: (3120,)\n",
            "X_val.shape: (1040, 96, 96, 3) y_val.shape: (1040,)\n",
            "X_test.shape: (1040, 96, 96, 3) y_test.shape (1040,)\n"
          ]
        }
      ]
    },
    {
      "cell_type": "code",
      "source": [
        "#Understand the same portion of two classes after splititng using stratify\n",
        "_,count = np.unique(y_train,return_counts=True)\n",
        "info_table1_dict = {\"no_train_images\":x_train.shape[0],\n",
        "                    \"no_healthy_images\":count[0],\"percentage%\":count[0]*100/x_train.shape[0],\n",
        "                   \"no_unhealthy_images\":count[1],\"percentage %\":count[1]*100/x_train.shape[0]}\n",
        "info_table1 = pd.DataFrame(info_table1_dict, index =['value'])\n",
        "info_table1"
      ],
      "metadata": {
        "id": "0HrSTHEATI8v",
        "colab": {
          "base_uri": "https://localhost:8080/",
          "height": 81
        },
        "outputId": "f59f71d9-a10e-4231-ad2f-c9578ddedb5f"
      },
      "execution_count": null,
      "outputs": [
        {
          "output_type": "execute_result",
          "data": {
            "text/plain": [
              "       no_train_images  no_healthy_images  percentage%  no_unhealthy_images  \\\n",
              "value             3120               1919     61.50641                 1201   \n",
              "\n",
              "       percentage %  \n",
              "value      38.49359  "
            ],
            "text/html": [
              "\n",
              "  <div id=\"df-22c8db25-9025-4592-a206-0ed8f3f27b4f\" class=\"colab-df-container\">\n",
              "    <div>\n",
              "<style scoped>\n",
              "    .dataframe tbody tr th:only-of-type {\n",
              "        vertical-align: middle;\n",
              "    }\n",
              "\n",
              "    .dataframe tbody tr th {\n",
              "        vertical-align: top;\n",
              "    }\n",
              "\n",
              "    .dataframe thead th {\n",
              "        text-align: right;\n",
              "    }\n",
              "</style>\n",
              "<table border=\"1\" class=\"dataframe\">\n",
              "  <thead>\n",
              "    <tr style=\"text-align: right;\">\n",
              "      <th></th>\n",
              "      <th>no_train_images</th>\n",
              "      <th>no_healthy_images</th>\n",
              "      <th>percentage%</th>\n",
              "      <th>no_unhealthy_images</th>\n",
              "      <th>percentage %</th>\n",
              "    </tr>\n",
              "  </thead>\n",
              "  <tbody>\n",
              "    <tr>\n",
              "      <th>value</th>\n",
              "      <td>3120</td>\n",
              "      <td>1919</td>\n",
              "      <td>61.50641</td>\n",
              "      <td>1201</td>\n",
              "      <td>38.49359</td>\n",
              "    </tr>\n",
              "  </tbody>\n",
              "</table>\n",
              "</div>\n",
              "    <div class=\"colab-df-buttons\">\n",
              "\n",
              "  <div class=\"colab-df-container\">\n",
              "    <button class=\"colab-df-convert\" onclick=\"convertToInteractive('df-22c8db25-9025-4592-a206-0ed8f3f27b4f')\"\n",
              "            title=\"Convert this dataframe to an interactive table.\"\n",
              "            style=\"display:none;\">\n",
              "\n",
              "  <svg xmlns=\"http://www.w3.org/2000/svg\" height=\"24px\" viewBox=\"0 -960 960 960\">\n",
              "    <path d=\"M120-120v-720h720v720H120Zm60-500h600v-160H180v160Zm220 220h160v-160H400v160Zm0 220h160v-160H400v160ZM180-400h160v-160H180v160Zm440 0h160v-160H620v160ZM180-180h160v-160H180v160Zm440 0h160v-160H620v160Z\"/>\n",
              "  </svg>\n",
              "    </button>\n",
              "\n",
              "  <style>\n",
              "    .colab-df-container {\n",
              "      display:flex;\n",
              "      gap: 12px;\n",
              "    }\n",
              "\n",
              "    .colab-df-convert {\n",
              "      background-color: #E8F0FE;\n",
              "      border: none;\n",
              "      border-radius: 50%;\n",
              "      cursor: pointer;\n",
              "      display: none;\n",
              "      fill: #1967D2;\n",
              "      height: 32px;\n",
              "      padding: 0 0 0 0;\n",
              "      width: 32px;\n",
              "    }\n",
              "\n",
              "    .colab-df-convert:hover {\n",
              "      background-color: #E2EBFA;\n",
              "      box-shadow: 0px 1px 2px rgba(60, 64, 67, 0.3), 0px 1px 3px 1px rgba(60, 64, 67, 0.15);\n",
              "      fill: #174EA6;\n",
              "    }\n",
              "\n",
              "    .colab-df-buttons div {\n",
              "      margin-bottom: 4px;\n",
              "    }\n",
              "\n",
              "    [theme=dark] .colab-df-convert {\n",
              "      background-color: #3B4455;\n",
              "      fill: #D2E3FC;\n",
              "    }\n",
              "\n",
              "    [theme=dark] .colab-df-convert:hover {\n",
              "      background-color: #434B5C;\n",
              "      box-shadow: 0px 1px 3px 1px rgba(0, 0, 0, 0.15);\n",
              "      filter: drop-shadow(0px 1px 2px rgba(0, 0, 0, 0.3));\n",
              "      fill: #FFFFFF;\n",
              "    }\n",
              "  </style>\n",
              "\n",
              "    <script>\n",
              "      const buttonEl =\n",
              "        document.querySelector('#df-22c8db25-9025-4592-a206-0ed8f3f27b4f button.colab-df-convert');\n",
              "      buttonEl.style.display =\n",
              "        google.colab.kernel.accessAllowed ? 'block' : 'none';\n",
              "\n",
              "      async function convertToInteractive(key) {\n",
              "        const element = document.querySelector('#df-22c8db25-9025-4592-a206-0ed8f3f27b4f');\n",
              "        const dataTable =\n",
              "          await google.colab.kernel.invokeFunction('convertToInteractive',\n",
              "                                                    [key], {});\n",
              "        if (!dataTable) return;\n",
              "\n",
              "        const docLinkHtml = 'Like what you see? Visit the ' +\n",
              "          '<a target=\"_blank\" href=https://colab.research.google.com/notebooks/data_table.ipynb>data table notebook</a>'\n",
              "          + ' to learn more about interactive tables.';\n",
              "        element.innerHTML = '';\n",
              "        dataTable['output_type'] = 'display_data';\n",
              "        await google.colab.output.renderOutput(dataTable, element);\n",
              "        const docLink = document.createElement('div');\n",
              "        docLink.innerHTML = docLinkHtml;\n",
              "        element.appendChild(docLink);\n",
              "      }\n",
              "    </script>\n",
              "  </div>\n",
              "\n",
              "    </div>\n",
              "  </div>\n"
            ]
          },
          "metadata": {},
          "execution_count": 14
        }
      ]
    },
    {
      "cell_type": "code",
      "source": [
        "# Create three separate subplots to visualize the sorted target variable values for the training, validation, and test sets\n",
        "\n",
        "# Create a figure for the training labels subplot\n",
        "plt.figure(figsize=(20, 2))\n",
        "plt.scatter(np.arange(len(y_train)), np.sort(y_train, axis=0))\n",
        "plt.title('Training labels')\n",
        "plt.xticks([])  # Remove x-axis ticks\n",
        "plt.grid(0.2)   # Add a grid with opacity 0.2 for reference\n",
        "plt.ylim([-0.1, 1.1])  # Set the y-axis limits to [0.1, 1.1]\n",
        "\n",
        "# Create a figure for the validation labels subplot\n",
        "plt.figure(figsize=(20, 2))\n",
        "plt.scatter(np.arange(len(y_val)), np.sort(y_val, axis=0))\n",
        "plt.title('Validation labels')\n",
        "plt.xticks([])  # Remove x-axis ticks\n",
        "plt.grid(0.2)   # Add a grid with opacity 0.2 for reference\n",
        "plt.ylim([-0.1, 1.1])  # Set the y-axis limits to [0.1, 1.1]\n",
        "\n",
        "# Create a figure for the test labels subplot\n",
        "plt.figure(figsize=(20, 2))\n",
        "plt.scatter(np.arange(len(y_test)), np.sort(y_test, axis=0))\n",
        "plt.title('Test labels')\n",
        "plt.xticks([])  # Remove x-axis ticks\n",
        "plt.grid(0.2)   # Add a grid with opacity 0.2 for reference\n",
        "plt.ylim([-0.1, 1.1])  # Set the y-axis limits to [0.1, 1.1]\n",
        "\n",
        "# Display the plots\n",
        "plt.show()"
      ],
      "metadata": {
        "id": "KNskOs07_lyd",
        "colab": {
          "base_uri": "https://localhost:8080/",
          "height": 564
        },
        "outputId": "2443c252-2cc2-4748-e33a-438bef4aab17"
      },
      "execution_count": null,
      "outputs": [
        {
          "output_type": "display_data",
          "data": {
            "text/plain": [
              "<Figure size 2000x200 with 1 Axes>"
            ],
            "image/png": "[encoded data removed]"
          },
          "metadata": {}
        },
        {
          "output_type": "display_data",
          "data": {
            "text/plain": [
              "<Figure size 2000x200 with 1 Axes>"
            ],
            "image/png": "[encoded data removed]"
          },
          "metadata": {}
        },
        {
          "output_type": "display_data",
          "data": {
            "text/plain": [
              "<Figure size 2000x200 with 1 Axes>"
            ],
            "image/png": "[encoded data removed]"
          },
          "metadata": {}
        }
      ]
    },
    {
      "cell_type": "markdown",
      "source": [
        "### 6-Feature scaling"
      ],
      "metadata": {
        "id": "3jtxpBbwxpn2"
      }
    },
    {
      "cell_type": "code",
      "source": [
        "x_train = x_train/255.0\n",
        "x_val = x_val/255.0\n",
        "x_test = x_test/255.0"
      ],
      "metadata": {
        "id": "OfZdzyA2xnYo"
      },
      "execution_count": null,
      "outputs": []
    },
    {
      "cell_type": "markdown",
      "source": [
        "### 7-Callbacks"
      ],
      "metadata": {
        "id": "Y77pLA_pAoxs"
      }
    },
    {
      "cell_type": "code",
      "source": [
        "def Checkpoint(address):\n",
        "  # CheckPoint callback ---> to save wieghts\n",
        "  checkpoint_path = address # The path to save wights of the model after training\n",
        "  My_ModelCheckpoint_callback =callbacks.ModelCheckpoint(filepath=checkpoint_path,\n",
        "                                          monitor='val_accuracy',\n",
        "                                          verbose=1,\n",
        "                                          save_weights_only=False,\n",
        "                                          save_best_only=True,\n",
        "                                          mode='max',\n",
        "                                          save_freq ='epoch')\n",
        "  return My_ModelCheckpoint_callback"
      ],
      "metadata": {
        "id": "Xr6PcHnU8RRF"
      },
      "execution_count": null,
      "outputs": []
    },
    {
      "cell_type": "code",
      "source": [
        "# EarlyStopping callback --> Stop learning if it does not see any imporvement.\n",
        "My_EarlyStopping_callback = callbacks.EarlyStopping(monitor=\"val_accuracy\",\n",
        "                                                 min_delta=.02,\n",
        "                                                 patience=15,\n",
        "                                                 verbose=1,\n",
        "                                                 mode=\"max\",\n",
        "                                                restore_best_weights=True)"
      ],
      "metadata": {
        "id": "i-uhWyLwE0Iq"
      },
      "execution_count": null,
      "outputs": []
    },
    {
      "cell_type": "code",
      "source": [
        "logdir = os.path.join(\"TensorBoardlogs_Folder\", datetime.datetime.now().strftime(\"%Y%m%d-%H%M%S\"))\n",
        "My_Tensorboard_callback = tf.keras.callbacks.TensorBoard(logdir, histogram_freq=1)"
      ],
      "metadata": {
        "id": "IriZoUr1GN3p"
      },
      "execution_count": null,
      "outputs": []
    },
    {
      "cell_type": "markdown",
      "source": [
        "### 8-Create models"
      ],
      "metadata": {
        "id": "l-y6Ew7yzcl-"
      }
    },
    {
      "cell_type": "code",
      "source": [
        "# Define the input shape for the neural network, excluding the batch size\n",
        "input_shape = x_train.shape[1:]\n",
        "print('input_shape',input_shape)\n",
        "# Define the batch size for training\n",
        "batch_size = 64\n",
        "# Define the number of training epochs\n",
        "epochs = 100"
      ],
      "metadata": {
        "id": "3LBXy1Bg90Ok",
        "colab": {
          "base_uri": "https://localhost:8080/"
        },
        "outputId": "d693b720-bf37-4e01-9d4d-92ebcd0a9956"
      },
      "execution_count": null,
      "outputs": [
        {
          "output_type": "stream",
          "name": "stdout",
          "text": [
            "input_shape (96, 96, 3)\n"
          ]
        }
      ]
    },
    {
      "cell_type": "markdown",
      "source": [
        "####8-1 Model_1"
      ],
      "metadata": {
        "id": "UXWQcG1oAf9j"
      }
    },
    {
      "cell_type": "code",
      "source": [
        "def model_1(input_shape=(96, 96, 3)):\n",
        "\n",
        "  model = models.Sequential()\n",
        "  model.add(layers.Conv2D(32, (3, 3), activation='relu',\n",
        "                          input_shape= input_shape))\n",
        "  model.add(layers.MaxPooling2D((2, 2)))\n",
        "  model.add(layers.Conv2D(64, (3, 3), activation='relu'))\n",
        "  model.add(layers.MaxPooling2D((2, 2)))\n",
        "  model.add(layers.Conv2D(128, (3, 3), activation='relu'))\n",
        "  model.add(layers.MaxPooling2D((2, 2)))\n",
        "  model.add(layers.Conv2D(128, (3, 3), activation='relu'))\n",
        "  model.add(layers.MaxPooling2D((2, 2)))\n",
        "  model.add(layers.Flatten())\n",
        "  model.add(layers.Dense(512, activation='relu'))\n",
        "  model.add(layers.Dense(1, activation='sigmoid'))\n",
        "\n",
        "  return model\n"
      ],
      "metadata": {
        "id": "eLNokg-n-YfM"
      },
      "execution_count": null,
      "outputs": []
    },
    {
      "cell_type": "code",
      "source": [
        "def compile(model):\n",
        "   model.compile(loss='binary_crossentropy',\n",
        "              optimizer=tf.keras.optimizers.Adam(learning_rate=1e-3),\n",
        "              metrics=[keras.metrics.Precision(), keras.metrics.Recall(),'accuracy'],)\n",
        "   return model"
      ],
      "metadata": {
        "id": "UHTLYb1avgSb"
      },
      "execution_count": null,
      "outputs": []
    },
    {
      "cell_type": "code",
      "source": [
        "first_model = compile(model_1())"
      ],
      "metadata": {
        "id": "Ph60h5RLuees"
      },
      "execution_count": null,
      "outputs": []
    },
    {
      "cell_type": "code",
      "source": [
        "first_model.summary()"
      ],
      "metadata": {
        "id": "nhkz0Neo-afN",
        "colab": {
          "base_uri": "https://localhost:8080/"
        },
        "outputId": "09682a07-baf9-4933-b11b-d491b85d5d62"
      },
      "execution_count": null,
      "outputs": [
        {
          "output_type": "stream",
          "name": "stdout",
          "text": [
            "Model: \"sequential\"\n",
            "_________________________________________________________________\n",
            " Layer (type)                Output Shape              Param #   \n",
            "=================================================================\n",
            " conv2d (Conv2D)             (None, 94, 94, 32)        896       \n",
            "                                                                 \n",
            " max_pooling2d (MaxPooling2  (None, 47, 47, 32)        0         \n",
            " D)                                                              \n",
            "                                                                 \n",
            " conv2d_1 (Conv2D)           (None, 45, 45, 64)        18496     \n",
            "                                                                 \n",
            " max_pooling2d_1 (MaxPoolin  (None, 22, 22, 64)        0         \n",
            " g2D)                                                            \n",
            "                                                                 \n",
            " conv2d_2 (Conv2D)           (None, 20, 20, 128)       73856     \n",
            "                                                                 \n",
            " max_pooling2d_2 (MaxPoolin  (None, 10, 10, 128)       0         \n",
            " g2D)                                                            \n",
            "                                                                 \n",
            " conv2d_3 (Conv2D)           (None, 8, 8, 128)         147584    \n",
            "                                                                 \n",
            " max_pooling2d_3 (MaxPoolin  (None, 4, 4, 128)         0         \n",
            " g2D)                                                            \n",
            "                                                                 \n",
            " flatten (Flatten)           (None, 2048)              0         \n",
            "                                                                 \n",
            " dense (Dense)               (None, 512)               1049088   \n",
            "                                                                 \n",
            " dense_1 (Dense)             (None, 1)                 513       \n",
            "                                                                 \n",
            "=================================================================\n",
            "Total params: 1290433 (4.92 MB)\n",
            "Trainable params: 1290433 (4.92 MB)\n",
            "Non-trainable params: 0 (0.00 Byte)\n",
            "_________________________________________________________________\n"
          ]
        }
      ]
    },
    {
      "cell_type": "code",
      "source": [
        "My_all_callbacks = [ My_Tensorboard_callback, Checkpoint(address=\"best_models/First_model\")]"
      ],
      "metadata": {
        "id": "2xMlYTPewPlv"
      },
      "execution_count": null,
      "outputs": []
    },
    {
      "cell_type": "code",
      "source": [
        "history = first_model.fit(\n",
        "    x = x_train,\n",
        "    y = y_train,\n",
        "    validation_data = (x_val, y_val),\n",
        "    batch_size = batch_size,\n",
        "    epochs = epochs,\n",
        "    callbacks=My_all_callbacks\n",
        ").history"
      ],
      "metadata": {
        "id": "KE5kUlrT-qZ8",
        "colab": {
          "base_uri": "https://localhost:8080/"
        },
        "outputId": "e320d78d-d2dc-42cf-dd4e-35bd86c2cdfe"
      },
      "execution_count": null,
      "outputs": [
        {
          "output_type": "stream",
          "name": "stdout",
          "text": [
            "Epoch 1/100\n",
            "49/49 [==============================] - ETA: 0s - loss: 0.6551 - precision: 0.5787 - recall: 0.1041 - accuracy: 0.6260\n",
            "Epoch 1: val_accuracy improved from -inf to 0.63173, saving model to best_models/First_model\n",
            "49/49 [==============================] - 15s 75ms/step - loss: 0.6551 - precision: 0.5787 - recall: 0.1041 - accuracy: 0.6260 - val_loss: 0.6381 - val_precision: 0.9048 - val_recall: 0.0475 - val_accuracy: 0.6317\n",
            "Epoch 2/100\n",
            "49/49 [==============================] - ETA: 0s - loss: 0.6094 - precision: 0.7038 - recall: 0.3106 - accuracy: 0.6843\n",
            "Epoch 2: val_accuracy improved from 0.63173 to 0.68558, saving model to best_models/First_model\n",
            "49/49 [==============================] - 3s 58ms/step - loss: 0.6094 - precision: 0.7038 - recall: 0.3106 - accuracy: 0.6843 - val_loss: 0.6044 - val_precision: 0.7296 - val_recall: 0.2900 - val_accuracy: 0.6856\n",
            "Epoch 3/100\n",
            "48/49 [============================>.] - ETA: 0s - loss: 0.5773 - precision: 0.6962 - recall: 0.3855 - accuracy: 0.6986\n",
            "Epoch 3: val_accuracy improved from 0.68558 to 0.69038, saving model to best_models/First_model\n",
            "49/49 [==============================] - 3s 67ms/step - loss: 0.5769 - precision: 0.6983 - recall: 0.3855 - accuracy: 0.6994 - val_loss: 0.5713 - val_precision: 0.8362 - val_recall: 0.2425 - val_accuracy: 0.6904\n",
            "Epoch 4/100\n",
            "49/49 [==============================] - ETA: 0s - loss: 0.5691 - precision: 0.6957 - recall: 0.4130 - accuracy: 0.7045\n",
            "Epoch 4: val_accuracy improved from 0.69038 to 0.71250, saving model to best_models/First_model\n",
            "49/49 [==============================] - 2s 51ms/step - loss: 0.5691 - precision: 0.6957 - recall: 0.4130 - accuracy: 0.7045 - val_loss: 0.5718 - val_precision: 0.6624 - val_recall: 0.5150 - val_accuracy: 0.7125\n",
            "Epoch 5/100\n",
            "49/49 [==============================] - ETA: 0s - loss: 0.5559 - precision: 0.6970 - recall: 0.4788 - accuracy: 0.7192\n",
            "Epoch 5: val_accuracy did not improve from 0.71250\n",
            "49/49 [==============================] - 2s 33ms/step - loss: 0.5559 - precision: 0.6970 - recall: 0.4788 - accuracy: 0.7192 - val_loss: 0.6341 - val_precision: 0.9070 - val_recall: 0.0975 - val_accuracy: 0.6490\n",
            "Epoch 6/100\n",
            "49/49 [==============================] - ETA: 0s - loss: 0.5307 - precision: 0.7238 - recall: 0.5171 - accuracy: 0.7381\n",
            "Epoch 6: val_accuracy improved from 0.71250 to 0.73077, saving model to best_models/First_model\n",
            "49/49 [==============================] - 2s 50ms/step - loss: 0.5307 - precision: 0.7238 - recall: 0.5171 - accuracy: 0.7381 - val_loss: 0.5140 - val_precision: 0.7419 - val_recall: 0.4600 - val_accuracy: 0.7308\n",
            "Epoch 7/100\n",
            "49/49 [==============================] - ETA: 0s - loss: 0.4976 - precision: 0.7426 - recall: 0.5670 - accuracy: 0.7577\n",
            "Epoch 7: val_accuracy improved from 0.73077 to 0.74327, saving model to best_models/First_model\n",
            "49/49 [==============================] - 2s 49ms/step - loss: 0.4976 - precision: 0.7426 - recall: 0.5670 - accuracy: 0.7577 - val_loss: 0.5122 - val_precision: 0.6973 - val_recall: 0.5875 - val_accuracy: 0.7433\n",
            "Epoch 8/100\n",
            "47/49 [===========================>..] - ETA: 0s - loss: 0.4803 - precision: 0.7255 - recall: 0.6214 - accuracy: 0.7640\n",
            "Epoch 8: val_accuracy improved from 0.74327 to 0.74712, saving model to best_models/First_model\n",
            "49/49 [==============================] - 3s 64ms/step - loss: 0.4786 - precision: 0.7268 - recall: 0.6203 - accuracy: 0.7641 - val_loss: 0.5199 - val_precision: 0.6575 - val_recall: 0.7150 - val_accuracy: 0.7471\n",
            "Epoch 9/100\n",
            "49/49 [==============================] - ETA: 0s - loss: 0.4658 - precision: 0.7544 - recall: 0.6395 - accuracy: 0.7811\n",
            "Epoch 9: val_accuracy improved from 0.74712 to 0.77212, saving model to best_models/First_model\n",
            "49/49 [==============================] - 3s 53ms/step - loss: 0.4658 - precision: 0.7544 - recall: 0.6395 - accuracy: 0.7811 - val_loss: 0.4825 - val_precision: 0.7508 - val_recall: 0.6100 - val_accuracy: 0.7721\n",
            "Epoch 10/100\n",
            "49/49 [==============================] - ETA: 0s - loss: 0.4307 - precision: 0.7712 - recall: 0.6819 - accuracy: 0.7997\n",
            "Epoch 10: val_accuracy did not improve from 0.77212\n",
            "49/49 [==============================] - 1s 30ms/step - loss: 0.4307 - precision: 0.7712 - recall: 0.6819 - accuracy: 0.7997 - val_loss: 0.5301 - val_precision: 0.8380 - val_recall: 0.3750 - val_accuracy: 0.7317\n",
            "Epoch 11/100\n",
            "49/49 [==============================] - ETA: 0s - loss: 0.4048 - precision: 0.8034 - recall: 0.7077 - accuracy: 0.8208\n",
            "Epoch 11: val_accuracy did not improve from 0.77212\n",
            "49/49 [==============================] - 1s 30ms/step - loss: 0.4048 - precision: 0.8034 - recall: 0.7077 - accuracy: 0.8208 - val_loss: 0.4951 - val_precision: 0.7931 - val_recall: 0.5175 - val_accuracy: 0.7625\n",
            "Epoch 12/100\n",
            "49/49 [==============================] - ETA: 0s - loss: 0.3648 - precision: 0.8162 - recall: 0.7544 - accuracy: 0.8401\n",
            "Epoch 12: val_accuracy did not improve from 0.77212\n",
            "49/49 [==============================] - 2s 33ms/step - loss: 0.3648 - precision: 0.8162 - recall: 0.7544 - accuracy: 0.8401 - val_loss: 0.5801 - val_precision: 0.8358 - val_recall: 0.4200 - val_accuracy: 0.7452\n",
            "Epoch 13/100\n",
            "49/49 [==============================] - ETA: 0s - loss: 0.3011 - precision: 0.8586 - recall: 0.7935 - accuracy: 0.8702\n",
            "Epoch 13: val_accuracy did not improve from 0.77212\n",
            "49/49 [==============================] - 1s 30ms/step - loss: 0.3011 - precision: 0.8586 - recall: 0.7935 - accuracy: 0.8702 - val_loss: 0.5724 - val_precision: 0.7638 - val_recall: 0.5900 - val_accuracy: 0.7721\n",
            "Epoch 14/100\n",
            "49/49 [==============================] - ETA: 0s - loss: 0.2782 - precision: 0.8671 - recall: 0.8152 - accuracy: 0.8808\n",
            "Epoch 14: val_accuracy did not improve from 0.77212\n",
            "49/49 [==============================] - 1s 30ms/step - loss: 0.2782 - precision: 0.8671 - recall: 0.8152 - accuracy: 0.8808 - val_loss: 0.5771 - val_precision: 0.6636 - val_recall: 0.7150 - val_accuracy: 0.7510\n",
            "Epoch 15/100\n",
            "49/49 [==============================] - ETA: 0s - loss: 0.3070 - precision: 0.8428 - recall: 0.7993 - accuracy: 0.8654\n",
            "Epoch 15: val_accuracy did not improve from 0.77212\n",
            "49/49 [==============================] - 2s 36ms/step - loss: 0.3070 - precision: 0.8428 - recall: 0.7993 - accuracy: 0.8654 - val_loss: 0.5721 - val_precision: 0.6631 - val_recall: 0.6200 - val_accuracy: 0.7327\n",
            "Epoch 16/100\n",
            "48/49 [============================>.] - ETA: 0s - loss: 0.1868 - precision: 0.9170 - recall: 0.8867 - accuracy: 0.9255\n",
            "Epoch 16: val_accuracy did not improve from 0.77212\n",
            "49/49 [==============================] - 2s 38ms/step - loss: 0.1873 - precision: 0.9173 - recall: 0.8868 - accuracy: 0.9256 - val_loss: 0.6516 - val_precision: 0.6936 - val_recall: 0.6225 - val_accuracy: 0.7490\n",
            "Epoch 17/100\n",
            "48/49 [============================>.] - ETA: 0s - loss: 0.1070 - precision: 0.9613 - recall: 0.9451 - accuracy: 0.9642\n",
            "Epoch 17: val_accuracy did not improve from 0.77212\n",
            "49/49 [==============================] - 2s 31ms/step - loss: 0.1080 - precision: 0.9602 - recall: 0.9442 - accuracy: 0.9635 - val_loss: 0.7863 - val_precision: 0.6659 - val_recall: 0.6975 - val_accuracy: 0.7490\n",
            "Epoch 18/100\n",
            "49/49 [==============================] - ETA: 0s - loss: 0.0792 - precision: 0.9705 - recall: 0.9575 - accuracy: 0.9724\n",
            "Epoch 18: val_accuracy did not improve from 0.77212\n",
            "49/49 [==============================] - 1s 29ms/step - loss: 0.0792 - precision: 0.9705 - recall: 0.9575 - accuracy: 0.9724 - val_loss: 0.9496 - val_precision: 0.5742 - val_recall: 0.7350 - val_accuracy: 0.6885\n",
            "Epoch 19/100\n",
            "49/49 [==============================] - ETA: 0s - loss: 0.0678 - precision: 0.9732 - recall: 0.9684 - accuracy: 0.9776\n",
            "Epoch 19: val_accuracy did not improve from 0.77212\n",
            "49/49 [==============================] - 1s 31ms/step - loss: 0.0678 - precision: 0.9732 - recall: 0.9684 - accuracy: 0.9776 - val_loss: 0.9330 - val_precision: 0.7048 - val_recall: 0.5550 - val_accuracy: 0.7394\n",
            "Epoch 20/100\n",
            "49/49 [==============================] - ETA: 0s - loss: 0.0253 - precision: 0.9966 - recall: 0.9908 - accuracy: 0.9952\n",
            "Epoch 20: val_accuracy did not improve from 0.77212\n",
            "49/49 [==============================] - 1s 30ms/step - loss: 0.0253 - precision: 0.9966 - recall: 0.9908 - accuracy: 0.9952 - val_loss: 1.1461 - val_precision: 0.6422 - val_recall: 0.7225 - val_accuracy: 0.7385\n",
            "Epoch 21/100\n",
            "49/49 [==============================] - ETA: 0s - loss: 0.0206 - precision: 0.9941 - recall: 0.9892 - accuracy: 0.9936\n",
            "Epoch 21: val_accuracy did not improve from 0.77212\n",
            "49/49 [==============================] - 1s 30ms/step - loss: 0.0206 - precision: 0.9941 - recall: 0.9892 - accuracy: 0.9936 - val_loss: 1.1548 - val_precision: 0.6766 - val_recall: 0.6225 - val_accuracy: 0.7404\n",
            "Epoch 22/100\n",
            "49/49 [==============================] - ETA: 0s - loss: 0.0812 - precision: 0.9623 - recall: 0.9559 - accuracy: 0.9686\n",
            "Epoch 22: val_accuracy did not improve from 0.77212\n",
            "49/49 [==============================] - 1s 31ms/step - loss: 0.0812 - precision: 0.9623 - recall: 0.9559 - accuracy: 0.9686 - val_loss: 0.9069 - val_precision: 0.6093 - val_recall: 0.6550 - val_accuracy: 0.7058\n",
            "Epoch 23/100\n",
            "49/49 [==============================] - ETA: 0s - loss: 0.0670 - precision: 0.9707 - recall: 0.9667 - accuracy: 0.9760\n",
            "Epoch 23: val_accuracy did not improve from 0.77212\n",
            "49/49 [==============================] - 1s 30ms/step - loss: 0.0670 - precision: 0.9707 - recall: 0.9667 - accuracy: 0.9760 - val_loss: 1.2926 - val_precision: 0.7159 - val_recall: 0.4725 - val_accuracy: 0.7250\n",
            "Epoch 24/100\n",
            "48/49 [============================>.] - ETA: 0s - loss: 0.0164 - precision: 0.9941 - recall: 0.9966 - accuracy: 0.9964\n",
            "Epoch 24: val_accuracy did not improve from 0.77212\n",
            "49/49 [==============================] - 2s 35ms/step - loss: 0.0162 - precision: 0.9942 - recall: 0.9967 - accuracy: 0.9965 - val_loss: 1.4358 - val_precision: 0.7226 - val_recall: 0.4950 - val_accuracy: 0.7327\n",
            "Epoch 25/100\n",
            "48/49 [============================>.] - ETA: 0s - loss: 0.0417 - precision: 0.9781 - recall: 0.9781 - accuracy: 0.9831\n",
            "Epoch 25: val_accuracy did not improve from 0.77212\n",
            "49/49 [==============================] - 2s 39ms/step - loss: 0.0419 - precision: 0.9783 - recall: 0.9775 - accuracy: 0.9830 - val_loss: 1.2971 - val_precision: 0.6620 - val_recall: 0.5875 - val_accuracy: 0.7260\n",
            "Epoch 26/100\n",
            "49/49 [==============================] - ETA: 0s - loss: 0.0118 - precision: 0.9967 - recall: 0.9983 - accuracy: 0.9981\n",
            "Epoch 26: val_accuracy did not improve from 0.77212\n",
            "49/49 [==============================] - 2s 31ms/step - loss: 0.0118 - precision: 0.9967 - recall: 0.9983 - accuracy: 0.9981 - val_loss: 1.6608 - val_precision: 0.7311 - val_recall: 0.4350 - val_accuracy: 0.7212\n",
            "Epoch 27/100\n",
            "49/49 [==============================] - ETA: 0s - loss: 0.0149 - precision: 0.9933 - recall: 0.9942 - accuracy: 0.9952\n",
            "Epoch 27: val_accuracy did not improve from 0.77212\n",
            "49/49 [==============================] - 1s 31ms/step - loss: 0.0149 - precision: 0.9933 - recall: 0.9942 - accuracy: 0.9952 - val_loss: 1.6374 - val_precision: 0.7251 - val_recall: 0.4550 - val_accuracy: 0.7240\n",
            "Epoch 28/100\n",
            "49/49 [==============================] - ETA: 0s - loss: 0.0099 - precision: 0.9967 - recall: 0.9950 - accuracy: 0.9968\n",
            "Epoch 28: val_accuracy did not improve from 0.77212\n",
            "49/49 [==============================] - 1s 30ms/step - loss: 0.0099 - precision: 0.9967 - recall: 0.9950 - accuracy: 0.9968 - val_loss: 1.5514 - val_precision: 0.6458 - val_recall: 0.6200 - val_accuracy: 0.7231\n",
            "Epoch 29/100\n",
            "49/49 [==============================] - ETA: 0s - loss: 0.0022 - precision: 1.0000 - recall: 1.0000 - accuracy: 1.0000\n",
            "Epoch 29: val_accuracy did not improve from 0.77212\n",
            "49/49 [==============================] - 1s 30ms/step - loss: 0.0022 - precision: 1.0000 - recall: 1.0000 - accuracy: 1.0000 - val_loss: 1.5579 - val_precision: 0.6557 - val_recall: 0.6000 - val_accuracy: 0.7250\n",
            "Epoch 30/100\n",
            "49/49 [==============================] - ETA: 0s - loss: 5.2432e-04 - precision: 1.0000 - recall: 1.0000 - accuracy: 1.0000\n",
            "Epoch 30: val_accuracy did not improve from 0.77212\n",
            "49/49 [==============================] - 1s 30ms/step - loss: 5.2432e-04 - precision: 1.0000 - recall: 1.0000 - accuracy: 1.0000 - val_loss: 1.6113 - val_precision: 0.6783 - val_recall: 0.5850 - val_accuracy: 0.7337\n",
            "Epoch 31/100\n",
            "49/49 [==============================] - ETA: 0s - loss: 3.5352e-04 - precision: 1.0000 - recall: 1.0000 - accuracy: 1.0000\n",
            "Epoch 31: val_accuracy did not improve from 0.77212\n",
            "49/49 [==============================] - 1s 30ms/step - loss: 3.5352e-04 - precision: 1.0000 - recall: 1.0000 - accuracy: 1.0000 - val_loss: 1.6430 - val_precision: 0.6773 - val_recall: 0.5825 - val_accuracy: 0.7327\n",
            "Epoch 32/100\n",
            "49/49 [==============================] - ETA: 0s - loss: 2.7723e-04 - precision: 1.0000 - recall: 1.0000 - accuracy: 1.0000\n",
            "Epoch 32: val_accuracy did not improve from 0.77212\n",
            "49/49 [==============================] - 1s 30ms/step - loss: 2.7723e-04 - precision: 1.0000 - recall: 1.0000 - accuracy: 1.0000 - val_loss: 1.6808 - val_precision: 0.6884 - val_recall: 0.5800 - val_accuracy: 0.7375\n",
            "Epoch 33/100\n",
            "47/49 [===========================>..] - ETA: 0s - loss: 2.4125e-04 - precision: 1.0000 - recall: 1.0000 - accuracy: 1.0000\n",
            "Epoch 33: val_accuracy did not improve from 0.77212\n",
            "49/49 [==============================] - 2s 36ms/step - loss: 2.3706e-04 - precision: 1.0000 - recall: 1.0000 - accuracy: 1.0000 - val_loss: 1.6876 - val_precision: 0.6821 - val_recall: 0.5900 - val_accuracy: 0.7365\n",
            "Epoch 34/100\n",
            "48/49 [============================>.] - ETA: 0s - loss: 1.9633e-04 - precision: 1.0000 - recall: 1.0000 - accuracy: 1.0000\n",
            "Epoch 34: val_accuracy did not improve from 0.77212\n",
            "49/49 [==============================] - 2s 39ms/step - loss: 2.0313e-04 - precision: 1.0000 - recall: 1.0000 - accuracy: 1.0000 - val_loss: 1.7168 - val_precision: 0.6880 - val_recall: 0.5900 - val_accuracy: 0.7394\n",
            "Epoch 35/100\n",
            "48/49 [============================>.] - ETA: 0s - loss: 1.8120e-04 - precision: 1.0000 - recall: 1.0000 - accuracy: 1.0000\n",
            "Epoch 35: val_accuracy did not improve from 0.77212\n",
            "49/49 [==============================] - 2s 32ms/step - loss: 1.7933e-04 - precision: 1.0000 - recall: 1.0000 - accuracy: 1.0000 - val_loss: 1.7314 - val_precision: 0.6891 - val_recall: 0.5875 - val_accuracy: 0.7394\n",
            "Epoch 36/100\n",
            "49/49 [==============================] - ETA: 0s - loss: 1.5947e-04 - precision: 1.0000 - recall: 1.0000 - accuracy: 1.0000\n",
            "Epoch 36: val_accuracy did not improve from 0.77212\n",
            "49/49 [==============================] - 1s 31ms/step - loss: 1.5947e-04 - precision: 1.0000 - recall: 1.0000 - accuracy: 1.0000 - val_loss: 1.7483 - val_precision: 0.6851 - val_recall: 0.5875 - val_accuracy: 0.7375\n",
            "Epoch 37/100\n",
            "49/49 [==============================] - ETA: 0s - loss: 1.4371e-04 - precision: 1.0000 - recall: 1.0000 - accuracy: 1.0000\n",
            "Epoch 37: val_accuracy did not improve from 0.77212\n",
            "49/49 [==============================] - 1s 31ms/step - loss: 1.4371e-04 - precision: 1.0000 - recall: 1.0000 - accuracy: 1.0000 - val_loss: 1.7617 - val_precision: 0.6860 - val_recall: 0.5900 - val_accuracy: 0.7385\n",
            "Epoch 38/100\n",
            "49/49 [==============================] - ETA: 0s - loss: 1.3035e-04 - precision: 1.0000 - recall: 1.0000 - accuracy: 1.0000\n",
            "Epoch 38: val_accuracy did not improve from 0.77212\n",
            "49/49 [==============================] - 1s 30ms/step - loss: 1.3035e-04 - precision: 1.0000 - recall: 1.0000 - accuracy: 1.0000 - val_loss: 1.7814 - val_precision: 0.6851 - val_recall: 0.5875 - val_accuracy: 0.7375\n",
            "Epoch 39/100\n",
            "49/49 [==============================] - ETA: 0s - loss: 1.1934e-04 - precision: 1.0000 - recall: 1.0000 - accuracy: 1.0000\n",
            "Epoch 39: val_accuracy did not improve from 0.77212\n",
            "49/49 [==============================] - 1s 30ms/step - loss: 1.1934e-04 - precision: 1.0000 - recall: 1.0000 - accuracy: 1.0000 - val_loss: 1.7925 - val_precision: 0.6860 - val_recall: 0.5900 - val_accuracy: 0.7385\n",
            "Epoch 40/100\n",
            "49/49 [==============================] - ETA: 0s - loss: 1.0972e-04 - precision: 1.0000 - recall: 1.0000 - accuracy: 1.0000\n",
            "Epoch 40: val_accuracy did not improve from 0.77212\n",
            "49/49 [==============================] - 1s 30ms/step - loss: 1.0972e-04 - precision: 1.0000 - recall: 1.0000 - accuracy: 1.0000 - val_loss: 1.8142 - val_precision: 0.6851 - val_recall: 0.5875 - val_accuracy: 0.7375\n",
            "Epoch 41/100\n",
            "48/49 [============================>.] - ETA: 0s - loss: 1.0015e-04 - precision: 1.0000 - recall: 1.0000 - accuracy: 1.0000\n",
            "Epoch 41: val_accuracy did not improve from 0.77212\n",
            "49/49 [==============================] - 2s 50ms/step - loss: 1.0092e-04 - precision: 1.0000 - recall: 1.0000 - accuracy: 1.0000 - val_loss: 1.8227 - val_precision: 0.6860 - val_recall: 0.5900 - val_accuracy: 0.7385\n",
            "Epoch 42/100\n",
            "49/49 [==============================] - ETA: 0s - loss: 9.3239e-05 - precision: 1.0000 - recall: 1.0000 - accuracy: 1.0000\n",
            "Epoch 42: val_accuracy did not improve from 0.77212\n",
            "49/49 [==============================] - 2s 36ms/step - loss: 9.3239e-05 - precision: 1.0000 - recall: 1.0000 - accuracy: 1.0000 - val_loss: 1.8313 - val_precision: 0.6860 - val_recall: 0.5900 - val_accuracy: 0.7385\n",
            "Epoch 43/100\n",
            "49/49 [==============================] - ETA: 0s - loss: 8.6479e-05 - precision: 1.0000 - recall: 1.0000 - accuracy: 1.0000\n",
            "Epoch 43: val_accuracy did not improve from 0.77212\n",
            "49/49 [==============================] - 2s 33ms/step - loss: 8.6479e-05 - precision: 1.0000 - recall: 1.0000 - accuracy: 1.0000 - val_loss: 1.8463 - val_precision: 0.6851 - val_recall: 0.5875 - val_accuracy: 0.7375\n",
            "Epoch 44/100\n",
            "49/49 [==============================] - ETA: 0s - loss: 8.0806e-05 - precision: 1.0000 - recall: 1.0000 - accuracy: 1.0000\n",
            "Epoch 44: val_accuracy did not improve from 0.77212\n",
            "49/49 [==============================] - 1s 30ms/step - loss: 8.0806e-05 - precision: 1.0000 - recall: 1.0000 - accuracy: 1.0000 - val_loss: 1.8533 - val_precision: 0.6860 - val_recall: 0.5900 - val_accuracy: 0.7385\n",
            "Epoch 45/100\n",
            "49/49 [==============================] - ETA: 0s - loss: 7.5938e-05 - precision: 1.0000 - recall: 1.0000 - accuracy: 1.0000\n",
            "Epoch 45: val_accuracy did not improve from 0.77212\n",
            "49/49 [==============================] - 1s 30ms/step - loss: 7.5938e-05 - precision: 1.0000 - recall: 1.0000 - accuracy: 1.0000 - val_loss: 1.8631 - val_precision: 0.6870 - val_recall: 0.5925 - val_accuracy: 0.7394\n",
            "Epoch 46/100\n",
            "48/49 [============================>.] - ETA: 0s - loss: 7.0389e-05 - precision: 1.0000 - recall: 1.0000 - accuracy: 1.0000\n",
            "Epoch 46: val_accuracy did not improve from 0.77212\n",
            "49/49 [==============================] - 2s 31ms/step - loss: 7.0599e-05 - precision: 1.0000 - recall: 1.0000 - accuracy: 1.0000 - val_loss: 1.8801 - val_precision: 0.6880 - val_recall: 0.5900 - val_accuracy: 0.7394\n",
            "Epoch 47/100\n",
            "49/49 [==============================] - ETA: 0s - loss: 6.6247e-05 - precision: 1.0000 - recall: 1.0000 - accuracy: 1.0000\n",
            "Epoch 47: val_accuracy did not improve from 0.77212\n",
            "49/49 [==============================] - 1s 30ms/step - loss: 6.6247e-05 - precision: 1.0000 - recall: 1.0000 - accuracy: 1.0000 - val_loss: 1.8873 - val_precision: 0.6860 - val_recall: 0.5900 - val_accuracy: 0.7385\n",
            "Epoch 48/100\n",
            "49/49 [==============================] - ETA: 0s - loss: 6.2369e-05 - precision: 1.0000 - recall: 1.0000 - accuracy: 1.0000\n",
            "Epoch 48: val_accuracy did not improve from 0.77212\n",
            "49/49 [==============================] - 1s 30ms/step - loss: 6.2369e-05 - precision: 1.0000 - recall: 1.0000 - accuracy: 1.0000 - val_loss: 1.8994 - val_precision: 0.6880 - val_recall: 0.5900 - val_accuracy: 0.7394\n",
            "Epoch 49/100\n",
            "49/49 [==============================] - ETA: 0s - loss: 5.8709e-05 - precision: 1.0000 - recall: 1.0000 - accuracy: 1.0000\n",
            "Epoch 49: val_accuracy did not improve from 0.77212\n",
            "49/49 [==============================] - 1s 30ms/step - loss: 5.8709e-05 - precision: 1.0000 - recall: 1.0000 - accuracy: 1.0000 - val_loss: 1.9108 - val_precision: 0.6880 - val_recall: 0.5900 - val_accuracy: 0.7394\n",
            "Epoch 50/100\n",
            "48/49 [============================>.] - ETA: 0s - loss: 5.5424e-05 - precision: 1.0000 - recall: 1.0000 - accuracy: 1.0000\n",
            "Epoch 50: val_accuracy did not improve from 0.77212\n",
            "49/49 [==============================] - 2s 38ms/step - loss: 5.5404e-05 - precision: 1.0000 - recall: 1.0000 - accuracy: 1.0000 - val_loss: 1.9174 - val_precision: 0.6880 - val_recall: 0.5900 - val_accuracy: 0.7394\n",
            "Epoch 51/100\n",
            "47/49 [===========================>..] - ETA: 0s - loss: 5.3134e-05 - precision: 1.0000 - recall: 1.0000 - accuracy: 1.0000\n",
            "Epoch 51: val_accuracy did not improve from 0.77212\n",
            "49/49 [==============================] - 2s 35ms/step - loss: 5.2254e-05 - precision: 1.0000 - recall: 1.0000 - accuracy: 1.0000 - val_loss: 1.9265 - val_precision: 0.6880 - val_recall: 0.5900 - val_accuracy: 0.7394\n",
            "Epoch 52/100\n",
            "48/49 [============================>.] - ETA: 0s - loss: 4.9941e-05 - precision: 1.0000 - recall: 1.0000 - accuracy: 1.0000\n",
            "Epoch 52: val_accuracy did not improve from 0.77212\n",
            "49/49 [==============================] - 2s 31ms/step - loss: 4.9349e-05 - precision: 1.0000 - recall: 1.0000 - accuracy: 1.0000 - val_loss: 1.9337 - val_precision: 0.6860 - val_recall: 0.5900 - val_accuracy: 0.7385\n",
            "Epoch 53/100\n",
            "49/49 [==============================] - ETA: 0s - loss: 4.6880e-05 - precision: 1.0000 - recall: 1.0000 - accuracy: 1.0000\n",
            "Epoch 53: val_accuracy did not improve from 0.77212\n",
            "49/49 [==============================] - 1s 30ms/step - loss: 4.6880e-05 - precision: 1.0000 - recall: 1.0000 - accuracy: 1.0000 - val_loss: 1.9427 - val_precision: 0.6860 - val_recall: 0.5900 - val_accuracy: 0.7385\n",
            "Epoch 54/100\n",
            "49/49 [==============================] - ETA: 0s - loss: 4.4317e-05 - precision: 1.0000 - recall: 1.0000 - accuracy: 1.0000\n",
            "Epoch 54: val_accuracy did not improve from 0.77212\n",
            "49/49 [==============================] - 1s 30ms/step - loss: 4.4317e-05 - precision: 1.0000 - recall: 1.0000 - accuracy: 1.0000 - val_loss: 1.9531 - val_precision: 0.6851 - val_recall: 0.5875 - val_accuracy: 0.7375\n",
            "Epoch 55/100\n",
            "49/49 [==============================] - ETA: 0s - loss: 4.2038e-05 - precision: 1.0000 - recall: 1.0000 - accuracy: 1.0000\n",
            "Epoch 55: val_accuracy did not improve from 0.77212\n",
            "49/49 [==============================] - 1s 30ms/step - loss: 4.2038e-05 - precision: 1.0000 - recall: 1.0000 - accuracy: 1.0000 - val_loss: 1.9613 - val_precision: 0.6860 - val_recall: 0.5900 - val_accuracy: 0.7385\n",
            "Epoch 56/100\n",
            "49/49 [==============================] - ETA: 0s - loss: 3.9901e-05 - precision: 1.0000 - recall: 1.0000 - accuracy: 1.0000\n",
            "Epoch 56: val_accuracy did not improve from 0.77212\n",
            "49/49 [==============================] - 1s 30ms/step - loss: 3.9901e-05 - precision: 1.0000 - recall: 1.0000 - accuracy: 1.0000 - val_loss: 1.9678 - val_precision: 0.6860 - val_recall: 0.5900 - val_accuracy: 0.7385\n",
            "Epoch 57/100\n",
            "49/49 [==============================] - ETA: 0s - loss: 3.7948e-05 - precision: 1.0000 - recall: 1.0000 - accuracy: 1.0000\n",
            "Epoch 57: val_accuracy did not improve from 0.77212\n",
            "49/49 [==============================] - 1s 29ms/step - loss: 3.7948e-05 - precision: 1.0000 - recall: 1.0000 - accuracy: 1.0000 - val_loss: 1.9776 - val_precision: 0.6851 - val_recall: 0.5875 - val_accuracy: 0.7375\n",
            "Epoch 58/100\n",
            "49/49 [==============================] - ETA: 0s - loss: 3.6121e-05 - precision: 1.0000 - recall: 1.0000 - accuracy: 1.0000\n",
            "Epoch 58: val_accuracy did not improve from 0.77212\n",
            "49/49 [==============================] - 2s 36ms/step - loss: 3.6121e-05 - precision: 1.0000 - recall: 1.0000 - accuracy: 1.0000 - val_loss: 1.9879 - val_precision: 0.6871 - val_recall: 0.5875 - val_accuracy: 0.7385\n",
            "Epoch 59/100\n",
            "49/49 [==============================] - ETA: 0s - loss: 3.4284e-05 - precision: 1.0000 - recall: 1.0000 - accuracy: 1.0000\n",
            "Epoch 59: val_accuracy did not improve from 0.77212\n",
            "49/49 [==============================] - 3s 57ms/step - loss: 3.4284e-05 - precision: 1.0000 - recall: 1.0000 - accuracy: 1.0000 - val_loss: 1.9941 - val_precision: 0.6871 - val_recall: 0.5875 - val_accuracy: 0.7385\n",
            "Epoch 60/100\n",
            "49/49 [==============================] - ETA: 0s - loss: 3.2699e-05 - precision: 1.0000 - recall: 1.0000 - accuracy: 1.0000\n",
            "Epoch 60: val_accuracy did not improve from 0.77212\n",
            "49/49 [==============================] - 3s 54ms/step - loss: 3.2699e-05 - precision: 1.0000 - recall: 1.0000 - accuracy: 1.0000 - val_loss: 1.9991 - val_precision: 0.6850 - val_recall: 0.5925 - val_accuracy: 0.7385\n",
            "Epoch 61/100\n",
            "49/49 [==============================] - ETA: 0s - loss: 3.1228e-05 - precision: 1.0000 - recall: 1.0000 - accuracy: 1.0000\n",
            "Epoch 61: val_accuracy did not improve from 0.77212\n",
            "49/49 [==============================] - 2s 43ms/step - loss: 3.1228e-05 - precision: 1.0000 - recall: 1.0000 - accuracy: 1.0000 - val_loss: 2.0076 - val_precision: 0.6850 - val_recall: 0.5925 - val_accuracy: 0.7385\n",
            "Epoch 62/100\n",
            "49/49 [==============================] - ETA: 0s - loss: 2.9694e-05 - precision: 1.0000 - recall: 1.0000 - accuracy: 1.0000\n",
            "Epoch 62: val_accuracy did not improve from 0.77212\n",
            "49/49 [==============================] - 2s 42ms/step - loss: 2.9694e-05 - precision: 1.0000 - recall: 1.0000 - accuracy: 1.0000 - val_loss: 2.0175 - val_precision: 0.6842 - val_recall: 0.5850 - val_accuracy: 0.7365\n",
            "Epoch 63/100\n",
            "48/49 [============================>.] - ETA: 0s - loss: 2.8431e-05 - precision: 1.0000 - recall: 1.0000 - accuracy: 1.0000\n",
            "Epoch 63: val_accuracy did not improve from 0.77212\n",
            "49/49 [==============================] - 2s 44ms/step - loss: 2.8449e-05 - precision: 1.0000 - recall: 1.0000 - accuracy: 1.0000 - val_loss: 2.0249 - val_precision: 0.6860 - val_recall: 0.5900 - val_accuracy: 0.7385\n",
            "Epoch 64/100\n",
            "47/49 [===========================>..] - ETA: 0s - loss: 2.7264e-05 - precision: 1.0000 - recall: 1.0000 - accuracy: 1.0000\n",
            "Epoch 64: val_accuracy did not improve from 0.77212\n",
            "49/49 [==============================] - 2s 43ms/step - loss: 2.7080e-05 - precision: 1.0000 - recall: 1.0000 - accuracy: 1.0000 - val_loss: 2.0345 - val_precision: 0.6871 - val_recall: 0.5875 - val_accuracy: 0.7385\n",
            "Epoch 65/100\n",
            "48/49 [============================>.] - ETA: 0s - loss: 2.5931e-05 - precision: 1.0000 - recall: 1.0000 - accuracy: 1.0000\n",
            "Epoch 65: val_accuracy did not improve from 0.77212\n",
            "49/49 [==============================] - 3s 57ms/step - loss: 2.5912e-05 - precision: 1.0000 - recall: 1.0000 - accuracy: 1.0000 - val_loss: 2.0409 - val_precision: 0.6871 - val_recall: 0.5875 - val_accuracy: 0.7385\n",
            "Epoch 66/100\n",
            "48/49 [============================>.] - ETA: 0s - loss: 2.4977e-05 - precision: 1.0000 - recall: 1.0000 - accuracy: 1.0000\n",
            "Epoch 66: val_accuracy did not improve from 0.77212\n",
            "49/49 [==============================] - 3s 61ms/step - loss: 2.4731e-05 - precision: 1.0000 - recall: 1.0000 - accuracy: 1.0000 - val_loss: 2.0437 - val_precision: 0.6841 - val_recall: 0.5900 - val_accuracy: 0.7375\n",
            "Epoch 67/100\n",
            "47/49 [===========================>..] - ETA: 0s - loss: 2.3336e-05 - precision: 1.0000 - recall: 1.0000 - accuracy: 1.0000\n",
            "Epoch 67: val_accuracy did not improve from 0.77212\n",
            "49/49 [==============================] - 2s 32ms/step - loss: 2.3595e-05 - precision: 1.0000 - recall: 1.0000 - accuracy: 1.0000 - val_loss: 2.0529 - val_precision: 0.6860 - val_recall: 0.5900 - val_accuracy: 0.7385\n",
            "Epoch 68/100\n",
            "49/49 [==============================] - ETA: 0s - loss: 2.2552e-05 - precision: 1.0000 - recall: 1.0000 - accuracy: 1.0000\n",
            "Epoch 68: val_accuracy did not improve from 0.77212\n",
            "49/49 [==============================] - 2s 32ms/step - loss: 2.2552e-05 - precision: 1.0000 - recall: 1.0000 - accuracy: 1.0000 - val_loss: 2.0581 - val_precision: 0.6860 - val_recall: 0.5900 - val_accuracy: 0.7385\n",
            "Epoch 69/100\n",
            "49/49 [==============================] - ETA: 0s - loss: 2.1398e-05 - precision: 1.0000 - recall: 1.0000 - accuracy: 1.0000\n",
            "Epoch 69: val_accuracy did not improve from 0.77212\n",
            "49/49 [==============================] - 2s 31ms/step - loss: 2.1398e-05 - precision: 1.0000 - recall: 1.0000 - accuracy: 1.0000 - val_loss: 2.0662 - val_precision: 0.6841 - val_recall: 0.5900 - val_accuracy: 0.7375\n",
            "Epoch 70/100\n",
            "49/49 [==============================] - ETA: 0s - loss: 2.0222e-05 - precision: 1.0000 - recall: 1.0000 - accuracy: 1.0000\n",
            "Epoch 70: val_accuracy did not improve from 0.77212\n",
            "49/49 [==============================] - 1s 31ms/step - loss: 2.0222e-05 - precision: 1.0000 - recall: 1.0000 - accuracy: 1.0000 - val_loss: 2.0821 - val_precision: 0.6923 - val_recall: 0.5850 - val_accuracy: 0.7404\n",
            "Epoch 71/100\n",
            "49/49 [==============================] - ETA: 0s - loss: 1.9256e-05 - precision: 1.0000 - recall: 1.0000 - accuracy: 1.0000\n",
            "Epoch 71: val_accuracy did not improve from 0.77212\n",
            "49/49 [==============================] - 1s 31ms/step - loss: 1.9256e-05 - precision: 1.0000 - recall: 1.0000 - accuracy: 1.0000 - val_loss: 2.0857 - val_precision: 0.6891 - val_recall: 0.5875 - val_accuracy: 0.7394\n",
            "Epoch 72/100\n",
            "49/49 [==============================] - ETA: 0s - loss: 1.8167e-05 - precision: 1.0000 - recall: 1.0000 - accuracy: 1.0000\n",
            "Epoch 72: val_accuracy did not improve from 0.77212\n",
            "49/49 [==============================] - 2s 34ms/step - loss: 1.8167e-05 - precision: 1.0000 - recall: 1.0000 - accuracy: 1.0000 - val_loss: 2.0855 - val_precision: 0.6830 - val_recall: 0.5925 - val_accuracy: 0.7375\n",
            "Epoch 73/100\n",
            "48/49 [============================>.] - ETA: 0s - loss: 1.7289e-05 - precision: 1.0000 - recall: 1.0000 - accuracy: 1.0000\n",
            "Epoch 73: val_accuracy did not improve from 0.77212\n",
            "49/49 [==============================] - 2s 38ms/step - loss: 1.7172e-05 - precision: 1.0000 - recall: 1.0000 - accuracy: 1.0000 - val_loss: 2.0984 - val_precision: 0.6880 - val_recall: 0.5900 - val_accuracy: 0.7394\n",
            "Epoch 74/100\n",
            "48/49 [============================>.] - ETA: 0s - loss: 1.6167e-05 - precision: 1.0000 - recall: 1.0000 - accuracy: 1.0000\n",
            "Epoch 74: val_accuracy did not improve from 0.77212\n",
            "49/49 [==============================] - 2s 37ms/step - loss: 1.6254e-05 - precision: 1.0000 - recall: 1.0000 - accuracy: 1.0000 - val_loss: 2.0986 - val_precision: 0.6810 - val_recall: 0.5925 - val_accuracy: 0.7365\n",
            "Epoch 75/100\n",
            "48/49 [============================>.] - ETA: 0s - loss: 1.5350e-05 - precision: 1.0000 - recall: 1.0000 - accuracy: 1.0000\n",
            "Epoch 75: val_accuracy did not improve from 0.77212\n",
            "49/49 [==============================] - 2s 32ms/step - loss: 1.5348e-05 - precision: 1.0000 - recall: 1.0000 - accuracy: 1.0000 - val_loss: 2.1137 - val_precision: 0.6862 - val_recall: 0.5850 - val_accuracy: 0.7375\n",
            "Epoch 76/100\n",
            "48/49 [============================>.] - ETA: 0s - loss: 1.4619e-05 - precision: 1.0000 - recall: 1.0000 - accuracy: 1.0000\n",
            "Epoch 76: val_accuracy did not improve from 0.77212\n",
            "49/49 [==============================] - 2s 31ms/step - loss: 1.4574e-05 - precision: 1.0000 - recall: 1.0000 - accuracy: 1.0000 - val_loss: 2.1197 - val_precision: 0.6871 - val_recall: 0.5875 - val_accuracy: 0.7385\n",
            "Epoch 77/100\n",
            "49/49 [==============================] - ETA: 0s - loss: 1.3719e-05 - precision: 1.0000 - recall: 1.0000 - accuracy: 1.0000\n",
            "Epoch 77: val_accuracy did not improve from 0.77212\n",
            "49/49 [==============================] - 2s 31ms/step - loss: 1.3719e-05 - precision: 1.0000 - recall: 1.0000 - accuracy: 1.0000 - val_loss: 2.1243 - val_precision: 0.6831 - val_recall: 0.5875 - val_accuracy: 0.7365\n",
            "Epoch 78/100\n",
            "49/49 [==============================] - ETA: 0s - loss: 1.2964e-05 - precision: 1.0000 - recall: 1.0000 - accuracy: 1.0000\n",
            "Epoch 78: val_accuracy did not improve from 0.77212\n",
            "49/49 [==============================] - 2s 31ms/step - loss: 1.2964e-05 - precision: 1.0000 - recall: 1.0000 - accuracy: 1.0000 - val_loss: 2.1273 - val_precision: 0.6821 - val_recall: 0.5900 - val_accuracy: 0.7365\n",
            "Epoch 79/100\n",
            "48/49 [============================>.] - ETA: 0s - loss: 1.2251e-05 - precision: 1.0000 - recall: 1.0000 - accuracy: 1.0000\n",
            "Epoch 79: val_accuracy did not improve from 0.77212\n",
            "49/49 [==============================] - 2s 31ms/step - loss: 1.2236e-05 - precision: 1.0000 - recall: 1.0000 - accuracy: 1.0000 - val_loss: 2.1436 - val_precision: 0.6844 - val_recall: 0.5800 - val_accuracy: 0.7356\n",
            "Epoch 80/100\n",
            "49/49 [==============================] - ETA: 0s - loss: 1.1578e-05 - precision: 1.0000 - recall: 1.0000 - accuracy: 1.0000\n",
            "Epoch 80: val_accuracy did not improve from 0.77212\n",
            "49/49 [==============================] - 2s 31ms/step - loss: 1.1578e-05 - precision: 1.0000 - recall: 1.0000 - accuracy: 1.0000 - val_loss: 2.1463 - val_precision: 0.6793 - val_recall: 0.5825 - val_accuracy: 0.7337\n",
            "Epoch 81/100\n",
            "49/49 [==============================] - ETA: 0s - loss: 1.1068e-05 - precision: 1.0000 - recall: 1.0000 - accuracy: 1.0000\n",
            "Epoch 81: val_accuracy did not improve from 0.77212\n",
            "49/49 [==============================] - 2s 31ms/step - loss: 1.1068e-05 - precision: 1.0000 - recall: 1.0000 - accuracy: 1.0000 - val_loss: 2.1597 - val_precision: 0.6853 - val_recall: 0.5825 - val_accuracy: 0.7365\n",
            "Epoch 82/100\n",
            "47/49 [===========================>..] - ETA: 0s - loss: 1.0440e-05 - precision: 1.0000 - recall: 1.0000 - accuracy: 1.0000\n",
            "Epoch 82: val_accuracy did not improve from 0.77212\n",
            "49/49 [==============================] - 2s 38ms/step - loss: 1.0389e-05 - precision: 1.0000 - recall: 1.0000 - accuracy: 1.0000 - val_loss: 2.1643 - val_precision: 0.6833 - val_recall: 0.5825 - val_accuracy: 0.7356\n",
            "Epoch 83/100\n",
            "47/49 [===========================>..] - ETA: 0s - loss: 9.8659e-06 - precision: 1.0000 - recall: 1.0000 - accuracy: 1.0000\n",
            "Epoch 83: val_accuracy did not improve from 0.77212\n",
            "49/49 [==============================] - 2s 39ms/step - loss: 9.9126e-06 - precision: 1.0000 - recall: 1.0000 - accuracy: 1.0000 - val_loss: 2.1718 - val_precision: 0.6833 - val_recall: 0.5825 - val_accuracy: 0.7356\n",
            "Epoch 84/100\n",
            "49/49 [==============================] - ETA: 0s - loss: 9.4147e-06 - precision: 1.0000 - recall: 1.0000 - accuracy: 1.0000\n",
            "Epoch 84: val_accuracy did not improve from 0.77212\n",
            "49/49 [==============================] - 1s 31ms/step - loss: 9.4147e-06 - precision: 1.0000 - recall: 1.0000 - accuracy: 1.0000 - val_loss: 2.1838 - val_precision: 0.6864 - val_recall: 0.5800 - val_accuracy: 0.7365\n",
            "Epoch 85/100\n",
            "49/49 [==============================] - ETA: 0s - loss: 8.9586e-06 - precision: 1.0000 - recall: 1.0000 - accuracy: 1.0000\n",
            "Epoch 85: val_accuracy did not improve from 0.77212\n",
            "49/49 [==============================] - 2s 34ms/step - loss: 8.9586e-06 - precision: 1.0000 - recall: 1.0000 - accuracy: 1.0000 - val_loss: 2.1909 - val_precision: 0.6834 - val_recall: 0.5775 - val_accuracy: 0.7346\n",
            "Epoch 86/100\n",
            "49/49 [==============================] - ETA: 0s - loss: 8.5119e-06 - precision: 1.0000 - recall: 1.0000 - accuracy: 1.0000\n",
            "Epoch 86: val_accuracy did not improve from 0.77212\n",
            "49/49 [==============================] - 2s 34ms/step - loss: 8.5119e-06 - precision: 1.0000 - recall: 1.0000 - accuracy: 1.0000 - val_loss: 2.1954 - val_precision: 0.6864 - val_recall: 0.5800 - val_accuracy: 0.7365\n",
            "Epoch 87/100\n",
            "49/49 [==============================] - ETA: 0s - loss: 8.1735e-06 - precision: 1.0000 - recall: 1.0000 - accuracy: 1.0000\n",
            "Epoch 87: val_accuracy did not improve from 0.77212\n",
            "49/49 [==============================] - 2s 35ms/step - loss: 8.1735e-06 - precision: 1.0000 - recall: 1.0000 - accuracy: 1.0000 - val_loss: 2.1979 - val_precision: 0.6853 - val_recall: 0.5825 - val_accuracy: 0.7365\n",
            "Epoch 88/100\n",
            "49/49 [==============================] - ETA: 0s - loss: 7.6871e-06 - precision: 1.0000 - recall: 1.0000 - accuracy: 1.0000\n",
            "Epoch 88: val_accuracy did not improve from 0.77212\n",
            "49/49 [==============================] - 1s 30ms/step - loss: 7.6871e-06 - precision: 1.0000 - recall: 1.0000 - accuracy: 1.0000 - val_loss: 2.2084 - val_precision: 0.6873 - val_recall: 0.5825 - val_accuracy: 0.7375\n",
            "Epoch 89/100\n",
            "49/49 [==============================] - ETA: 0s - loss: 7.2600e-06 - precision: 1.0000 - recall: 1.0000 - accuracy: 1.0000\n",
            "Epoch 89: val_accuracy did not improve from 0.77212\n",
            "49/49 [==============================] - 2s 31ms/step - loss: 7.2600e-06 - precision: 1.0000 - recall: 1.0000 - accuracy: 1.0000 - val_loss: 2.2298 - val_precision: 0.6866 - val_recall: 0.5750 - val_accuracy: 0.7356\n",
            "Epoch 90/100\n",
            "49/49 [==============================] - ETA: 0s - loss: 6.8930e-06 - precision: 1.0000 - recall: 1.0000 - accuracy: 1.0000\n",
            "Epoch 90: val_accuracy did not improve from 0.77212\n",
            "49/49 [==============================] - 2s 38ms/step - loss: 6.8930e-06 - precision: 1.0000 - recall: 1.0000 - accuracy: 1.0000 - val_loss: 2.2327 - val_precision: 0.6905 - val_recall: 0.5800 - val_accuracy: 0.7385\n",
            "Epoch 91/100\n",
            "48/49 [============================>.] - ETA: 0s - loss: 6.6012e-06 - precision: 1.0000 - recall: 1.0000 - accuracy: 1.0000\n",
            "Epoch 91: val_accuracy did not improve from 0.77212\n",
            "49/49 [==============================] - 2s 36ms/step - loss: 6.5211e-06 - precision: 1.0000 - recall: 1.0000 - accuracy: 1.0000 - val_loss: 2.2408 - val_precision: 0.6855 - val_recall: 0.5775 - val_accuracy: 0.7356\n",
            "Epoch 92/100\n",
            "49/49 [==============================] - ETA: 0s - loss: 6.1341e-06 - precision: 1.0000 - recall: 1.0000 - accuracy: 1.0000\n",
            "Epoch 92: val_accuracy did not improve from 0.77212\n",
            "49/49 [==============================] - 2s 33ms/step - loss: 6.1341e-06 - precision: 1.0000 - recall: 1.0000 - accuracy: 1.0000 - val_loss: 2.2491 - val_precision: 0.6884 - val_recall: 0.5800 - val_accuracy: 0.7375\n",
            "Epoch 93/100\n",
            "48/49 [============================>.] - ETA: 0s - loss: 5.8052e-06 - precision: 1.0000 - recall: 1.0000 - accuracy: 1.0000\n",
            "Epoch 93: val_accuracy did not improve from 0.77212\n",
            "49/49 [==============================] - 1s 31ms/step - loss: 5.8107e-06 - precision: 1.0000 - recall: 1.0000 - accuracy: 1.0000 - val_loss: 2.2584 - val_precision: 0.6905 - val_recall: 0.5800 - val_accuracy: 0.7385\n",
            "Epoch 94/100\n",
            "48/49 [============================>.] - ETA: 0s - loss: 5.4932e-06 - precision: 1.0000 - recall: 1.0000 - accuracy: 1.0000\n",
            "Epoch 94: val_accuracy did not improve from 0.77212\n",
            "49/49 [==============================] - 2s 31ms/step - loss: 5.4915e-06 - precision: 1.0000 - recall: 1.0000 - accuracy: 1.0000 - val_loss: 2.2675 - val_precision: 0.6884 - val_recall: 0.5800 - val_accuracy: 0.7375\n",
            "Epoch 95/100\n",
            "49/49 [==============================] - ETA: 0s - loss: 5.0326e-06 - precision: 1.0000 - recall: 1.0000 - accuracy: 1.0000\n",
            "Epoch 95: val_accuracy did not improve from 0.77212\n",
            "49/49 [==============================] - 2s 33ms/step - loss: 5.0326e-06 - precision: 1.0000 - recall: 1.0000 - accuracy: 1.0000 - val_loss: 2.3007 - val_precision: 0.6925 - val_recall: 0.5800 - val_accuracy: 0.7394\n",
            "Epoch 96/100\n",
            "49/49 [==============================] - ETA: 0s - loss: 4.7543e-06 - precision: 1.0000 - recall: 1.0000 - accuracy: 1.0000\n",
            "Epoch 96: val_accuracy did not improve from 0.77212\n",
            "49/49 [==============================] - 1s 31ms/step - loss: 4.7543e-06 - precision: 1.0000 - recall: 1.0000 - accuracy: 1.0000 - val_loss: 2.3043 - val_precision: 0.6893 - val_recall: 0.5825 - val_accuracy: 0.7385\n",
            "Epoch 97/100\n",
            "49/49 [==============================] - ETA: 0s - loss: 4.4355e-06 - precision: 1.0000 - recall: 1.0000 - accuracy: 1.0000\n",
            "Epoch 97: val_accuracy did not improve from 0.77212\n",
            "49/49 [==============================] - 1s 30ms/step - loss: 4.4355e-06 - precision: 1.0000 - recall: 1.0000 - accuracy: 1.0000 - val_loss: 2.3159 - val_precision: 0.6893 - val_recall: 0.5825 - val_accuracy: 0.7385\n",
            "Epoch 98/100\n",
            "49/49 [==============================] - ETA: 0s - loss: 4.1419e-06 - precision: 1.0000 - recall: 1.0000 - accuracy: 1.0000\n",
            "Epoch 98: val_accuracy did not improve from 0.77212\n",
            "49/49 [==============================] - 2s 31ms/step - loss: 4.1419e-06 - precision: 1.0000 - recall: 1.0000 - accuracy: 1.0000 - val_loss: 2.3355 - val_precision: 0.6976 - val_recall: 0.5825 - val_accuracy: 0.7423\n",
            "Epoch 99/100\n",
            "47/49 [===========================>..] - ETA: 0s - loss: 3.9521e-06 - precision: 1.0000 - recall: 1.0000 - accuracy: 1.0000\n",
            "Epoch 99: val_accuracy did not improve from 0.77212\n",
            "49/49 [==============================] - 2s 37ms/step - loss: 3.9114e-06 - precision: 1.0000 - recall: 1.0000 - accuracy: 1.0000 - val_loss: 2.3472 - val_precision: 0.6985 - val_recall: 0.5850 - val_accuracy: 0.7433\n",
            "Epoch 100/100\n",
            "47/49 [===========================>..] - ETA: 0s - loss: 3.6359e-06 - precision: 1.0000 - recall: 1.0000 - accuracy: 1.0000\n",
            "Epoch 100: val_accuracy did not improve from 0.77212\n",
            "49/49 [==============================] - 2s 38ms/step - loss: 3.6585e-06 - precision: 1.0000 - recall: 1.0000 - accuracy: 1.0000 - val_loss: 2.3367 - val_precision: 0.6939 - val_recall: 0.5950 - val_accuracy: 0.7433\n"
          ]
        }
      ]
    },
    {
      "cell_type": "code",
      "source": [],
      "metadata": {
        "id": "MSwvZL5MaO8E"
      },
      "execution_count": null,
      "outputs": []
    },
    {
      "cell_type": "code",
      "source": [
        "def plot_accuracy(model_history, name_of_model):\n",
        "  # Create a figure for loss visualization\n",
        "  plt.figure(figsize=(21, 4))\n",
        "\n",
        "  # Plot training and validation loss\n",
        "  plt.plot(history['accuracy'], label='Training loss', alpha=.2, color='#17becf')\n",
        "  plt.plot(history['val_accuracy'], label='Validation loss', alpha=.8, color='#15becf')\n",
        "  plt.title(f'Accuracy of {name_of_model}')\n",
        "  plt.legend()\n",
        "  plt.grid(alpha=.3)\n",
        "  plt.show()\n"
      ],
      "metadata": {
        "id": "T9kd0ByBxlVM"
      },
      "execution_count": null,
      "outputs": []
    },
    {
      "cell_type": "code",
      "execution_count": null,
      "metadata": {
        "colab": {
          "base_uri": "https://localhost:8080/",
          "height": 349
        },
        "id": "MRPmgCT2jysq",
        "outputId": "db872972-f1a5-4891-9d6e-c338ca906f58"
      },
      "outputs": [
        {
          "output_type": "display_data",
          "data": {
            "text/plain": [
              "<Figure size 2100x400 with 1 Axes>"
            ],
            "image/png": "[encoded data removed]"
          },
          "metadata": {}
        }
      ],
      "source": [
        "plot_accuracy(model_history= history, name_of_model= \"first_model\")\n"
      ]
    },
    {
      "cell_type": "code",
      "source": [
        "val_accuracy ={}"
      ],
      "metadata": {
        "id": "uS7PbF2uDxlP"
      },
      "execution_count": null,
      "outputs": []
    },
    {
      "cell_type": "code",
      "source": [
        "val_accuracy['First']=np.max(history['val_accuracy'])"
      ],
      "metadata": {
        "id": "lC4mC3mpdFOr"
      },
      "execution_count": null,
      "outputs": []
    },
    {
      "cell_type": "code",
      "source": [
        "!mkdir /content/last_models"
      ],
      "metadata": {
        "id": "Yk_uBT2QmgwZ"
      },
      "execution_count": null,
      "outputs": []
    },
    {
      "cell_type": "code",
      "source": [
        "first_model.save(\"last_models/First_model.keras\")"
      ],
      "metadata": {
        "id": "44KtJV8udQw1"
      },
      "execution_count": null,
      "outputs": []
    },
    {
      "cell_type": "code",
      "source": [
        "def model_1_plus_Droput(input_shape=(96, 96, 3)):\n",
        "\n",
        "  model = models.Sequential()\n",
        "  model.add(layers.Conv2D(32, (3, 3), activation='relu',\n",
        "                          input_shape= input_shape))\n",
        "  model.add(layers.MaxPooling2D((2, 2)))\n",
        "  model.add(Dropout(0.25))\n",
        "  model.add(layers.Conv2D(64, (3, 3), activation='relu'))\n",
        "  model.add(layers.MaxPooling2D((2, 2)))\n",
        "  model.add(Dropout(0.25))\n",
        "  model.add(layers.Conv2D(128, (3, 3), activation='relu'))\n",
        "  model.add(layers.MaxPooling2D((2, 2)))\n",
        "  model.add(Dropout(0.25))\n",
        "  model.add(layers.Conv2D(128, (3, 3), activation='relu'))\n",
        "  model.add(layers.MaxPooling2D((2, 2)))\n",
        "  model.add(Dropout(0.25))\n",
        "  model.add(layers.Flatten())\n",
        "  model.add(layers.Dense(512, activation='relu'))\n",
        "  model.add(layers.Dense(1, activation='sigmoid'))\n",
        "\n",
        "  return model"
      ],
      "metadata": {
        "id": "vi3Q64qxcQr3"
      },
      "execution_count": null,
      "outputs": []
    },
    {
      "cell_type": "code",
      "source": [
        "second_model = compile(model_1_plus_Droput())"
      ],
      "metadata": {
        "id": "a9NlSQ5v3Obu"
      },
      "execution_count": null,
      "outputs": []
    },
    {
      "cell_type": "code",
      "source": [
        "My_all_callbacks = [ My_Tensorboard_callback,Checkpoint(address=\"best_models/Second_model\")]"
      ],
      "metadata": {
        "id": "ObgoJep12_V2"
      },
      "execution_count": null,
      "outputs": []
    },
    {
      "cell_type": "code",
      "source": [
        "history = second_model.fit(\n",
        "    x = x_train,\n",
        "    y = y_train,\n",
        "    validation_data = (x_val, y_val),\n",
        "    batch_size = batch_size,\n",
        "    epochs = epochs,\n",
        "    callbacks=My_all_callbacks\n",
        ").history"
      ],
      "metadata": {
        "colab": {
          "base_uri": "https://localhost:8080/"
        },
        "id": "q66YTETl23IW",
        "outputId": "7c7d56fb-d363-4c35-e4ce-39ba91395b75"
      },
      "execution_count": null,
      "outputs": [
        {
          "output_type": "stream",
          "name": "stdout",
          "text": [
            "Epoch 1/100\n",
            "49/49 [==============================] - ETA: 0s - loss: 0.6758 - precision_1: 0.3478 - recall_1: 0.0067 - accuracy: 0.6128\n",
            "Epoch 1: val_accuracy improved from -inf to 0.61538, saving model to best_models/Second_model\n",
            "49/49 [==============================] - 11s 100ms/step - loss: 0.6758 - precision_1: 0.3478 - recall_1: 0.0067 - accuracy: 0.6128 - val_loss: 0.6845 - val_precision_1: 0.0000e+00 - val_recall_1: 0.0000e+00 - val_accuracy: 0.6154\n",
            "Epoch 2/100\n",
            "49/49 [==============================] - ETA: 0s - loss: 0.6535 - precision_1: 1.0000 - recall_1: 0.0017 - accuracy: 0.6157        \n",
            "Epoch 2: val_accuracy did not improve from 0.61538\n",
            "49/49 [==============================] - 2s 39ms/step - loss: 0.6535 - precision_1: 1.0000 - recall_1: 0.0017 - accuracy: 0.6157 - val_loss: 0.6651 - val_precision_1: 0.0000e+00 - val_recall_1: 0.0000e+00 - val_accuracy: 0.6154\n",
            "Epoch 3/100\n",
            "47/49 [===========================>..] - ETA: 0s - loss: 0.6306 - precision_1: 0.6894 - recall_1: 0.1743 - accuracy: 0.6516\n",
            "Epoch 3: val_accuracy improved from 0.61538 to 0.68269, saving model to best_models/Second_model\n",
            "49/49 [==============================] - 3s 62ms/step - loss: 0.6292 - precision_1: 0.6954 - recall_1: 0.1749 - accuracy: 0.6529 - val_loss: 0.6439 - val_precision_1: 0.6483 - val_recall_1: 0.3825 - val_accuracy: 0.6827\n",
            "Epoch 4/100\n",
            "49/49 [==============================] - ETA: 0s - loss: 0.6073 - precision_1: 0.7068 - recall_1: 0.2931 - accuracy: 0.6811\n",
            "Epoch 4: val_accuracy did not improve from 0.68269\n",
            "49/49 [==============================] - 2s 45ms/step - loss: 0.6073 - precision_1: 0.7068 - recall_1: 0.2931 - accuracy: 0.6811 - val_loss: 0.6378 - val_precision_1: 0.7949 - val_recall_1: 0.1550 - val_accuracy: 0.6596\n",
            "Epoch 5/100\n",
            "47/49 [===========================>..] - ETA: 0s - loss: 0.6121 - precision_1: 0.6880 - recall_1: 0.3161 - accuracy: 0.6815\n",
            "Epoch 5: val_accuracy did not improve from 0.68269\n",
            "49/49 [==============================] - 2s 40ms/step - loss: 0.6112 - precision_1: 0.6934 - recall_1: 0.3164 - accuracy: 0.6830 - val_loss: 0.6133 - val_precision_1: 0.8553 - val_recall_1: 0.1625 - val_accuracy: 0.6673\n",
            "Epoch 6/100\n",
            "47/49 [===========================>..] - ETA: 0s - loss: 0.5901 - precision_1: 0.7278 - recall_1: 0.3336 - accuracy: 0.6965\n",
            "Epoch 6: val_accuracy improved from 0.68269 to 0.70673, saving model to best_models/Second_model\n",
            "49/49 [==============================] - 3s 61ms/step - loss: 0.5876 - precision_1: 0.7305 - recall_1: 0.3430 - accuracy: 0.6984 - val_loss: 0.5851 - val_precision_1: 0.6753 - val_recall_1: 0.4575 - val_accuracy: 0.7067\n",
            "Epoch 7/100\n",
            "47/49 [===========================>..] - ETA: 0s - loss: 0.5780 - precision_1: 0.7271 - recall_1: 0.3425 - accuracy: 0.6971\n",
            "Epoch 7: val_accuracy did not improve from 0.70673\n",
            "49/49 [==============================] - 2s 36ms/step - loss: 0.5772 - precision_1: 0.7259 - recall_1: 0.3505 - accuracy: 0.6990 - val_loss: 0.5999 - val_precision_1: 0.5867 - val_recall_1: 0.5500 - val_accuracy: 0.6779\n",
            "Epoch 8/100\n",
            "47/49 [===========================>..] - ETA: 0s - loss: 0.5775 - precision_1: 0.7233 - recall_1: 0.3976 - accuracy: 0.7098\n",
            "Epoch 8: val_accuracy improved from 0.70673 to 0.71923, saving model to best_models/Second_model\n",
            "49/49 [==============================] - 3s 67ms/step - loss: 0.5772 - precision_1: 0.7278 - recall_1: 0.3963 - accuracy: 0.7106 - val_loss: 0.5717 - val_precision_1: 0.7547 - val_recall_1: 0.4000 - val_accuracy: 0.7192\n",
            "Epoch 9/100\n",
            "47/49 [===========================>..] - ETA: 0s - loss: 0.5499 - precision_1: 0.7194 - recall_1: 0.4466 - accuracy: 0.7194\n",
            "Epoch 9: val_accuracy did not improve from 0.71923\n",
            "49/49 [==============================] - 2s 40ms/step - loss: 0.5498 - precision_1: 0.7164 - recall_1: 0.4521 - accuracy: 0.7202 - val_loss: 0.5625 - val_precision_1: 0.7746 - val_recall_1: 0.3350 - val_accuracy: 0.7067\n",
            "Epoch 10/100\n",
            "49/49 [==============================] - ETA: 0s - loss: 0.5441 - precision_1: 0.7237 - recall_1: 0.4580 - accuracy: 0.7240\n",
            "Epoch 10: val_accuracy did not improve from 0.71923\n",
            "49/49 [==============================] - 2s 46ms/step - loss: 0.5441 - precision_1: 0.7237 - recall_1: 0.4580 - accuracy: 0.7240 - val_loss: 0.5614 - val_precision_1: 0.8243 - val_recall_1: 0.3050 - val_accuracy: 0.7077\n",
            "Epoch 11/100\n",
            "47/49 [===========================>..] - ETA: 0s - loss: 0.5403 - precision_1: 0.7307 - recall_1: 0.4867 - accuracy: 0.7317\n",
            "Epoch 11: val_accuracy improved from 0.71923 to 0.73558, saving model to best_models/Second_model\n",
            "49/49 [==============================] - 3s 63ms/step - loss: 0.5411 - precision_1: 0.7220 - recall_1: 0.4888 - accuracy: 0.7308 - val_loss: 0.5677 - val_precision_1: 0.7593 - val_recall_1: 0.4575 - val_accuracy: 0.7356\n",
            "Epoch 12/100\n",
            "47/49 [===========================>..] - ETA: 0s - loss: 0.5294 - precision_1: 0.7382 - recall_1: 0.4857 - accuracy: 0.7364\n",
            "Epoch 12: val_accuracy did not improve from 0.73558\n",
            "49/49 [==============================] - 2s 36ms/step - loss: 0.5295 - precision_1: 0.7331 - recall_1: 0.4963 - accuracy: 0.7365 - val_loss: 0.5356 - val_precision_1: 0.6961 - val_recall_1: 0.5325 - val_accuracy: 0.7308\n",
            "Epoch 13/100\n",
            "47/49 [===========================>..] - ETA: 0s - loss: 0.5234 - precision_1: 0.7366 - recall_1: 0.5229 - accuracy: 0.7450\n",
            "Epoch 13: val_accuracy improved from 0.73558 to 0.74038, saving model to best_models/Second_model\n",
            "49/49 [==============================] - 3s 61ms/step - loss: 0.5220 - precision_1: 0.7360 - recall_1: 0.5271 - accuracy: 0.7452 - val_loss: 0.5250 - val_precision_1: 0.7444 - val_recall_1: 0.4950 - val_accuracy: 0.7404\n",
            "Epoch 14/100\n",
            "47/49 [===========================>..] - ETA: 0s - loss: 0.5289 - precision_1: 0.7257 - recall_1: 0.5155 - accuracy: 0.7380\n",
            "Epoch 14: val_accuracy did not improve from 0.74038\n",
            "49/49 [==============================] - 2s 37ms/step - loss: 0.5304 - precision_1: 0.7256 - recall_1: 0.5129 - accuracy: 0.7378 - val_loss: 0.5373 - val_precision_1: 0.8146 - val_recall_1: 0.3625 - val_accuracy: 0.7231\n",
            "Epoch 15/100\n",
            "47/49 [===========================>..] - ETA: 0s - loss: 0.5160 - precision_1: 0.7122 - recall_1: 0.5468 - accuracy: 0.7414\n",
            "Epoch 15: val_accuracy did not improve from 0.74038\n",
            "49/49 [==============================] - 2s 40ms/step - loss: 0.5159 - precision_1: 0.7110 - recall_1: 0.5470 - accuracy: 0.7401 - val_loss: 0.5352 - val_precision_1: 0.6887 - val_recall_1: 0.5475 - val_accuracy: 0.7308\n",
            "Epoch 16/100\n",
            "49/49 [==============================] - ETA: 0s - loss: 0.4986 - precision_1: 0.7149 - recall_1: 0.5762 - accuracy: 0.7484\n",
            "Epoch 16: val_accuracy improved from 0.74038 to 0.74423, saving model to best_models/Second_model\n",
            "49/49 [==============================] - 4s 74ms/step - loss: 0.4986 - precision_1: 0.7149 - recall_1: 0.5762 - accuracy: 0.7484 - val_loss: 0.5055 - val_precision_1: 0.7134 - val_recall_1: 0.5600 - val_accuracy: 0.7442\n",
            "Epoch 17/100\n",
            "47/49 [===========================>..] - ETA: 0s - loss: 0.4806 - precision_1: 0.7399 - recall_1: 0.6181 - accuracy: 0.7689\n",
            "Epoch 17: val_accuracy did not improve from 0.74423\n",
            "49/49 [==============================] - 2s 38ms/step - loss: 0.4838 - precision_1: 0.7419 - recall_1: 0.6078 - accuracy: 0.7676 - val_loss: 0.5209 - val_precision_1: 0.8191 - val_recall_1: 0.4075 - val_accuracy: 0.7375\n",
            "Epoch 18/100\n",
            "47/49 [===========================>..] - ETA: 0s - loss: 0.4777 - precision_1: 0.7371 - recall_1: 0.5852 - accuracy: 0.7626\n",
            "Epoch 18: val_accuracy improved from 0.74423 to 0.75769, saving model to best_models/Second_model\n",
            "49/49 [==============================] - 3s 61ms/step - loss: 0.4789 - precision_1: 0.7378 - recall_1: 0.5903 - accuracy: 0.7615 - val_loss: 0.5023 - val_precision_1: 0.7056 - val_recall_1: 0.6350 - val_accuracy: 0.7577\n",
            "Epoch 19/100\n",
            "47/49 [===========================>..] - ETA: 0s - loss: 0.4755 - precision_1: 0.7281 - recall_1: 0.6164 - accuracy: 0.7633\n",
            "Epoch 19: val_accuracy improved from 0.75769 to 0.75962, saving model to best_models/Second_model\n",
            "49/49 [==============================] - 3s 72ms/step - loss: 0.4753 - precision_1: 0.7243 - recall_1: 0.6211 - accuracy: 0.7631 - val_loss: 0.4995 - val_precision_1: 0.7568 - val_recall_1: 0.5525 - val_accuracy: 0.7596\n",
            "Epoch 20/100\n",
            "48/49 [============================>.] - ETA: 0s - loss: 0.4604 - precision_1: 0.7623 - recall_1: 0.6075 - accuracy: 0.7780\n",
            "Epoch 20: val_accuracy did not improve from 0.75962\n",
            "49/49 [==============================] - 2s 44ms/step - loss: 0.4607 - precision_1: 0.7633 - recall_1: 0.6095 - accuracy: 0.7769 - val_loss: 0.5219 - val_precision_1: 0.6559 - val_recall_1: 0.6625 - val_accuracy: 0.7365\n",
            "Epoch 21/100\n",
            "49/49 [==============================] - ETA: 0s - loss: 0.4498 - precision_1: 0.7614 - recall_1: 0.6561 - accuracy: 0.7885\n",
            "Epoch 21: val_accuracy improved from 0.75962 to 0.76058, saving model to best_models/Second_model\n",
            "49/49 [==============================] - 4s 72ms/step - loss: 0.4498 - precision_1: 0.7614 - recall_1: 0.6561 - accuracy: 0.7885 - val_loss: 0.4994 - val_precision_1: 0.6793 - val_recall_1: 0.7150 - val_accuracy: 0.7606\n",
            "Epoch 22/100\n",
            "47/49 [===========================>..] - ETA: 0s - loss: 0.4382 - precision_1: 0.7648 - recall_1: 0.6491 - accuracy: 0.7882\n",
            "Epoch 22: val_accuracy did not improve from 0.76058\n",
            "49/49 [==============================] - 2s 38ms/step - loss: 0.4379 - precision_1: 0.7659 - recall_1: 0.6511 - accuracy: 0.7891 - val_loss: 0.5176 - val_precision_1: 0.6985 - val_recall_1: 0.5675 - val_accuracy: 0.7394\n",
            "Epoch 23/100\n",
            "47/49 [===========================>..] - ETA: 0s - loss: 0.4340 - precision_1: 0.7642 - recall_1: 0.6724 - accuracy: 0.7942\n",
            "Epoch 23: val_accuracy did not improve from 0.76058\n",
            "49/49 [==============================] - 2s 37ms/step - loss: 0.4352 - precision_1: 0.7671 - recall_1: 0.6636 - accuracy: 0.7929 - val_loss: 0.5537 - val_precision_1: 0.9065 - val_recall_1: 0.3150 - val_accuracy: 0.7240\n",
            "Epoch 24/100\n",
            "49/49 [==============================] - ETA: 0s - loss: 0.4353 - precision_1: 0.7708 - recall_1: 0.6470 - accuracy: 0.7901\n",
            "Epoch 24: val_accuracy did not improve from 0.76058\n",
            "49/49 [==============================] - 2s 44ms/step - loss: 0.4353 - precision_1: 0.7708 - recall_1: 0.6470 - accuracy: 0.7901 - val_loss: 0.5033 - val_precision_1: 0.7660 - val_recall_1: 0.5075 - val_accuracy: 0.7510\n",
            "Epoch 25/100\n",
            "49/49 [==============================] - ETA: 0s - loss: 0.4124 - precision_1: 0.7871 - recall_1: 0.6986 - accuracy: 0.8112\n",
            "Epoch 25: val_accuracy did not improve from 0.76058\n",
            "49/49 [==============================] - 2s 45ms/step - loss: 0.4124 - precision_1: 0.7871 - recall_1: 0.6986 - accuracy: 0.8112 - val_loss: 0.5073 - val_precision_1: 0.7379 - val_recall_1: 0.5350 - val_accuracy: 0.7481\n",
            "Epoch 26/100\n",
            "49/49 [==============================] - ETA: 0s - loss: 0.3903 - precision_1: 0.7978 - recall_1: 0.7261 - accuracy: 0.8237\n",
            "Epoch 26: val_accuracy did not improve from 0.76058\n",
            "49/49 [==============================] - 2s 44ms/step - loss: 0.3903 - precision_1: 0.7978 - recall_1: 0.7261 - accuracy: 0.8237 - val_loss: 0.5448 - val_precision_1: 0.8255 - val_recall_1: 0.4375 - val_accuracy: 0.7481\n",
            "Epoch 27/100\n",
            "49/49 [==============================] - ETA: 0s - loss: 0.3643 - precision_1: 0.8141 - recall_1: 0.7219 - accuracy: 0.8295\n",
            "Epoch 27: val_accuracy improved from 0.76058 to 0.77115, saving model to best_models/Second_model\n",
            "49/49 [==============================] - 4s 74ms/step - loss: 0.3643 - precision_1: 0.8141 - recall_1: 0.7219 - accuracy: 0.8295 - val_loss: 0.4937 - val_precision_1: 0.7682 - val_recall_1: 0.5800 - val_accuracy: 0.7712\n",
            "Epoch 28/100\n",
            "47/49 [===========================>..] - ETA: 0s - loss: 0.3444 - precision_1: 0.8435 - recall_1: 0.7325 - accuracy: 0.8451\n",
            "Epoch 28: val_accuracy did not improve from 0.77115\n",
            "49/49 [==============================] - 2s 38ms/step - loss: 0.3476 - precision_1: 0.8441 - recall_1: 0.7261 - accuracy: 0.8429 - val_loss: 0.4977 - val_precision_1: 0.7081 - val_recall_1: 0.6550 - val_accuracy: 0.7635\n",
            "Epoch 29/100\n",
            "47/49 [===========================>..] - ETA: 0s - loss: 0.3375 - precision_1: 0.8343 - recall_1: 0.7487 - accuracy: 0.8444\n",
            "Epoch 29: val_accuracy did not improve from 0.77115\n",
            "49/49 [==============================] - 2s 37ms/step - loss: 0.3392 - precision_1: 0.8297 - recall_1: 0.7502 - accuracy: 0.8446 - val_loss: 0.5211 - val_precision_1: 0.7889 - val_recall_1: 0.5325 - val_accuracy: 0.7654\n",
            "Epoch 30/100\n",
            "47/49 [===========================>..] - ETA: 0s - loss: 0.3388 - precision_1: 0.8327 - recall_1: 0.7569 - accuracy: 0.8471\n",
            "Epoch 30: val_accuracy did not improve from 0.77115\n",
            "49/49 [==============================] - 2s 36ms/step - loss: 0.3360 - precision_1: 0.8323 - recall_1: 0.7602 - accuracy: 0.8487 - val_loss: 0.5164 - val_precision_1: 0.7901 - val_recall_1: 0.5175 - val_accuracy: 0.7615\n",
            "Epoch 31/100\n",
            "47/49 [===========================>..] - ETA: 0s - loss: 0.3000 - precision_1: 0.8665 - recall_1: 0.7836 - accuracy: 0.8700\n",
            "Epoch 31: val_accuracy did not improve from 0.77115\n",
            "49/49 [==============================] - 2s 40ms/step - loss: 0.3038 - precision_1: 0.8692 - recall_1: 0.7744 - accuracy: 0.8683 - val_loss: 0.5825 - val_precision_1: 0.8111 - val_recall_1: 0.4400 - val_accuracy: 0.7452\n",
            "Epoch 32/100\n",
            "47/49 [===========================>..] - ETA: 0s - loss: 0.3027 - precision_1: 0.8643 - recall_1: 0.7768 - accuracy: 0.8674\n",
            "Epoch 32: val_accuracy did not improve from 0.77115\n",
            "49/49 [==============================] - 2s 45ms/step - loss: 0.3029 - precision_1: 0.8647 - recall_1: 0.7769 - accuracy: 0.8673 - val_loss: 0.5473 - val_precision_1: 0.6796 - val_recall_1: 0.6575 - val_accuracy: 0.7490\n",
            "Epoch 33/100\n",
            "49/49 [==============================] - ETA: 0s - loss: 0.2795 - precision_1: 0.8766 - recall_1: 0.8102 - accuracy: 0.8830\n",
            "Epoch 33: val_accuracy improved from 0.77115 to 0.77692, saving model to best_models/Second_model\n",
            "49/49 [==============================] - 4s 84ms/step - loss: 0.2795 - precision_1: 0.8766 - recall_1: 0.8102 - accuracy: 0.8830 - val_loss: 0.5257 - val_precision_1: 0.7373 - val_recall_1: 0.6525 - val_accuracy: 0.7769\n",
            "Epoch 34/100\n",
            "47/49 [===========================>..] - ETA: 0s - loss: 0.2472 - precision_1: 0.8928 - recall_1: 0.8320 - accuracy: 0.8966\n",
            "Epoch 34: val_accuracy did not improve from 0.77692\n",
            "49/49 [==============================] - 2s 37ms/step - loss: 0.2498 - precision_1: 0.8859 - recall_1: 0.8343 - accuracy: 0.8949 - val_loss: 0.5577 - val_precision_1: 0.7492 - val_recall_1: 0.5900 - val_accuracy: 0.7663\n",
            "Epoch 35/100\n",
            "47/49 [===========================>..] - ETA: 0s - loss: 0.2346 - precision_1: 0.8931 - recall_1: 0.8339 - accuracy: 0.8973\n",
            "Epoch 35: val_accuracy did not improve from 0.77692\n",
            "49/49 [==============================] - 2s 37ms/step - loss: 0.2342 - precision_1: 0.8938 - recall_1: 0.8335 - accuracy: 0.8978 - val_loss: 0.5859 - val_precision_1: 0.7659 - val_recall_1: 0.5725 - val_accuracy: 0.7683\n",
            "Epoch 36/100\n",
            "47/49 [===========================>..] - ETA: 0s - loss: 0.2085 - precision_1: 0.9108 - recall_1: 0.8626 - accuracy: 0.9136\n",
            "Epoch 36: val_accuracy did not improve from 0.77692\n",
            "49/49 [==============================] - 2s 40ms/step - loss: 0.2097 - precision_1: 0.9094 - recall_1: 0.8609 - accuracy: 0.9135 - val_loss: 0.5971 - val_precision_1: 0.7270 - val_recall_1: 0.6125 - val_accuracy: 0.7625\n",
            "Epoch 37/100\n",
            "47/49 [===========================>..] - ETA: 0s - loss: 0.2190 - precision_1: 0.8997 - recall_1: 0.8594 - accuracy: 0.9089\n",
            "Epoch 37: val_accuracy did not improve from 0.77692\n",
            "49/49 [==============================] - 2s 37ms/step - loss: 0.2198 - precision_1: 0.8982 - recall_1: 0.8593 - accuracy: 0.9083 - val_loss: 0.5970 - val_precision_1: 0.7364 - val_recall_1: 0.6075 - val_accuracy: 0.7654\n",
            "Epoch 38/100\n",
            "47/49 [===========================>..] - ETA: 0s - loss: 0.1950 - precision_1: 0.9162 - recall_1: 0.8816 - accuracy: 0.9229\n",
            "Epoch 38: val_accuracy did not improve from 0.77692\n",
            "49/49 [==============================] - 2s 37ms/step - loss: 0.1954 - precision_1: 0.9180 - recall_1: 0.8759 - accuracy: 0.9221 - val_loss: 0.6423 - val_precision_1: 0.7643 - val_recall_1: 0.5025 - val_accuracy: 0.7490\n",
            "Epoch 39/100\n",
            "49/49 [==============================] - ETA: 0s - loss: 0.1687 - precision_1: 0.9235 - recall_1: 0.8943 - accuracy: 0.9308\n",
            "Epoch 39: val_accuracy did not improve from 0.77692\n",
            "49/49 [==============================] - 2s 43ms/step - loss: 0.1687 - precision_1: 0.9235 - recall_1: 0.8943 - accuracy: 0.9308 - val_loss: 0.6490 - val_precision_1: 0.6799 - val_recall_1: 0.5575 - val_accuracy: 0.7288\n",
            "Epoch 40/100\n",
            "47/49 [===========================>..] - ETA: 0s - loss: 0.1618 - precision_1: 0.9350 - recall_1: 0.8977 - accuracy: 0.9368\n",
            "Epoch 40: val_accuracy did not improve from 0.77692\n",
            "49/49 [==============================] - 2s 44ms/step - loss: 0.1637 - precision_1: 0.9356 - recall_1: 0.8951 - accuracy: 0.9359 - val_loss: 0.6928 - val_precision_1: 0.6474 - val_recall_1: 0.6425 - val_accuracy: 0.7279\n",
            "Epoch 41/100\n",
            "47/49 [===========================>..] - ETA: 0s - loss: 0.1544 - precision_1: 0.9329 - recall_1: 0.9038 - accuracy: 0.9382\n",
            "Epoch 41: val_accuracy did not improve from 0.77692\n",
            "49/49 [==============================] - 2s 36ms/step - loss: 0.1531 - precision_1: 0.9347 - recall_1: 0.9051 - accuracy: 0.9391 - val_loss: 0.6823 - val_precision_1: 0.7517 - val_recall_1: 0.5375 - val_accuracy: 0.7538\n",
            "Epoch 42/100\n",
            "47/49 [===========================>..] - ETA: 0s - loss: 0.1200 - precision_1: 0.9475 - recall_1: 0.9304 - accuracy: 0.9531\n",
            "Epoch 42: val_accuracy did not improve from 0.77692\n",
            "49/49 [==============================] - 2s 36ms/step - loss: 0.1207 - precision_1: 0.9481 - recall_1: 0.9284 - accuracy: 0.9529 - val_loss: 0.7252 - val_precision_1: 0.7213 - val_recall_1: 0.6275 - val_accuracy: 0.7635\n",
            "Epoch 43/100\n",
            "47/49 [===========================>..] - ETA: 0s - loss: 0.0920 - precision_1: 0.9660 - recall_1: 0.9510 - accuracy: 0.9681\n",
            "Epoch 43: val_accuracy did not improve from 0.77692\n",
            "49/49 [==============================] - 2s 36ms/step - loss: 0.0927 - precision_1: 0.9669 - recall_1: 0.9500 - accuracy: 0.9683 - val_loss: 0.7471 - val_precision_1: 0.7057 - val_recall_1: 0.5875 - val_accuracy: 0.7471\n",
            "Epoch 44/100\n",
            "47/49 [===========================>..] - ETA: 0s - loss: 0.1121 - precision_1: 0.9543 - recall_1: 0.9435 - accuracy: 0.9611\n",
            "Epoch 44: val_accuracy did not improve from 0.77692\n",
            "49/49 [==============================] - 2s 36ms/step - loss: 0.1114 - precision_1: 0.9552 - recall_1: 0.9417 - accuracy: 0.9606 - val_loss: 0.7761 - val_precision_1: 0.7052 - val_recall_1: 0.6400 - val_accuracy: 0.7587\n",
            "Epoch 45/100\n",
            "47/49 [===========================>..] - ETA: 0s - loss: 0.0911 - precision_1: 0.9640 - recall_1: 0.9515 - accuracy: 0.9678\n",
            "Epoch 45: val_accuracy did not improve from 0.77692\n",
            "49/49 [==============================] - 2s 37ms/step - loss: 0.0914 - precision_1: 0.9653 - recall_1: 0.9500 - accuracy: 0.9676 - val_loss: 0.8519 - val_precision_1: 0.6994 - val_recall_1: 0.6225 - val_accuracy: 0.7519\n",
            "Epoch 46/100\n",
            "49/49 [==============================] - ETA: 0s - loss: 0.0955 - precision_1: 0.9580 - recall_1: 0.9492 - accuracy: 0.9644\n",
            "Epoch 46: val_accuracy did not improve from 0.77692\n",
            "49/49 [==============================] - 2s 44ms/step - loss: 0.0955 - precision_1: 0.9580 - recall_1: 0.9492 - accuracy: 0.9644 - val_loss: 0.8861 - val_precision_1: 0.7057 - val_recall_1: 0.4975 - val_accuracy: 0.7269\n",
            "Epoch 47/100\n",
            "49/49 [==============================] - ETA: 0s - loss: 0.0999 - precision_1: 0.9577 - recall_1: 0.9417 - accuracy: 0.9615\n",
            "Epoch 47: val_accuracy did not improve from 0.77692\n",
            "49/49 [==============================] - 2s 42ms/step - loss: 0.0999 - precision_1: 0.9577 - recall_1: 0.9417 - accuracy: 0.9615 - val_loss: 0.8861 - val_precision_1: 0.7353 - val_recall_1: 0.5625 - val_accuracy: 0.7538\n",
            "Epoch 48/100\n",
            "47/49 [===========================>..] - ETA: 0s - loss: 0.0686 - precision_1: 0.9681 - recall_1: 0.9664 - accuracy: 0.9747\n",
            "Epoch 48: val_accuracy did not improve from 0.77692\n",
            "49/49 [==============================] - 2s 41ms/step - loss: 0.0674 - precision_1: 0.9691 - recall_1: 0.9667 - accuracy: 0.9753 - val_loss: 1.0529 - val_precision_1: 0.7510 - val_recall_1: 0.4600 - val_accuracy: 0.7337\n",
            "Epoch 49/100\n",
            "47/49 [===========================>..] - ETA: 0s - loss: 0.0739 - precision_1: 0.9721 - recall_1: 0.9629 - accuracy: 0.9751\n",
            "Epoch 49: val_accuracy did not improve from 0.77692\n",
            "49/49 [==============================] - 2s 37ms/step - loss: 0.0730 - precision_1: 0.9723 - recall_1: 0.9642 - accuracy: 0.9756 - val_loss: 0.9267 - val_precision_1: 0.6443 - val_recall_1: 0.6975 - val_accuracy: 0.7356\n",
            "Epoch 50/100\n",
            "47/49 [===========================>..] - ETA: 0s - loss: 0.0844 - precision_1: 0.9617 - recall_1: 0.9501 - accuracy: 0.9661\n",
            "Epoch 50: val_accuracy did not improve from 0.77692\n",
            "49/49 [==============================] - 2s 37ms/step - loss: 0.0828 - precision_1: 0.9629 - recall_1: 0.9509 - accuracy: 0.9670 - val_loss: 0.8260 - val_precision_1: 0.6527 - val_recall_1: 0.6625 - val_accuracy: 0.7346\n",
            "Epoch 51/100\n",
            "47/49 [===========================>..] - ETA: 0s - loss: 0.0561 - precision_1: 0.9791 - recall_1: 0.9715 - accuracy: 0.9811\n",
            "Epoch 51: val_accuracy did not improve from 0.77692\n",
            "49/49 [==============================] - 2s 40ms/step - loss: 0.0554 - precision_1: 0.9790 - recall_1: 0.9717 - accuracy: 0.9811 - val_loss: 0.8771 - val_precision_1: 0.7281 - val_recall_1: 0.5825 - val_accuracy: 0.7558\n",
            "Epoch 52/100\n",
            "47/49 [===========================>..] - ETA: 0s - loss: 0.0784 - precision_1: 0.9663 - recall_1: 0.9646 - accuracy: 0.9734\n",
            "Epoch 52: val_accuracy did not improve from 0.77692\n",
            "49/49 [==============================] - 2s 37ms/step - loss: 0.0789 - precision_1: 0.9643 - recall_1: 0.9659 - accuracy: 0.9731 - val_loss: 0.9259 - val_precision_1: 0.6707 - val_recall_1: 0.6875 - val_accuracy: 0.7500\n",
            "Epoch 53/100\n",
            "49/49 [==============================] - ETA: 0s - loss: 0.0511 - precision_1: 0.9840 - recall_1: 0.9734 - accuracy: 0.9837\n",
            "Epoch 53: val_accuracy did not improve from 0.77692\n",
            "49/49 [==============================] - 2s 43ms/step - loss: 0.0511 - precision_1: 0.9840 - recall_1: 0.9734 - accuracy: 0.9837 - val_loss: 0.9190 - val_precision_1: 0.6917 - val_recall_1: 0.6225 - val_accuracy: 0.7481\n",
            "Epoch 54/100\n",
            "49/49 [==============================] - ETA: 0s - loss: 0.0761 - precision_1: 0.9723 - recall_1: 0.9634 - accuracy: 0.9753\n",
            "Epoch 54: val_accuracy did not improve from 0.77692\n",
            "49/49 [==============================] - 2s 42ms/step - loss: 0.0761 - precision_1: 0.9723 - recall_1: 0.9634 - accuracy: 0.9753 - val_loss: 0.8522 - val_precision_1: 0.7021 - val_recall_1: 0.5950 - val_accuracy: 0.7471\n",
            "Epoch 55/100\n",
            "49/49 [==============================] - ETA: 0s - loss: 0.0510 - precision_1: 0.9816 - recall_1: 0.9759 - accuracy: 0.9837\n",
            "Epoch 55: val_accuracy did not improve from 0.77692\n",
            "49/49 [==============================] - 2s 38ms/step - loss: 0.0510 - precision_1: 0.9816 - recall_1: 0.9759 - accuracy: 0.9837 - val_loss: 0.8734 - val_precision_1: 0.6959 - val_recall_1: 0.6750 - val_accuracy: 0.7615\n",
            "Epoch 56/100\n",
            "47/49 [===========================>..] - ETA: 0s - loss: 0.0461 - precision_1: 0.9825 - recall_1: 0.9757 - accuracy: 0.9840\n",
            "Epoch 56: val_accuracy did not improve from 0.77692\n",
            "49/49 [==============================] - 2s 36ms/step - loss: 0.0457 - precision_1: 0.9824 - recall_1: 0.9759 - accuracy: 0.9840 - val_loss: 0.9504 - val_precision_1: 0.6442 - val_recall_1: 0.6700 - val_accuracy: 0.7308\n",
            "Epoch 57/100\n",
            "47/49 [===========================>..] - ETA: 0s - loss: 0.0327 - precision_1: 0.9853 - recall_1: 0.9810 - accuracy: 0.9870\n",
            "Epoch 57: val_accuracy did not improve from 0.77692\n",
            "49/49 [==============================] - 2s 37ms/step - loss: 0.0342 - precision_1: 0.9833 - recall_1: 0.9800 - accuracy: 0.9859 - val_loss: 1.0161 - val_precision_1: 0.7026 - val_recall_1: 0.6025 - val_accuracy: 0.7490\n",
            "Epoch 58/100\n",
            "47/49 [===========================>..] - ETA: 0s - loss: 0.0453 - precision_1: 0.9801 - recall_1: 0.9793 - accuracy: 0.9844\n",
            "Epoch 58: val_accuracy did not improve from 0.77692\n",
            "49/49 [==============================] - 2s 37ms/step - loss: 0.0460 - precision_1: 0.9808 - recall_1: 0.9784 - accuracy: 0.9843 - val_loss: 1.0498 - val_precision_1: 0.6758 - val_recall_1: 0.6150 - val_accuracy: 0.7385\n",
            "Epoch 59/100\n",
            "49/49 [==============================] - ETA: 0s - loss: 0.0524 - precision_1: 0.9757 - recall_1: 0.9700 - accuracy: 0.9792\n",
            "Epoch 59: val_accuracy did not improve from 0.77692\n",
            "49/49 [==============================] - 2s 41ms/step - loss: 0.0524 - precision_1: 0.9757 - recall_1: 0.9700 - accuracy: 0.9792 - val_loss: 1.0502 - val_precision_1: 0.7183 - val_recall_1: 0.6375 - val_accuracy: 0.7644\n",
            "Epoch 60/100\n",
            "49/49 [==============================] - ETA: 0s - loss: 0.0326 - precision_1: 0.9867 - recall_1: 0.9867 - accuracy: 0.9897\n",
            "Epoch 60: val_accuracy did not improve from 0.77692\n",
            "49/49 [==============================] - 2s 43ms/step - loss: 0.0326 - precision_1: 0.9867 - recall_1: 0.9867 - accuracy: 0.9897 - val_loss: 1.0193 - val_precision_1: 0.7019 - val_recall_1: 0.5650 - val_accuracy: 0.7404\n",
            "Epoch 61/100\n",
            "49/49 [==============================] - ETA: 0s - loss: 0.0398 - precision_1: 0.9858 - recall_1: 0.9825 - accuracy: 0.9878\n",
            "Epoch 61: val_accuracy did not improve from 0.77692\n",
            "49/49 [==============================] - 2s 43ms/step - loss: 0.0398 - precision_1: 0.9858 - recall_1: 0.9825 - accuracy: 0.9878 - val_loss: 1.2011 - val_precision_1: 0.7311 - val_recall_1: 0.4825 - val_accuracy: 0.7327\n",
            "Epoch 62/100\n",
            "49/49 [==============================] - ETA: 0s - loss: 0.0387 - precision_1: 0.9849 - recall_1: 0.9784 - accuracy: 0.9859\n",
            "Epoch 62: val_accuracy did not improve from 0.77692\n",
            "49/49 [==============================] - 2s 39ms/step - loss: 0.0387 - precision_1: 0.9849 - recall_1: 0.9784 - accuracy: 0.9859 - val_loss: 1.0454 - val_precision_1: 0.7051 - val_recall_1: 0.6275 - val_accuracy: 0.7558\n",
            "Epoch 63/100\n",
            "47/49 [===========================>..] - ETA: 0s - loss: 0.0234 - precision_1: 0.9897 - recall_1: 0.9897 - accuracy: 0.9920\n",
            "Epoch 63: val_accuracy did not improve from 0.77692\n",
            "49/49 [==============================] - 2s 37ms/step - loss: 0.0231 - precision_1: 0.9900 - recall_1: 0.9892 - accuracy: 0.9920 - val_loss: 1.0414 - val_precision_1: 0.7382 - val_recall_1: 0.6275 - val_accuracy: 0.7712\n",
            "Epoch 64/100\n",
            "49/49 [==============================] - ETA: 0s - loss: 0.0256 - precision_1: 0.9892 - recall_1: 0.9875 - accuracy: 0.9910\n",
            "Epoch 64: val_accuracy did not improve from 0.77692\n",
            "49/49 [==============================] - 2s 38ms/step - loss: 0.0256 - precision_1: 0.9892 - recall_1: 0.9875 - accuracy: 0.9910 - val_loss: 1.1437 - val_precision_1: 0.7256 - val_recall_1: 0.5750 - val_accuracy: 0.7529\n",
            "Epoch 65/100\n",
            "47/49 [===========================>..] - ETA: 0s - loss: 0.0363 - precision_1: 0.9853 - recall_1: 0.9819 - accuracy: 0.9874\n",
            "Epoch 65: val_accuracy did not improve from 0.77692\n",
            "49/49 [==============================] - 2s 40ms/step - loss: 0.0353 - precision_1: 0.9858 - recall_1: 0.9825 - accuracy: 0.9878 - val_loss: 1.0462 - val_precision_1: 0.6975 - val_recall_1: 0.6225 - val_accuracy: 0.7510\n",
            "Epoch 66/100\n",
            "49/49 [==============================] - ETA: 0s - loss: 0.0261 - precision_1: 0.9867 - recall_1: 0.9875 - accuracy: 0.9901\n",
            "Epoch 66: val_accuracy did not improve from 0.77692\n",
            "49/49 [==============================] - 2s 37ms/step - loss: 0.0261 - precision_1: 0.9867 - recall_1: 0.9875 - accuracy: 0.9901 - val_loss: 1.1460 - val_precision_1: 0.7532 - val_recall_1: 0.5800 - val_accuracy: 0.7654\n",
            "Epoch 67/100\n",
            "47/49 [===========================>..] - ETA: 0s - loss: 0.0164 - precision_1: 0.9931 - recall_1: 0.9931 - accuracy: 0.9947\n",
            "Epoch 67: val_accuracy did not improve from 0.77692\n",
            "49/49 [==============================] - 2s 38ms/step - loss: 0.0165 - precision_1: 0.9933 - recall_1: 0.9933 - accuracy: 0.9949 - val_loss: 1.2198 - val_precision_1: 0.7276 - val_recall_1: 0.5675 - val_accuracy: 0.7519\n",
            "Epoch 68/100\n",
            "49/49 [==============================] - ETA: 0s - loss: 0.0352 - precision_1: 0.9858 - recall_1: 0.9842 - accuracy: 0.9885\n",
            "Epoch 68: val_accuracy did not improve from 0.77692\n",
            "49/49 [==============================] - 2s 45ms/step - loss: 0.0352 - precision_1: 0.9858 - recall_1: 0.9842 - accuracy: 0.9885 - val_loss: 1.0713 - val_precision_1: 0.6728 - val_recall_1: 0.6375 - val_accuracy: 0.7413\n",
            "Epoch 69/100\n",
            "47/49 [===========================>..] - ETA: 0s - loss: 0.0333 - precision_1: 0.9853 - recall_1: 0.9879 - accuracy: 0.9897\n",
            "Epoch 69: val_accuracy did not improve from 0.77692\n",
            "49/49 [==============================] - 2s 39ms/step - loss: 0.0332 - precision_1: 0.9859 - recall_1: 0.9875 - accuracy: 0.9897 - val_loss: 1.0435 - val_precision_1: 0.7215 - val_recall_1: 0.5700 - val_accuracy: 0.7500\n",
            "Epoch 70/100\n",
            "47/49 [===========================>..] - ETA: 0s - loss: 0.0267 - precision_1: 0.9897 - recall_1: 0.9897 - accuracy: 0.9920\n",
            "Epoch 70: val_accuracy did not improve from 0.77692\n",
            "49/49 [==============================] - 2s 37ms/step - loss: 0.0262 - precision_1: 0.9900 - recall_1: 0.9900 - accuracy: 0.9923 - val_loss: 1.1822 - val_precision_1: 0.6723 - val_recall_1: 0.6000 - val_accuracy: 0.7337\n",
            "Epoch 71/100\n",
            "47/49 [===========================>..] - ETA: 0s - loss: 0.0468 - precision_1: 0.9837 - recall_1: 0.9778 - accuracy: 0.9850\n",
            "Epoch 71: val_accuracy did not improve from 0.77692\n",
            "49/49 [==============================] - 2s 37ms/step - loss: 0.0470 - precision_1: 0.9824 - recall_1: 0.9784 - accuracy: 0.9849 - val_loss: 1.0326 - val_precision_1: 0.6928 - val_recall_1: 0.5525 - val_accuracy: 0.7337\n",
            "Epoch 72/100\n",
            "49/49 [==============================] - ETA: 0s - loss: 0.0236 - precision_1: 0.9883 - recall_1: 0.9875 - accuracy: 0.9907\n",
            "Epoch 72: val_accuracy did not improve from 0.77692\n",
            "49/49 [==============================] - 2s 37ms/step - loss: 0.0236 - precision_1: 0.9883 - recall_1: 0.9875 - accuracy: 0.9907 - val_loss: 1.1727 - val_precision_1: 0.7201 - val_recall_1: 0.5725 - val_accuracy: 0.7500\n",
            "Epoch 73/100\n",
            "47/49 [===========================>..] - ETA: 0s - loss: 0.0175 - precision_1: 0.9939 - recall_1: 0.9897 - accuracy: 0.9937\n",
            "Epoch 73: val_accuracy did not improve from 0.77692\n",
            "49/49 [==============================] - 2s 37ms/step - loss: 0.0170 - precision_1: 0.9941 - recall_1: 0.9900 - accuracy: 0.9939 - val_loss: 1.2731 - val_precision_1: 0.7221 - val_recall_1: 0.6300 - val_accuracy: 0.7644\n",
            "Epoch 74/100\n",
            "47/49 [===========================>..] - ETA: 0s - loss: 0.0191 - precision_1: 0.9914 - recall_1: 0.9922 - accuracy: 0.9937\n",
            "Epoch 74: val_accuracy did not improve from 0.77692\n",
            "49/49 [==============================] - 2s 37ms/step - loss: 0.0199 - precision_1: 0.9909 - recall_1: 0.9925 - accuracy: 0.9936 - val_loss: 1.1722 - val_precision_1: 0.7281 - val_recall_1: 0.5825 - val_accuracy: 0.7558\n",
            "Epoch 75/100\n",
            "49/49 [==============================] - ETA: 0s - loss: 0.0337 - precision_1: 0.9834 - recall_1: 0.9867 - accuracy: 0.9885\n",
            "Epoch 75: val_accuracy did not improve from 0.77692\n",
            "49/49 [==============================] - 2s 46ms/step - loss: 0.0337 - precision_1: 0.9834 - recall_1: 0.9867 - accuracy: 0.9885 - val_loss: 1.3696 - val_precision_1: 0.7197 - val_recall_1: 0.4750 - val_accuracy: 0.7269\n",
            "Epoch 76/100\n",
            "49/49 [==============================] - ETA: 0s - loss: 0.0429 - precision_1: 0.9858 - recall_1: 0.9792 - accuracy: 0.9865\n",
            "Epoch 76: val_accuracy did not improve from 0.77692\n",
            "49/49 [==============================] - 2s 45ms/step - loss: 0.0429 - precision_1: 0.9858 - recall_1: 0.9792 - accuracy: 0.9865 - val_loss: 1.1247 - val_precision_1: 0.7205 - val_recall_1: 0.6250 - val_accuracy: 0.7625\n",
            "Epoch 77/100\n",
            "49/49 [==============================] - ETA: 0s - loss: 0.0203 - precision_1: 0.9917 - recall_1: 0.9900 - accuracy: 0.9929\n",
            "Epoch 77: val_accuracy did not improve from 0.77692\n",
            "49/49 [==============================] - 2s 40ms/step - loss: 0.0203 - precision_1: 0.9917 - recall_1: 0.9900 - accuracy: 0.9929 - val_loss: 1.1377 - val_precision_1: 0.6981 - val_recall_1: 0.6475 - val_accuracy: 0.7567\n",
            "Epoch 78/100\n",
            "47/49 [===========================>..] - ETA: 0s - loss: 0.0184 - precision_1: 0.9939 - recall_1: 0.9914 - accuracy: 0.9943\n",
            "Epoch 78: val_accuracy did not improve from 0.77692\n",
            "49/49 [==============================] - 2s 37ms/step - loss: 0.0181 - precision_1: 0.9942 - recall_1: 0.9917 - accuracy: 0.9946 - val_loss: 1.2583 - val_precision_1: 0.7285 - val_recall_1: 0.5500 - val_accuracy: 0.7481\n",
            "Epoch 79/100\n",
            "49/49 [==============================] - ETA: 0s - loss: 0.0378 - precision_1: 0.9850 - recall_1: 0.9842 - accuracy: 0.9881\n",
            "Epoch 79: val_accuracy did not improve from 0.77692\n",
            "49/49 [==============================] - 2s 41ms/step - loss: 0.0378 - precision_1: 0.9850 - recall_1: 0.9842 - accuracy: 0.9881 - val_loss: 1.2149 - val_precision_1: 0.7067 - val_recall_1: 0.6325 - val_accuracy: 0.7577\n",
            "Epoch 80/100\n",
            "49/49 [==============================] - ETA: 0s - loss: 0.0287 - precision_1: 0.9858 - recall_1: 0.9833 - accuracy: 0.9881\n",
            "Epoch 80: val_accuracy did not improve from 0.77692\n",
            "49/49 [==============================] - 2s 37ms/step - loss: 0.0287 - precision_1: 0.9858 - recall_1: 0.9833 - accuracy: 0.9881 - val_loss: 1.2881 - val_precision_1: 0.7657 - val_recall_1: 0.5475 - val_accuracy: 0.7615\n",
            "Epoch 81/100\n",
            "49/49 [==============================] - ETA: 0s - loss: 0.0387 - precision_1: 0.9842 - recall_1: 0.9825 - accuracy: 0.9872\n",
            "Epoch 81: val_accuracy did not improve from 0.77692\n",
            "49/49 [==============================] - 2s 37ms/step - loss: 0.0387 - precision_1: 0.9842 - recall_1: 0.9825 - accuracy: 0.9872 - val_loss: 1.1732 - val_precision_1: 0.6174 - val_recall_1: 0.6375 - val_accuracy: 0.7087\n",
            "Epoch 82/100\n",
            "49/49 [==============================] - ETA: 0s - loss: 0.0344 - precision_1: 0.9899 - recall_1: 0.9808 - accuracy: 0.9888\n",
            "Epoch 82: val_accuracy did not improve from 0.77692\n",
            "49/49 [==============================] - 2s 45ms/step - loss: 0.0344 - precision_1: 0.9899 - recall_1: 0.9808 - accuracy: 0.9888 - val_loss: 1.2022 - val_precision_1: 0.6397 - val_recall_1: 0.6925 - val_accuracy: 0.7317\n",
            "Epoch 83/100\n",
            "49/49 [==============================] - ETA: 0s - loss: 0.0413 - precision_1: 0.9833 - recall_1: 0.9800 - accuracy: 0.9859\n",
            "Epoch 83: val_accuracy did not improve from 0.77692\n",
            "49/49 [==============================] - 2s 44ms/step - loss: 0.0413 - precision_1: 0.9833 - recall_1: 0.9800 - accuracy: 0.9859 - val_loss: 1.1694 - val_precision_1: 0.7156 - val_recall_1: 0.5850 - val_accuracy: 0.7510\n",
            "Epoch 84/100\n",
            "49/49 [==============================] - ETA: 0s - loss: 0.0226 - precision_1: 0.9950 - recall_1: 0.9858 - accuracy: 0.9926\n",
            "Epoch 84: val_accuracy did not improve from 0.77692\n",
            "49/49 [==============================] - 2s 37ms/step - loss: 0.0226 - precision_1: 0.9950 - recall_1: 0.9858 - accuracy: 0.9926 - val_loss: 1.1494 - val_precision_1: 0.7259 - val_recall_1: 0.6025 - val_accuracy: 0.7596\n",
            "Epoch 85/100\n",
            "47/49 [===========================>..] - ETA: 0s - loss: 0.0138 - precision_1: 0.9965 - recall_1: 0.9940 - accuracy: 0.9963\n",
            "Epoch 85: val_accuracy did not improve from 0.77692\n",
            "49/49 [==============================] - 2s 37ms/step - loss: 0.0138 - precision_1: 0.9967 - recall_1: 0.9933 - accuracy: 0.9962 - val_loss: 1.2870 - val_precision_1: 0.7217 - val_recall_1: 0.5900 - val_accuracy: 0.7548\n",
            "Epoch 86/100\n",
            "47/49 [===========================>..] - ETA: 0s - loss: 0.0153 - precision_1: 0.9948 - recall_1: 0.9948 - accuracy: 0.9960\n",
            "Epoch 86: val_accuracy did not improve from 0.77692\n",
            "49/49 [==============================] - 2s 37ms/step - loss: 0.0156 - precision_1: 0.9942 - recall_1: 0.9950 - accuracy: 0.9958 - val_loss: 1.2877 - val_precision_1: 0.6971 - val_recall_1: 0.6675 - val_accuracy: 0.7606\n",
            "Epoch 87/100\n",
            "47/49 [===========================>..] - ETA: 0s - loss: 0.0127 - precision_1: 0.9948 - recall_1: 0.9948 - accuracy: 0.9960\n",
            "Epoch 87: val_accuracy did not improve from 0.77692\n",
            "49/49 [==============================] - 2s 37ms/step - loss: 0.0126 - precision_1: 0.9950 - recall_1: 0.9950 - accuracy: 0.9962 - val_loss: 1.3262 - val_precision_1: 0.6742 - val_recall_1: 0.6725 - val_accuracy: 0.7490\n",
            "Epoch 88/100\n",
            "48/49 [============================>.] - ETA: 0s - loss: 0.0231 - precision_1: 0.9890 - recall_1: 0.9881 - accuracy: 0.9912\n",
            "Epoch 88: val_accuracy did not improve from 0.77692\n",
            "49/49 [==============================] - 2s 36ms/step - loss: 0.0229 - precision_1: 0.9892 - recall_1: 0.9883 - accuracy: 0.9913 - val_loss: 1.2339 - val_precision_1: 0.6683 - val_recall_1: 0.6650 - val_accuracy: 0.7442\n",
            "Epoch 89/100\n",
            "49/49 [==============================] - ETA: 0s - loss: 0.0092 - precision_1: 0.9975 - recall_1: 0.9950 - accuracy: 0.9971\n",
            "Epoch 89: val_accuracy did not improve from 0.77692\n",
            "49/49 [==============================] - 2s 44ms/step - loss: 0.0092 - precision_1: 0.9975 - recall_1: 0.9950 - accuracy: 0.9971 - val_loss: 1.3484 - val_precision_1: 0.7099 - val_recall_1: 0.6300 - val_accuracy: 0.7587\n",
            "Epoch 90/100\n",
            "49/49 [==============================] - ETA: 0s - loss: 0.0215 - precision_1: 0.9892 - recall_1: 0.9917 - accuracy: 0.9926\n",
            "Epoch 90: val_accuracy did not improve from 0.77692\n",
            "49/49 [==============================] - 2s 42ms/step - loss: 0.0215 - precision_1: 0.9892 - recall_1: 0.9917 - accuracy: 0.9926 - val_loss: 1.4804 - val_precision_1: 0.7564 - val_recall_1: 0.5200 - val_accuracy: 0.7510\n",
            "Epoch 91/100\n",
            "47/49 [===========================>..] - ETA: 0s - loss: 0.0257 - precision_1: 0.9904 - recall_1: 0.9861 - accuracy: 0.9910\n",
            "Epoch 91: val_accuracy did not improve from 0.77692\n",
            "49/49 [==============================] - 2s 42ms/step - loss: 0.0262 - precision_1: 0.9900 - recall_1: 0.9867 - accuracy: 0.9910 - val_loss: 1.4254 - val_precision_1: 0.7147 - val_recall_1: 0.6200 - val_accuracy: 0.7587\n",
            "Epoch 92/100\n",
            "49/49 [==============================] - ETA: 0s - loss: 0.0436 - precision_1: 0.9826 - recall_1: 0.9850 - accuracy: 0.9875\n",
            "Epoch 92: val_accuracy did not improve from 0.77692\n",
            "49/49 [==============================] - 2s 38ms/step - loss: 0.0436 - precision_1: 0.9826 - recall_1: 0.9850 - accuracy: 0.9875 - val_loss: 1.2742 - val_precision_1: 0.6923 - val_recall_1: 0.5625 - val_accuracy: 0.7356\n",
            "Epoch 93/100\n",
            "47/49 [===========================>..] - ETA: 0s - loss: 0.0227 - precision_1: 0.9914 - recall_1: 0.9863 - accuracy: 0.9914\n",
            "Epoch 93: val_accuracy did not improve from 0.77692\n",
            "49/49 [==============================] - 2s 36ms/step - loss: 0.0239 - precision_1: 0.9916 - recall_1: 0.9842 - accuracy: 0.9907 - val_loss: 1.2493 - val_precision_1: 0.7017 - val_recall_1: 0.6350 - val_accuracy: 0.7558\n",
            "Epoch 94/100\n",
            "47/49 [===========================>..] - ETA: 0s - loss: 0.0250 - precision_1: 0.9871 - recall_1: 0.9905 - accuracy: 0.9914\n",
            "Epoch 94: val_accuracy did not improve from 0.77692\n",
            "49/49 [==============================] - 2s 37ms/step - loss: 0.0259 - precision_1: 0.9875 - recall_1: 0.9900 - accuracy: 0.9913 - val_loss: 1.3184 - val_precision_1: 0.7048 - val_recall_1: 0.5550 - val_accuracy: 0.7394\n",
            "Epoch 95/100\n",
            "48/49 [============================>.] - ETA: 0s - loss: 0.0175 - precision_1: 0.9916 - recall_1: 0.9941 - accuracy: 0.9945\n",
            "Epoch 95: val_accuracy did not improve from 0.77692\n",
            "49/49 [==============================] - 2s 37ms/step - loss: 0.0174 - precision_1: 0.9917 - recall_1: 0.9942 - accuracy: 0.9946 - val_loss: 1.3865 - val_precision_1: 0.7438 - val_recall_1: 0.5225 - val_accuracy: 0.7471\n",
            "Epoch 96/100\n",
            "49/49 [==============================] - ETA: 0s - loss: 0.0254 - precision_1: 0.9925 - recall_1: 0.9875 - accuracy: 0.9923\n",
            "Epoch 96: val_accuracy did not improve from 0.77692\n",
            "49/49 [==============================] - 2s 42ms/step - loss: 0.0254 - precision_1: 0.9925 - recall_1: 0.9875 - accuracy: 0.9923 - val_loss: 1.3149 - val_precision_1: 0.6566 - val_recall_1: 0.6500 - val_accuracy: 0.7346\n",
            "Epoch 97/100\n",
            "49/49 [==============================] - ETA: 0s - loss: 0.0171 - precision_1: 0.9925 - recall_1: 0.9925 - accuracy: 0.9942\n",
            "Epoch 97: val_accuracy did not improve from 0.77692\n",
            "49/49 [==============================] - 2s 45ms/step - loss: 0.0171 - precision_1: 0.9925 - recall_1: 0.9925 - accuracy: 0.9942 - val_loss: 1.3617 - val_precision_1: 0.6997 - val_recall_1: 0.6000 - val_accuracy: 0.7471\n",
            "Epoch 98/100\n",
            "47/49 [===========================>..] - ETA: 0s - loss: 0.0190 - precision_1: 0.9905 - recall_1: 0.9957 - accuracy: 0.9947\n",
            "Epoch 98: val_accuracy did not improve from 0.77692\n",
            "49/49 [==============================] - 2s 38ms/step - loss: 0.0191 - precision_1: 0.9892 - recall_1: 0.9958 - accuracy: 0.9942 - val_loss: 1.3541 - val_precision_1: 0.6744 - val_recall_1: 0.6525 - val_accuracy: 0.7452\n",
            "Epoch 99/100\n",
            "49/49 [==============================] - ETA: 0s - loss: 0.0253 - precision_1: 0.9884 - recall_1: 0.9892 - accuracy: 0.9913\n",
            "Epoch 99: val_accuracy did not improve from 0.77692\n",
            "49/49 [==============================] - 2s 38ms/step - loss: 0.0253 - precision_1: 0.9884 - recall_1: 0.9892 - accuracy: 0.9913 - val_loss: 1.3096 - val_precision_1: 0.6806 - val_recall_1: 0.6125 - val_accuracy: 0.7404\n",
            "Epoch 100/100\n",
            "47/49 [===========================>..] - ETA: 0s - loss: 0.0190 - precision_1: 0.9914 - recall_1: 0.9923 - accuracy: 0.9937\n",
            "Epoch 100: val_accuracy did not improve from 0.77692\n",
            "49/49 [==============================] - 2s 37ms/step - loss: 0.0193 - precision_1: 0.9908 - recall_1: 0.9917 - accuracy: 0.9933 - val_loss: 1.2659 - val_precision_1: 0.6890 - val_recall_1: 0.6425 - val_accuracy: 0.7510\n"
          ]
        }
      ]
    },
    {
      "cell_type": "code",
      "source": [
        "plot_accuracy(model_history= history, name_of_model= \"second_model\")\n"
      ],
      "metadata": {
        "colab": {
          "base_uri": "https://localhost:8080/",
          "height": 349
        },
        "id": "mjwIJI8z3IoS",
        "outputId": "e23dace5-8041-4cdf-e768-7f972670a32d"
      },
      "execution_count": null,
      "outputs": [
        {
          "output_type": "display_data",
          "data": {
            "text/plain": [
              "<Figure size 2100x400 with 1 Axes>"
            ],
            "image/png": "[encoded data removed]"
          },
          "metadata": {}
        }
      ]
    },
    {
      "cell_type": "code",
      "source": [
        "val_accuracy['Second']=np.max(history['val_accuracy'])"
      ],
      "metadata": {
        "id": "1rLTywmWe15k"
      },
      "execution_count": null,
      "outputs": []
    },
    {
      "cell_type": "code",
      "source": [
        "second_model.save(\"last_models/Second_model.keras\")"
      ],
      "metadata": {
        "id": "ONmr4iJeEKk8"
      },
      "execution_count": null,
      "outputs": []
    },
    {
      "cell_type": "markdown",
      "source": [
        "#### Data Augumentation"
      ],
      "metadata": {
        "id": "wye8fHrc7ar0"
      }
    },
    {
      "cell_type": "code",
      "source": [
        "My_all_callbacks = [ My_Tensorboard_callback,Checkpoint(address=\"best_models/Third_model\")]"
      ],
      "metadata": {
        "id": "qxHcJPc37Z95"
      },
      "execution_count": null,
      "outputs": []
    },
    {
      "cell_type": "code",
      "source": [
        "def model_1_plus_Droput_aug(input_shape=(96, 96, 3)):\n",
        "\n",
        "  preprocessing = tf.keras.Sequential([\n",
        "        tfkl.RandomBrightness(0.2, value_range=(0,1)),\n",
        "        tfkl.RandomTranslation(0.2,0.2),\n",
        "\n",
        "    ], name='preprocessing')\n",
        "\n",
        "  input_layer = tfkl.Input(shape=input_shape, name='Input')\n",
        "  preprocessing = preprocessing(input_layer)\n",
        "\n",
        "\n",
        "  x = tfkl.Conv2D(filters=32, kernel_size=3, name='conv0')(preprocessing)\n",
        "  x = tfkl.ReLU(name='relu0')(x)\n",
        "  x = tfkl.MaxPooling2D((2,2),name='mp0')(x)\n",
        "  x = tfkl.Dropout(0.25)(x)\n",
        "\n",
        "  x = tfkl.Conv2D(filters=64, kernel_size=3, name='conv1')(x)\n",
        "  x = tfkl.ReLU(name='relu1')(x)\n",
        "  x = tfkl.MaxPooling2D((2,2),name='mp1')(x)\n",
        "  x = tfkl.Dropout(0.25)(x)\n",
        "\n",
        "  x = tfkl.Conv2D(filters=128, kernel_size=3, name='conv2')(x)\n",
        "  x = tfkl.ReLU(name='relu2')(x)\n",
        "  x = tfkl.MaxPooling2D((2,2),name='mp2')(x)\n",
        "  x = tfkl.Dropout(0.25)(x)\n",
        "\n",
        "  x = tfkl.Conv2D(filters=128, kernel_size=3, name='conv3')(x)\n",
        "  x = tfkl.ReLU(name='relu3')(x)\n",
        "  x = tfkl.MaxPooling2D((2,2),name='mp3')(x)\n",
        "  x = tfkl.Dropout(0.25)(x)\n",
        "\n",
        "  x = tfkl.Flatten()(x)\n",
        "  dense = tfkl.Dense(units=512, activation='relu',name='dense')(x)\n",
        "  output_layer = tfkl.Dense(units=1, activation='sigmoid',name='outpu_layer')(dense)\n",
        "\n",
        "   # Connect input and output through the Model class\n",
        "  model = tfk.Model(inputs=input_layer, outputs=output_layer, name='CNN')\n",
        "\n",
        "  return model"
      ],
      "metadata": {
        "id": "OgzErzWM5wmM"
      },
      "execution_count": null,
      "outputs": []
    },
    {
      "cell_type": "code",
      "source": [
        "third_model = compile(model_1_plus_Droput_aug())"
      ],
      "metadata": {
        "id": "vaK5PAip_6xY"
      },
      "execution_count": null,
      "outputs": []
    },
    {
      "cell_type": "code",
      "source": [
        "history = third_model.fit(\n",
        "    x = x_train,\n",
        "    y = y_train,\n",
        "    validation_data = (x_val, y_val),\n",
        "    batch_size = batch_size,\n",
        "    epochs = epochs,\n",
        "    callbacks=My_all_callbacks\n",
        ").history"
      ],
      "metadata": {
        "colab": {
          "base_uri": "https://localhost:8080/"
        },
        "id": "kFoV3eipAdCU",
        "outputId": "c1c3505a-2fff-4c76-96b6-568dff178a25"
      },
      "execution_count": null,
      "outputs": [
        {
          "output_type": "stream",
          "name": "stdout",
          "text": [
            "Epoch 1/100\n",
            "49/49 [==============================] - ETA: 0s - loss: 0.6794 - precision_2: 0.1333 - recall_2: 0.0017 - accuracy: 0.6115\n",
            "Epoch 1: val_accuracy improved from -inf to 0.61538, saving model to best_models/Third_model\n",
            "49/49 [==============================] - 9s 106ms/step - loss: 0.6794 - precision_2: 0.1333 - recall_2: 0.0017 - accuracy: 0.6115 - val_loss: 0.6798 - val_precision_2: 0.0000e+00 - val_recall_2: 0.0000e+00 - val_accuracy: 0.6154\n",
            "Epoch 2/100\n",
            "49/49 [==============================] - ETA: 0s - loss: 0.6570 - precision_2: 0.7273 - recall_2: 0.0400 - accuracy: 0.6247\n",
            "Epoch 2: val_accuracy improved from 0.61538 to 0.69519, saving model to best_models/Third_model\n",
            "49/49 [==============================] - 4s 77ms/step - loss: 0.6570 - precision_2: 0.7273 - recall_2: 0.0400 - accuracy: 0.6247 - val_loss: 0.6355 - val_precision_2: 0.6948 - val_recall_2: 0.3700 - val_accuracy: 0.6952\n",
            "Epoch 3/100\n",
            "47/49 [===========================>..] - ETA: 0s - loss: 0.6372 - precision_2: 0.6976 - recall_2: 0.1493 - accuracy: 0.6473\n",
            "Epoch 3: val_accuracy did not improve from 0.69519\n",
            "49/49 [==============================] - 2s 39ms/step - loss: 0.6354 - precision_2: 0.7066 - recall_2: 0.1524 - accuracy: 0.6494 - val_loss: 0.6151 - val_precision_2: 0.7465 - val_recall_2: 0.2650 - val_accuracy: 0.6827\n",
            "Epoch 4/100\n",
            "47/49 [===========================>..] - ETA: 0s - loss: 0.6316 - precision_2: 0.7368 - recall_2: 0.1450 - accuracy: 0.6506\n",
            "Epoch 4: val_accuracy did not improve from 0.69519\n",
            "49/49 [==============================] - 2s 41ms/step - loss: 0.6324 - precision_2: 0.7368 - recall_2: 0.1399 - accuracy: 0.6497 - val_loss: 0.6483 - val_precision_2: 1.0000 - val_recall_2: 0.0350 - val_accuracy: 0.6288\n",
            "Epoch 5/100\n",
            "49/49 [==============================] - ETA: 0s - loss: 0.6320 - precision_2: 0.7380 - recall_2: 0.1407 - accuracy: 0.6500\n",
            "Epoch 5: val_accuracy did not improve from 0.69519\n",
            "49/49 [==============================] - 2s 44ms/step - loss: 0.6320 - precision_2: 0.7380 - recall_2: 0.1407 - accuracy: 0.6500 - val_loss: 0.6299 - val_precision_2: 0.9091 - val_recall_2: 0.1000 - val_accuracy: 0.6500\n",
            "Epoch 6/100\n",
            "49/49 [==============================] - ETA: 0s - loss: 0.6141 - precision_2: 0.7060 - recall_2: 0.2739 - accuracy: 0.6766\n",
            "Epoch 6: val_accuracy did not improve from 0.69519\n",
            "49/49 [==============================] - 2s 47ms/step - loss: 0.6141 - precision_2: 0.7060 - recall_2: 0.2739 - accuracy: 0.6766 - val_loss: 0.6158 - val_precision_2: 0.8400 - val_recall_2: 0.1575 - val_accuracy: 0.6644\n",
            "Epoch 7/100\n",
            "48/49 [============================>.] - ETA: 0s - loss: 0.6111 - precision_2: 0.6760 - recall_2: 0.2855 - accuracy: 0.6719\n",
            "Epoch 7: val_accuracy did not improve from 0.69519\n",
            "49/49 [==============================] - 2s 41ms/step - loss: 0.6101 - precision_2: 0.6779 - recall_2: 0.2856 - accuracy: 0.6728 - val_loss: 0.6037 - val_precision_2: 0.7563 - val_recall_2: 0.3025 - val_accuracy: 0.6942\n",
            "Epoch 8/100\n",
            "49/49 [==============================] - ETA: 0s - loss: 0.6038 - precision_2: 0.6728 - recall_2: 0.3031 - accuracy: 0.6750\n",
            "Epoch 8: val_accuracy improved from 0.69519 to 0.70385, saving model to best_models/Third_model\n",
            "49/49 [==============================] - 4s 80ms/step - loss: 0.6038 - precision_2: 0.6728 - recall_2: 0.3031 - accuracy: 0.6750 - val_loss: 0.5895 - val_precision_2: 0.7054 - val_recall_2: 0.3950 - val_accuracy: 0.7038\n",
            "Epoch 9/100\n",
            "49/49 [==============================] - ETA: 0s - loss: 0.6101 - precision_2: 0.6594 - recall_2: 0.2773 - accuracy: 0.6667\n",
            "Epoch 9: val_accuracy did not improve from 0.70385\n",
            "49/49 [==============================] - 2s 39ms/step - loss: 0.6101 - precision_2: 0.6594 - recall_2: 0.2773 - accuracy: 0.6667 - val_loss: 0.5846 - val_precision_2: 0.7062 - val_recall_2: 0.3725 - val_accuracy: 0.6990\n",
            "Epoch 10/100\n",
            "49/49 [==============================] - ETA: 0s - loss: 0.5924 - precision_2: 0.6742 - recall_2: 0.3464 - accuracy: 0.6840\n",
            "Epoch 10: val_accuracy did not improve from 0.70385\n",
            "49/49 [==============================] - 2s 38ms/step - loss: 0.5924 - precision_2: 0.6742 - recall_2: 0.3464 - accuracy: 0.6840 - val_loss: 0.5815 - val_precision_2: 0.7500 - val_recall_2: 0.2400 - val_accuracy: 0.6769\n",
            "Epoch 11/100\n",
            "49/49 [==============================] - ETA: 0s - loss: 0.5871 - precision_2: 0.6742 - recall_2: 0.3705 - accuracy: 0.6888\n",
            "Epoch 11: val_accuracy did not improve from 0.70385\n",
            "49/49 [==============================] - 2s 42ms/step - loss: 0.5871 - precision_2: 0.6742 - recall_2: 0.3705 - accuracy: 0.6888 - val_loss: 0.6033 - val_precision_2: 0.8105 - val_recall_2: 0.1925 - val_accuracy: 0.6721\n",
            "Epoch 12/100\n",
            "49/49 [==============================] - ETA: 0s - loss: 0.5965 - precision_2: 0.6612 - recall_2: 0.3347 - accuracy: 0.6779\n",
            "Epoch 12: val_accuracy did not improve from 0.70385\n",
            "49/49 [==============================] - 2s 47ms/step - loss: 0.5965 - precision_2: 0.6612 - recall_2: 0.3347 - accuracy: 0.6779 - val_loss: 0.6208 - val_precision_2: 0.9111 - val_recall_2: 0.1025 - val_accuracy: 0.6510\n",
            "Epoch 13/100\n",
            "47/49 [===========================>..] - ETA: 0s - loss: 0.5784 - precision_2: 0.6547 - recall_2: 0.3792 - accuracy: 0.6848\n",
            "Epoch 13: val_accuracy did not improve from 0.70385\n",
            "49/49 [==============================] - 2s 39ms/step - loss: 0.5785 - precision_2: 0.6579 - recall_2: 0.3747 - accuracy: 0.6843 - val_loss: 0.5801 - val_precision_2: 0.6857 - val_recall_2: 0.3600 - val_accuracy: 0.6904\n",
            "Epoch 14/100\n",
            "47/49 [===========================>..] - ETA: 0s - loss: 0.5850 - precision_2: 0.6596 - recall_2: 0.4043 - accuracy: 0.6898\n",
            "Epoch 14: val_accuracy did not improve from 0.70385\n",
            "49/49 [==============================] - 2s 37ms/step - loss: 0.5846 - precision_2: 0.6588 - recall_2: 0.3972 - accuracy: 0.6888 - val_loss: 0.6065 - val_precision_2: 0.8191 - val_recall_2: 0.1925 - val_accuracy: 0.6731\n",
            "Epoch 15/100\n",
            "47/49 [===========================>..] - ETA: 0s - loss: 0.5720 - precision_2: 0.6829 - recall_2: 0.4385 - accuracy: 0.7064\n",
            "Epoch 15: val_accuracy did not improve from 0.70385\n",
            "49/49 [==============================] - 2s 37ms/step - loss: 0.5728 - precision_2: 0.6868 - recall_2: 0.4363 - accuracy: 0.7064 - val_loss: 0.5752 - val_precision_2: 0.7020 - val_recall_2: 0.3475 - val_accuracy: 0.6923\n",
            "Epoch 16/100\n",
            "49/49 [==============================] - ETA: 0s - loss: 0.5625 - precision_2: 0.6671 - recall_2: 0.4671 - accuracy: 0.7051\n",
            "Epoch 16: val_accuracy improved from 0.70385 to 0.71923, saving model to best_models/Third_model\n",
            "49/49 [==============================] - 4s 74ms/step - loss: 0.5625 - precision_2: 0.6671 - recall_2: 0.4671 - accuracy: 0.7051 - val_loss: 0.5571 - val_precision_2: 0.7177 - val_recall_2: 0.4450 - val_accuracy: 0.7192\n",
            "Epoch 17/100\n",
            "47/49 [===========================>..] - ETA: 0s - loss: 0.5564 - precision_2: 0.6352 - recall_2: 0.5103 - accuracy: 0.6981\n",
            "Epoch 17: val_accuracy did not improve from 0.71923\n",
            "49/49 [==============================] - 2s 44ms/step - loss: 0.5545 - precision_2: 0.6392 - recall_2: 0.5104 - accuracy: 0.7006 - val_loss: 0.5791 - val_precision_2: 0.6872 - val_recall_2: 0.4175 - val_accuracy: 0.7029\n",
            "Epoch 18/100\n",
            "49/49 [==============================] - ETA: 0s - loss: 0.5621 - precision_2: 0.6798 - recall_2: 0.4296 - accuracy: 0.7026\n",
            "Epoch 18: val_accuracy did not improve from 0.71923\n",
            "49/49 [==============================] - 2s 44ms/step - loss: 0.5621 - precision_2: 0.6798 - recall_2: 0.4296 - accuracy: 0.7026 - val_loss: 0.5460 - val_precision_2: 0.6937 - val_recall_2: 0.4700 - val_accuracy: 0.7163\n",
            "Epoch 19/100\n",
            "49/49 [==============================] - ETA: 0s - loss: 0.5516 - precision_2: 0.6731 - recall_2: 0.4629 - accuracy: 0.7067\n",
            "Epoch 19: val_accuracy did not improve from 0.71923\n",
            "49/49 [==============================] - 2s 40ms/step - loss: 0.5516 - precision_2: 0.6731 - recall_2: 0.4629 - accuracy: 0.7067 - val_loss: 0.5379 - val_precision_2: 0.6580 - val_recall_2: 0.5050 - val_accuracy: 0.7087\n",
            "Epoch 20/100\n",
            "47/49 [===========================>..] - ETA: 0s - loss: 0.5424 - precision_2: 0.6807 - recall_2: 0.4651 - accuracy: 0.7131\n",
            "Epoch 20: val_accuracy improved from 0.71923 to 0.72308, saving model to best_models/Third_model\n",
            "49/49 [==============================] - 4s 74ms/step - loss: 0.5430 - precision_2: 0.6789 - recall_2: 0.4771 - accuracy: 0.7119 - val_loss: 0.5436 - val_precision_2: 0.6842 - val_recall_2: 0.5200 - val_accuracy: 0.7231\n",
            "Epoch 21/100\n",
            "49/49 [==============================] - ETA: 0s - loss: 0.5266 - precision_2: 0.6849 - recall_2: 0.5845 - accuracy: 0.7365\n",
            "Epoch 21: val_accuracy improved from 0.72308 to 0.73846, saving model to best_models/Third_model\n",
            "49/49 [==============================] - 4s 75ms/step - loss: 0.5266 - precision_2: 0.6849 - recall_2: 0.5845 - accuracy: 0.7365 - val_loss: 0.5277 - val_precision_2: 0.7319 - val_recall_2: 0.5050 - val_accuracy: 0.7385\n",
            "Epoch 22/100\n",
            "49/49 [==============================] - ETA: 0s - loss: 0.5270 - precision_2: 0.6670 - recall_2: 0.5570 - accuracy: 0.7224\n",
            "Epoch 22: val_accuracy did not improve from 0.73846\n",
            "49/49 [==============================] - 2s 41ms/step - loss: 0.5270 - precision_2: 0.6670 - recall_2: 0.5570 - accuracy: 0.7224 - val_loss: 0.5497 - val_precision_2: 0.7769 - val_recall_2: 0.2525 - val_accuracy: 0.6846\n",
            "Epoch 23/100\n",
            "49/49 [==============================] - ETA: 0s - loss: 0.5288 - precision_2: 0.6812 - recall_2: 0.5479 - accuracy: 0.7272\n",
            "Epoch 23: val_accuracy did not improve from 0.73846\n",
            "49/49 [==============================] - 2s 44ms/step - loss: 0.5288 - precision_2: 0.6812 - recall_2: 0.5479 - accuracy: 0.7272 - val_loss: 0.5358 - val_precision_2: 0.7608 - val_recall_2: 0.3975 - val_accuracy: 0.7202\n",
            "Epoch 24/100\n",
            "49/49 [==============================] - ETA: 0s - loss: 0.5270 - precision_2: 0.6949 - recall_2: 0.5121 - accuracy: 0.7256\n",
            "Epoch 24: val_accuracy did not improve from 0.73846\n",
            "49/49 [==============================] - 2s 42ms/step - loss: 0.5270 - precision_2: 0.6949 - recall_2: 0.5121 - accuracy: 0.7256 - val_loss: 0.5656 - val_precision_2: 0.8655 - val_recall_2: 0.2575 - val_accuracy: 0.6990\n",
            "Epoch 25/100\n",
            "49/49 [==============================] - ETA: 0s - loss: 0.5167 - precision_2: 0.7008 - recall_2: 0.5754 - accuracy: 0.7420\n",
            "Epoch 25: val_accuracy did not improve from 0.73846\n",
            "49/49 [==============================] - 2s 38ms/step - loss: 0.5167 - precision_2: 0.7008 - recall_2: 0.5754 - accuracy: 0.7420 - val_loss: 0.5165 - val_precision_2: 0.7981 - val_recall_2: 0.4250 - val_accuracy: 0.7375\n",
            "Epoch 26/100\n",
            "49/49 [==============================] - ETA: 0s - loss: 0.5327 - precision_2: 0.6962 - recall_2: 0.5554 - accuracy: 0.7356\n",
            "Epoch 26: val_accuracy did not improve from 0.73846\n",
            "49/49 [==============================] - 2s 38ms/step - loss: 0.5327 - precision_2: 0.6962 - recall_2: 0.5554 - accuracy: 0.7356 - val_loss: 0.5559 - val_precision_2: 0.8286 - val_recall_2: 0.2900 - val_accuracy: 0.7038\n",
            "Epoch 27/100\n",
            "47/49 [===========================>..] - ETA: 0s - loss: 0.4969 - precision_2: 0.7020 - recall_2: 0.5991 - accuracy: 0.7473\n",
            "Epoch 27: val_accuracy did not improve from 0.73846\n",
            "49/49 [==============================] - 2s 37ms/step - loss: 0.4947 - precision_2: 0.7063 - recall_2: 0.5987 - accuracy: 0.7497 - val_loss: 0.5115 - val_precision_2: 0.7360 - val_recall_2: 0.4600 - val_accuracy: 0.7288\n",
            "Epoch 28/100\n",
            "49/49 [==============================] - ETA: 0s - loss: 0.5016 - precision_2: 0.7264 - recall_2: 0.6012 - accuracy: 0.7593\n",
            "Epoch 28: val_accuracy did not improve from 0.73846\n",
            "49/49 [==============================] - 2s 41ms/step - loss: 0.5016 - precision_2: 0.7264 - recall_2: 0.6012 - accuracy: 0.7593 - val_loss: 0.5700 - val_precision_2: 0.7821 - val_recall_2: 0.3500 - val_accuracy: 0.7125\n",
            "Epoch 29/100\n",
            "49/49 [==============================] - ETA: 0s - loss: 0.5203 - precision_2: 0.6917 - recall_2: 0.5512 - accuracy: 0.7327\n",
            "Epoch 29: val_accuracy did not improve from 0.73846\n",
            "49/49 [==============================] - 2s 38ms/step - loss: 0.5203 - precision_2: 0.6917 - recall_2: 0.5512 - accuracy: 0.7327 - val_loss: 0.5115 - val_precision_2: 0.7059 - val_recall_2: 0.5100 - val_accuracy: 0.7298\n",
            "Epoch 30/100\n",
            "49/49 [==============================] - ETA: 0s - loss: 0.5020 - precision_2: 0.7160 - recall_2: 0.5878 - accuracy: 0.7516\n",
            "Epoch 30: val_accuracy did not improve from 0.73846\n",
            "49/49 [==============================] - 2s 44ms/step - loss: 0.5020 - precision_2: 0.7160 - recall_2: 0.5878 - accuracy: 0.7516 - val_loss: 0.5383 - val_precision_2: 0.7557 - val_recall_2: 0.3325 - val_accuracy: 0.7019\n",
            "Epoch 31/100\n",
            "49/49 [==============================] - ETA: 0s - loss: 0.4858 - precision_2: 0.7107 - recall_2: 0.6361 - accuracy: 0.7603\n",
            "Epoch 31: val_accuracy did not improve from 0.73846\n",
            "49/49 [==============================] - 2s 43ms/step - loss: 0.4858 - precision_2: 0.7107 - recall_2: 0.6361 - accuracy: 0.7603 - val_loss: 0.5312 - val_precision_2: 0.8343 - val_recall_2: 0.3525 - val_accuracy: 0.7240\n",
            "Epoch 32/100\n",
            "47/49 [===========================>..] - ETA: 0s - loss: 0.4785 - precision_2: 0.7323 - recall_2: 0.6081 - accuracy: 0.7640\n",
            "Epoch 32: val_accuracy did not improve from 0.73846\n",
            "49/49 [==============================] - 2s 37ms/step - loss: 0.4782 - precision_2: 0.7347 - recall_2: 0.6087 - accuracy: 0.7647 - val_loss: 0.5137 - val_precision_2: 0.7717 - val_recall_2: 0.4225 - val_accuracy: 0.7298\n",
            "Epoch 33/100\n",
            "47/49 [===========================>..] - ETA: 0s - loss: 0.4852 - precision_2: 0.7021 - recall_2: 0.6308 - accuracy: 0.7563\n",
            "Epoch 33: val_accuracy did not improve from 0.73846\n",
            "49/49 [==============================] - 2s 37ms/step - loss: 0.4842 - precision_2: 0.7080 - recall_2: 0.6320 - accuracy: 0.7580 - val_loss: 0.5328 - val_precision_2: 0.7500 - val_recall_2: 0.4350 - val_accuracy: 0.7269\n",
            "Epoch 34/100\n",
            "49/49 [==============================] - ETA: 0s - loss: 0.4888 - precision_2: 0.7238 - recall_2: 0.6153 - accuracy: 0.7615\n",
            "Epoch 34: val_accuracy improved from 0.73846 to 0.74231, saving model to best_models/Third_model\n",
            "49/49 [==============================] - 4s 81ms/step - loss: 0.4888 - precision_2: 0.7238 - recall_2: 0.6153 - accuracy: 0.7615 - val_loss: 0.5035 - val_precision_2: 0.8204 - val_recall_2: 0.4225 - val_accuracy: 0.7423\n",
            "Epoch 35/100\n",
            "47/49 [===========================>..] - ETA: 0s - loss: 0.4783 - precision_2: 0.7455 - recall_2: 0.6351 - accuracy: 0.7753\n",
            "Epoch 35: val_accuracy did not improve from 0.74231\n",
            "49/49 [==============================] - 2s 39ms/step - loss: 0.4743 - precision_2: 0.7456 - recall_2: 0.6370 - accuracy: 0.7766 - val_loss: 0.5797 - val_precision_2: 0.8608 - val_recall_2: 0.3400 - val_accuracy: 0.7250\n",
            "Epoch 36/100\n",
            "49/49 [==============================] - ETA: 0s - loss: 0.4703 - precision_2: 0.7537 - recall_2: 0.6370 - accuracy: 0.7801\n",
            "Epoch 36: val_accuracy did not improve from 0.74231\n",
            "49/49 [==============================] - 2s 45ms/step - loss: 0.4703 - precision_2: 0.7537 - recall_2: 0.6370 - accuracy: 0.7801 - val_loss: 0.5908 - val_precision_2: 0.9252 - val_recall_2: 0.2475 - val_accuracy: 0.7029\n",
            "Epoch 37/100\n",
            "49/49 [==============================] - ETA: 0s - loss: 0.4782 - precision_2: 0.7304 - recall_2: 0.6295 - accuracy: 0.7679\n",
            "Epoch 37: val_accuracy did not improve from 0.74231\n",
            "49/49 [==============================] - 2s 43ms/step - loss: 0.4782 - precision_2: 0.7304 - recall_2: 0.6295 - accuracy: 0.7679 - val_loss: 0.5108 - val_precision_2: 0.8452 - val_recall_2: 0.3550 - val_accuracy: 0.7269\n",
            "Epoch 38/100\n",
            "47/49 [===========================>..] - ETA: 0s - loss: 0.4696 - precision_2: 0.7424 - recall_2: 0.6304 - accuracy: 0.7719\n",
            "Epoch 38: val_accuracy did not improve from 0.74231\n",
            "49/49 [==============================] - 2s 38ms/step - loss: 0.4690 - precision_2: 0.7417 - recall_2: 0.6336 - accuracy: 0.7740 - val_loss: 0.5344 - val_precision_2: 0.8344 - val_recall_2: 0.3400 - val_accuracy: 0.7202\n",
            "Epoch 39/100\n",
            "47/49 [===========================>..] - ETA: 0s - loss: 0.4578 - precision_2: 0.7492 - recall_2: 0.6412 - accuracy: 0.7806\n",
            "Epoch 39: val_accuracy did not improve from 0.74231\n",
            "49/49 [==============================] - 2s 38ms/step - loss: 0.4633 - precision_2: 0.7442 - recall_2: 0.6395 - accuracy: 0.7766 - val_loss: 0.4905 - val_precision_2: 0.8267 - val_recall_2: 0.4175 - val_accuracy: 0.7423\n",
            "Epoch 40/100\n",
            "49/49 [==============================] - ETA: 0s - loss: 0.4622 - precision_2: 0.7380 - recall_2: 0.6428 - accuracy: 0.7747\n",
            "Epoch 40: val_accuracy improved from 0.74231 to 0.75000, saving model to best_models/Third_model\n",
            "49/49 [==============================] - 4s 72ms/step - loss: 0.4622 - precision_2: 0.7380 - recall_2: 0.6428 - accuracy: 0.7747 - val_loss: 0.4767 - val_precision_2: 0.7465 - val_recall_2: 0.5300 - val_accuracy: 0.7500\n",
            "Epoch 41/100\n",
            "49/49 [==============================] - ETA: 0s - loss: 0.4625 - precision_2: 0.7445 - recall_2: 0.6503 - accuracy: 0.7795\n",
            "Epoch 41: val_accuracy improved from 0.75000 to 0.75673, saving model to best_models/Third_model\n",
            "49/49 [==============================] - 4s 86ms/step - loss: 0.4625 - precision_2: 0.7445 - recall_2: 0.6503 - accuracy: 0.7795 - val_loss: 0.4735 - val_precision_2: 0.7673 - val_recall_2: 0.5275 - val_accuracy: 0.7567\n",
            "Epoch 42/100\n",
            "49/49 [==============================] - ETA: 0s - loss: 0.4457 - precision_2: 0.7544 - recall_2: 0.6753 - accuracy: 0.7904\n",
            "Epoch 42: val_accuracy did not improve from 0.75673\n",
            "49/49 [==============================] - 2s 46ms/step - loss: 0.4457 - precision_2: 0.7544 - recall_2: 0.6753 - accuracy: 0.7904 - val_loss: 0.5371 - val_precision_2: 0.8725 - val_recall_2: 0.3250 - val_accuracy: 0.7221\n",
            "Epoch 43/100\n",
            "47/49 [===========================>..] - ETA: 0s - loss: 0.4437 - precision_2: 0.7591 - recall_2: 0.6607 - accuracy: 0.7876\n",
            "Epoch 43: val_accuracy did not improve from 0.75673\n",
            "49/49 [==============================] - 2s 37ms/step - loss: 0.4421 - precision_2: 0.7588 - recall_2: 0.6653 - accuracy: 0.7897 - val_loss: 0.5744 - val_precision_2: 0.9032 - val_recall_2: 0.2800 - val_accuracy: 0.7115\n",
            "Epoch 44/100\n",
            "49/49 [==============================] - ETA: 0s - loss: 0.4515 - precision_2: 0.7703 - recall_2: 0.6478 - accuracy: 0.7901\n",
            "Epoch 44: val_accuracy did not improve from 0.75673\n",
            "49/49 [==============================] - 2s 38ms/step - loss: 0.4515 - precision_2: 0.7703 - recall_2: 0.6478 - accuracy: 0.7901 - val_loss: 0.4893 - val_precision_2: 0.8883 - val_recall_2: 0.3975 - val_accuracy: 0.7490\n",
            "Epoch 45/100\n",
            "49/49 [==============================] - ETA: 0s - loss: 0.4321 - precision_2: 0.7568 - recall_2: 0.6919 - accuracy: 0.7958\n",
            "Epoch 45: val_accuracy improved from 0.75673 to 0.77981, saving model to best_models/Third_model\n",
            "49/49 [==============================] - 4s 80ms/step - loss: 0.4321 - precision_2: 0.7568 - recall_2: 0.6919 - accuracy: 0.7958 - val_loss: 0.4369 - val_precision_2: 0.7918 - val_recall_2: 0.5800 - val_accuracy: 0.7798\n",
            "Epoch 46/100\n",
            "47/49 [===========================>..] - ETA: 0s - loss: 0.4389 - precision_2: 0.7643 - recall_2: 0.6905 - accuracy: 0.7985\n",
            "Epoch 46: val_accuracy did not improve from 0.77981\n",
            "49/49 [==============================] - 2s 39ms/step - loss: 0.4382 - precision_2: 0.7643 - recall_2: 0.6911 - accuracy: 0.7990 - val_loss: 0.5183 - val_precision_2: 0.8634 - val_recall_2: 0.3950 - val_accuracy: 0.7433\n",
            "Epoch 47/100\n",
            "49/49 [==============================] - ETA: 0s - loss: 0.4222 - precision_2: 0.7791 - recall_2: 0.6844 - accuracy: 0.8038\n",
            "Epoch 47: val_accuracy did not improve from 0.77981\n",
            "49/49 [==============================] - 2s 44ms/step - loss: 0.4222 - precision_2: 0.7791 - recall_2: 0.6844 - accuracy: 0.8038 - val_loss: 0.4707 - val_precision_2: 0.8883 - val_recall_2: 0.4375 - val_accuracy: 0.7625\n",
            "Epoch 48/100\n",
            "49/49 [==============================] - ETA: 0s - loss: 0.4399 - precision_2: 0.7598 - recall_2: 0.6794 - accuracy: 0.7939\n",
            "Epoch 48: val_accuracy did not improve from 0.77981\n",
            "49/49 [==============================] - 2s 45ms/step - loss: 0.4399 - precision_2: 0.7598 - recall_2: 0.6794 - accuracy: 0.7939 - val_loss: 0.5006 - val_precision_2: 0.9136 - val_recall_2: 0.3700 - val_accuracy: 0.7442\n",
            "Epoch 49/100\n",
            "49/49 [==============================] - ETA: 0s - loss: 0.4126 - precision_2: 0.7653 - recall_2: 0.7086 - accuracy: 0.8042\n",
            "Epoch 49: val_accuracy did not improve from 0.77981\n",
            "49/49 [==============================] - 2s 38ms/step - loss: 0.4126 - precision_2: 0.7653 - recall_2: 0.7086 - accuracy: 0.8042 - val_loss: 0.4479 - val_precision_2: 0.8502 - val_recall_2: 0.4825 - val_accuracy: 0.7683\n",
            "Epoch 50/100\n",
            "49/49 [==============================] - ETA: 0s - loss: 0.4097 - precision_2: 0.7841 - recall_2: 0.7077 - accuracy: 0.8125\n",
            "Epoch 50: val_accuracy did not improve from 0.77981\n",
            "49/49 [==============================] - 2s 38ms/step - loss: 0.4097 - precision_2: 0.7841 - recall_2: 0.7077 - accuracy: 0.8125 - val_loss: 0.5249 - val_precision_2: 0.9059 - val_recall_2: 0.3850 - val_accuracy: 0.7481\n",
            "Epoch 51/100\n",
            "47/49 [===========================>..] - ETA: 0s - loss: 0.4070 - precision_2: 0.7970 - recall_2: 0.6980 - accuracy: 0.8152\n",
            "Epoch 51: val_accuracy improved from 0.77981 to 0.79615, saving model to best_models/Third_model\n",
            "49/49 [==============================] - 4s 73ms/step - loss: 0.4042 - precision_2: 0.7989 - recall_2: 0.7011 - accuracy: 0.8170 - val_loss: 0.4195 - val_precision_2: 0.8701 - val_recall_2: 0.5525 - val_accuracy: 0.7962\n",
            "Epoch 52/100\n",
            "47/49 [===========================>..] - ETA: 0s - loss: 0.4163 - precision_2: 0.7874 - recall_2: 0.7038 - accuracy: 0.8128\n",
            "Epoch 52: val_accuracy did not improve from 0.79615\n",
            "49/49 [==============================] - 2s 39ms/step - loss: 0.4167 - precision_2: 0.7889 - recall_2: 0.7002 - accuracy: 0.8125 - val_loss: 0.4651 - val_precision_2: 0.8810 - val_recall_2: 0.4625 - val_accuracy: 0.7692\n",
            "Epoch 53/100\n",
            "49/49 [==============================] - ETA: 0s - loss: 0.4281 - precision_2: 0.7575 - recall_2: 0.6919 - accuracy: 0.7962\n",
            "Epoch 53: val_accuracy did not improve from 0.79615\n",
            "49/49 [==============================] - 2s 43ms/step - loss: 0.4281 - precision_2: 0.7575 - recall_2: 0.6919 - accuracy: 0.7962 - val_loss: 0.4266 - val_precision_2: 0.8379 - val_recall_2: 0.5300 - val_accuracy: 0.7798\n",
            "Epoch 54/100\n",
            "49/49 [==============================] - ETA: 0s - loss: 0.3873 - precision_2: 0.7811 - recall_2: 0.7277 - accuracy: 0.8167\n",
            "Epoch 54: val_accuracy did not improve from 0.79615\n",
            "49/49 [==============================] - 2s 46ms/step - loss: 0.3873 - precision_2: 0.7811 - recall_2: 0.7277 - accuracy: 0.8167 - val_loss: 0.5136 - val_precision_2: 0.9240 - val_recall_2: 0.3950 - val_accuracy: 0.7548\n",
            "Epoch 55/100\n",
            "47/49 [===========================>..] - ETA: 0s - loss: 0.4260 - precision_2: 0.7524 - recall_2: 0.6748 - accuracy: 0.7902\n",
            "Epoch 55: val_accuracy improved from 0.79615 to 0.80385, saving model to best_models/Third_model\n",
            "49/49 [==============================] - 4s 73ms/step - loss: 0.4262 - precision_2: 0.7537 - recall_2: 0.6778 - accuracy: 0.7907 - val_loss: 0.4105 - val_precision_2: 0.7649 - val_recall_2: 0.7075 - val_accuracy: 0.8038\n",
            "Epoch 56/100\n",
            "49/49 [==============================] - ETA: 0s - loss: 0.4232 - precision_2: 0.7737 - recall_2: 0.7002 - accuracy: 0.8058\n",
            "Epoch 56: val_accuracy did not improve from 0.80385\n",
            "49/49 [==============================] - 2s 39ms/step - loss: 0.4232 - precision_2: 0.7737 - recall_2: 0.7002 - accuracy: 0.8058 - val_loss: 0.4298 - val_precision_2: 0.8583 - val_recall_2: 0.5450 - val_accuracy: 0.7904\n",
            "Epoch 57/100\n",
            "49/49 [==============================] - ETA: 0s - loss: 0.3918 - precision_2: 0.7863 - recall_2: 0.7477 - accuracy: 0.8247\n",
            "Epoch 57: val_accuracy did not improve from 0.80385\n",
            "49/49 [==============================] - 2s 38ms/step - loss: 0.3918 - precision_2: 0.7863 - recall_2: 0.7477 - accuracy: 0.8247 - val_loss: 0.6013 - val_precision_2: 0.9569 - val_recall_2: 0.2775 - val_accuracy: 0.7173\n",
            "Epoch 58/100\n",
            "49/49 [==============================] - ETA: 0s - loss: 0.4274 - precision_2: 0.7786 - recall_2: 0.6853 - accuracy: 0.8038\n",
            "Epoch 58: val_accuracy did not improve from 0.80385\n",
            "49/49 [==============================] - 2s 37ms/step - loss: 0.4274 - precision_2: 0.7786 - recall_2: 0.6853 - accuracy: 0.8038 - val_loss: 0.4434 - val_precision_2: 0.8615 - val_recall_2: 0.4975 - val_accuracy: 0.7760\n",
            "Epoch 59/100\n",
            "49/49 [==============================] - ETA: 0s - loss: 0.3766 - precision_2: 0.7851 - recall_2: 0.7394 - accuracy: 0.8218\n",
            "Epoch 59: val_accuracy did not improve from 0.80385\n",
            "49/49 [==============================] - 2s 45ms/step - loss: 0.3766 - precision_2: 0.7851 - recall_2: 0.7394 - accuracy: 0.8218 - val_loss: 0.5896 - val_precision_2: 0.9301 - val_recall_2: 0.3325 - val_accuracy: 0.7337\n",
            "Epoch 60/100\n",
            "49/49 [==============================] - ETA: 0s - loss: 0.4044 - precision_2: 0.7953 - recall_2: 0.7086 - accuracy: 0.8176\n",
            "Epoch 60: val_accuracy did not improve from 0.80385\n",
            "49/49 [==============================] - 2s 46ms/step - loss: 0.4044 - precision_2: 0.7953 - recall_2: 0.7086 - accuracy: 0.8176 - val_loss: 0.4030 - val_precision_2: 0.8256 - val_recall_2: 0.5800 - val_accuracy: 0.7913\n",
            "Epoch 61/100\n",
            "49/49 [==============================] - ETA: 0s - loss: 0.3795 - precision_2: 0.8147 - recall_2: 0.7361 - accuracy: 0.8340\n",
            "Epoch 61: val_accuracy did not improve from 0.80385\n",
            "49/49 [==============================] - 2s 41ms/step - loss: 0.3795 - precision_2: 0.8147 - recall_2: 0.7361 - accuracy: 0.8340 - val_loss: 0.6270 - val_precision_2: 0.9441 - val_recall_2: 0.3375 - val_accuracy: 0.7375\n",
            "Epoch 62/100\n",
            "49/49 [==============================] - ETA: 0s - loss: 0.3612 - precision_2: 0.8149 - recall_2: 0.7369 - accuracy: 0.8343\n",
            "Epoch 62: val_accuracy improved from 0.80385 to 0.80481, saving model to best_models/Third_model\n",
            "49/49 [==============================] - 4s 83ms/step - loss: 0.3612 - precision_2: 0.8149 - recall_2: 0.7369 - accuracy: 0.8343 - val_loss: 0.4133 - val_precision_2: 0.8717 - val_recall_2: 0.5775 - val_accuracy: 0.8048\n",
            "Epoch 63/100\n",
            "47/49 [===========================>..] - ETA: 0s - loss: 0.3890 - precision_2: 0.7939 - recall_2: 0.7207 - accuracy: 0.8201\n",
            "Epoch 63: val_accuracy did not improve from 0.80481\n",
            "49/49 [==============================] - 2s 39ms/step - loss: 0.3887 - precision_2: 0.7974 - recall_2: 0.7177 - accuracy: 0.8212 - val_loss: 0.4789 - val_precision_2: 0.8990 - val_recall_2: 0.4450 - val_accuracy: 0.7673\n",
            "Epoch 64/100\n",
            "49/49 [==============================] - ETA: 0s - loss: 0.3605 - precision_2: 0.8099 - recall_2: 0.7485 - accuracy: 0.8356\n",
            "Epoch 64: val_accuracy did not improve from 0.80481\n",
            "49/49 [==============================] - 2s 38ms/step - loss: 0.3605 - precision_2: 0.8099 - recall_2: 0.7485 - accuracy: 0.8356 - val_loss: 0.6085 - val_precision_2: 0.9343 - val_recall_2: 0.3200 - val_accuracy: 0.7298\n",
            "Epoch 65/100\n",
            "49/49 [==============================] - ETA: 0s - loss: 0.3686 - precision_2: 0.8072 - recall_2: 0.7460 - accuracy: 0.8337\n",
            "Epoch 65: val_accuracy did not improve from 0.80481\n",
            "49/49 [==============================] - 2s 44ms/step - loss: 0.3686 - precision_2: 0.8072 - recall_2: 0.7460 - accuracy: 0.8337 - val_loss: 0.4232 - val_precision_2: 0.8824 - val_recall_2: 0.5250 - val_accuracy: 0.7904\n",
            "Epoch 66/100\n",
            "49/49 [==============================] - ETA: 0s - loss: 0.3563 - precision_2: 0.8077 - recall_2: 0.7519 - accuracy: 0.8356\n",
            "Epoch 66: val_accuracy did not improve from 0.80481\n",
            "49/49 [==============================] - 2s 47ms/step - loss: 0.3563 - precision_2: 0.8077 - recall_2: 0.7519 - accuracy: 0.8356 - val_loss: 0.5224 - val_precision_2: 0.9565 - val_recall_2: 0.3850 - val_accuracy: 0.7567\n",
            "Epoch 67/100\n",
            "47/49 [===========================>..] - ETA: 0s - loss: 0.3458 - precision_2: 0.8262 - recall_2: 0.7707 - accuracy: 0.8491\n",
            "Epoch 67: val_accuracy did not improve from 0.80481\n",
            "49/49 [==============================] - 2s 37ms/step - loss: 0.3499 - precision_2: 0.8209 - recall_2: 0.7669 - accuracy: 0.8458 - val_loss: 0.5024 - val_precision_2: 0.9029 - val_recall_2: 0.4650 - val_accuracy: 0.7750\n",
            "Epoch 68/100\n",
            "47/49 [===========================>..] - ETA: 0s - loss: 0.3506 - precision_2: 0.8146 - recall_2: 0.7670 - accuracy: 0.8424\n",
            "Epoch 68: val_accuracy did not improve from 0.80481\n",
            "49/49 [==============================] - 2s 37ms/step - loss: 0.3516 - precision_2: 0.8115 - recall_2: 0.7669 - accuracy: 0.8417 - val_loss: 0.4422 - val_precision_2: 0.8340 - val_recall_2: 0.5400 - val_accuracy: 0.7817\n",
            "Epoch 69/100\n",
            "47/49 [===========================>..] - ETA: 0s - loss: 0.3570 - precision_2: 0.8280 - recall_2: 0.7571 - accuracy: 0.8461\n",
            "Epoch 69: val_accuracy did not improve from 0.80481\n",
            "49/49 [==============================] - 2s 37ms/step - loss: 0.3569 - precision_2: 0.8300 - recall_2: 0.7560 - accuracy: 0.8465 - val_loss: 0.4399 - val_precision_2: 0.8927 - val_recall_2: 0.5200 - val_accuracy: 0.7913\n",
            "Epoch 70/100\n",
            "47/49 [===========================>..] - ETA: 0s - loss: 0.3576 - precision_2: 0.8203 - recall_2: 0.7760 - accuracy: 0.8474\n",
            "Epoch 70: val_accuracy did not improve from 0.80481\n",
            "49/49 [==============================] - 2s 37ms/step - loss: 0.3559 - precision_2: 0.8192 - recall_2: 0.7735 - accuracy: 0.8471 - val_loss: 0.5078 - val_precision_2: 0.9058 - val_recall_2: 0.4325 - val_accuracy: 0.7644\n",
            "Epoch 71/100\n",
            "47/49 [===========================>..] - ETA: 0s - loss: 0.3554 - precision_2: 0.8112 - recall_2: 0.7530 - accuracy: 0.8358\n",
            "Epoch 71: val_accuracy did not improve from 0.80481\n",
            "49/49 [==============================] - 2s 37ms/step - loss: 0.3522 - precision_2: 0.8111 - recall_2: 0.7544 - accuracy: 0.8378 - val_loss: 0.4734 - val_precision_2: 0.9438 - val_recall_2: 0.4200 - val_accuracy: 0.7673\n",
            "Epoch 72/100\n",
            "49/49 [==============================] - ETA: 0s - loss: 0.3410 - precision_2: 0.8317 - recall_2: 0.7569 - accuracy: 0.8474\n",
            "Epoch 72: val_accuracy improved from 0.80481 to 0.81154, saving model to best_models/Third_model\n",
            "49/49 [==============================] - 5s 95ms/step - loss: 0.3410 - precision_2: 0.8317 - recall_2: 0.7569 - accuracy: 0.8474 - val_loss: 0.3913 - val_precision_2: 0.7914 - val_recall_2: 0.6925 - val_accuracy: 0.8115\n",
            "Epoch 73/100\n",
            "49/49 [==============================] - ETA: 0s - loss: 0.3428 - precision_2: 0.8247 - recall_2: 0.7719 - accuracy: 0.8490\n",
            "Epoch 73: val_accuracy did not improve from 0.81154\n",
            "49/49 [==============================] - 2s 39ms/step - loss: 0.3428 - precision_2: 0.8247 - recall_2: 0.7719 - accuracy: 0.8490 - val_loss: 0.5000 - val_precision_2: 0.9337 - val_recall_2: 0.4225 - val_accuracy: 0.7663\n",
            "Epoch 74/100\n",
            "47/49 [===========================>..] - ETA: 0s - loss: 0.3443 - precision_2: 0.8351 - recall_2: 0.7658 - accuracy: 0.8517\n",
            "Epoch 74: val_accuracy did not improve from 0.81154\n",
            "49/49 [==============================] - 2s 41ms/step - loss: 0.3433 - precision_2: 0.8335 - recall_2: 0.7710 - accuracy: 0.8526 - val_loss: 0.3990 - val_precision_2: 0.8019 - val_recall_2: 0.6475 - val_accuracy: 0.8029\n",
            "Epoch 75/100\n",
            "49/49 [==============================] - ETA: 0s - loss: 0.3223 - precision_2: 0.8375 - recall_2: 0.7769 - accuracy: 0.8561\n",
            "Epoch 75: val_accuracy did not improve from 0.81154\n",
            "49/49 [==============================] - 2s 37ms/step - loss: 0.3223 - precision_2: 0.8375 - recall_2: 0.7769 - accuracy: 0.8561 - val_loss: 0.4010 - val_precision_2: 0.8806 - val_recall_2: 0.5900 - val_accuracy: 0.8115\n",
            "Epoch 76/100\n",
            "49/49 [==============================] - ETA: 0s - loss: 0.3457 - precision_2: 0.8171 - recall_2: 0.7702 - accuracy: 0.8452\n",
            "Epoch 76: val_accuracy did not improve from 0.81154\n",
            "49/49 [==============================] - 2s 37ms/step - loss: 0.3457 - precision_2: 0.8171 - recall_2: 0.7702 - accuracy: 0.8452 - val_loss: 0.3982 - val_precision_2: 0.8750 - val_recall_2: 0.5425 - val_accuracy: 0.7942\n",
            "Epoch 77/100\n",
            "49/49 [==============================] - ETA: 0s - loss: 0.3114 - precision_2: 0.8395 - recall_2: 0.8060 - accuracy: 0.8660\n",
            "Epoch 77: val_accuracy did not improve from 0.81154\n",
            "49/49 [==============================] - 2s 38ms/step - loss: 0.3114 - precision_2: 0.8395 - recall_2: 0.8060 - accuracy: 0.8660 - val_loss: 0.4243 - val_precision_2: 0.8898 - val_recall_2: 0.5450 - val_accuracy: 0.7990\n",
            "Epoch 78/100\n",
            "49/49 [==============================] - ETA: 0s - loss: 0.3132 - precision_2: 0.8332 - recall_2: 0.7943 - accuracy: 0.8596\n",
            "Epoch 78: val_accuracy did not improve from 0.81154\n",
            "49/49 [==============================] - 2s 43ms/step - loss: 0.3132 - precision_2: 0.8332 - recall_2: 0.7943 - accuracy: 0.8596 - val_loss: 0.4454 - val_precision_2: 0.8783 - val_recall_2: 0.5775 - val_accuracy: 0.8067\n",
            "Epoch 79/100\n",
            "49/49 [==============================] - ETA: 0s - loss: 0.3025 - precision_2: 0.8362 - recall_2: 0.8035 - accuracy: 0.8638\n",
            "Epoch 79: val_accuracy did not improve from 0.81154\n",
            "49/49 [==============================] - 2s 46ms/step - loss: 0.3025 - precision_2: 0.8362 - recall_2: 0.8035 - accuracy: 0.8638 - val_loss: 0.4368 - val_precision_2: 0.8889 - val_recall_2: 0.5400 - val_accuracy: 0.7971\n",
            "Epoch 80/100\n",
            "49/49 [==============================] - ETA: 0s - loss: 0.3142 - precision_2: 0.8429 - recall_2: 0.7860 - accuracy: 0.8612\n",
            "Epoch 80: val_accuracy did not improve from 0.81154\n",
            "49/49 [==============================] - 2s 43ms/step - loss: 0.3142 - precision_2: 0.8429 - recall_2: 0.7860 - accuracy: 0.8612 - val_loss: 0.4738 - val_precision_2: 0.9330 - val_recall_2: 0.4875 - val_accuracy: 0.7894\n",
            "Epoch 81/100\n",
            "49/49 [==============================] - ETA: 0s - loss: 0.2992 - precision_2: 0.8513 - recall_2: 0.8152 - accuracy: 0.8740\n",
            "Epoch 81: val_accuracy did not improve from 0.81154\n",
            "49/49 [==============================] - 2s 38ms/step - loss: 0.2992 - precision_2: 0.8513 - recall_2: 0.8152 - accuracy: 0.8740 - val_loss: 0.4055 - val_precision_2: 0.8640 - val_recall_2: 0.5875 - val_accuracy: 0.8058\n",
            "Epoch 82/100\n",
            "49/49 [==============================] - ETA: 0s - loss: 0.3149 - precision_2: 0.8342 - recall_2: 0.7960 - accuracy: 0.8606\n",
            "Epoch 82: val_accuracy did not improve from 0.81154\n",
            "49/49 [==============================] - 2s 38ms/step - loss: 0.3149 - precision_2: 0.8342 - recall_2: 0.7960 - accuracy: 0.8606 - val_loss: 0.4750 - val_precision_2: 0.9196 - val_recall_2: 0.4575 - val_accuracy: 0.7760\n",
            "Epoch 83/100\n",
            "49/49 [==============================] - ETA: 0s - loss: 0.2946 - precision_2: 0.8459 - recall_2: 0.8135 - accuracy: 0.8712\n",
            "Epoch 83: val_accuracy did not improve from 0.81154\n",
            "49/49 [==============================] - 2s 38ms/step - loss: 0.2946 - precision_2: 0.8459 - recall_2: 0.8135 - accuracy: 0.8712 - val_loss: 0.4793 - val_precision_2: 0.8947 - val_recall_2: 0.5100 - val_accuracy: 0.7885\n",
            "Epoch 84/100\n",
            "47/49 [===========================>..] - ETA: 0s - loss: 0.3190 - precision_2: 0.8270 - recall_2: 0.7927 - accuracy: 0.8564\n",
            "Epoch 84: val_accuracy did not improve from 0.81154\n",
            "49/49 [==============================] - 2s 38ms/step - loss: 0.3203 - precision_2: 0.8258 - recall_2: 0.7935 - accuracy: 0.8561 - val_loss: 0.4061 - val_precision_2: 0.8395 - val_recall_2: 0.6275 - val_accuracy: 0.8106\n",
            "Epoch 85/100\n",
            "49/49 [==============================] - ETA: 0s - loss: 0.3270 - precision_2: 0.8216 - recall_2: 0.7785 - accuracy: 0.8497\n",
            "Epoch 85: val_accuracy did not improve from 0.81154\n",
            "49/49 [==============================] - 2s 42ms/step - loss: 0.3270 - precision_2: 0.8216 - recall_2: 0.7785 - accuracy: 0.8497 - val_loss: 0.4353 - val_precision_2: 0.8800 - val_recall_2: 0.5500 - val_accuracy: 0.7981\n",
            "Epoch 86/100\n",
            "49/49 [==============================] - ETA: 0s - loss: 0.3082 - precision_2: 0.8454 - recall_2: 0.7968 - accuracy: 0.8657\n",
            "Epoch 86: val_accuracy did not improve from 0.81154\n",
            "49/49 [==============================] - 2s 45ms/step - loss: 0.3082 - precision_2: 0.8454 - recall_2: 0.7968 - accuracy: 0.8657 - val_loss: 0.4202 - val_precision_2: 0.8833 - val_recall_2: 0.5675 - val_accuracy: 0.8048\n",
            "Epoch 87/100\n",
            "49/49 [==============================] - ETA: 0s - loss: 0.2910 - precision_2: 0.8556 - recall_2: 0.8043 - accuracy: 0.8724\n",
            "Epoch 87: val_accuracy did not improve from 0.81154\n",
            "49/49 [==============================] - 2s 38ms/step - loss: 0.2910 - precision_2: 0.8556 - recall_2: 0.8043 - accuracy: 0.8724 - val_loss: 0.6069 - val_precision_2: 0.9509 - val_recall_2: 0.3875 - val_accuracy: 0.7567\n",
            "Epoch 88/100\n",
            "49/49 [==============================] - ETA: 0s - loss: 0.3119 - precision_2: 0.8406 - recall_2: 0.8077 - accuracy: 0.8670\n",
            "Epoch 88: val_accuracy improved from 0.81154 to 0.81731, saving model to best_models/Third_model\n",
            "49/49 [==============================] - 4s 78ms/step - loss: 0.3119 - precision_2: 0.8406 - recall_2: 0.8077 - accuracy: 0.8670 - val_loss: 0.3876 - val_precision_2: 0.8596 - val_recall_2: 0.6275 - val_accuracy: 0.8173\n",
            "Epoch 89/100\n",
            "49/49 [==============================] - ETA: 0s - loss: 0.2935 - precision_2: 0.8474 - recall_2: 0.8093 - accuracy: 0.8705\n",
            "Epoch 89: val_accuracy did not improve from 0.81731\n",
            "49/49 [==============================] - 2s 40ms/step - loss: 0.2935 - precision_2: 0.8474 - recall_2: 0.8093 - accuracy: 0.8705 - val_loss: 0.4253 - val_precision_2: 0.8871 - val_recall_2: 0.5500 - val_accuracy: 0.8000\n",
            "Epoch 90/100\n",
            "49/49 [==============================] - ETA: 0s - loss: 0.2934 - precision_2: 0.8474 - recall_2: 0.8093 - accuracy: 0.8705\n",
            "Epoch 90: val_accuracy did not improve from 0.81731\n",
            "49/49 [==============================] - 2s 38ms/step - loss: 0.2934 - precision_2: 0.8474 - recall_2: 0.8093 - accuracy: 0.8705 - val_loss: 0.4090 - val_precision_2: 0.8699 - val_recall_2: 0.5850 - val_accuracy: 0.8067\n",
            "Epoch 91/100\n",
            "49/49 [==============================] - ETA: 0s - loss: 0.2702 - precision_2: 0.8554 - recall_2: 0.8276 - accuracy: 0.8798\n",
            "Epoch 91: val_accuracy did not improve from 0.81731\n",
            "49/49 [==============================] - 2s 46ms/step - loss: 0.2702 - precision_2: 0.8554 - recall_2: 0.8276 - accuracy: 0.8798 - val_loss: 0.4392 - val_precision_2: 0.8796 - val_recall_2: 0.6025 - val_accuracy: 0.8154\n",
            "Epoch 92/100\n",
            "49/49 [==============================] - ETA: 0s - loss: 0.2970 - precision_2: 0.8505 - recall_2: 0.8193 - accuracy: 0.8750\n",
            "Epoch 92: val_accuracy did not improve from 0.81731\n",
            "49/49 [==============================] - 2s 44ms/step - loss: 0.2970 - precision_2: 0.8505 - recall_2: 0.8193 - accuracy: 0.8750 - val_loss: 0.4715 - val_precision_2: 0.8701 - val_recall_2: 0.5025 - val_accuracy: 0.7798\n",
            "Epoch 93/100\n",
            "47/49 [===========================>..] - ETA: 0s - loss: 0.2924 - precision_2: 0.8537 - recall_2: 0.8142 - accuracy: 0.8737\n",
            "Epoch 93: val_accuracy did not improve from 0.81731\n",
            "49/49 [==============================] - 2s 38ms/step - loss: 0.2924 - precision_2: 0.8527 - recall_2: 0.8143 - accuracy: 0.8744 - val_loss: 0.3973 - val_precision_2: 0.8769 - val_recall_2: 0.5875 - val_accuracy: 0.8096\n",
            "Epoch 94/100\n",
            "47/49 [===========================>..] - ETA: 0s - loss: 0.2861 - precision_2: 0.8545 - recall_2: 0.8250 - accuracy: 0.8783\n",
            "Epoch 94: val_accuracy did not improve from 0.81731\n",
            "49/49 [==============================] - 2s 41ms/step - loss: 0.2900 - precision_2: 0.8519 - recall_2: 0.8193 - accuracy: 0.8756 - val_loss: 0.4087 - val_precision_2: 0.8750 - val_recall_2: 0.5950 - val_accuracy: 0.8115\n",
            "Epoch 95/100\n",
            "47/49 [===========================>..] - ETA: 0s - loss: 0.2687 - precision_2: 0.8526 - recall_2: 0.8320 - accuracy: 0.8797\n",
            "Epoch 95: val_accuracy did not improve from 0.81731\n",
            "49/49 [==============================] - 2s 38ms/step - loss: 0.2675 - precision_2: 0.8497 - recall_2: 0.8335 - accuracy: 0.8792 - val_loss: 0.5031 - val_precision_2: 0.9312 - val_recall_2: 0.5075 - val_accuracy: 0.7962\n",
            "Epoch 96/100\n",
            "47/49 [===========================>..] - ETA: 0s - loss: 0.2755 - precision_2: 0.8562 - recall_2: 0.8199 - accuracy: 0.8780\n",
            "Epoch 96: val_accuracy did not improve from 0.81731\n",
            "49/49 [==============================] - 2s 38ms/step - loss: 0.2759 - precision_2: 0.8523 - recall_2: 0.8218 - accuracy: 0.8766 - val_loss: 0.4053 - val_precision_2: 0.8700 - val_recall_2: 0.6025 - val_accuracy: 0.8125\n",
            "Epoch 97/100\n",
            "47/49 [===========================>..] - ETA: 0s - loss: 0.2640 - precision_2: 0.8769 - recall_2: 0.8382 - accuracy: 0.8926\n",
            "Epoch 97: val_accuracy did not improve from 0.81731\n",
            "49/49 [==============================] - 2s 38ms/step - loss: 0.2637 - precision_2: 0.8759 - recall_2: 0.8401 - accuracy: 0.8926 - val_loss: 0.4441 - val_precision_2: 0.8680 - val_recall_2: 0.5425 - val_accuracy: 0.7923\n",
            "Epoch 98/100\n",
            "49/49 [==============================] - ETA: 0s - loss: 0.2813 - precision_2: 0.8615 - recall_2: 0.8285 - accuracy: 0.8827\n",
            "Epoch 98: val_accuracy did not improve from 0.81731\n",
            "49/49 [==============================] - 2s 46ms/step - loss: 0.2813 - precision_2: 0.8615 - recall_2: 0.8285 - accuracy: 0.8827 - val_loss: 0.4250 - val_precision_2: 0.8478 - val_recall_2: 0.6125 - val_accuracy: 0.8087\n",
            "Epoch 99/100\n",
            "49/49 [==============================] - ETA: 0s - loss: 0.2659 - precision_2: 0.8651 - recall_2: 0.8435 - accuracy: 0.8891\n",
            "Epoch 99: val_accuracy did not improve from 0.81731\n",
            "49/49 [==============================] - 2s 45ms/step - loss: 0.2659 - precision_2: 0.8651 - recall_2: 0.8435 - accuracy: 0.8891 - val_loss: 0.5783 - val_precision_2: 0.9649 - val_recall_2: 0.4125 - val_accuracy: 0.7683\n",
            "Epoch 100/100\n",
            "47/49 [===========================>..] - ETA: 0s - loss: 0.2872 - precision_2: 0.8505 - recall_2: 0.8155 - accuracy: 0.8730\n",
            "Epoch 100: val_accuracy did not improve from 0.81731\n",
            "49/49 [==============================] - 2s 38ms/step - loss: 0.2894 - precision_2: 0.8468 - recall_2: 0.8143 - accuracy: 0.8718 - val_loss: 0.5724 - val_precision_2: 0.8821 - val_recall_2: 0.4675 - val_accuracy: 0.7712\n"
          ]
        }
      ]
    },
    {
      "cell_type": "code",
      "source": [
        "plot_accuracy(model_history= history, name_of_model= \"Third_model\")"
      ],
      "metadata": {
        "colab": {
          "base_uri": "https://localhost:8080/",
          "height": 349
        },
        "id": "C05fQoYcBhLQ",
        "outputId": "3590bc73-a4f9-406c-bb1a-49e690c70503"
      },
      "execution_count": null,
      "outputs": [
        {
          "output_type": "display_data",
          "data": {
            "text/plain": [
              "<Figure size 2100x400 with 1 Axes>"
            ],
            "image/png": "[encoded data removed]"
          },
          "metadata": {}
        }
      ]
    },
    {
      "cell_type": "code",
      "source": [
        "val_accuracy['Third']=np.max(history['val_accuracy'])"
      ],
      "metadata": {
        "id": "blOYCCe9Bot2"
      },
      "execution_count": null,
      "outputs": []
    },
    {
      "cell_type": "code",
      "source": [
        "third_model.save(\"last_models/Third_model.keras\")"
      ],
      "metadata": {
        "id": "2RS1SutvEfEf"
      },
      "execution_count": null,
      "outputs": []
    },
    {
      "cell_type": "code",
      "source": [
        "def trun_to_binary(value):\n",
        "  if value > 0.5:\n",
        "    value = 1\n",
        "  else:\n",
        "    value = 0\n",
        "  return value\n",
        "\n",
        "def prediction(type_model):\n",
        "  test_accuracy = {}\n",
        "\n",
        "  if type_model ==\"last_models\":\n",
        "    for i in (list(val_accuracy.keys())):\n",
        "      test_model = tf.keras.models.load_model(f\"/content/last_models/{i}_model.keras\")\n",
        "      y_pred = test_model.predict(x_test)\n",
        "      y_pred = np.array(list(map(trun_to_binary, y_pred)))\n",
        "      test_accuracy[f'{i}'] =  accuracy_score(y_test,y_pred)\n",
        "    return test_accuracy\n",
        "\n",
        "  elif type_model==\"best_models\":\n",
        "    for i in (list(val_accuracy.keys())):\n",
        "      test_model = tf.keras.models.load_model(f\"/content/best_models/{i}_model\")\n",
        "      y_pred = test_model.predict(x_test)\n",
        "      y_pred = np.array(list(map(trun_to_binary, y_pred)))\n",
        "      test_accuracy[f'{i}'] =  accuracy_score(y_test,y_pred)\n",
        "    return test_accuracy\n"
      ],
      "metadata": {
        "id": "xxlQLbZsOWtb"
      },
      "execution_count": null,
      "outputs": []
    },
    {
      "cell_type": "code",
      "source": [
        "print(\"Val_accuracy:\")\n",
        "print(val_accuracy)\n",
        "print(\"*\"*50)\n",
        "print(\"test_accuracy_with_last_models:\")\n",
        "print(prediction(type_model=\"last_models\"))\n",
        "print(\"test_accuracy_with_best_models:\")\n",
        "print(prediction(type_model=\"best_models\"))"
      ],
      "metadata": {
        "colab": {
          "base_uri": "https://localhost:8080/"
        },
        "id": "995VJATnMIqa",
        "outputId": "286cf014-33b9-4ef8-9f04-3c076cb8d4a9"
      },
      "execution_count": null,
      "outputs": [
        {
          "output_type": "stream",
          "name": "stdout",
          "text": [
            "Val_accuracy:\n",
            "{'First': 0.7721154093742371, 'Second': 0.7769230604171753, 'Third': 0.817307710647583}\n",
            "**************************************************\n",
            "test_accuracy_with_last_models:\n",
            "33/33 [==============================] - 1s 4ms/step\n",
            "33/33 [==============================] - 0s 4ms/step\n",
            "33/33 [==============================] - 0s 4ms/step\n",
            "{'First': 0.7278846153846154, 'Second': 0.7403846153846154, 'Third': 0.7817307692307692}\n",
            "test_accuracy_with_best_models:\n",
            "33/33 [==============================] - 0s 5ms/step\n",
            "33/33 [==============================] - 0s 4ms/step\n",
            "33/33 [==============================] - 0s 5ms/step\n",
            "{'First': 0.7711538461538462, 'Second': 0.7519230769230769, 'Third': 0.8394230769230769}\n"
          ]
        }
      ]
    },
    {
      "cell_type": "code",
      "source": [
        "!cp -r \"/content/best_models/Third_model\" \"/content/drive/MyDrive/Colab Notebooks\""
      ],
      "metadata": {
        "id": "Ey0iMeBTmnEW"
      },
      "execution_count": null,
      "outputs": []
    },
    {
      "cell_type": "code",
      "source": [],
      "metadata": {
        "id": "apRPBt82tx5V"
      },
      "execution_count": null,
      "outputs": []
    }
  ],
  "metadata": {
    "colab": {
      "provenance": [],
      "gpuType": "T4",
      "collapsed_sections": [
        "2Vyl23BS0Qly",
        "WdIAHH3y1MGL",
        "P2ULXjC2r2G1",
        "pua8lra2sVWf",
        "-WhQFn5S1D3z",
        "Ub3zPKGT1fiy"
      ]
    },
    "kernelspec": {
      "display_name": "Python 3",
      "name": "python3"
    },
    "language_info": {
      "name": "python"
    },
    "accelerator": "GPU"
  },
  "nbformat": 4,
  "nbformat_minor": 0
}