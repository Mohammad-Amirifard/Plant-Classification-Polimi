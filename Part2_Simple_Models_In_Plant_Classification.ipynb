{
  "cells": [
    {
      "cell_type": "markdown",
      "source": [
        "In oure last notebook( [Part1_Plant_Classification_EDA](https://github.com/Mohammad-Amirifard/Plant-Classification-Polimi/blob/main/Part1_Plant_Classification_EDA.ipynb)), we made our dataset clean, without outliers and duplicates. Now we are working with clean_plant_dataset.npz which is avaiable here: [Link](https://drive.google.com/drive/folders/1CzLGEZA7S0WhyVMTMUM-j4J6ptd6WyOx?usp=drive_link)"
      ],
      "metadata": {
        "id": "vo-FU0uSzSsB"
      }
    },
    {
      "cell_type": "markdown",
      "source": [
        "### 1-Mount Google drive"
      ],
      "metadata": {
        "id": "2Vyl23BS0Qly"
      }
    },
    {
      "cell_type": "code",
      "source": [
        "from google.colab import drive\n",
        "drive.mount('/content/drive') # mount google drive to /content directory"
      ],
      "metadata": {
        "id": "pXEekFrYzSKX",
        "colab": {
          "base_uri": "https://localhost:8080/"
        },
        "outputId": "43e77cfd-9243-405c-f5c4-3f0c4ac16d5c"
      },
      "execution_count": 1,
      "outputs": [
        {
          "output_type": "stream",
          "name": "stdout",
          "text": [
            "Mounted at /content/drive\n"
          ]
        }
      ]
    },
    {
      "cell_type": "markdown",
      "source": [
        "####1-1 copy clea dataset to /content direcory"
      ],
      "metadata": {
        "id": "2fSaseSEOA0U"
      }
    },
    {
      "cell_type": "code",
      "source": [
        "# Here, /content/drive/MyDrive/Projects/Plant Classification Polimi/Dataset/clean_plant_dataset.npz is the address of clean data in my drive. You must replace it with yours.\n",
        "!cp  \"/content/drive/MyDrive/clean_plant_dataset.npz\" \"/content\""
      ],
      "metadata": {
        "id": "pwpfmQBwOCzc"
      },
      "execution_count": 2,
      "outputs": []
    },
    {
      "cell_type": "markdown",
      "source": [
        "### 2-Import Libraries"
      ],
      "metadata": {
        "id": "WdIAHH3y1MGL"
      }
    },
    {
      "cell_type": "code",
      "source": [
        "import os, warnings,logging,cv2, keras\n",
        "from skimage.color import rgb2lab, deltaE_cie76\n",
        "import numpy as np\n",
        "import tensorflow as tf\n",
        "import pandas as pd\n",
        "from matplotlib import pyplot as plt\n",
        "from sklearn import preprocessing\n",
        "from sklearn.model_selection import train_test_split\n",
        "from tensorflow.keras import callbacks\n",
        "from tensorflow.keras.utils import to_categorical\n",
        "from keras import models, layers\n",
        "from tensorflow import keras as tfk\n",
        "from tensorflow.keras import layers as tfkl"
      ],
      "metadata": {
        "id": "qH4lmQYsrspb"
      },
      "execution_count": 3,
      "outputs": []
    },
    {
      "cell_type": "markdown",
      "source": [
        "### 3-Fix randomness and hide warnings"
      ],
      "metadata": {
        "id": "P2ULXjC2r2G1"
      }
    },
    {
      "cell_type": "code",
      "source": [
        "seed = 42\n",
        "#####\n",
        "os.environ['TF_CPP_MIN_LOG_LEVEL'] = '3'\n",
        "os.environ['PYTHONHASHSEED'] = str(seed)\n",
        "os.environ['MPLCONFIGDIR'] = os.getcwd()+'/configs/'\n",
        "#####\n",
        "warnings.simplefilter(action='ignore', category=FutureWarning)\n",
        "warnings.simplefilter(action='ignore', category=Warning)"
      ],
      "metadata": {
        "id": "oEYVRRdgMuWt"
      },
      "execution_count": 4,
      "outputs": []
    },
    {
      "cell_type": "markdown",
      "source": [
        "### 4-Set first parameters of tensorflow"
      ],
      "metadata": {
        "id": "pua8lra2sVWf"
      }
    },
    {
      "cell_type": "code",
      "source": [
        "# Import tensorflow\n",
        "tf.autograph.set_verbosity(0)\n",
        "tf.get_logger().setLevel(logging.ERROR)\n",
        "tf.compat.v1.logging.set_verbosity(tf.compat.v1.logging.ERROR)\n",
        "tf.random.set_seed(seed)\n",
        "tf.compat.v1.set_random_seed(seed)\n",
        "print(\"tensorflow_version\",tf.__version__)"
      ],
      "metadata": {
        "id": "WC9nG5HlMvHd",
        "colab": {
          "base_uri": "https://localhost:8080/"
        },
        "outputId": "d3e8a763-65a3-405a-c2f2-e42601a256c1"
      },
      "execution_count": 5,
      "outputs": [
        {
          "output_type": "stream",
          "name": "stdout",
          "text": [
            "tensorflow_version 2.14.0\n"
          ]
        }
      ]
    },
    {
      "cell_type": "markdown",
      "source": [
        "### 5-Load dataset"
      ],
      "metadata": {
        "id": "-WhQFn5S1D3z"
      }
    },
    {
      "cell_type": "code",
      "source": [
        "dataset = np.load(\"/content/clean_plant_dataset.npz\", allow_pickle=True)"
      ],
      "metadata": {
        "id": "7Sfce8o_08iF"
      },
      "execution_count": 6,
      "outputs": []
    },
    {
      "cell_type": "code",
      "source": [
        "keys = list(dataset.keys())\n",
        "print('keys in our dataset are: ', keys)\n",
        "print('*'*100)"
      ],
      "metadata": {
        "colab": {
          "base_uri": "https://localhost:8080/"
        },
        "id": "jUTFrFIhO53u",
        "outputId": "8c938644-ffbe-46cd-9eb8-0485458e7305"
      },
      "execution_count": 7,
      "outputs": [
        {
          "output_type": "stream",
          "name": "stdout",
          "text": [
            "keys in our dataset are:  ['clean_x', 'clean_y']\n",
            "****************************************************************************************************\n"
          ]
        }
      ]
    },
    {
      "cell_type": "code",
      "source": [
        "# Watch keys available in the numpy array\n",
        "keys = list(dataset.keys())\n",
        "print('keys in our dataset are: ', keys)\n",
        "print('*'*100)\n",
        "\n",
        "# look at data shape\n",
        "data = dataset[\"clean_x\"]\n",
        "no_images = data.shape[0]\n",
        "size_images = data.shape[1:3]\n",
        "print('Data shape: ',data.shape)\n",
        "print('*'*100)\n",
        "\n",
        "# Lool aat labels\n",
        "labels = dataset[\"clean_y\"]\n",
        "no_labels = labels.shape[0]\n",
        "print(\"Labels are : \",labels)\n",
        "print('*'*100)\n",
        "\n",
        "# Look at bing balanced or imbalanced\n",
        "_, counts = np.unique(labels,return_counts=True) # count occurrence of each item\n",
        "no_healthy_images = counts[0]\n",
        "no_unhealthy_images = counts[1]\n",
        "\n",
        "# pass variables to a dictionary to be used as dataframe for a better show\n",
        "info_table_dict = {\"no_images\":no_images, \"image_width\": size_images[0],\"image_length\": size_images[1], \"no_labels\":no_labels,\n",
        "                   \"no_healthy_images\":no_healthy_images,\"percentage%\":no_healthy_images*100/no_labels,\n",
        "                   \"no_unhealthy_images\":no_unhealthy_images,\"percentage %\":no_unhealthy_images*100/no_labels }\n",
        "info_table = pd.DataFrame(info_table_dict, index =['value'])\n",
        "info_table"
      ],
      "metadata": {
        "id": "Ay-MIDxM1dvU",
        "colab": {
          "base_uri": "https://localhost:8080/",
          "height": 190
        },
        "outputId": "d7a15c93-657a-4776-91e5-10bbdfcc62d3"
      },
      "execution_count": 8,
      "outputs": [
        {
          "output_type": "stream",
          "name": "stdout",
          "text": [
            "keys in our dataset are:  ['clean_x', 'clean_y']\n",
            "****************************************************************************************************\n",
            "Data shape:  (4850, 96, 96, 3)\n",
            "****************************************************************************************************\n",
            "Labels are :  [0 0 0 ... 0 0 0]\n",
            "****************************************************************************************************\n"
          ]
        },
        {
          "output_type": "execute_result",
          "data": {
            "text/plain": [
              "       no_images  image_width  image_length  no_labels  no_healthy_images  \\\n",
              "value       4850           96            96       4850               3060   \n",
              "\n",
              "       percentage%  no_unhealthy_images  percentage %  \n",
              "value    63.092784                 1790     36.907216  "
            ],
            "text/html": [
              "\n",
              "  <div id=\"df-2322dd10-dc2f-466e-b21b-84a59a2c745c\" class=\"colab-df-container\">\n",
              "    <div>\n",
              "<style scoped>\n",
              "    .dataframe tbody tr th:only-of-type {\n",
              "        vertical-align: middle;\n",
              "    }\n",
              "\n",
              "    .dataframe tbody tr th {\n",
              "        vertical-align: top;\n",
              "    }\n",
              "\n",
              "    .dataframe thead th {\n",
              "        text-align: right;\n",
              "    }\n",
              "</style>\n",
              "<table border=\"1\" class=\"dataframe\">\n",
              "  <thead>\n",
              "    <tr style=\"text-align: right;\">\n",
              "      <th></th>\n",
              "      <th>no_images</th>\n",
              "      <th>image_width</th>\n",
              "      <th>image_length</th>\n",
              "      <th>no_labels</th>\n",
              "      <th>no_healthy_images</th>\n",
              "      <th>percentage%</th>\n",
              "      <th>no_unhealthy_images</th>\n",
              "      <th>percentage %</th>\n",
              "    </tr>\n",
              "  </thead>\n",
              "  <tbody>\n",
              "    <tr>\n",
              "      <th>value</th>\n",
              "      <td>4850</td>\n",
              "      <td>96</td>\n",
              "      <td>96</td>\n",
              "      <td>4850</td>\n",
              "      <td>3060</td>\n",
              "      <td>63.092784</td>\n",
              "      <td>1790</td>\n",
              "      <td>36.907216</td>\n",
              "    </tr>\n",
              "  </tbody>\n",
              "</table>\n",
              "</div>\n",
              "    <div class=\"colab-df-buttons\">\n",
              "\n",
              "  <div class=\"colab-df-container\">\n",
              "    <button class=\"colab-df-convert\" onclick=\"convertToInteractive('df-2322dd10-dc2f-466e-b21b-84a59a2c745c')\"\n",
              "            title=\"Convert this dataframe to an interactive table.\"\n",
              "            style=\"display:none;\">\n",
              "\n",
              "  <svg xmlns=\"http://www.w3.org/2000/svg\" height=\"24px\" viewBox=\"0 -960 960 960\">\n",
              "    <path d=\"M120-120v-720h720v720H120Zm60-500h600v-160H180v160Zm220 220h160v-160H400v160Zm0 220h160v-160H400v160ZM180-400h160v-160H180v160Zm440 0h160v-160H620v160ZM180-180h160v-160H180v160Zm440 0h160v-160H620v160Z\"/>\n",
              "  </svg>\n",
              "    </button>\n",
              "\n",
              "  <style>\n",
              "    .colab-df-container {\n",
              "      display:flex;\n",
              "      gap: 12px;\n",
              "    }\n",
              "\n",
              "    .colab-df-convert {\n",
              "      background-color: #E8F0FE;\n",
              "      border: none;\n",
              "      border-radius: 50%;\n",
              "      cursor: pointer;\n",
              "      display: none;\n",
              "      fill: #1967D2;\n",
              "      height: 32px;\n",
              "      padding: 0 0 0 0;\n",
              "      width: 32px;\n",
              "    }\n",
              "\n",
              "    .colab-df-convert:hover {\n",
              "      background-color: #E2EBFA;\n",
              "      box-shadow: 0px 1px 2px rgba(60, 64, 67, 0.3), 0px 1px 3px 1px rgba(60, 64, 67, 0.15);\n",
              "      fill: #174EA6;\n",
              "    }\n",
              "\n",
              "    .colab-df-buttons div {\n",
              "      margin-bottom: 4px;\n",
              "    }\n",
              "\n",
              "    [theme=dark] .colab-df-convert {\n",
              "      background-color: #3B4455;\n",
              "      fill: #D2E3FC;\n",
              "    }\n",
              "\n",
              "    [theme=dark] .colab-df-convert:hover {\n",
              "      background-color: #434B5C;\n",
              "      box-shadow: 0px 1px 3px 1px rgba(0, 0, 0, 0.15);\n",
              "      filter: drop-shadow(0px 1px 2px rgba(0, 0, 0, 0.3));\n",
              "      fill: #FFFFFF;\n",
              "    }\n",
              "  </style>\n",
              "\n",
              "    <script>\n",
              "      const buttonEl =\n",
              "        document.querySelector('#df-2322dd10-dc2f-466e-b21b-84a59a2c745c button.colab-df-convert');\n",
              "      buttonEl.style.display =\n",
              "        google.colab.kernel.accessAllowed ? 'block' : 'none';\n",
              "\n",
              "      async function convertToInteractive(key) {\n",
              "        const element = document.querySelector('#df-2322dd10-dc2f-466e-b21b-84a59a2c745c');\n",
              "        const dataTable =\n",
              "          await google.colab.kernel.invokeFunction('convertToInteractive',\n",
              "                                                    [key], {});\n",
              "        if (!dataTable) return;\n",
              "\n",
              "        const docLinkHtml = 'Like what you see? Visit the ' +\n",
              "          '<a target=\"_blank\" href=https://colab.research.google.com/notebooks/data_table.ipynb>data table notebook</a>'\n",
              "          + ' to learn more about interactive tables.';\n",
              "        element.innerHTML = '';\n",
              "        dataTable['output_type'] = 'display_data';\n",
              "        await google.colab.output.renderOutput(dataTable, element);\n",
              "        const docLink = document.createElement('div');\n",
              "        docLink.innerHTML = docLinkHtml;\n",
              "        element.appendChild(docLink);\n",
              "      }\n",
              "    </script>\n",
              "  </div>\n",
              "\n",
              "    </div>\n",
              "  </div>\n"
            ]
          },
          "metadata": {},
          "execution_count": 8
        }
      ]
    },
    {
      "cell_type": "markdown",
      "source": [
        "### 6-Split data into training, valdiation and testing blocks"
      ],
      "metadata": {
        "id": "PrB7sWt7urCD"
      }
    },
    {
      "cell_type": "code",
      "source": [
        "# Split the dataset into training and test sets\n",
        "x_train_data, x_test, y_train_data, y_test = train_test_split(\n",
        "    data,\n",
        "    labels,\n",
        "    test_size = 0.2,\n",
        "    shuffle =True,\n",
        "    random_state=seed,\n",
        "    stratify=labels\n",
        ")"
      ],
      "metadata": {
        "id": "-ZS-_bkGPUVD"
      },
      "execution_count": 9,
      "outputs": []
    },
    {
      "cell_type": "code",
      "source": [
        "# Further split the combined training and validation set into a training set and a validation set\n",
        "x_train, x_val, y_train, y_val = train_test_split(\n",
        "    x_train_data,\n",
        "    y_train_data,\n",
        "    test_size = len(x_test), # Ensure validation set size matches test set size--> Why??\n",
        "    random_state=seed,\n",
        "    shuffle =True,\n",
        "    stratify=y_train_data\n",
        ")"
      ],
      "metadata": {
        "id": "MCJ7dXG9PWSo"
      },
      "execution_count": 10,
      "outputs": []
    },
    {
      "cell_type": "code",
      "source": [
        "# Print the shapes of different datsets after splitting the main dataset into training, validation, testing parts\n",
        "print('X_train.shape:',x_train.shape,'y_train.shape:', y_train.shape)\n",
        "print('X_val.shape:',x_val.shape, 'y_val.shape:',y_val.shape)\n",
        "print('X_test.shape:',x_test.shape,'y_test.shape', y_test.shape)"
      ],
      "metadata": {
        "colab": {
          "base_uri": "https://localhost:8080/"
        },
        "id": "GClHE3gsPzbL",
        "outputId": "dfcae8b3-bd37-4a05-d8b9-39ba19580e5e"
      },
      "execution_count": 11,
      "outputs": [
        {
          "output_type": "stream",
          "name": "stdout",
          "text": [
            "X_train.shape: (2910, 96, 96, 3) y_train.shape: (2910,)\n",
            "X_val.shape: (970, 96, 96, 3) y_val.shape: (970,)\n",
            "X_test.shape: (970, 96, 96, 3) y_test.shape (970,)\n"
          ]
        }
      ]
    },
    {
      "cell_type": "markdown",
      "source": [
        "### 7-Watch data distribution in three blocks"
      ],
      "metadata": {
        "id": "HcRCxxErQG54"
      }
    },
    {
      "cell_type": "code",
      "source": [
        "# Create three separate subplots to visualize the sorted target variable values for the training, validation, and test sets\n",
        "\n",
        "# Create a figure for the training labels subplot\n",
        "plt.figure(figsize=(20, 2))\n",
        "plt.scatter((np.arange(y_train.shape[0])), np.sort(y_train, axis=0), label=f'Number of items here is: {y_train.shape[0]}')\n",
        "plt.title('Training part')\n",
        "plt.xticks([])  # Remove x-axis ticks\n",
        "plt.grid(0.2)   # Add a grid with opacity 0.2 for reference\n",
        "plt.ylim([-0.1, 1.1])  # Set the y-axis limits to [0.1, 1.1]\n",
        "plt.legend()\n",
        "\n",
        "# Create a figure for the validation labels subplot\n",
        "plt.figure(figsize=(20, 2))\n",
        "plt.scatter(np.arange(y_val.shape[0]), np.sort(y_val, axis=0),color='red',label=f'Number of items here is: {y_val.shape[0]}')\n",
        "plt.title('Validation part')\n",
        "plt.xticks([])  # Remove x-axis ticks\n",
        "plt.grid(0.2)   # Add a grid with opacity 0.2 for reference\n",
        "plt.ylim([-0.1, 1.1])  # Set the y-axis limits to [0.1, 1.1]\n",
        "plt.legend()\n",
        "\n",
        "# Create a figure for the test labels subplot\n",
        "plt.figure(figsize=(20, 2))\n",
        "plt.scatter(np.arange(y_test.shape[0]), np.sort(y_test, axis=0),color='green', label=f'Number of items here is: {y_test.shape[0]}')\n",
        "plt.title('Test part')\n",
        "plt.xticks([])  # Remove x-axis ticks\n",
        "plt.grid(0.2)   # Add a grid with opacity 0.2 for reference\n",
        "plt.ylim([-0.1, 1.1])  # Set the y-axis limits to [0.1, 1.1]\n",
        "plt.legend()\n",
        "\n",
        "# Display the plots\n",
        "plt.show()"
      ],
      "metadata": {
        "colab": {
          "base_uri": "https://localhost:8080/",
          "height": 500
        },
        "id": "jK_uMJirQGRk",
        "outputId": "c61def36-8354-4bda-a568-5f8726ba9b93"
      },
      "execution_count": 12,
      "outputs": [
        {
          "output_type": "display_data",
          "data": {
            "text/plain": [
              "<Figure size 2000x200 with 1 Axes>"
            ],
            "image/png": "[encoded data removed]"
          },
          "metadata": {}
        },
        {
          "output_type": "display_data",
          "data": {
            "text/plain": [
              "<Figure size 2000x200 with 1 Axes>"
            ],
            "image/png": "[encoded data removed]"
          },
          "metadata": {}
        },
        {
          "output_type": "display_data",
          "data": {
            "text/plain": [
              "<Figure size 2000x200 with 1 Axes>"
            ],
            "image/png": "[encoded data removed]"
          },
          "metadata": {}
        }
      ]
    },
    {
      "cell_type": "markdown",
      "source": [
        "### 8- Feature Scaling"
      ],
      "metadata": {
        "id": "J7ITNoQQHSNK"
      }
    },
    {
      "cell_type": "code",
      "source": [
        "# In order to have a better result, we do feature scaling.\n",
        "x_train = x_train/255.0\n",
        "x_val = x_val/255.0\n",
        "x_test = x_test/255.0"
      ],
      "metadata": {
        "id": "OfZdzyA2xnYo"
      },
      "execution_count": 13,
      "outputs": []
    },
    {
      "cell_type": "markdown",
      "source": [
        "### 9-Callbacks"
      ],
      "metadata": {
        "id": "Y77pLA_pAoxs"
      }
    },
    {
      "cell_type": "code",
      "source": [
        "def Checkpoint(address):\n",
        "\n",
        "  # CheckPoint callback ---> to save wieghts\n",
        "  checkpoint_path = address # The path to save wights of the model after training\n",
        "  My_ModelCheckpoint_callback =callbacks.ModelCheckpoint(filepath=checkpoint_path,\n",
        "                                          monitor='val_accuracy',\n",
        "                                          verbose=1,\n",
        "                                          save_weights_only=False,\n",
        "                                          save_best_only=True,\n",
        "                                          mode='max',\n",
        "                                          save_freq ='epoch')\n",
        "  return My_ModelCheckpoint_callback\n",
        "\n",
        "##############################################################################\n",
        "def earlystopping():\n",
        "\n",
        "  # EarlyStopping callback --> Stop learning if it does not see any imporvement.\n",
        "  My_EarlyStopping_callback = callbacks.EarlyStopping(monitor=\"val_accuracy\",\n",
        "                                                  min_delta=.02,\n",
        "                                                  patience=25,\n",
        "                                                  verbose=1,\n",
        "                                                  mode=\"max\",\n",
        "                                                  restore_best_weights=True)\n",
        "  return My_EarlyStopping_callback"
      ],
      "metadata": {
        "id": "lf2GxKsoTQLx"
      },
      "execution_count": 14,
      "outputs": []
    },
    {
      "cell_type": "markdown",
      "source": [
        "### 10-Plot accuracy"
      ],
      "metadata": {
        "id": "DMXlvKWgUZYA"
      }
    },
    {
      "cell_type": "code",
      "source": [
        "def plot_accuracy(history_dict):\n",
        "  plt.figure(figsize=(21, 4))\n",
        "  accuracy_colors = ['#a1c9f4', '#ffc58a', '#9ae6a0', '#f6a1a1', '#c3b9d0',\n",
        "                  '#bf9a8a', '#f1c7e6', '#c0c0c0', '#e3e0a7', '#8edbf0']\n",
        "\n",
        "  val_accuracy_colors = ['#0e5a8d', '#c1680a', '#1d6c1d', '#861b1b', '#594173',\n",
        "                 '#513c34', '#a85894', '#595959', '#7f7d12', '#0e688c']\n",
        "  index = 0\n",
        "  for name in history_dict.keys():\n",
        "      plt.plot(history_dict[name]['accuracy'], label=f\"{name}_accuracy\", alpha=0.8,color=accuracy_colors[index])\n",
        "      plt.plot(history_dict[name]['val_accuracy'], label=f\"{name}_val_accuracy\", alpha=0.8,color=val_accuracy_colors[index])\n",
        "      index+=1\n",
        "\n",
        "  plt.title(\"Graphs\")\n",
        "  plt.legend()\n",
        "  plt.xlabel('Epochs')\n",
        "  plt.ylabel('Validation Accuracy')\n",
        "  plt.grid(alpha=0.3)\n",
        "  plt.show()\n",
        "\n",
        "# Example usage:\n",
        "# history_dict = {'model1': {'val_accuracy': [0.5, 0.6, 0.7, 0.8]},\n",
        "#                 'model2': {'val_accuracy': [0.4, 0.5, 0.6, 0.7]}}\n",
        "# plot_accuracy(history_dict)\n"
      ],
      "metadata": {
        "id": "AvPzf0ZkTzNn"
      },
      "execution_count": 15,
      "outputs": []
    },
    {
      "cell_type": "code",
      "source": [
        "history_dict ={} # to save history of different models"
      ],
      "metadata": {
        "id": "eZGtTztmymKr"
      },
      "execution_count": 16,
      "outputs": []
    },
    {
      "cell_type": "markdown",
      "source": [
        "### 11- Trun labels to categories"
      ],
      "metadata": {
        "id": "QyE-OHYLm_Sw"
      }
    },
    {
      "cell_type": "code",
      "source": [
        "# since we use softamx in our models, we turn y to categorical class\n",
        "y_train = to_categorical(y_train)\n",
        "y_val = to_categorical(y_val)\n",
        "y_test = to_categorical(y_test)"
      ],
      "metadata": {
        "id": "_lg4VXf1m04p"
      },
      "execution_count": 17,
      "outputs": []
    },
    {
      "cell_type": "code",
      "source": [
        "print(\"y_train.shape: \",y_train.shape)\n",
        "print(\"5 items of y_train in this state:\\n \",y_train[:5])"
      ],
      "metadata": {
        "colab": {
          "base_uri": "https://localhost:8080/"
        },
        "id": "zc5xNbZEm9Nd",
        "outputId": "e9c3dfcd-0125-41c3-8478-06328d888b35"
      },
      "execution_count": 18,
      "outputs": [
        {
          "output_type": "stream",
          "name": "stdout",
          "text": [
            "y_train.shape:  (2910, 2)\n",
            "5 items of y_train in this state:\n",
            "  [[1. 0.]\n",
            " [1. 0.]\n",
            " [0. 1.]\n",
            " [0. 1.]\n",
            " [1. 0.]]\n"
          ]
        }
      ]
    },
    {
      "cell_type": "markdown",
      "source": [
        "###12-Hyperparameters"
      ],
      "metadata": {
        "id": "gNO-rWOBU4zL"
      }
    },
    {
      "cell_type": "code",
      "source": [
        "# Define the input shape for the neural network, excluding the batch size\n",
        "input_shape = x_train.shape[1:]\n",
        "print('input_shape',input_shape)\n",
        "\n",
        "# Define the batch size for training\n",
        "batch_size = 64\n",
        "\n",
        "# Define the number of training epochs and learning_rate\n",
        "epochs = 100\n",
        "learning_rate = 1e-3\n"
      ],
      "metadata": {
        "id": "3LBXy1Bg90Ok",
        "colab": {
          "base_uri": "https://localhost:8080/"
        },
        "outputId": "f99b8d9e-7a3b-44de-9920-9a77b7a79c2f"
      },
      "execution_count": 19,
      "outputs": [
        {
          "output_type": "stream",
          "name": "stdout",
          "text": [
            "input_shape (96, 96, 3)\n"
          ]
        }
      ]
    },
    {
      "cell_type": "markdown",
      "source": [
        "### 12- Simple Convolutional Neural Networks(SCNN)"
      ],
      "metadata": {
        "id": "EmS2YrVJVdAz"
      }
    },
    {
      "cell_type": "markdown",
      "source": [
        "####12-1 Define Model"
      ],
      "metadata": {
        "id": "M_Q1-NCunqYm"
      }
    },
    {
      "cell_type": "code",
      "source": [
        "def SCNN(input_shape=input_shape):\n",
        "\n",
        "  '''This Simple CNN netowrk includes 3 convlutional networks+ 1 flatten layers+ 1full connetced layer + 1 classifier layer'''\n",
        "\n",
        "\n",
        "\n",
        "  model = models.Sequential()\n",
        "  model.add(layers.Conv2D(32, (3, 3), activation='relu',\n",
        "                          input_shape= input_shape))\n",
        "\n",
        "  model.add(layers.Conv2D(64, (3, 3), activation='relu'))\n",
        "  model.add(layers.Conv2D(128, (3, 3), activation='relu'))\n",
        "  model.add(layers.Flatten())\n",
        "  model.add(layers.Dense(10, activation='relu'))\n",
        "  model.add(layers.Dense(2, activation='softmax'))\n",
        "\n",
        "  return model"
      ],
      "metadata": {
        "id": "KW9qiLWJVlKp"
      },
      "execution_count": 20,
      "outputs": []
    },
    {
      "cell_type": "markdown",
      "source": [
        "####12-2 Compile Model"
      ],
      "metadata": {
        "id": "0dwUUgFDokNW"
      }
    },
    {
      "cell_type": "code",
      "source": [
        "SCNN = SCNN()\n",
        "SCNN.compile(loss='categorical_crossentropy',\n",
        "              optimizer=tf.keras.optimizers.Adam(learning_rate=learning_rate),\n",
        "              metrics=[keras.metrics.Precision(), keras.metrics.Recall(),'accuracy'],)"
      ],
      "metadata": {
        "id": "KCG3nnd_WBuV"
      },
      "execution_count": 21,
      "outputs": []
    },
    {
      "cell_type": "code",
      "source": [
        "SCNN.summary()"
      ],
      "metadata": {
        "colab": {
          "base_uri": "https://localhost:8080/"
        },
        "id": "LIIsJEB3W9H-",
        "outputId": "b863bb56-8aa6-420d-d3ff-b4198ec41b88"
      },
      "execution_count": 22,
      "outputs": [
        {
          "output_type": "stream",
          "name": "stdout",
          "text": [
            "Model: \"sequential\"\n",
            "_________________________________________________________________\n",
            " Layer (type)                Output Shape              Param #   \n",
            "=================================================================\n",
            " conv2d (Conv2D)             (None, 94, 94, 32)        896       \n",
            "                                                                 \n",
            " conv2d_1 (Conv2D)           (None, 92, 92, 64)        18496     \n",
            "                                                                 \n",
            " conv2d_2 (Conv2D)           (None, 90, 90, 128)       73856     \n",
            "                                                                 \n",
            " flatten (Flatten)           (None, 1036800)           0         \n",
            "                                                                 \n",
            " dense (Dense)               (None, 10)                10368010  \n",
            "                                                                 \n",
            " dense_1 (Dense)             (None, 2)                 22        \n",
            "                                                                 \n",
            "=================================================================\n",
            "Total params: 10461280 (39.91 MB)\n",
            "Trainable params: 10461280 (39.91 MB)\n",
            "Non-trainable params: 0 (0.00 Byte)\n",
            "_________________________________________________________________\n"
          ]
        }
      ]
    },
    {
      "cell_type": "markdown",
      "source": [
        "####12-3 Fit model"
      ],
      "metadata": {
        "id": "03_9czkwo77d"
      }
    },
    {
      "cell_type": "code",
      "source": [
        "SCNN = SCNN.fit(\n",
        "    x = x_train,\n",
        "    y = y_train,\n",
        "    validation_data = (x_val, y_val),\n",
        "    batch_size = batch_size,\n",
        "    epochs = epochs\n",
        ")"
      ],
      "metadata": {
        "colab": {
          "base_uri": "https://localhost:8080/"
        },
        "id": "uIyMwMz8WXvL",
        "outputId": "a13fbde3-be17-4bfe-e539-dcfad857c979"
      },
      "execution_count": 23,
      "outputs": [
        {
          "output_type": "stream",
          "name": "stdout",
          "text": [
            "Epoch 1/100\n",
            "46/46 [==============================] - 20s 139ms/step - loss: 0.7274 - precision: 0.6131 - recall: 0.6131 - accuracy: 0.6131 - val_loss: 0.6726 - val_precision: 0.6309 - val_recall: 0.6309 - val_accuracy: 0.6309\n",
            "Epoch 2/100\n",
            "46/46 [==============================] - 5s 98ms/step - loss: 0.6558 - precision: 0.6309 - recall: 0.6309 - accuracy: 0.6309 - val_loss: 0.6298 - val_precision: 0.6309 - val_recall: 0.6309 - val_accuracy: 0.6309\n",
            "Epoch 3/100\n",
            "46/46 [==============================] - 5s 98ms/step - loss: 0.6119 - precision: 0.6309 - recall: 0.6309 - accuracy: 0.6309 - val_loss: 0.6143 - val_precision: 0.6309 - val_recall: 0.6309 - val_accuracy: 0.6309\n",
            "Epoch 4/100\n",
            "46/46 [==============================] - 5s 101ms/step - loss: 0.5595 - precision: 0.6670 - recall: 0.6670 - accuracy: 0.6670 - val_loss: 0.6242 - val_precision: 0.6722 - val_recall: 0.6722 - val_accuracy: 0.6722\n",
            "Epoch 5/100\n",
            "46/46 [==============================] - 5s 101ms/step - loss: 0.4963 - precision: 0.7735 - recall: 0.7735 - accuracy: 0.7735 - val_loss: 0.6688 - val_precision: 0.6299 - val_recall: 0.6299 - val_accuracy: 0.6299\n",
            "Epoch 6/100\n",
            "46/46 [==============================] - 5s 99ms/step - loss: 0.3591 - precision: 0.8464 - recall: 0.8464 - accuracy: 0.8464 - val_loss: 0.8499 - val_precision: 0.6515 - val_recall: 0.6515 - val_accuracy: 0.6515\n",
            "Epoch 7/100\n",
            "46/46 [==============================] - 5s 99ms/step - loss: 0.2028 - precision: 0.9210 - recall: 0.9210 - accuracy: 0.9210 - val_loss: 0.9378 - val_precision: 0.6639 - val_recall: 0.6639 - val_accuracy: 0.6639\n",
            "Epoch 8/100\n",
            "46/46 [==============================] - 5s 103ms/step - loss: 0.0977 - precision: 0.9691 - recall: 0.9691 - accuracy: 0.9691 - val_loss: 1.4114 - val_precision: 0.6588 - val_recall: 0.6588 - val_accuracy: 0.6588\n",
            "Epoch 9/100\n",
            "46/46 [==============================] - 4s 95ms/step - loss: 0.0474 - precision: 0.9876 - recall: 0.9876 - accuracy: 0.9876 - val_loss: 1.7292 - val_precision: 0.6485 - val_recall: 0.6485 - val_accuracy: 0.6485\n",
            "Epoch 10/100\n",
            "46/46 [==============================] - 5s 99ms/step - loss: 0.0210 - precision: 0.9959 - recall: 0.9959 - accuracy: 0.9959 - val_loss: 1.9210 - val_precision: 0.6278 - val_recall: 0.6278 - val_accuracy: 0.6278\n",
            "Epoch 11/100\n",
            "46/46 [==============================] - 5s 102ms/step - loss: 0.0110 - precision: 0.9993 - recall: 0.9993 - accuracy: 0.9993 - val_loss: 2.4406 - val_precision: 0.6320 - val_recall: 0.6320 - val_accuracy: 0.6320\n",
            "Epoch 12/100\n",
            "46/46 [==============================] - 4s 97ms/step - loss: 0.0087 - precision: 1.0000 - recall: 1.0000 - accuracy: 1.0000 - val_loss: 2.4211 - val_precision: 0.6309 - val_recall: 0.6309 - val_accuracy: 0.6309\n",
            "Epoch 13/100\n",
            "46/46 [==============================] - 4s 95ms/step - loss: 0.0077 - precision: 0.9997 - recall: 0.9997 - accuracy: 0.9997 - val_loss: 2.6737 - val_precision: 0.6299 - val_recall: 0.6299 - val_accuracy: 0.6299\n",
            "Epoch 14/100\n",
            "46/46 [==============================] - 5s 101ms/step - loss: 0.0073 - precision: 1.0000 - recall: 1.0000 - accuracy: 1.0000 - val_loss: 2.7477 - val_precision: 0.6299 - val_recall: 0.6299 - val_accuracy: 0.6299\n",
            "Epoch 15/100\n",
            "46/46 [==============================] - 5s 104ms/step - loss: 0.0071 - precision: 1.0000 - recall: 1.0000 - accuracy: 1.0000 - val_loss: 2.8542 - val_precision: 0.6289 - val_recall: 0.6289 - val_accuracy: 0.6289\n",
            "Epoch 16/100\n",
            "46/46 [==============================] - 5s 101ms/step - loss: 0.0070 - precision: 1.0000 - recall: 1.0000 - accuracy: 1.0000 - val_loss: 2.9204 - val_precision: 0.6299 - val_recall: 0.6299 - val_accuracy: 0.6299\n",
            "Epoch 17/100\n",
            "46/46 [==============================] - 5s 99ms/step - loss: 0.0069 - precision: 1.0000 - recall: 1.0000 - accuracy: 1.0000 - val_loss: 2.9946 - val_precision: 0.6278 - val_recall: 0.6278 - val_accuracy: 0.6278\n",
            "Epoch 18/100\n",
            "46/46 [==============================] - 5s 103ms/step - loss: 0.0068 - precision: 1.0000 - recall: 1.0000 - accuracy: 1.0000 - val_loss: 3.0574 - val_precision: 0.6268 - val_recall: 0.6268 - val_accuracy: 0.6268\n",
            "Epoch 19/100\n",
            "46/46 [==============================] - 5s 101ms/step - loss: 0.0068 - precision: 1.0000 - recall: 1.0000 - accuracy: 1.0000 - val_loss: 3.1601 - val_precision: 0.6309 - val_recall: 0.6309 - val_accuracy: 0.6309\n",
            "Epoch 20/100\n",
            "46/46 [==============================] - 5s 100ms/step - loss: 0.0067 - precision: 1.0000 - recall: 1.0000 - accuracy: 1.0000 - val_loss: 3.1675 - val_precision: 0.6247 - val_recall: 0.6247 - val_accuracy: 0.6247\n",
            "Epoch 21/100\n",
            "46/46 [==============================] - 5s 103ms/step - loss: 0.0068 - precision: 0.9997 - recall: 0.9997 - accuracy: 0.9997 - val_loss: 3.0714 - val_precision: 0.6278 - val_recall: 0.6278 - val_accuracy: 0.6278\n",
            "Epoch 22/100\n",
            "46/46 [==============================] - 5s 99ms/step - loss: 0.0067 - precision: 1.0000 - recall: 1.0000 - accuracy: 1.0000 - val_loss: 3.2068 - val_precision: 0.6278 - val_recall: 0.6278 - val_accuracy: 0.6278\n",
            "Epoch 23/100\n",
            "46/46 [==============================] - 5s 100ms/step - loss: 0.0065 - precision: 1.0000 - recall: 1.0000 - accuracy: 1.0000 - val_loss: 3.2479 - val_precision: 0.6216 - val_recall: 0.6216 - val_accuracy: 0.6216\n",
            "Epoch 24/100\n",
            "46/46 [==============================] - 4s 96ms/step - loss: 0.0065 - precision: 1.0000 - recall: 1.0000 - accuracy: 1.0000 - val_loss: 3.3116 - val_precision: 0.6258 - val_recall: 0.6258 - val_accuracy: 0.6258\n",
            "Epoch 25/100\n",
            "46/46 [==============================] - 5s 104ms/step - loss: 0.0064 - precision: 1.0000 - recall: 1.0000 - accuracy: 1.0000 - val_loss: 3.3466 - val_precision: 0.6278 - val_recall: 0.6278 - val_accuracy: 0.6278\n",
            "Epoch 26/100\n",
            "46/46 [==============================] - 5s 100ms/step - loss: 0.0076 - precision: 0.9993 - recall: 0.9993 - accuracy: 0.9993 - val_loss: 2.9795 - val_precision: 0.6423 - val_recall: 0.6423 - val_accuracy: 0.6423\n",
            "Epoch 27/100\n",
            "46/46 [==============================] - 4s 96ms/step - loss: 0.0101 - precision: 0.9990 - recall: 0.9990 - accuracy: 0.9990 - val_loss: 2.9160 - val_precision: 0.5990 - val_recall: 0.5990 - val_accuracy: 0.5990\n",
            "Epoch 28/100\n",
            "46/46 [==============================] - 4s 97ms/step - loss: 0.0719 - precision: 0.9773 - recall: 0.9773 - accuracy: 0.9773 - val_loss: 2.3162 - val_precision: 0.5732 - val_recall: 0.5732 - val_accuracy: 0.5732\n",
            "Epoch 29/100\n",
            "46/46 [==============================] - 5s 102ms/step - loss: 0.1360 - precision: 0.9550 - recall: 0.9550 - accuracy: 0.9550 - val_loss: 1.6530 - val_precision: 0.6247 - val_recall: 0.6247 - val_accuracy: 0.6247\n",
            "Epoch 30/100\n",
            "46/46 [==============================] - 5s 100ms/step - loss: 0.0245 - precision: 0.9931 - recall: 0.9931 - accuracy: 0.9931 - val_loss: 2.3455 - val_precision: 0.6103 - val_recall: 0.6103 - val_accuracy: 0.6103\n",
            "Epoch 31/100\n",
            "46/46 [==============================] - 5s 100ms/step - loss: 0.0117 - precision: 0.9997 - recall: 0.9997 - accuracy: 0.9997 - val_loss: 2.7278 - val_precision: 0.6134 - val_recall: 0.6134 - val_accuracy: 0.6134\n",
            "Epoch 32/100\n",
            "46/46 [==============================] - 5s 104ms/step - loss: 0.0062 - precision: 0.9997 - recall: 0.9997 - accuracy: 0.9997 - val_loss: 2.7727 - val_precision: 0.6278 - val_recall: 0.6278 - val_accuracy: 0.6278\n",
            "Epoch 33/100\n",
            "46/46 [==============================] - 5s 100ms/step - loss: 0.0062 - precision: 0.9997 - recall: 0.9997 - accuracy: 0.9997 - val_loss: 2.9431 - val_precision: 0.6299 - val_recall: 0.6299 - val_accuracy: 0.6299\n",
            "Epoch 34/100\n",
            "46/46 [==============================] - 5s 100ms/step - loss: 0.0057 - precision: 0.9997 - recall: 0.9997 - accuracy: 0.9997 - val_loss: 3.0786 - val_precision: 0.6320 - val_recall: 0.6320 - val_accuracy: 0.6320\n",
            "Epoch 35/100\n",
            "46/46 [==============================] - 5s 103ms/step - loss: 0.0051 - precision: 1.0000 - recall: 1.0000 - accuracy: 1.0000 - val_loss: 3.1748 - val_precision: 0.6247 - val_recall: 0.6247 - val_accuracy: 0.6247\n",
            "Epoch 36/100\n",
            "46/46 [==============================] - 4s 97ms/step - loss: 0.0050 - precision: 1.0000 - recall: 1.0000 - accuracy: 1.0000 - val_loss: 3.2429 - val_precision: 0.6268 - val_recall: 0.6268 - val_accuracy: 0.6268\n",
            "Epoch 37/100\n",
            "46/46 [==============================] - 5s 100ms/step - loss: 0.0049 - precision: 1.0000 - recall: 1.0000 - accuracy: 1.0000 - val_loss: 3.2953 - val_precision: 0.6247 - val_recall: 0.6247 - val_accuracy: 0.6247\n",
            "Epoch 38/100\n",
            "46/46 [==============================] - 5s 101ms/step - loss: 0.0048 - precision: 1.0000 - recall: 1.0000 - accuracy: 1.0000 - val_loss: 3.3424 - val_precision: 0.6258 - val_recall: 0.6258 - val_accuracy: 0.6258\n",
            "Epoch 39/100\n",
            "46/46 [==============================] - 5s 104ms/step - loss: 0.0048 - precision: 1.0000 - recall: 1.0000 - accuracy: 1.0000 - val_loss: 3.3819 - val_precision: 0.6278 - val_recall: 0.6278 - val_accuracy: 0.6278\n",
            "Epoch 40/100\n",
            "46/46 [==============================] - 5s 100ms/step - loss: 0.0047 - precision: 1.0000 - recall: 1.0000 - accuracy: 1.0000 - val_loss: 3.4193 - val_precision: 0.6278 - val_recall: 0.6278 - val_accuracy: 0.6278\n",
            "Epoch 41/100\n",
            "46/46 [==============================] - 5s 100ms/step - loss: 0.0047 - precision: 1.0000 - recall: 1.0000 - accuracy: 1.0000 - val_loss: 3.4512 - val_precision: 0.6278 - val_recall: 0.6278 - val_accuracy: 0.6278\n",
            "Epoch 42/100\n",
            "46/46 [==============================] - 5s 103ms/step - loss: 0.0046 - precision: 1.0000 - recall: 1.0000 - accuracy: 1.0000 - val_loss: 3.4583 - val_precision: 0.6402 - val_recall: 0.6402 - val_accuracy: 0.6402\n",
            "Epoch 43/100\n",
            "46/46 [==============================] - 5s 101ms/step - loss: 0.0046 - precision: 1.0000 - recall: 1.0000 - accuracy: 1.0000 - val_loss: 3.4372 - val_precision: 0.6278 - val_recall: 0.6278 - val_accuracy: 0.6278\n",
            "Epoch 44/100\n",
            "46/46 [==============================] - 4s 96ms/step - loss: 0.0045 - precision: 1.0000 - recall: 1.0000 - accuracy: 1.0000 - val_loss: 3.4732 - val_precision: 0.6278 - val_recall: 0.6278 - val_accuracy: 0.6278\n",
            "Epoch 45/100\n",
            "46/46 [==============================] - 5s 102ms/step - loss: 0.0045 - precision: 1.0000 - recall: 1.0000 - accuracy: 1.0000 - val_loss: 3.5085 - val_precision: 0.6258 - val_recall: 0.6258 - val_accuracy: 0.6258\n",
            "Epoch 46/100\n",
            "46/46 [==============================] - 5s 102ms/step - loss: 0.0044 - precision: 1.0000 - recall: 1.0000 - accuracy: 1.0000 - val_loss: 3.5604 - val_precision: 0.6268 - val_recall: 0.6268 - val_accuracy: 0.6268\n",
            "Epoch 47/100\n",
            "46/46 [==============================] - 5s 100ms/step - loss: 0.0045 - precision: 1.0000 - recall: 1.0000 - accuracy: 1.0000 - val_loss: 3.5659 - val_precision: 0.6289 - val_recall: 0.6289 - val_accuracy: 0.6289\n",
            "Epoch 48/100\n",
            "46/46 [==============================] - 4s 97ms/step - loss: 0.0044 - precision: 1.0000 - recall: 1.0000 - accuracy: 1.0000 - val_loss: 3.6111 - val_precision: 0.6299 - val_recall: 0.6299 - val_accuracy: 0.6299\n",
            "Epoch 49/100\n",
            "46/46 [==============================] - 5s 104ms/step - loss: 0.0043 - precision: 1.0000 - recall: 1.0000 - accuracy: 1.0000 - val_loss: 3.6489 - val_precision: 0.6299 - val_recall: 0.6299 - val_accuracy: 0.6299\n",
            "Epoch 50/100\n",
            "46/46 [==============================] - 5s 100ms/step - loss: 0.0043 - precision: 1.0000 - recall: 1.0000 - accuracy: 1.0000 - val_loss: 3.6823 - val_precision: 0.6309 - val_recall: 0.6309 - val_accuracy: 0.6309\n",
            "Epoch 51/100\n",
            "46/46 [==============================] - 4s 96ms/step - loss: 0.0042 - precision: 1.0000 - recall: 1.0000 - accuracy: 1.0000 - val_loss: 3.7099 - val_precision: 0.6299 - val_recall: 0.6299 - val_accuracy: 0.6299\n",
            "Epoch 52/100\n",
            "46/46 [==============================] - 5s 102ms/step - loss: 0.0042 - precision: 1.0000 - recall: 1.0000 - accuracy: 1.0000 - val_loss: 3.7388 - val_precision: 0.6309 - val_recall: 0.6309 - val_accuracy: 0.6309\n",
            "Epoch 53/100\n",
            "46/46 [==============================] - 5s 103ms/step - loss: 0.0041 - precision: 1.0000 - recall: 1.0000 - accuracy: 1.0000 - val_loss: 3.7646 - val_precision: 0.6309 - val_recall: 0.6309 - val_accuracy: 0.6309\n",
            "Epoch 54/100\n",
            "46/46 [==============================] - 5s 100ms/step - loss: 0.0041 - precision: 1.0000 - recall: 1.0000 - accuracy: 1.0000 - val_loss: 3.7895 - val_precision: 0.6340 - val_recall: 0.6340 - val_accuracy: 0.6340\n",
            "Epoch 55/100\n",
            "46/46 [==============================] - 4s 97ms/step - loss: 0.0040 - precision: 1.0000 - recall: 1.0000 - accuracy: 1.0000 - val_loss: 3.8128 - val_precision: 0.6330 - val_recall: 0.6330 - val_accuracy: 0.6330\n",
            "Epoch 56/100\n",
            "46/46 [==============================] - 5s 100ms/step - loss: 0.0040 - precision: 1.0000 - recall: 1.0000 - accuracy: 1.0000 - val_loss: 3.8365 - val_precision: 0.6320 - val_recall: 0.6320 - val_accuracy: 0.6320\n",
            "Epoch 57/100\n",
            "46/46 [==============================] - 4s 96ms/step - loss: 0.0039 - precision: 1.0000 - recall: 1.0000 - accuracy: 1.0000 - val_loss: 3.8604 - val_precision: 0.6320 - val_recall: 0.6320 - val_accuracy: 0.6320\n",
            "Epoch 58/100\n",
            "46/46 [==============================] - 5s 100ms/step - loss: 0.0039 - precision: 1.0000 - recall: 1.0000 - accuracy: 1.0000 - val_loss: 3.8836 - val_precision: 0.6330 - val_recall: 0.6330 - val_accuracy: 0.6330\n",
            "Epoch 59/100\n",
            "46/46 [==============================] - 5s 103ms/step - loss: 0.0038 - precision: 1.0000 - recall: 1.0000 - accuracy: 1.0000 - val_loss: 3.9055 - val_precision: 0.6340 - val_recall: 0.6340 - val_accuracy: 0.6340\n",
            "Epoch 60/100\n",
            "46/46 [==============================] - 4s 98ms/step - loss: 0.0038 - precision: 1.0000 - recall: 1.0000 - accuracy: 1.0000 - val_loss: 3.9288 - val_precision: 0.6340 - val_recall: 0.6340 - val_accuracy: 0.6340\n",
            "Epoch 61/100\n",
            "46/46 [==============================] - 4s 96ms/step - loss: 0.0037 - precision: 1.0000 - recall: 1.0000 - accuracy: 1.0000 - val_loss: 3.9524 - val_precision: 0.6340 - val_recall: 0.6340 - val_accuracy: 0.6340\n",
            "Epoch 62/100\n",
            "46/46 [==============================] - 4s 97ms/step - loss: 0.0037 - precision: 1.0000 - recall: 1.0000 - accuracy: 1.0000 - val_loss: 3.9739 - val_precision: 0.6351 - val_recall: 0.6351 - val_accuracy: 0.6351\n",
            "Epoch 63/100\n",
            "46/46 [==============================] - 5s 101ms/step - loss: 0.0036 - precision: 1.0000 - recall: 1.0000 - accuracy: 1.0000 - val_loss: 3.9947 - val_precision: 0.6351 - val_recall: 0.6351 - val_accuracy: 0.6351\n",
            "Epoch 64/100\n",
            "46/46 [==============================] - 4s 96ms/step - loss: 0.0036 - precision: 1.0000 - recall: 1.0000 - accuracy: 1.0000 - val_loss: 4.0144 - val_precision: 0.6361 - val_recall: 0.6361 - val_accuracy: 0.6361\n",
            "Epoch 65/100\n",
            "46/46 [==============================] - 5s 100ms/step - loss: 0.0035 - precision: 1.0000 - recall: 1.0000 - accuracy: 1.0000 - val_loss: 4.0335 - val_precision: 0.6351 - val_recall: 0.6351 - val_accuracy: 0.6351\n",
            "Epoch 66/100\n",
            "46/46 [==============================] - 5s 102ms/step - loss: 0.0035 - precision: 1.0000 - recall: 1.0000 - accuracy: 1.0000 - val_loss: 4.0502 - val_precision: 0.6351 - val_recall: 0.6351 - val_accuracy: 0.6351\n",
            "Epoch 67/100\n",
            "46/46 [==============================] - 5s 103ms/step - loss: 0.0034 - precision: 1.0000 - recall: 1.0000 - accuracy: 1.0000 - val_loss: 4.0666 - val_precision: 0.6351 - val_recall: 0.6351 - val_accuracy: 0.6351\n",
            "Epoch 68/100\n",
            "46/46 [==============================] - 5s 100ms/step - loss: 0.0034 - precision: 1.0000 - recall: 1.0000 - accuracy: 1.0000 - val_loss: 4.0819 - val_precision: 0.6351 - val_recall: 0.6351 - val_accuracy: 0.6351\n",
            "Epoch 69/100\n",
            "46/46 [==============================] - 4s 97ms/step - loss: 0.0033 - precision: 1.0000 - recall: 1.0000 - accuracy: 1.0000 - val_loss: 4.1003 - val_precision: 0.6340 - val_recall: 0.6340 - val_accuracy: 0.6340\n",
            "Epoch 70/100\n",
            "46/46 [==============================] - 5s 101ms/step - loss: 0.0033 - precision: 1.0000 - recall: 1.0000 - accuracy: 1.0000 - val_loss: 4.1136 - val_precision: 0.6340 - val_recall: 0.6340 - val_accuracy: 0.6340\n",
            "Epoch 71/100\n",
            "46/46 [==============================] - 5s 100ms/step - loss: 0.0032 - precision: 1.0000 - recall: 1.0000 - accuracy: 1.0000 - val_loss: 4.1288 - val_precision: 0.6340 - val_recall: 0.6340 - val_accuracy: 0.6340\n",
            "Epoch 72/100\n",
            "46/46 [==============================] - 5s 101ms/step - loss: 0.0032 - precision: 1.0000 - recall: 1.0000 - accuracy: 1.0000 - val_loss: 4.1424 - val_precision: 0.6340 - val_recall: 0.6340 - val_accuracy: 0.6340\n",
            "Epoch 73/100\n",
            "46/46 [==============================] - 5s 103ms/step - loss: 0.0031 - precision: 1.0000 - recall: 1.0000 - accuracy: 1.0000 - val_loss: 4.1576 - val_precision: 0.6340 - val_recall: 0.6340 - val_accuracy: 0.6340\n",
            "Epoch 74/100\n",
            "46/46 [==============================] - 5s 101ms/step - loss: 0.0031 - precision: 1.0000 - recall: 1.0000 - accuracy: 1.0000 - val_loss: 4.1724 - val_precision: 0.6361 - val_recall: 0.6361 - val_accuracy: 0.6361\n",
            "Epoch 75/100\n",
            "46/46 [==============================] - 5s 101ms/step - loss: 0.0030 - precision: 1.0000 - recall: 1.0000 - accuracy: 1.0000 - val_loss: 4.1862 - val_precision: 0.6361 - val_recall: 0.6361 - val_accuracy: 0.6361\n",
            "Epoch 76/100\n",
            "46/46 [==============================] - 5s 98ms/step - loss: 0.0030 - precision: 1.0000 - recall: 1.0000 - accuracy: 1.0000 - val_loss: 4.2011 - val_precision: 0.6351 - val_recall: 0.6351 - val_accuracy: 0.6351\n",
            "Epoch 77/100\n",
            "46/46 [==============================] - 5s 103ms/step - loss: 0.0029 - precision: 1.0000 - recall: 1.0000 - accuracy: 1.0000 - val_loss: 4.2146 - val_precision: 0.6351 - val_recall: 0.6351 - val_accuracy: 0.6351\n",
            "Epoch 78/100\n",
            "46/46 [==============================] - 5s 101ms/step - loss: 0.0029 - precision: 1.0000 - recall: 1.0000 - accuracy: 1.0000 - val_loss: 4.2299 - val_precision: 0.6351 - val_recall: 0.6351 - val_accuracy: 0.6351\n",
            "Epoch 79/100\n",
            "46/46 [==============================] - 4s 96ms/step - loss: 0.0028 - precision: 1.0000 - recall: 1.0000 - accuracy: 1.0000 - val_loss: 4.2430 - val_precision: 0.6351 - val_recall: 0.6351 - val_accuracy: 0.6351\n",
            "Epoch 80/100\n",
            "46/46 [==============================] - 5s 104ms/step - loss: 0.0028 - precision: 1.0000 - recall: 1.0000 - accuracy: 1.0000 - val_loss: 4.3888 - val_precision: 0.6443 - val_recall: 0.6443 - val_accuracy: 0.6443\n",
            "Epoch 81/100\n",
            "46/46 [==============================] - 4s 97ms/step - loss: 0.0028 - precision: 1.0000 - recall: 1.0000 - accuracy: 1.0000 - val_loss: 4.2157 - val_precision: 0.6258 - val_recall: 0.6258 - val_accuracy: 0.6258\n",
            "Epoch 82/100\n",
            "46/46 [==============================] - 4s 96ms/step - loss: 0.0027 - precision: 1.0000 - recall: 1.0000 - accuracy: 1.0000 - val_loss: 4.2510 - val_precision: 0.6258 - val_recall: 0.6258 - val_accuracy: 0.6258\n",
            "Epoch 83/100\n",
            "46/46 [==============================] - 5s 102ms/step - loss: 0.0027 - precision: 1.0000 - recall: 1.0000 - accuracy: 1.0000 - val_loss: 4.2834 - val_precision: 0.6268 - val_recall: 0.6268 - val_accuracy: 0.6268\n",
            "Epoch 84/100\n",
            "46/46 [==============================] - 5s 98ms/step - loss: 0.0026 - precision: 1.0000 - recall: 1.0000 - accuracy: 1.0000 - val_loss: 4.3122 - val_precision: 0.6268 - val_recall: 0.6268 - val_accuracy: 0.6268\n",
            "Epoch 85/100\n",
            "46/46 [==============================] - 5s 100ms/step - loss: 0.0026 - precision: 1.0000 - recall: 1.0000 - accuracy: 1.0000 - val_loss: 4.3345 - val_precision: 0.6278 - val_recall: 0.6278 - val_accuracy: 0.6278\n",
            "Epoch 86/100\n",
            "46/46 [==============================] - 4s 97ms/step - loss: 0.0025 - precision: 1.0000 - recall: 1.0000 - accuracy: 1.0000 - val_loss: 4.3553 - val_precision: 0.6299 - val_recall: 0.6299 - val_accuracy: 0.6299\n",
            "Epoch 87/100\n",
            "46/46 [==============================] - 5s 104ms/step - loss: 0.0025 - precision: 1.0000 - recall: 1.0000 - accuracy: 1.0000 - val_loss: 4.3756 - val_precision: 0.6320 - val_recall: 0.6320 - val_accuracy: 0.6320\n",
            "Epoch 88/100\n",
            "46/46 [==============================] - 4s 98ms/step - loss: 0.0024 - precision: 1.0000 - recall: 1.0000 - accuracy: 1.0000 - val_loss: 4.3912 - val_precision: 0.6330 - val_recall: 0.6330 - val_accuracy: 0.6330\n",
            "Epoch 89/100\n",
            "46/46 [==============================] - 4s 97ms/step - loss: 0.0024 - precision: 1.0000 - recall: 1.0000 - accuracy: 1.0000 - val_loss: 4.4114 - val_precision: 0.6330 - val_recall: 0.6330 - val_accuracy: 0.6330\n",
            "Epoch 90/100\n",
            "46/46 [==============================] - 5s 101ms/step - loss: 0.0024 - precision: 1.0000 - recall: 1.0000 - accuracy: 1.0000 - val_loss: 4.4307 - val_precision: 0.6330 - val_recall: 0.6330 - val_accuracy: 0.6330\n",
            "Epoch 91/100\n",
            "46/46 [==============================] - 4s 98ms/step - loss: 0.0023 - precision: 1.0000 - recall: 1.0000 - accuracy: 1.0000 - val_loss: 4.4435 - val_precision: 0.6320 - val_recall: 0.6320 - val_accuracy: 0.6320\n",
            "Epoch 92/100\n",
            "46/46 [==============================] - 4s 97ms/step - loss: 0.0023 - precision: 1.0000 - recall: 1.0000 - accuracy: 1.0000 - val_loss: 4.4606 - val_precision: 0.6320 - val_recall: 0.6320 - val_accuracy: 0.6320\n",
            "Epoch 93/100\n",
            "46/46 [==============================] - 5s 101ms/step - loss: 0.0022 - precision: 1.0000 - recall: 1.0000 - accuracy: 1.0000 - val_loss: 4.4785 - val_precision: 0.6309 - val_recall: 0.6309 - val_accuracy: 0.6309\n",
            "Epoch 94/100\n",
            "46/46 [==============================] - 5s 104ms/step - loss: 0.0022 - precision: 1.0000 - recall: 1.0000 - accuracy: 1.0000 - val_loss: 4.4931 - val_precision: 0.6320 - val_recall: 0.6320 - val_accuracy: 0.6320\n",
            "Epoch 95/100\n",
            "46/46 [==============================] - 5s 101ms/step - loss: 0.0021 - precision: 1.0000 - recall: 1.0000 - accuracy: 1.0000 - val_loss: 4.5076 - val_precision: 0.6320 - val_recall: 0.6320 - val_accuracy: 0.6320\n",
            "Epoch 96/100\n",
            "46/46 [==============================] - 4s 97ms/step - loss: 0.0021 - precision: 1.0000 - recall: 1.0000 - accuracy: 1.0000 - val_loss: 4.5206 - val_precision: 0.6320 - val_recall: 0.6320 - val_accuracy: 0.6320\n",
            "Epoch 97/100\n",
            "46/46 [==============================] - 5s 103ms/step - loss: 0.0021 - precision: 1.0000 - recall: 1.0000 - accuracy: 1.0000 - val_loss: 4.5347 - val_precision: 0.6320 - val_recall: 0.6320 - val_accuracy: 0.6320\n",
            "Epoch 98/100\n",
            "46/46 [==============================] - 4s 98ms/step - loss: 0.0020 - precision: 1.0000 - recall: 1.0000 - accuracy: 1.0000 - val_loss: 4.5449 - val_precision: 0.6330 - val_recall: 0.6330 - val_accuracy: 0.6330\n",
            "Epoch 99/100\n",
            "46/46 [==============================] - 5s 100ms/step - loss: 0.0020 - precision: 1.0000 - recall: 1.0000 - accuracy: 1.0000 - val_loss: 4.5602 - val_precision: 0.6330 - val_recall: 0.6330 - val_accuracy: 0.6330\n",
            "Epoch 100/100\n",
            "46/46 [==============================] - 4s 97ms/step - loss: 0.0020 - precision: 1.0000 - recall: 1.0000 - accuracy: 1.0000 - val_loss: 4.5733 - val_precision: 0.6330 - val_recall: 0.6330 - val_accuracy: 0.6330\n"
          ]
        }
      ]
    },
    {
      "cell_type": "markdown",
      "source": [
        "####12-4 Store its history"
      ],
      "metadata": {
        "id": "QTtyfb1wpaOx"
      }
    },
    {
      "cell_type": "code",
      "source": [
        "history_dict['SCNN'] = SCNN.history"
      ],
      "metadata": {
        "id": "uZ8kgZVBYa-f"
      },
      "execution_count": 24,
      "outputs": []
    },
    {
      "cell_type": "markdown",
      "source": [
        "### 13-Effect Of Maxpooling(SCNNM)\n",
        "2nd model is similar to the privious simple convlutional model besides maxpooling layers\n"
      ],
      "metadata": {
        "id": "MnMRiGUqZHiK"
      }
    },
    {
      "cell_type": "markdown",
      "source": [
        "####13-1 Define model"
      ],
      "metadata": {
        "id": "77eYQxHsq0ZO"
      }
    },
    {
      "cell_type": "code",
      "source": [
        "def SCNNM(input_shape=input_shape):\n",
        "  '''This Simple CNN netowrk includes 3 convlutional networks+ 1 flatten layers+ 1full connetced layer + 1 classifier layer'''\n",
        "\n",
        "  model = models.Sequential()\n",
        "  model.add(layers.Conv2D(32, (3, 3), activation='relu',\n",
        "                          input_shape= input_shape))\n",
        "  model.add(layers.MaxPooling2D((2, 2)))\n",
        "\n",
        "  model.add(layers.Conv2D(64, (3, 3), activation='relu'))\n",
        "  model.add(layers.MaxPooling2D((2, 2)))\n",
        "\n",
        "  model.add(layers.Conv2D(128, (3, 3), activation='relu'))\n",
        "  model.add(layers.MaxPooling2D((2, 2)))\n",
        "\n",
        "  model.add(layers.Conv2D(128, (3, 3), activation='relu'))\n",
        "  model.add(layers.MaxPooling2D((2, 2)))\n",
        "\n",
        "  model.add(layers.Flatten())\n",
        "\n",
        "  model.add(layers.Dense(512, activation='relu'))\n",
        "  model.add(layers.Dense(2, activation='softmax'))\n",
        "\n",
        "  return model"
      ],
      "metadata": {
        "id": "Q7zxV0OeZtEj"
      },
      "execution_count": 25,
      "outputs": []
    },
    {
      "cell_type": "markdown",
      "source": [
        "####13-2 Compile model"
      ],
      "metadata": {
        "id": "4i_WDs_iq9Bm"
      }
    },
    {
      "cell_type": "code",
      "source": [
        "SCNNM = SCNNM()\n",
        "SCNNM.compile(loss=tfk.losses.CategoricalCrossentropy(),\n",
        "              optimizer=tf.keras.optimizers.Adam(learning_rate=learning_rate),\n",
        "              metrics=[keras.metrics.Precision(), keras.metrics.Recall(),'accuracy'],)"
      ],
      "metadata": {
        "id": "CHWIRKm6Z3M7"
      },
      "execution_count": 26,
      "outputs": []
    },
    {
      "cell_type": "code",
      "source": [
        "SCNNM.summary()"
      ],
      "metadata": {
        "colab": {
          "base_uri": "https://localhost:8080/"
        },
        "id": "3wlam2H3Z7Lj",
        "outputId": "d4ccee42-2e11-46fe-9cc8-832af8a7778f"
      },
      "execution_count": 27,
      "outputs": [
        {
          "output_type": "stream",
          "name": "stdout",
          "text": [
            "Model: \"sequential_1\"\n",
            "_________________________________________________________________\n",
            " Layer (type)                Output Shape              Param #   \n",
            "=================================================================\n",
            " conv2d_3 (Conv2D)           (None, 94, 94, 32)        896       \n",
            "                                                                 \n",
            " max_pooling2d (MaxPooling2  (None, 47, 47, 32)        0         \n",
            " D)                                                              \n",
            "                                                                 \n",
            " conv2d_4 (Conv2D)           (None, 45, 45, 64)        18496     \n",
            "                                                                 \n",
            " max_pooling2d_1 (MaxPoolin  (None, 22, 22, 64)        0         \n",
            " g2D)                                                            \n",
            "                                                                 \n",
            " conv2d_5 (Conv2D)           (None, 20, 20, 128)       73856     \n",
            "                                                                 \n",
            " max_pooling2d_2 (MaxPoolin  (None, 10, 10, 128)       0         \n",
            " g2D)                                                            \n",
            "                                                                 \n",
            " conv2d_6 (Conv2D)           (None, 8, 8, 128)         147584    \n",
            "                                                                 \n",
            " max_pooling2d_3 (MaxPoolin  (None, 4, 4, 128)         0         \n",
            " g2D)                                                            \n",
            "                                                                 \n",
            " flatten_1 (Flatten)         (None, 2048)              0         \n",
            "                                                                 \n",
            " dense_2 (Dense)             (None, 512)               1049088   \n",
            "                                                                 \n",
            " dense_3 (Dense)             (None, 2)                 1026      \n",
            "                                                                 \n",
            "=================================================================\n",
            "Total params: 1290946 (4.92 MB)\n",
            "Trainable params: 1290946 (4.92 MB)\n",
            "Non-trainable params: 0 (0.00 Byte)\n",
            "_________________________________________________________________\n"
          ]
        }
      ]
    },
    {
      "cell_type": "markdown",
      "source": [
        "####13-3 Fit model"
      ],
      "metadata": {
        "id": "aCCoJo8W9OMl"
      }
    },
    {
      "cell_type": "code",
      "source": [
        "SCNNM = SCNNM.fit(\n",
        "    x = x_train,\n",
        "    y = y_train,\n",
        "    validation_data = (x_val, y_val),\n",
        "    batch_size = batch_size,\n",
        "    epochs = epochs\n",
        ")"
      ],
      "metadata": {
        "colab": {
          "base_uri": "https://localhost:8080/"
        },
        "id": "jysDctfOaM2_",
        "outputId": "468cc12f-d17b-475a-da24-f54d61050db8"
      },
      "execution_count": 28,
      "outputs": [
        {
          "output_type": "stream",
          "name": "stdout",
          "text": [
            "Epoch 1/100\n",
            "46/46 [==============================] - 5s 43ms/step - loss: 0.6775 - precision_1: 0.6254 - recall_1: 0.6254 - accuracy: 0.6254 - val_loss: 0.6581 - val_precision_1: 0.6309 - val_recall_1: 0.6309 - val_accuracy: 0.6309\n",
            "Epoch 2/100\n",
            "46/46 [==============================] - 1s 24ms/step - loss: 0.6592 - precision_1: 0.6309 - recall_1: 0.6309 - accuracy: 0.6309 - val_loss: 0.6521 - val_precision_1: 0.6309 - val_recall_1: 0.6309 - val_accuracy: 0.6309\n",
            "Epoch 3/100\n",
            "46/46 [==============================] - 1s 25ms/step - loss: 0.6487 - precision_1: 0.6320 - recall_1: 0.6320 - accuracy: 0.6320 - val_loss: 0.6496 - val_precision_1: 0.6495 - val_recall_1: 0.6495 - val_accuracy: 0.6495\n",
            "Epoch 4/100\n",
            "46/46 [==============================] - 1s 25ms/step - loss: 0.6252 - precision_1: 0.6701 - recall_1: 0.6701 - accuracy: 0.6701 - val_loss: 0.6141 - val_precision_1: 0.6804 - val_recall_1: 0.6804 - val_accuracy: 0.6804\n",
            "Epoch 5/100\n",
            "46/46 [==============================] - 1s 25ms/step - loss: 0.6157 - precision_1: 0.6711 - recall_1: 0.6711 - accuracy: 0.6711 - val_loss: 0.6011 - val_precision_1: 0.6948 - val_recall_1: 0.6948 - val_accuracy: 0.6948\n",
            "Epoch 6/100\n",
            "46/46 [==============================] - 1s 28ms/step - loss: 0.6084 - precision_1: 0.6811 - recall_1: 0.6811 - accuracy: 0.6811 - val_loss: 0.6012 - val_precision_1: 0.6804 - val_recall_1: 0.6804 - val_accuracy: 0.6804\n",
            "Epoch 7/100\n",
            "46/46 [==============================] - 1s 24ms/step - loss: 0.5797 - precision_1: 0.7082 - recall_1: 0.7082 - accuracy: 0.7082 - val_loss: 0.5583 - val_precision_1: 0.7186 - val_recall_1: 0.7186 - val_accuracy: 0.7186\n",
            "Epoch 8/100\n",
            "46/46 [==============================] - 1s 24ms/step - loss: 0.5723 - precision_1: 0.7045 - recall_1: 0.7045 - accuracy: 0.7045 - val_loss: 0.5592 - val_precision_1: 0.7206 - val_recall_1: 0.7206 - val_accuracy: 0.7206\n",
            "Epoch 9/100\n",
            "46/46 [==============================] - 1s 29ms/step - loss: 0.5489 - precision_1: 0.7230 - recall_1: 0.7230 - accuracy: 0.7230 - val_loss: 0.5740 - val_precision_1: 0.7052 - val_recall_1: 0.7052 - val_accuracy: 0.7052\n",
            "Epoch 10/100\n",
            "46/46 [==============================] - 1s 32ms/step - loss: 0.5374 - precision_1: 0.7316 - recall_1: 0.7316 - accuracy: 0.7316 - val_loss: 0.5756 - val_precision_1: 0.7134 - val_recall_1: 0.7134 - val_accuracy: 0.7134\n",
            "Epoch 11/100\n",
            "46/46 [==============================] - 1s 31ms/step - loss: 0.5272 - precision_1: 0.7371 - recall_1: 0.7371 - accuracy: 0.7371 - val_loss: 0.6122 - val_precision_1: 0.6515 - val_recall_1: 0.6515 - val_accuracy: 0.6515\n",
            "Epoch 12/100\n",
            "46/46 [==============================] - 1s 28ms/step - loss: 0.5308 - precision_1: 0.7402 - recall_1: 0.7402 - accuracy: 0.7402 - val_loss: 0.5829 - val_precision_1: 0.6990 - val_recall_1: 0.6990 - val_accuracy: 0.6990\n",
            "Epoch 13/100\n",
            "46/46 [==============================] - 1s 31ms/step - loss: 0.4616 - precision_1: 0.7814 - recall_1: 0.7814 - accuracy: 0.7814 - val_loss: 0.7104 - val_precision_1: 0.7186 - val_recall_1: 0.7186 - val_accuracy: 0.7186\n",
            "Epoch 14/100\n",
            "46/46 [==============================] - 1s 25ms/step - loss: 0.4334 - precision_1: 0.8017 - recall_1: 0.8017 - accuracy: 0.8017 - val_loss: 0.5925 - val_precision_1: 0.7216 - val_recall_1: 0.7216 - val_accuracy: 0.7216\n",
            "Epoch 15/100\n",
            "46/46 [==============================] - 1s 25ms/step - loss: 0.3674 - precision_1: 0.8354 - recall_1: 0.8354 - accuracy: 0.8354 - val_loss: 0.6413 - val_precision_1: 0.7196 - val_recall_1: 0.7196 - val_accuracy: 0.7196\n",
            "Epoch 16/100\n",
            "46/46 [==============================] - 1s 25ms/step - loss: 0.3225 - precision_1: 0.8557 - recall_1: 0.8557 - accuracy: 0.8557 - val_loss: 0.6780 - val_precision_1: 0.6876 - val_recall_1: 0.6876 - val_accuracy: 0.6876\n",
            "Epoch 17/100\n",
            "46/46 [==============================] - 1s 25ms/step - loss: 0.2452 - precision_1: 0.8962 - recall_1: 0.8962 - accuracy: 0.8962 - val_loss: 0.7081 - val_precision_1: 0.7175 - val_recall_1: 0.7175 - val_accuracy: 0.7175\n",
            "Epoch 18/100\n",
            "46/46 [==============================] - 1s 24ms/step - loss: 0.1728 - precision_1: 0.9371 - recall_1: 0.9371 - accuracy: 0.9371 - val_loss: 0.9296 - val_precision_1: 0.7175 - val_recall_1: 0.7175 - val_accuracy: 0.7175\n",
            "Epoch 19/100\n",
            "46/46 [==============================] - 1s 24ms/step - loss: 0.1518 - precision_1: 0.9426 - recall_1: 0.9426 - accuracy: 0.9426 - val_loss: 1.1278 - val_precision_1: 0.6649 - val_recall_1: 0.6649 - val_accuracy: 0.6649\n",
            "Epoch 20/100\n",
            "46/46 [==============================] - 1s 25ms/step - loss: 0.1086 - precision_1: 0.9619 - recall_1: 0.9619 - accuracy: 0.9619 - val_loss: 1.1861 - val_precision_1: 0.7093 - val_recall_1: 0.7093 - val_accuracy: 0.7093\n",
            "Epoch 21/100\n",
            "46/46 [==============================] - 1s 25ms/step - loss: 0.0535 - precision_1: 0.9838 - recall_1: 0.9838 - accuracy: 0.9838 - val_loss: 1.4213 - val_precision_1: 0.6866 - val_recall_1: 0.6866 - val_accuracy: 0.6866\n",
            "Epoch 22/100\n",
            "46/46 [==============================] - 1s 26ms/step - loss: 0.0649 - precision_1: 0.9801 - recall_1: 0.9801 - accuracy: 0.9801 - val_loss: 1.5933 - val_precision_1: 0.7072 - val_recall_1: 0.7072 - val_accuracy: 0.7072\n",
            "Epoch 23/100\n",
            "46/46 [==============================] - 1s 31ms/step - loss: 0.0730 - precision_1: 0.9756 - recall_1: 0.9756 - accuracy: 0.9756 - val_loss: 1.4622 - val_precision_1: 0.6670 - val_recall_1: 0.6670 - val_accuracy: 0.6670\n",
            "Epoch 24/100\n",
            "46/46 [==============================] - 1s 27ms/step - loss: 0.0791 - precision_1: 0.9729 - recall_1: 0.9729 - accuracy: 0.9729 - val_loss: 1.4247 - val_precision_1: 0.6351 - val_recall_1: 0.6351 - val_accuracy: 0.6351\n",
            "Epoch 25/100\n",
            "46/46 [==============================] - 1s 31ms/step - loss: 0.0547 - precision_1: 0.9797 - recall_1: 0.9797 - accuracy: 0.9797 - val_loss: 1.6012 - val_precision_1: 0.6588 - val_recall_1: 0.6588 - val_accuracy: 0.6588\n",
            "Epoch 26/100\n",
            "46/46 [==============================] - 1s 27ms/step - loss: 0.0144 - precision_1: 0.9973 - recall_1: 0.9973 - accuracy: 0.9973 - val_loss: 1.6096 - val_precision_1: 0.7124 - val_recall_1: 0.7124 - val_accuracy: 0.7124\n",
            "Epoch 27/100\n",
            "46/46 [==============================] - 1s 24ms/step - loss: 0.0067 - precision_1: 0.9993 - recall_1: 0.9993 - accuracy: 0.9993 - val_loss: 1.7345 - val_precision_1: 0.7021 - val_recall_1: 0.7021 - val_accuracy: 0.7021\n",
            "Epoch 28/100\n",
            "46/46 [==============================] - 1s 25ms/step - loss: 0.0016 - precision_1: 1.0000 - recall_1: 1.0000 - accuracy: 1.0000 - val_loss: 1.8485 - val_precision_1: 0.7082 - val_recall_1: 0.7082 - val_accuracy: 0.7082\n",
            "Epoch 29/100\n",
            "46/46 [==============================] - 1s 25ms/step - loss: 8.7116e-04 - precision_1: 1.0000 - recall_1: 1.0000 - accuracy: 1.0000 - val_loss: 1.9510 - val_precision_1: 0.7072 - val_recall_1: 0.7072 - val_accuracy: 0.7072\n",
            "Epoch 30/100\n",
            "46/46 [==============================] - 1s 25ms/step - loss: 6.1449e-04 - precision_1: 1.0000 - recall_1: 1.0000 - accuracy: 1.0000 - val_loss: 2.0091 - val_precision_1: 0.7093 - val_recall_1: 0.7093 - val_accuracy: 0.7093\n",
            "Epoch 31/100\n",
            "46/46 [==============================] - 1s 25ms/step - loss: 4.9123e-04 - precision_1: 1.0000 - recall_1: 1.0000 - accuracy: 1.0000 - val_loss: 2.0409 - val_precision_1: 0.7093 - val_recall_1: 0.7093 - val_accuracy: 0.7093\n",
            "Epoch 32/100\n",
            "46/46 [==============================] - 1s 24ms/step - loss: 3.7949e-04 - precision_1: 1.0000 - recall_1: 1.0000 - accuracy: 1.0000 - val_loss: 2.1546 - val_precision_1: 0.7103 - val_recall_1: 0.7103 - val_accuracy: 0.7103\n",
            "Epoch 33/100\n",
            "46/46 [==============================] - 1s 25ms/step - loss: 3.2195e-04 - precision_1: 1.0000 - recall_1: 1.0000 - accuracy: 1.0000 - val_loss: 2.2320 - val_precision_1: 0.7082 - val_recall_1: 0.7082 - val_accuracy: 0.7082\n",
            "Epoch 34/100\n",
            "46/46 [==============================] - 1s 24ms/step - loss: 2.1946e-04 - precision_1: 1.0000 - recall_1: 1.0000 - accuracy: 1.0000 - val_loss: 2.2559 - val_precision_1: 0.7072 - val_recall_1: 0.7072 - val_accuracy: 0.7072\n",
            "Epoch 35/100\n",
            "46/46 [==============================] - 1s 30ms/step - loss: 1.7173e-04 - precision_1: 1.0000 - recall_1: 1.0000 - accuracy: 1.0000 - val_loss: 2.3723 - val_precision_1: 0.7103 - val_recall_1: 0.7103 - val_accuracy: 0.7103\n",
            "Epoch 36/100\n",
            "46/46 [==============================] - 1s 31ms/step - loss: 1.3835e-04 - precision_1: 1.0000 - recall_1: 1.0000 - accuracy: 1.0000 - val_loss: 2.4139 - val_precision_1: 0.7113 - val_recall_1: 0.7113 - val_accuracy: 0.7113\n",
            "Epoch 37/100\n",
            "46/46 [==============================] - 1s 31ms/step - loss: 1.2584e-04 - precision_1: 1.0000 - recall_1: 1.0000 - accuracy: 1.0000 - val_loss: 2.3767 - val_precision_1: 0.7093 - val_recall_1: 0.7093 - val_accuracy: 0.7093\n",
            "Epoch 38/100\n",
            "46/46 [==============================] - 1s 31ms/step - loss: 1.0420e-04 - precision_1: 1.0000 - recall_1: 1.0000 - accuracy: 1.0000 - val_loss: 2.4413 - val_precision_1: 0.7082 - val_recall_1: 0.7082 - val_accuracy: 0.7082\n",
            "Epoch 39/100\n",
            "46/46 [==============================] - 1s 26ms/step - loss: 8.9142e-05 - precision_1: 1.0000 - recall_1: 1.0000 - accuracy: 1.0000 - val_loss: 2.4840 - val_precision_1: 0.7124 - val_recall_1: 0.7124 - val_accuracy: 0.7124\n",
            "Epoch 40/100\n",
            "46/46 [==============================] - 1s 24ms/step - loss: 7.7234e-05 - precision_1: 1.0000 - recall_1: 1.0000 - accuracy: 1.0000 - val_loss: 2.5025 - val_precision_1: 0.7113 - val_recall_1: 0.7113 - val_accuracy: 0.7113\n",
            "Epoch 41/100\n",
            "46/46 [==============================] - 1s 25ms/step - loss: 6.8290e-05 - precision_1: 1.0000 - recall_1: 1.0000 - accuracy: 1.0000 - val_loss: 2.5373 - val_precision_1: 0.7113 - val_recall_1: 0.7113 - val_accuracy: 0.7113\n",
            "Epoch 42/100\n",
            "46/46 [==============================] - 1s 25ms/step - loss: 6.1017e-05 - precision_1: 1.0000 - recall_1: 1.0000 - accuracy: 1.0000 - val_loss: 2.5476 - val_precision_1: 0.7124 - val_recall_1: 0.7124 - val_accuracy: 0.7124\n",
            "Epoch 43/100\n",
            "46/46 [==============================] - 1s 25ms/step - loss: 5.6769e-05 - precision_1: 1.0000 - recall_1: 1.0000 - accuracy: 1.0000 - val_loss: 2.5488 - val_precision_1: 0.7093 - val_recall_1: 0.7093 - val_accuracy: 0.7093\n",
            "Epoch 44/100\n",
            "46/46 [==============================] - 1s 25ms/step - loss: 5.0356e-05 - precision_1: 1.0000 - recall_1: 1.0000 - accuracy: 1.0000 - val_loss: 2.5527 - val_precision_1: 0.7072 - val_recall_1: 0.7072 - val_accuracy: 0.7072\n",
            "Epoch 45/100\n",
            "46/46 [==============================] - 1s 25ms/step - loss: 4.4521e-05 - precision_1: 1.0000 - recall_1: 1.0000 - accuracy: 1.0000 - val_loss: 2.5893 - val_precision_1: 0.7093 - val_recall_1: 0.7093 - val_accuracy: 0.7093\n",
            "Epoch 46/100\n",
            "46/46 [==============================] - 1s 29ms/step - loss: 3.9955e-05 - precision_1: 1.0000 - recall_1: 1.0000 - accuracy: 1.0000 - val_loss: 2.5783 - val_precision_1: 0.7072 - val_recall_1: 0.7072 - val_accuracy: 0.7072\n",
            "Epoch 47/100\n",
            "46/46 [==============================] - 1s 25ms/step - loss: 3.6718e-05 - precision_1: 1.0000 - recall_1: 1.0000 - accuracy: 1.0000 - val_loss: 2.6229 - val_precision_1: 0.7093 - val_recall_1: 0.7093 - val_accuracy: 0.7093\n",
            "Epoch 48/100\n",
            "46/46 [==============================] - 1s 28ms/step - loss: 3.4358e-05 - precision_1: 1.0000 - recall_1: 1.0000 - accuracy: 1.0000 - val_loss: 2.6145 - val_precision_1: 0.7072 - val_recall_1: 0.7072 - val_accuracy: 0.7072\n",
            "Epoch 49/100\n",
            "46/46 [==============================] - 1s 29ms/step - loss: 3.2672e-05 - precision_1: 1.0000 - recall_1: 1.0000 - accuracy: 1.0000 - val_loss: 2.6314 - val_precision_1: 0.7093 - val_recall_1: 0.7093 - val_accuracy: 0.7093\n",
            "Epoch 50/100\n",
            "46/46 [==============================] - 1s 28ms/step - loss: 2.7979e-05 - precision_1: 1.0000 - recall_1: 1.0000 - accuracy: 1.0000 - val_loss: 2.6506 - val_precision_1: 0.7072 - val_recall_1: 0.7072 - val_accuracy: 0.7072\n",
            "Epoch 51/100\n",
            "46/46 [==============================] - 1s 28ms/step - loss: 2.5788e-05 - precision_1: 1.0000 - recall_1: 1.0000 - accuracy: 1.0000 - val_loss: 2.6622 - val_precision_1: 0.7072 - val_recall_1: 0.7072 - val_accuracy: 0.7072\n",
            "Epoch 52/100\n",
            "46/46 [==============================] - 1s 27ms/step - loss: 2.3709e-05 - precision_1: 1.0000 - recall_1: 1.0000 - accuracy: 1.0000 - val_loss: 2.6815 - val_precision_1: 0.7062 - val_recall_1: 0.7062 - val_accuracy: 0.7062\n",
            "Epoch 53/100\n",
            "46/46 [==============================] - 1s 24ms/step - loss: 2.1834e-05 - precision_1: 1.0000 - recall_1: 1.0000 - accuracy: 1.0000 - val_loss: 2.6950 - val_precision_1: 0.7072 - val_recall_1: 0.7072 - val_accuracy: 0.7072\n",
            "Epoch 54/100\n",
            "46/46 [==============================] - 1s 25ms/step - loss: 2.0520e-05 - precision_1: 1.0000 - recall_1: 1.0000 - accuracy: 1.0000 - val_loss: 2.7142 - val_precision_1: 0.7072 - val_recall_1: 0.7072 - val_accuracy: 0.7072\n",
            "Epoch 55/100\n",
            "46/46 [==============================] - 1s 24ms/step - loss: 1.8897e-05 - precision_1: 1.0000 - recall_1: 1.0000 - accuracy: 1.0000 - val_loss: 2.7014 - val_precision_1: 0.7031 - val_recall_1: 0.7031 - val_accuracy: 0.7031\n",
            "Epoch 56/100\n",
            "46/46 [==============================] - 1s 25ms/step - loss: 1.7770e-05 - precision_1: 1.0000 - recall_1: 1.0000 - accuracy: 1.0000 - val_loss: 2.7282 - val_precision_1: 0.7082 - val_recall_1: 0.7082 - val_accuracy: 0.7082\n",
            "Epoch 57/100\n",
            "46/46 [==============================] - 1s 24ms/step - loss: 1.6780e-05 - precision_1: 1.0000 - recall_1: 1.0000 - accuracy: 1.0000 - val_loss: 2.7359 - val_precision_1: 0.7052 - val_recall_1: 0.7052 - val_accuracy: 0.7052\n",
            "Epoch 58/100\n",
            "46/46 [==============================] - 1s 24ms/step - loss: 1.5720e-05 - precision_1: 1.0000 - recall_1: 1.0000 - accuracy: 1.0000 - val_loss: 2.7464 - val_precision_1: 0.7052 - val_recall_1: 0.7052 - val_accuracy: 0.7052\n",
            "Epoch 59/100\n",
            "46/46 [==============================] - 1s 28ms/step - loss: 1.4659e-05 - precision_1: 1.0000 - recall_1: 1.0000 - accuracy: 1.0000 - val_loss: 2.7677 - val_precision_1: 0.7093 - val_recall_1: 0.7093 - val_accuracy: 0.7093\n",
            "Epoch 60/100\n",
            "46/46 [==============================] - 1s 24ms/step - loss: 1.3891e-05 - precision_1: 1.0000 - recall_1: 1.0000 - accuracy: 1.0000 - val_loss: 2.7823 - val_precision_1: 0.7082 - val_recall_1: 0.7082 - val_accuracy: 0.7082\n",
            "Epoch 61/100\n",
            "46/46 [==============================] - 1s 26ms/step - loss: 1.2986e-05 - precision_1: 1.0000 - recall_1: 1.0000 - accuracy: 1.0000 - val_loss: 2.7918 - val_precision_1: 0.7072 - val_recall_1: 0.7072 - val_accuracy: 0.7072\n",
            "Epoch 62/100\n",
            "46/46 [==============================] - 1s 31ms/step - loss: 1.2293e-05 - precision_1: 1.0000 - recall_1: 1.0000 - accuracy: 1.0000 - val_loss: 2.8018 - val_precision_1: 0.7052 - val_recall_1: 0.7052 - val_accuracy: 0.7052\n",
            "Epoch 63/100\n",
            "46/46 [==============================] - 1s 32ms/step - loss: 1.1665e-05 - precision_1: 1.0000 - recall_1: 1.0000 - accuracy: 1.0000 - val_loss: 2.8055 - val_precision_1: 0.7062 - val_recall_1: 0.7062 - val_accuracy: 0.7062\n",
            "Epoch 64/100\n",
            "46/46 [==============================] - 1s 28ms/step - loss: 1.0952e-05 - precision_1: 1.0000 - recall_1: 1.0000 - accuracy: 1.0000 - val_loss: 2.8014 - val_precision_1: 0.7010 - val_recall_1: 0.7010 - val_accuracy: 0.7010\n",
            "Epoch 65/100\n",
            "46/46 [==============================] - 1s 27ms/step - loss: 1.0537e-05 - precision_1: 1.0000 - recall_1: 1.0000 - accuracy: 1.0000 - val_loss: 2.8257 - val_precision_1: 0.7072 - val_recall_1: 0.7072 - val_accuracy: 0.7072\n",
            "Epoch 66/100\n",
            "46/46 [==============================] - 1s 25ms/step - loss: 9.8994e-06 - precision_1: 1.0000 - recall_1: 1.0000 - accuracy: 1.0000 - val_loss: 2.8267 - val_precision_1: 0.7041 - val_recall_1: 0.7041 - val_accuracy: 0.7041\n",
            "Epoch 67/100\n",
            "46/46 [==============================] - 1s 25ms/step - loss: 9.3010e-06 - precision_1: 1.0000 - recall_1: 1.0000 - accuracy: 1.0000 - val_loss: 2.8355 - val_precision_1: 0.7031 - val_recall_1: 0.7031 - val_accuracy: 0.7031\n",
            "Epoch 68/100\n",
            "46/46 [==============================] - 1s 25ms/step - loss: 8.8661e-06 - precision_1: 1.0000 - recall_1: 1.0000 - accuracy: 1.0000 - val_loss: 2.8432 - val_precision_1: 0.7021 - val_recall_1: 0.7021 - val_accuracy: 0.7021\n",
            "Epoch 69/100\n",
            "46/46 [==============================] - 1s 24ms/step - loss: 8.4179e-06 - precision_1: 1.0000 - recall_1: 1.0000 - accuracy: 1.0000 - val_loss: 2.8490 - val_precision_1: 0.7010 - val_recall_1: 0.7010 - val_accuracy: 0.7010\n",
            "Epoch 70/100\n",
            "46/46 [==============================] - 1s 25ms/step - loss: 8.0767e-06 - precision_1: 1.0000 - recall_1: 1.0000 - accuracy: 1.0000 - val_loss: 2.8680 - val_precision_1: 0.7052 - val_recall_1: 0.7052 - val_accuracy: 0.7052\n",
            "Epoch 71/100\n",
            "46/46 [==============================] - 1s 25ms/step - loss: 7.6645e-06 - precision_1: 1.0000 - recall_1: 1.0000 - accuracy: 1.0000 - val_loss: 2.8666 - val_precision_1: 0.7041 - val_recall_1: 0.7041 - val_accuracy: 0.7041\n",
            "Epoch 72/100\n",
            "46/46 [==============================] - 1s 25ms/step - loss: 7.3700e-06 - precision_1: 1.0000 - recall_1: 1.0000 - accuracy: 1.0000 - val_loss: 2.8758 - val_precision_1: 0.7010 - val_recall_1: 0.7010 - val_accuracy: 0.7010\n",
            "Epoch 73/100\n",
            "46/46 [==============================] - 1s 25ms/step - loss: 7.0103e-06 - precision_1: 1.0000 - recall_1: 1.0000 - accuracy: 1.0000 - val_loss: 2.8844 - val_precision_1: 0.7031 - val_recall_1: 0.7031 - val_accuracy: 0.7031\n",
            "Epoch 74/100\n",
            "46/46 [==============================] - 1s 27ms/step - loss: 6.6647e-06 - precision_1: 1.0000 - recall_1: 1.0000 - accuracy: 1.0000 - val_loss: 2.9003 - val_precision_1: 0.7072 - val_recall_1: 0.7072 - val_accuracy: 0.7072\n",
            "Epoch 75/100\n",
            "46/46 [==============================] - 1s 28ms/step - loss: 6.4555e-06 - precision_1: 1.0000 - recall_1: 1.0000 - accuracy: 1.0000 - val_loss: 2.8918 - val_precision_1: 0.7031 - val_recall_1: 0.7031 - val_accuracy: 0.7031\n",
            "Epoch 76/100\n",
            "46/46 [==============================] - 1s 32ms/step - loss: 6.0888e-06 - precision_1: 1.0000 - recall_1: 1.0000 - accuracy: 1.0000 - val_loss: 2.9055 - val_precision_1: 0.7031 - val_recall_1: 0.7031 - val_accuracy: 0.7031\n",
            "Epoch 77/100\n",
            "46/46 [==============================] - 1s 31ms/step - loss: 5.7735e-06 - precision_1: 1.0000 - recall_1: 1.0000 - accuracy: 1.0000 - val_loss: 2.9056 - val_precision_1: 0.7010 - val_recall_1: 0.7010 - val_accuracy: 0.7010\n",
            "Epoch 78/100\n",
            "46/46 [==============================] - 1s 28ms/step - loss: 5.5462e-06 - precision_1: 1.0000 - recall_1: 1.0000 - accuracy: 1.0000 - val_loss: 2.9142 - val_precision_1: 0.7010 - val_recall_1: 0.7010 - val_accuracy: 0.7010\n",
            "Epoch 79/100\n",
            "46/46 [==============================] - 1s 25ms/step - loss: 5.3137e-06 - precision_1: 1.0000 - recall_1: 1.0000 - accuracy: 1.0000 - val_loss: 2.9158 - val_precision_1: 0.7000 - val_recall_1: 0.7000 - val_accuracy: 0.7000\n",
            "Epoch 80/100\n",
            "46/46 [==============================] - 1s 28ms/step - loss: 5.1121e-06 - precision_1: 1.0000 - recall_1: 1.0000 - accuracy: 1.0000 - val_loss: 2.9217 - val_precision_1: 0.6990 - val_recall_1: 0.6990 - val_accuracy: 0.6990\n",
            "Epoch 81/100\n",
            "46/46 [==============================] - 1s 25ms/step - loss: 4.8870e-06 - precision_1: 1.0000 - recall_1: 1.0000 - accuracy: 1.0000 - val_loss: 2.9381 - val_precision_1: 0.7052 - val_recall_1: 0.7052 - val_accuracy: 0.7052\n",
            "Epoch 82/100\n",
            "46/46 [==============================] - 1s 24ms/step - loss: 4.7868e-06 - precision_1: 1.0000 - recall_1: 1.0000 - accuracy: 1.0000 - val_loss: 2.9359 - val_precision_1: 0.6990 - val_recall_1: 0.6990 - val_accuracy: 0.6990\n",
            "Epoch 83/100\n",
            "46/46 [==============================] - 1s 25ms/step - loss: 4.5065e-06 - precision_1: 1.0000 - recall_1: 1.0000 - accuracy: 1.0000 - val_loss: 2.9449 - val_precision_1: 0.6990 - val_recall_1: 0.6990 - val_accuracy: 0.6990\n",
            "Epoch 84/100\n",
            "46/46 [==============================] - 1s 28ms/step - loss: 4.3285e-06 - precision_1: 1.0000 - recall_1: 1.0000 - accuracy: 1.0000 - val_loss: 2.9541 - val_precision_1: 0.7031 - val_recall_1: 0.7031 - val_accuracy: 0.7031\n",
            "Epoch 85/100\n",
            "46/46 [==============================] - 1s 25ms/step - loss: 4.1552e-06 - precision_1: 1.0000 - recall_1: 1.0000 - accuracy: 1.0000 - val_loss: 2.9581 - val_precision_1: 0.7041 - val_recall_1: 0.7041 - val_accuracy: 0.7041\n",
            "Epoch 86/100\n",
            "46/46 [==============================] - 1s 25ms/step - loss: 4.0336e-06 - precision_1: 1.0000 - recall_1: 1.0000 - accuracy: 1.0000 - val_loss: 2.9815 - val_precision_1: 0.7072 - val_recall_1: 0.7072 - val_accuracy: 0.7072\n",
            "Epoch 87/100\n",
            "46/46 [==============================] - 1s 31ms/step - loss: 3.8458e-06 - precision_1: 1.0000 - recall_1: 1.0000 - accuracy: 1.0000 - val_loss: 2.9686 - val_precision_1: 0.7010 - val_recall_1: 0.7010 - val_accuracy: 0.7010\n",
            "Epoch 88/100\n",
            "46/46 [==============================] - 1s 32ms/step - loss: 3.7271e-06 - precision_1: 1.0000 - recall_1: 1.0000 - accuracy: 1.0000 - val_loss: 2.9850 - val_precision_1: 0.7062 - val_recall_1: 0.7062 - val_accuracy: 0.7062\n",
            "Epoch 89/100\n",
            "46/46 [==============================] - 1s 29ms/step - loss: 3.5499e-06 - precision_1: 1.0000 - recall_1: 1.0000 - accuracy: 1.0000 - val_loss: 2.9873 - val_precision_1: 0.7052 - val_recall_1: 0.7052 - val_accuracy: 0.7052\n",
            "Epoch 90/100\n",
            "46/46 [==============================] - 1s 31ms/step - loss: 3.4637e-06 - precision_1: 1.0000 - recall_1: 1.0000 - accuracy: 1.0000 - val_loss: 2.9885 - val_precision_1: 0.7031 - val_recall_1: 0.7031 - val_accuracy: 0.7031\n",
            "Epoch 91/100\n",
            "46/46 [==============================] - 1s 26ms/step - loss: 3.2892e-06 - precision_1: 1.0000 - recall_1: 1.0000 - accuracy: 1.0000 - val_loss: 3.0002 - val_precision_1: 0.7041 - val_recall_1: 0.7041 - val_accuracy: 0.7041\n",
            "Epoch 92/100\n",
            "46/46 [==============================] - 1s 25ms/step - loss: 3.1541e-06 - precision_1: 1.0000 - recall_1: 1.0000 - accuracy: 1.0000 - val_loss: 2.9975 - val_precision_1: 0.7021 - val_recall_1: 0.7021 - val_accuracy: 0.7021\n",
            "Epoch 93/100\n",
            "46/46 [==============================] - 1s 24ms/step - loss: 3.0717e-06 - precision_1: 1.0000 - recall_1: 1.0000 - accuracy: 1.0000 - val_loss: 3.0145 - val_precision_1: 0.7062 - val_recall_1: 0.7062 - val_accuracy: 0.7062\n",
            "Epoch 94/100\n",
            "46/46 [==============================] - 1s 25ms/step - loss: 2.9602e-06 - precision_1: 1.0000 - recall_1: 1.0000 - accuracy: 1.0000 - val_loss: 3.0149 - val_precision_1: 0.7031 - val_recall_1: 0.7031 - val_accuracy: 0.7031\n",
            "Epoch 95/100\n",
            "46/46 [==============================] - 1s 25ms/step - loss: 2.8587e-06 - precision_1: 1.0000 - recall_1: 1.0000 - accuracy: 1.0000 - val_loss: 3.0174 - val_precision_1: 0.7041 - val_recall_1: 0.7041 - val_accuracy: 0.7041\n",
            "Epoch 96/100\n",
            "46/46 [==============================] - 1s 25ms/step - loss: 2.7602e-06 - precision_1: 1.0000 - recall_1: 1.0000 - accuracy: 1.0000 - val_loss: 3.0188 - val_precision_1: 0.7000 - val_recall_1: 0.7000 - val_accuracy: 0.7000\n",
            "Epoch 97/100\n",
            "46/46 [==============================] - 1s 25ms/step - loss: 2.6616e-06 - precision_1: 1.0000 - recall_1: 1.0000 - accuracy: 1.0000 - val_loss: 3.0358 - val_precision_1: 0.7052 - val_recall_1: 0.7052 - val_accuracy: 0.7052\n",
            "Epoch 98/100\n",
            "46/46 [==============================] - 1s 25ms/step - loss: 2.6190e-06 - precision_1: 1.0000 - recall_1: 1.0000 - accuracy: 1.0000 - val_loss: 3.0376 - val_precision_1: 0.7041 - val_recall_1: 0.7041 - val_accuracy: 0.7041\n",
            "Epoch 99/100\n",
            "46/46 [==============================] - 1s 25ms/step - loss: 2.4623e-06 - precision_1: 1.0000 - recall_1: 1.0000 - accuracy: 1.0000 - val_loss: 3.0318 - val_precision_1: 0.7000 - val_recall_1: 0.7000 - val_accuracy: 0.7000\n",
            "Epoch 100/100\n",
            "46/46 [==============================] - 1s 28ms/step - loss: 2.3894e-06 - precision_1: 1.0000 - recall_1: 1.0000 - accuracy: 1.0000 - val_loss: 3.0491 - val_precision_1: 0.7072 - val_recall_1: 0.7072 - val_accuracy: 0.7072\n"
          ]
        }
      ]
    },
    {
      "cell_type": "markdown",
      "source": [
        "####13-4 Store its history"
      ],
      "metadata": {
        "id": "3cRWW9WU9Wcd"
      }
    },
    {
      "cell_type": "code",
      "source": [
        "history_dict['SCNNM'] = SCNNM.history"
      ],
      "metadata": {
        "id": "8q1vyfcXankE"
      },
      "execution_count": 29,
      "outputs": []
    },
    {
      "cell_type": "markdown",
      "source": [
        "###14- Effect Of Dropout\n",
        "3rd model is similar to the privious one besides Droput layers(SCNNMD)"
      ],
      "metadata": {
        "id": "dmAwr6V6Xcai"
      }
    },
    {
      "cell_type": "markdown",
      "source": [
        "####14-1 Define model"
      ],
      "metadata": {
        "id": "PZ502gvxXwGp"
      }
    },
    {
      "cell_type": "code",
      "source": [
        "def SCNNMD(input_shape=input_shape):\n",
        "\n",
        "  model = models.Sequential()\n",
        "  model.add(layers.Conv2D(32, (3, 3), activation='relu',\n",
        "                          input_shape= input_shape))\n",
        "  model.add(layers.MaxPooling2D((2, 2)))\n",
        "  model.add(layers.Conv2D(64, (3, 3), activation='relu'))\n",
        "  model.add(layers.Dropout(0.2))\n",
        "  model.add(layers.MaxPooling2D((2, 2)))\n",
        "  model.add(layers.Conv2D(128, (3, 3), activation='relu'))\n",
        "  model.add(layers.Dropout(0.3))\n",
        "  model.add(layers.MaxPooling2D((2, 2)))\n",
        "  model.add(layers.Conv2D(128, (3, 3), activation='relu'))\n",
        "  model.add(layers.Dropout(0.4))\n",
        "  model.add(layers.MaxPooling2D((2, 2)))\n",
        "  model.add(layers.Flatten())\n",
        "  model.add(layers.Dense(512, activation='relu'))\n",
        "  model.add(layers.Dropout(0.5))\n",
        "  model.add(layers.Dense(2, activation='softmax'))\n",
        "\n",
        "  return model"
      ],
      "metadata": {
        "id": "tS9e-59XXzpw"
      },
      "execution_count": 30,
      "outputs": []
    },
    {
      "cell_type": "markdown",
      "source": [
        "####14-2 Complie model"
      ],
      "metadata": {
        "id": "13PEeMzUX3I6"
      }
    },
    {
      "cell_type": "code",
      "source": [
        "SCNNMD = SCNNMD()\n",
        "SCNNMD.compile(loss='categorical_crossentropy',\n",
        "              optimizer=tf.keras.optimizers.Adam(learning_rate=learning_rate),\n",
        "              metrics=[keras.metrics.Precision(), keras.metrics.Recall(),'accuracy'],)"
      ],
      "metadata": {
        "id": "qtkMbHUBX5xC"
      },
      "execution_count": 31,
      "outputs": []
    },
    {
      "cell_type": "markdown",
      "source": [
        "####14-3 Fit model"
      ],
      "metadata": {
        "id": "_FLAGeJqX-O4"
      }
    },
    {
      "cell_type": "code",
      "source": [
        "SCNNMD = SCNNMD.fit(\n",
        "    x = x_train,\n",
        "    y = y_train,\n",
        "    validation_data = (x_val, y_val),\n",
        "    batch_size = batch_size,\n",
        "    epochs = epochs\n",
        ")"
      ],
      "metadata": {
        "id": "eIF_LUDjYCCC",
        "colab": {
          "base_uri": "https://localhost:8080/"
        },
        "outputId": "1f7d24d0-0460-49dc-fd61-668769859c48"
      },
      "execution_count": 32,
      "outputs": [
        {
          "output_type": "stream",
          "name": "stdout",
          "text": [
            "Epoch 1/100\n",
            "46/46 [==============================] - 5s 46ms/step - loss: 0.6614 - precision_2: 0.6244 - recall_2: 0.6244 - accuracy: 0.6244 - val_loss: 0.6784 - val_precision_2: 0.6309 - val_recall_2: 0.6309 - val_accuracy: 0.6309\n",
            "Epoch 2/100\n",
            "46/46 [==============================] - 1s 32ms/step - loss: 0.6604 - precision_2: 0.6292 - recall_2: 0.6292 - accuracy: 0.6292 - val_loss: 0.6624 - val_precision_2: 0.6309 - val_recall_2: 0.6309 - val_accuracy: 0.6309\n",
            "Epoch 3/100\n",
            "46/46 [==============================] - 1s 31ms/step - loss: 0.6414 - precision_2: 0.6392 - recall_2: 0.6392 - accuracy: 0.6392 - val_loss: 0.6287 - val_precision_2: 0.6588 - val_recall_2: 0.6588 - val_accuracy: 0.6588\n",
            "Epoch 4/100\n",
            "46/46 [==============================] - 2s 36ms/step - loss: 0.6198 - precision_2: 0.6667 - recall_2: 0.6667 - accuracy: 0.6667 - val_loss: 0.6162 - val_precision_2: 0.6773 - val_recall_2: 0.6773 - val_accuracy: 0.6773\n",
            "Epoch 5/100\n",
            "46/46 [==============================] - 2s 38ms/step - loss: 0.6085 - precision_2: 0.6887 - recall_2: 0.6887 - accuracy: 0.6887 - val_loss: 0.6010 - val_precision_2: 0.7010 - val_recall_2: 0.7010 - val_accuracy: 0.7010\n",
            "Epoch 6/100\n",
            "46/46 [==============================] - 2s 37ms/step - loss: 0.5992 - precision_2: 0.6876 - recall_2: 0.6876 - accuracy: 0.6876 - val_loss: 0.6064 - val_precision_2: 0.6804 - val_recall_2: 0.6804 - val_accuracy: 0.6804\n",
            "Epoch 7/100\n",
            "46/46 [==============================] - 2s 36ms/step - loss: 0.5774 - precision_2: 0.7103 - recall_2: 0.7103 - accuracy: 0.7103 - val_loss: 0.5858 - val_precision_2: 0.7206 - val_recall_2: 0.7206 - val_accuracy: 0.7206\n",
            "Epoch 8/100\n",
            "46/46 [==============================] - 1s 31ms/step - loss: 0.5653 - precision_2: 0.7120 - recall_2: 0.7120 - accuracy: 0.7120 - val_loss: 0.6062 - val_precision_2: 0.6907 - val_recall_2: 0.6907 - val_accuracy: 0.6907\n",
            "Epoch 9/100\n",
            "46/46 [==============================] - 1s 31ms/step - loss: 0.5664 - precision_2: 0.7189 - recall_2: 0.7189 - accuracy: 0.7189 - val_loss: 0.5744 - val_precision_2: 0.6990 - val_recall_2: 0.6990 - val_accuracy: 0.6990\n",
            "Epoch 10/100\n",
            "46/46 [==============================] - 1s 31ms/step - loss: 0.5567 - precision_2: 0.7206 - recall_2: 0.7206 - accuracy: 0.7206 - val_loss: 0.5874 - val_precision_2: 0.6680 - val_recall_2: 0.6680 - val_accuracy: 0.6680\n",
            "Epoch 11/100\n",
            "46/46 [==============================] - 2s 36ms/step - loss: 0.5491 - precision_2: 0.7275 - recall_2: 0.7275 - accuracy: 0.7275 - val_loss: 0.5843 - val_precision_2: 0.7196 - val_recall_2: 0.7196 - val_accuracy: 0.7196\n",
            "Epoch 12/100\n",
            "46/46 [==============================] - 2s 35ms/step - loss: 0.5423 - precision_2: 0.7361 - recall_2: 0.7361 - accuracy: 0.7361 - val_loss: 0.5545 - val_precision_2: 0.7392 - val_recall_2: 0.7392 - val_accuracy: 0.7392\n",
            "Epoch 13/100\n",
            "46/46 [==============================] - 2s 38ms/step - loss: 0.5261 - precision_2: 0.7454 - recall_2: 0.7454 - accuracy: 0.7454 - val_loss: 0.5580 - val_precision_2: 0.7206 - val_recall_2: 0.7206 - val_accuracy: 0.7206\n",
            "Epoch 14/100\n",
            "46/46 [==============================] - 2s 36ms/step - loss: 0.5220 - precision_2: 0.7447 - recall_2: 0.7447 - accuracy: 0.7447 - val_loss: 0.5634 - val_precision_2: 0.7268 - val_recall_2: 0.7268 - val_accuracy: 0.7268\n",
            "Epoch 15/100\n",
            "46/46 [==============================] - 2s 35ms/step - loss: 0.5131 - precision_2: 0.7536 - recall_2: 0.7536 - accuracy: 0.7536 - val_loss: 0.5590 - val_precision_2: 0.7165 - val_recall_2: 0.7165 - val_accuracy: 0.7165\n",
            "Epoch 16/100\n",
            "46/46 [==============================] - 2s 37ms/step - loss: 0.5302 - precision_2: 0.7371 - recall_2: 0.7371 - accuracy: 0.7371 - val_loss: 0.5592 - val_precision_2: 0.7515 - val_recall_2: 0.7515 - val_accuracy: 0.7515\n",
            "Epoch 17/100\n",
            "46/46 [==============================] - 2s 38ms/step - loss: 0.4957 - precision_2: 0.7595 - recall_2: 0.7595 - accuracy: 0.7595 - val_loss: 0.5528 - val_precision_2: 0.7227 - val_recall_2: 0.7227 - val_accuracy: 0.7227\n",
            "Epoch 18/100\n",
            "46/46 [==============================] - 1s 32ms/step - loss: 0.4665 - precision_2: 0.7814 - recall_2: 0.7814 - accuracy: 0.7814 - val_loss: 0.5609 - val_precision_2: 0.7247 - val_recall_2: 0.7247 - val_accuracy: 0.7247\n",
            "Epoch 19/100\n",
            "46/46 [==============================] - 1s 31ms/step - loss: 0.4658 - precision_2: 0.7845 - recall_2: 0.7845 - accuracy: 0.7845 - val_loss: 0.5807 - val_precision_2: 0.6897 - val_recall_2: 0.6897 - val_accuracy: 0.6897\n",
            "Epoch 20/100\n",
            "46/46 [==============================] - 1s 32ms/step - loss: 0.4393 - precision_2: 0.7942 - recall_2: 0.7942 - accuracy: 0.7942 - val_loss: 0.5585 - val_precision_2: 0.7402 - val_recall_2: 0.7402 - val_accuracy: 0.7402\n",
            "Epoch 21/100\n",
            "46/46 [==============================] - 1s 31ms/step - loss: 0.4080 - precision_2: 0.8165 - recall_2: 0.8165 - accuracy: 0.8165 - val_loss: 0.5829 - val_precision_2: 0.7021 - val_recall_2: 0.7021 - val_accuracy: 0.7021\n",
            "Epoch 22/100\n",
            "46/46 [==============================] - 1s 31ms/step - loss: 0.3877 - precision_2: 0.8165 - recall_2: 0.8165 - accuracy: 0.8165 - val_loss: 0.6198 - val_precision_2: 0.7082 - val_recall_2: 0.7082 - val_accuracy: 0.7082\n",
            "Epoch 23/100\n",
            "46/46 [==============================] - 1s 31ms/step - loss: 0.3516 - precision_2: 0.8450 - recall_2: 0.8450 - accuracy: 0.8450 - val_loss: 0.5472 - val_precision_2: 0.7361 - val_recall_2: 0.7361 - val_accuracy: 0.7361\n",
            "Epoch 24/100\n",
            "46/46 [==============================] - 1s 31ms/step - loss: 0.3335 - precision_2: 0.8553 - recall_2: 0.8553 - accuracy: 0.8553 - val_loss: 0.5776 - val_precision_2: 0.7227 - val_recall_2: 0.7227 - val_accuracy: 0.7227\n",
            "Epoch 25/100\n",
            "46/46 [==============================] - 2s 37ms/step - loss: 0.3085 - precision_2: 0.8677 - recall_2: 0.8677 - accuracy: 0.8677 - val_loss: 0.6151 - val_precision_2: 0.7216 - val_recall_2: 0.7216 - val_accuracy: 0.7216\n",
            "Epoch 26/100\n",
            "46/46 [==============================] - 2s 35ms/step - loss: 0.2932 - precision_2: 0.8749 - recall_2: 0.8749 - accuracy: 0.8749 - val_loss: 0.5981 - val_precision_2: 0.7258 - val_recall_2: 0.7258 - val_accuracy: 0.7258\n",
            "Epoch 27/100\n",
            "46/46 [==============================] - 2s 34ms/step - loss: 0.2751 - precision_2: 0.8828 - recall_2: 0.8828 - accuracy: 0.8828 - val_loss: 0.5778 - val_precision_2: 0.7247 - val_recall_2: 0.7247 - val_accuracy: 0.7247\n",
            "Epoch 28/100\n",
            "46/46 [==============================] - 2s 37ms/step - loss: 0.2544 - precision_2: 0.8897 - recall_2: 0.8897 - accuracy: 0.8897 - val_loss: 0.5977 - val_precision_2: 0.7216 - val_recall_2: 0.7216 - val_accuracy: 0.7216\n",
            "Epoch 29/100\n",
            "46/46 [==============================] - 1s 31ms/step - loss: 0.2201 - precision_2: 0.9096 - recall_2: 0.9096 - accuracy: 0.9096 - val_loss: 0.6144 - val_precision_2: 0.7485 - val_recall_2: 0.7485 - val_accuracy: 0.7485\n",
            "Epoch 30/100\n",
            "46/46 [==============================] - 1s 31ms/step - loss: 0.2214 - precision_2: 0.9038 - recall_2: 0.9038 - accuracy: 0.9038 - val_loss: 0.6074 - val_precision_2: 0.7216 - val_recall_2: 0.7216 - val_accuracy: 0.7216\n",
            "Epoch 31/100\n",
            "46/46 [==============================] - 2s 35ms/step - loss: 0.2354 - precision_2: 0.9003 - recall_2: 0.9003 - accuracy: 0.9003 - val_loss: 0.6401 - val_precision_2: 0.7392 - val_recall_2: 0.7392 - val_accuracy: 0.7392\n",
            "Epoch 32/100\n",
            "46/46 [==============================] - 1s 32ms/step - loss: 0.1610 - precision_2: 0.9399 - recall_2: 0.9399 - accuracy: 0.9399 - val_loss: 0.6712 - val_precision_2: 0.7186 - val_recall_2: 0.7186 - val_accuracy: 0.7186\n",
            "Epoch 33/100\n",
            "46/46 [==============================] - 2s 35ms/step - loss: 0.1527 - precision_2: 0.9443 - recall_2: 0.9443 - accuracy: 0.9443 - val_loss: 0.6746 - val_precision_2: 0.7309 - val_recall_2: 0.7309 - val_accuracy: 0.7309\n",
            "Epoch 34/100\n",
            "46/46 [==============================] - 1s 31ms/step - loss: 0.1425 - precision_2: 0.9423 - recall_2: 0.9423 - accuracy: 0.9423 - val_loss: 0.8413 - val_precision_2: 0.7268 - val_recall_2: 0.7268 - val_accuracy: 0.7268\n",
            "Epoch 35/100\n",
            "46/46 [==============================] - 2s 37ms/step - loss: 0.1514 - precision_2: 0.9392 - recall_2: 0.9392 - accuracy: 0.9392 - val_loss: 0.6341 - val_precision_2: 0.7402 - val_recall_2: 0.7402 - val_accuracy: 0.7402\n",
            "Epoch 36/100\n",
            "46/46 [==============================] - 2s 35ms/step - loss: 0.1289 - precision_2: 0.9491 - recall_2: 0.9491 - accuracy: 0.9491 - val_loss: 0.6614 - val_precision_2: 0.7433 - val_recall_2: 0.7433 - val_accuracy: 0.7433\n",
            "Epoch 37/100\n",
            "46/46 [==============================] - 2s 33ms/step - loss: 0.0904 - precision_2: 0.9684 - recall_2: 0.9684 - accuracy: 0.9684 - val_loss: 0.7202 - val_precision_2: 0.7454 - val_recall_2: 0.7454 - val_accuracy: 0.7454\n",
            "Epoch 38/100\n",
            "46/46 [==============================] - 2s 33ms/step - loss: 0.1032 - precision_2: 0.9636 - recall_2: 0.9636 - accuracy: 0.9636 - val_loss: 0.6904 - val_precision_2: 0.7082 - val_recall_2: 0.7082 - val_accuracy: 0.7082\n",
            "Epoch 39/100\n",
            "46/46 [==============================] - 1s 32ms/step - loss: 0.1271 - precision_2: 0.9471 - recall_2: 0.9471 - accuracy: 0.9471 - val_loss: 0.6817 - val_precision_2: 0.7351 - val_recall_2: 0.7351 - val_accuracy: 0.7351\n",
            "Epoch 40/100\n",
            "46/46 [==============================] - 2s 35ms/step - loss: 0.0906 - precision_2: 0.9684 - recall_2: 0.9684 - accuracy: 0.9684 - val_loss: 0.6418 - val_precision_2: 0.7485 - val_recall_2: 0.7485 - val_accuracy: 0.7485\n",
            "Epoch 41/100\n",
            "46/46 [==============================] - 1s 32ms/step - loss: 0.0914 - precision_2: 0.9677 - recall_2: 0.9677 - accuracy: 0.9677 - val_loss: 0.6647 - val_precision_2: 0.7474 - val_recall_2: 0.7474 - val_accuracy: 0.7474\n",
            "Epoch 42/100\n",
            "46/46 [==============================] - 1s 32ms/step - loss: 0.1218 - precision_2: 0.9588 - recall_2: 0.9588 - accuracy: 0.9588 - val_loss: 0.6600 - val_precision_2: 0.7423 - val_recall_2: 0.7423 - val_accuracy: 0.7423\n",
            "Epoch 43/100\n",
            "46/46 [==============================] - 1s 31ms/step - loss: 0.0836 - precision_2: 0.9643 - recall_2: 0.9643 - accuracy: 0.9643 - val_loss: 0.7294 - val_precision_2: 0.7268 - val_recall_2: 0.7268 - val_accuracy: 0.7268\n",
            "Epoch 44/100\n",
            "46/46 [==============================] - 1s 32ms/step - loss: 0.0731 - precision_2: 0.9725 - recall_2: 0.9725 - accuracy: 0.9725 - val_loss: 0.7060 - val_precision_2: 0.7557 - val_recall_2: 0.7557 - val_accuracy: 0.7557\n",
            "Epoch 45/100\n",
            "46/46 [==============================] - 2s 36ms/step - loss: 0.0556 - precision_2: 0.9828 - recall_2: 0.9828 - accuracy: 0.9828 - val_loss: 0.7652 - val_precision_2: 0.7433 - val_recall_2: 0.7433 - val_accuracy: 0.7433\n",
            "Epoch 46/100\n",
            "46/46 [==============================] - 2s 39ms/step - loss: 0.0669 - precision_2: 0.9770 - recall_2: 0.9770 - accuracy: 0.9770 - val_loss: 0.7568 - val_precision_2: 0.7412 - val_recall_2: 0.7412 - val_accuracy: 0.7412\n",
            "Epoch 47/100\n",
            "46/46 [==============================] - 2s 39ms/step - loss: 0.0489 - precision_2: 0.9818 - recall_2: 0.9818 - accuracy: 0.9818 - val_loss: 0.8426 - val_precision_2: 0.7402 - val_recall_2: 0.7402 - val_accuracy: 0.7402\n",
            "Epoch 48/100\n",
            "46/46 [==============================] - 2s 37ms/step - loss: 0.0830 - precision_2: 0.9698 - recall_2: 0.9698 - accuracy: 0.9698 - val_loss: 0.7156 - val_precision_2: 0.7371 - val_recall_2: 0.7371 - val_accuracy: 0.7371\n",
            "Epoch 49/100\n",
            "46/46 [==============================] - 1s 32ms/step - loss: 0.0570 - precision_2: 0.9787 - recall_2: 0.9787 - accuracy: 0.9787 - val_loss: 0.9199 - val_precision_2: 0.7402 - val_recall_2: 0.7402 - val_accuracy: 0.7402\n",
            "Epoch 50/100\n",
            "46/46 [==============================] - 1s 31ms/step - loss: 0.0671 - precision_2: 0.9746 - recall_2: 0.9746 - accuracy: 0.9746 - val_loss: 0.8199 - val_precision_2: 0.7330 - val_recall_2: 0.7330 - val_accuracy: 0.7330\n",
            "Epoch 51/100\n",
            "46/46 [==============================] - 1s 32ms/step - loss: 0.0809 - precision_2: 0.9729 - recall_2: 0.9729 - accuracy: 0.9729 - val_loss: 0.8360 - val_precision_2: 0.7526 - val_recall_2: 0.7526 - val_accuracy: 0.7526\n",
            "Epoch 52/100\n",
            "46/46 [==============================] - 1s 32ms/step - loss: 0.0439 - precision_2: 0.9838 - recall_2: 0.9838 - accuracy: 0.9838 - val_loss: 0.8273 - val_precision_2: 0.7443 - val_recall_2: 0.7443 - val_accuracy: 0.7443\n",
            "Epoch 53/100\n",
            "46/46 [==============================] - 1s 32ms/step - loss: 0.0468 - precision_2: 0.9856 - recall_2: 0.9856 - accuracy: 0.9856 - val_loss: 0.7115 - val_precision_2: 0.7485 - val_recall_2: 0.7485 - val_accuracy: 0.7485\n",
            "Epoch 54/100\n",
            "46/46 [==============================] - 1s 31ms/step - loss: 0.0406 - precision_2: 0.9863 - recall_2: 0.9863 - accuracy: 0.9863 - val_loss: 0.8881 - val_precision_2: 0.7474 - val_recall_2: 0.7474 - val_accuracy: 0.7474\n",
            "Epoch 55/100\n",
            "46/46 [==============================] - 2s 37ms/step - loss: 0.0400 - precision_2: 0.9849 - recall_2: 0.9849 - accuracy: 0.9849 - val_loss: 0.8832 - val_precision_2: 0.7392 - val_recall_2: 0.7392 - val_accuracy: 0.7392\n",
            "Epoch 56/100\n",
            "46/46 [==============================] - 2s 38ms/step - loss: 0.0383 - precision_2: 0.9907 - recall_2: 0.9907 - accuracy: 0.9907 - val_loss: 0.9643 - val_precision_2: 0.7412 - val_recall_2: 0.7412 - val_accuracy: 0.7412\n",
            "Epoch 57/100\n",
            "46/46 [==============================] - 2s 35ms/step - loss: 0.0417 - precision_2: 0.9856 - recall_2: 0.9856 - accuracy: 0.9856 - val_loss: 1.0022 - val_precision_2: 0.7402 - val_recall_2: 0.7402 - val_accuracy: 0.7402\n",
            "Epoch 58/100\n",
            "46/46 [==============================] - 2s 34ms/step - loss: 0.0567 - precision_2: 0.9801 - recall_2: 0.9801 - accuracy: 0.9801 - val_loss: 0.8208 - val_precision_2: 0.7196 - val_recall_2: 0.7196 - val_accuracy: 0.7196\n",
            "Epoch 59/100\n",
            "46/46 [==============================] - 1s 31ms/step - loss: 0.0272 - precision_2: 0.9904 - recall_2: 0.9904 - accuracy: 0.9904 - val_loss: 0.8440 - val_precision_2: 0.7639 - val_recall_2: 0.7639 - val_accuracy: 0.7639\n",
            "Epoch 60/100\n",
            "46/46 [==============================] - 1s 31ms/step - loss: 0.0376 - precision_2: 0.9880 - recall_2: 0.9880 - accuracy: 0.9880 - val_loss: 0.9918 - val_precision_2: 0.7247 - val_recall_2: 0.7247 - val_accuracy: 0.7247\n",
            "Epoch 61/100\n",
            "46/46 [==============================] - 1s 31ms/step - loss: 0.0668 - precision_2: 0.9787 - recall_2: 0.9787 - accuracy: 0.9787 - val_loss: 0.9278 - val_precision_2: 0.7443 - val_recall_2: 0.7443 - val_accuracy: 0.7443\n",
            "Epoch 62/100\n",
            "46/46 [==============================] - 1s 32ms/step - loss: 0.0527 - precision_2: 0.9856 - recall_2: 0.9856 - accuracy: 0.9856 - val_loss: 0.9134 - val_precision_2: 0.7381 - val_recall_2: 0.7381 - val_accuracy: 0.7381\n",
            "Epoch 63/100\n",
            "46/46 [==============================] - 1s 32ms/step - loss: 0.0292 - precision_2: 0.9914 - recall_2: 0.9914 - accuracy: 0.9914 - val_loss: 0.8668 - val_precision_2: 0.7505 - val_recall_2: 0.7505 - val_accuracy: 0.7505\n",
            "Epoch 64/100\n",
            "46/46 [==============================] - 1s 32ms/step - loss: 0.0231 - precision_2: 0.9931 - recall_2: 0.9931 - accuracy: 0.9931 - val_loss: 0.9176 - val_precision_2: 0.7474 - val_recall_2: 0.7474 - val_accuracy: 0.7474\n",
            "Epoch 65/100\n",
            "46/46 [==============================] - 1s 32ms/step - loss: 0.0387 - precision_2: 0.9876 - recall_2: 0.9876 - accuracy: 0.9876 - val_loss: 0.8138 - val_precision_2: 0.7351 - val_recall_2: 0.7351 - val_accuracy: 0.7351\n",
            "Epoch 66/100\n",
            "46/46 [==============================] - 2s 35ms/step - loss: 0.0737 - precision_2: 0.9725 - recall_2: 0.9725 - accuracy: 0.9725 - val_loss: 0.7904 - val_precision_2: 0.7361 - val_recall_2: 0.7361 - val_accuracy: 0.7361\n",
            "Epoch 67/100\n",
            "46/46 [==============================] - 2s 35ms/step - loss: 0.0312 - precision_2: 0.9893 - recall_2: 0.9893 - accuracy: 0.9893 - val_loss: 0.9552 - val_precision_2: 0.7289 - val_recall_2: 0.7289 - val_accuracy: 0.7289\n",
            "Epoch 68/100\n",
            "46/46 [==============================] - 2s 38ms/step - loss: 0.0448 - precision_2: 0.9863 - recall_2: 0.9863 - accuracy: 0.9863 - val_loss: 0.8219 - val_precision_2: 0.7278 - val_recall_2: 0.7278 - val_accuracy: 0.7278\n",
            "Epoch 69/100\n",
            "46/46 [==============================] - 1s 33ms/step - loss: 0.0399 - precision_2: 0.9866 - recall_2: 0.9866 - accuracy: 0.9866 - val_loss: 0.9026 - val_precision_2: 0.7320 - val_recall_2: 0.7320 - val_accuracy: 0.7320\n",
            "Epoch 70/100\n",
            "46/46 [==============================] - 1s 32ms/step - loss: 0.0288 - precision_2: 0.9904 - recall_2: 0.9904 - accuracy: 0.9904 - val_loss: 0.9999 - val_precision_2: 0.7412 - val_recall_2: 0.7412 - val_accuracy: 0.7412\n",
            "Epoch 71/100\n",
            "46/46 [==============================] - 1s 32ms/step - loss: 0.0196 - precision_2: 0.9935 - recall_2: 0.9935 - accuracy: 0.9935 - val_loss: 1.2769 - val_precision_2: 0.7330 - val_recall_2: 0.7330 - val_accuracy: 0.7330\n",
            "Epoch 72/100\n",
            "46/46 [==============================] - 1s 32ms/step - loss: 0.0287 - precision_2: 0.9883 - recall_2: 0.9883 - accuracy: 0.9883 - val_loss: 0.9803 - val_precision_2: 0.7577 - val_recall_2: 0.7577 - val_accuracy: 0.7577\n",
            "Epoch 73/100\n",
            "46/46 [==============================] - 1s 32ms/step - loss: 0.0268 - precision_2: 0.9887 - recall_2: 0.9887 - accuracy: 0.9887 - val_loss: 0.9979 - val_precision_2: 0.7371 - val_recall_2: 0.7371 - val_accuracy: 0.7371\n",
            "Epoch 74/100\n",
            "46/46 [==============================] - 1s 32ms/step - loss: 0.0413 - precision_2: 0.9856 - recall_2: 0.9856 - accuracy: 0.9856 - val_loss: 0.9271 - val_precision_2: 0.7412 - val_recall_2: 0.7412 - val_accuracy: 0.7412\n",
            "Epoch 75/100\n",
            "46/46 [==============================] - 1s 31ms/step - loss: 0.0350 - precision_2: 0.9883 - recall_2: 0.9883 - accuracy: 0.9883 - val_loss: 1.1648 - val_precision_2: 0.7361 - val_recall_2: 0.7361 - val_accuracy: 0.7361\n",
            "Epoch 76/100\n",
            "46/46 [==============================] - 2s 33ms/step - loss: 0.0256 - precision_2: 0.9924 - recall_2: 0.9924 - accuracy: 0.9924 - val_loss: 1.1439 - val_precision_2: 0.7474 - val_recall_2: 0.7474 - val_accuracy: 0.7474\n",
            "Epoch 77/100\n",
            "46/46 [==============================] - 2s 35ms/step - loss: 0.0235 - precision_2: 0.9931 - recall_2: 0.9931 - accuracy: 0.9931 - val_loss: 1.0097 - val_precision_2: 0.7639 - val_recall_2: 0.7639 - val_accuracy: 0.7639\n",
            "Epoch 78/100\n",
            "46/46 [==============================] - 2s 38ms/step - loss: 0.0146 - precision_2: 0.9962 - recall_2: 0.9962 - accuracy: 0.9962 - val_loss: 0.9471 - val_precision_2: 0.7619 - val_recall_2: 0.7619 - val_accuracy: 0.7619\n",
            "Epoch 79/100\n",
            "46/46 [==============================] - 2s 34ms/step - loss: 0.0172 - precision_2: 0.9945 - recall_2: 0.9945 - accuracy: 0.9945 - val_loss: 0.9832 - val_precision_2: 0.7454 - val_recall_2: 0.7454 - val_accuracy: 0.7454\n",
            "Epoch 80/100\n",
            "46/46 [==============================] - 1s 31ms/step - loss: 0.0130 - precision_2: 0.9959 - recall_2: 0.9959 - accuracy: 0.9959 - val_loss: 1.0597 - val_precision_2: 0.7505 - val_recall_2: 0.7505 - val_accuracy: 0.7505\n",
            "Epoch 81/100\n",
            "46/46 [==============================] - 1s 32ms/step - loss: 0.0648 - precision_2: 0.9821 - recall_2: 0.9821 - accuracy: 0.9821 - val_loss: 1.1752 - val_precision_2: 0.7299 - val_recall_2: 0.7299 - val_accuracy: 0.7299\n",
            "Epoch 82/100\n",
            "46/46 [==============================] - 1s 32ms/step - loss: 0.0459 - precision_2: 0.9835 - recall_2: 0.9835 - accuracy: 0.9835 - val_loss: 0.8156 - val_precision_2: 0.7433 - val_recall_2: 0.7433 - val_accuracy: 0.7433\n",
            "Epoch 83/100\n",
            "46/46 [==============================] - 1s 31ms/step - loss: 0.0369 - precision_2: 0.9887 - recall_2: 0.9887 - accuracy: 0.9887 - val_loss: 1.1998 - val_precision_2: 0.7186 - val_recall_2: 0.7186 - val_accuracy: 0.7186\n",
            "Epoch 84/100\n",
            "46/46 [==============================] - 1s 31ms/step - loss: 0.0626 - precision_2: 0.9794 - recall_2: 0.9794 - accuracy: 0.9794 - val_loss: 1.0141 - val_precision_2: 0.7247 - val_recall_2: 0.7247 - val_accuracy: 0.7247\n",
            "Epoch 85/100\n",
            "46/46 [==============================] - 1s 32ms/step - loss: 0.0283 - precision_2: 0.9914 - recall_2: 0.9914 - accuracy: 0.9914 - val_loss: 0.8442 - val_precision_2: 0.7588 - val_recall_2: 0.7588 - val_accuracy: 0.7588\n",
            "Epoch 86/100\n",
            "46/46 [==============================] - 2s 35ms/step - loss: 0.0276 - precision_2: 0.9911 - recall_2: 0.9911 - accuracy: 0.9911 - val_loss: 0.8839 - val_precision_2: 0.7412 - val_recall_2: 0.7412 - val_accuracy: 0.7412\n",
            "Epoch 87/100\n",
            "46/46 [==============================] - 2s 38ms/step - loss: 0.0169 - precision_2: 0.9938 - recall_2: 0.9938 - accuracy: 0.9938 - val_loss: 1.1743 - val_precision_2: 0.7515 - val_recall_2: 0.7515 - val_accuracy: 0.7515\n",
            "Epoch 88/100\n",
            "46/46 [==============================] - 2s 34ms/step - loss: 0.0209 - precision_2: 0.9955 - recall_2: 0.9955 - accuracy: 0.9955 - val_loss: 0.9716 - val_precision_2: 0.7278 - val_recall_2: 0.7278 - val_accuracy: 0.7278\n",
            "Epoch 89/100\n",
            "46/46 [==============================] - 2s 39ms/step - loss: 0.0196 - precision_2: 0.9938 - recall_2: 0.9938 - accuracy: 0.9938 - val_loss: 0.9772 - val_precision_2: 0.7351 - val_recall_2: 0.7351 - val_accuracy: 0.7351\n",
            "Epoch 90/100\n",
            "46/46 [==============================] - 1s 32ms/step - loss: 0.0108 - precision_2: 0.9973 - recall_2: 0.9973 - accuracy: 0.9973 - val_loss: 0.9440 - val_precision_2: 0.7340 - val_recall_2: 0.7340 - val_accuracy: 0.7340\n",
            "Epoch 91/100\n",
            "46/46 [==============================] - 1s 32ms/step - loss: 0.0157 - precision_2: 0.9952 - recall_2: 0.9952 - accuracy: 0.9952 - val_loss: 1.1081 - val_precision_2: 0.7412 - val_recall_2: 0.7412 - val_accuracy: 0.7412\n",
            "Epoch 92/100\n",
            "46/46 [==============================] - 1s 32ms/step - loss: 0.0597 - precision_2: 0.9808 - recall_2: 0.9808 - accuracy: 0.9808 - val_loss: 1.2117 - val_precision_2: 0.7062 - val_recall_2: 0.7062 - val_accuracy: 0.7062\n",
            "Epoch 93/100\n",
            "46/46 [==============================] - 1s 32ms/step - loss: 0.0432 - precision_2: 0.9863 - recall_2: 0.9863 - accuracy: 0.9863 - val_loss: 0.7719 - val_precision_2: 0.7340 - val_recall_2: 0.7340 - val_accuracy: 0.7340\n",
            "Epoch 94/100\n",
            "46/46 [==============================] - 1s 32ms/step - loss: 0.0265 - precision_2: 0.9911 - recall_2: 0.9911 - accuracy: 0.9911 - val_loss: 1.0376 - val_precision_2: 0.7515 - val_recall_2: 0.7515 - val_accuracy: 0.7515\n",
            "Epoch 95/100\n",
            "46/46 [==============================] - 1s 32ms/step - loss: 0.0551 - precision_2: 0.9825 - recall_2: 0.9825 - accuracy: 0.9825 - val_loss: 0.8351 - val_precision_2: 0.7340 - val_recall_2: 0.7340 - val_accuracy: 0.7340\n",
            "Epoch 96/100\n",
            "46/46 [==============================] - 2s 33ms/step - loss: 0.0400 - precision_2: 0.9873 - recall_2: 0.9873 - accuracy: 0.9873 - val_loss: 0.9616 - val_precision_2: 0.7309 - val_recall_2: 0.7309 - val_accuracy: 0.7309\n",
            "Epoch 97/100\n",
            "46/46 [==============================] - 2s 34ms/step - loss: 0.0395 - precision_2: 0.9863 - recall_2: 0.9863 - accuracy: 0.9863 - val_loss: 0.8491 - val_precision_2: 0.7546 - val_recall_2: 0.7546 - val_accuracy: 0.7546\n",
            "Epoch 98/100\n",
            "46/46 [==============================] - 2s 35ms/step - loss: 0.0269 - precision_2: 0.9904 - recall_2: 0.9904 - accuracy: 0.9904 - val_loss: 0.9599 - val_precision_2: 0.7412 - val_recall_2: 0.7412 - val_accuracy: 0.7412\n",
            "Epoch 99/100\n",
            "46/46 [==============================] - 2s 38ms/step - loss: 0.0169 - precision_2: 0.9928 - recall_2: 0.9928 - accuracy: 0.9928 - val_loss: 1.2832 - val_precision_2: 0.7165 - val_recall_2: 0.7165 - val_accuracy: 0.7165\n",
            "Epoch 100/100\n",
            "46/46 [==============================] - 1s 32ms/step - loss: 0.0122 - precision_2: 0.9959 - recall_2: 0.9959 - accuracy: 0.9959 - val_loss: 1.0512 - val_precision_2: 0.7515 - val_recall_2: 0.7515 - val_accuracy: 0.7515\n"
          ]
        }
      ]
    },
    {
      "cell_type": "markdown",
      "source": [
        "####14-4 Store history"
      ],
      "metadata": {
        "id": "kM4zGBzuYPjc"
      }
    },
    {
      "cell_type": "code",
      "source": [
        "history_dict['SCNNMD'] = SCNNMD.history"
      ],
      "metadata": {
        "id": "9T23E-57YTQJ"
      },
      "execution_count": 33,
      "outputs": []
    },
    {
      "cell_type": "markdown",
      "source": [
        "### 15-Effect of Early Stopping(SCNNMDE)\n",
        "4th model is similar to the privious one besides early stopping"
      ],
      "metadata": {
        "id": "bqoDNWBbbXuN"
      }
    },
    {
      "cell_type": "markdown",
      "source": [
        "####15-1 Define model"
      ],
      "metadata": {
        "id": "HB1WqTyN-Adt"
      }
    },
    {
      "cell_type": "code",
      "source": [
        "def SCNNMDE(input_shape=input_shape):\n",
        "\n",
        "\n",
        "  model = models.Sequential()\n",
        "  model.add(layers.Conv2D(32, (3, 3), activation='relu',\n",
        "                          input_shape= input_shape))\n",
        "  model.add(layers.MaxPooling2D((2, 2)))\n",
        "  model.add(layers.Conv2D(64, (3, 3), activation='relu'))\n",
        "  model.add(layers.Dropout(0.2))\n",
        "  model.add(layers.MaxPooling2D((2, 2)))\n",
        "  model.add(layers.Conv2D(128, (3, 3), activation='relu'))\n",
        "  model.add(layers.Dropout(0.3))\n",
        "  model.add(layers.MaxPooling2D((2, 2)))\n",
        "  model.add(layers.Conv2D(128, (3, 3), activation='relu'))\n",
        "  model.add(layers.Dropout(0.4))\n",
        "  model.add(layers.MaxPooling2D((2, 2)))\n",
        "  model.add(layers.Flatten())\n",
        "  model.add(layers.Dense(512, activation='relu'))\n",
        "  model.add(layers.Dropout(0.5))\n",
        "  model.add(layers.Dense(2, activation='softmax'))\n",
        "\n",
        "  return model"
      ],
      "metadata": {
        "id": "7gK2H1VHb0rh"
      },
      "execution_count": 34,
      "outputs": []
    },
    {
      "cell_type": "markdown",
      "source": [
        "####15-2 Compile model"
      ],
      "metadata": {
        "id": "Ns1SbSeL-Icu"
      }
    },
    {
      "cell_type": "code",
      "source": [
        "SCNNMDE = SCNNMDE()\n",
        "SCNNMDE.compile(loss='categorical_crossentropy',\n",
        "              optimizer=tf.keras.optimizers.Adam(learning_rate=learning_rate),\n",
        "              metrics=[keras.metrics.Precision(), keras.metrics.Recall(),'accuracy'],)"
      ],
      "metadata": {
        "id": "_hXk1513b-98"
      },
      "execution_count": 35,
      "outputs": []
    },
    {
      "cell_type": "markdown",
      "source": [
        "####15-3 Fit model"
      ],
      "metadata": {
        "id": "tcaUyL7S-e2b"
      }
    },
    {
      "cell_type": "code",
      "source": [
        "My_all_callbacks = [earlystopping(),Checkpoint(\"/content/SCNNMDE\")] # Use early stopping and checkpoint\n",
        "SCNNMDE = SCNNMDE.fit(\n",
        "    x = x_train,\n",
        "    y = y_train,\n",
        "    validation_data = (x_val, y_val),\n",
        "    batch_size = batch_size,\n",
        "    epochs = epochs,\n",
        "    callbacks=My_all_callbacks\n",
        ")"
      ],
      "metadata": {
        "colab": {
          "base_uri": "https://localhost:8080/"
        },
        "id": "EQXo6ed9bpoZ",
        "outputId": "b5e26c43-7b92-46c0-ae1d-3da398f01175"
      },
      "execution_count": 36,
      "outputs": [
        {
          "output_type": "stream",
          "name": "stdout",
          "text": [
            "Epoch 1/100\n",
            "45/46 [============================>.] - ETA: 0s - loss: 0.6675 - precision_3: 0.6253 - recall_3: 0.6253 - accuracy: 0.6253\n",
            "Epoch 1: val_accuracy improved from -inf to 0.63093, saving model to /content/SCNNMDE\n",
            "46/46 [==============================] - 5s 79ms/step - loss: 0.6675 - precision_3: 0.6251 - recall_3: 0.6251 - accuracy: 0.6251 - val_loss: 0.6722 - val_precision_3: 0.6309 - val_recall_3: 0.6309 - val_accuracy: 0.6309\n",
            "Epoch 2/100\n",
            "45/46 [============================>.] - ETA: 0s - loss: 0.6615 - precision_3: 0.6323 - recall_3: 0.6323 - accuracy: 0.6323\n",
            "Epoch 2: val_accuracy did not improve from 0.63093\n",
            "46/46 [==============================] - 2s 33ms/step - loss: 0.6620 - precision_3: 0.6309 - recall_3: 0.6309 - accuracy: 0.6309 - val_loss: 0.6665 - val_precision_3: 0.6309 - val_recall_3: 0.6309 - val_accuracy: 0.6309\n",
            "Epoch 3/100\n",
            "45/46 [============================>.] - ETA: 0s - loss: 0.6568 - precision_3: 0.6306 - recall_3: 0.6306 - accuracy: 0.6306\n",
            "Epoch 3: val_accuracy did not improve from 0.63093\n",
            "46/46 [==============================] - 2s 33ms/step - loss: 0.6566 - precision_3: 0.6306 - recall_3: 0.6306 - accuracy: 0.6306 - val_loss: 0.6474 - val_precision_3: 0.6299 - val_recall_3: 0.6299 - val_accuracy: 0.6299\n",
            "Epoch 4/100\n",
            "45/46 [============================>.] - ETA: 0s - loss: 0.6425 - precision_3: 0.6444 - recall_3: 0.6444 - accuracy: 0.6444\n",
            "Epoch 4: val_accuracy improved from 0.63093 to 0.63711, saving model to /content/SCNNMDE\n",
            "46/46 [==============================] - 3s 75ms/step - loss: 0.6438 - precision_3: 0.6430 - recall_3: 0.6430 - accuracy: 0.6430 - val_loss: 0.6425 - val_precision_3: 0.6371 - val_recall_3: 0.6371 - val_accuracy: 0.6371\n",
            "Epoch 5/100\n",
            "45/46 [============================>.] - ETA: 0s - loss: 0.6553 - precision_3: 0.6330 - recall_3: 0.6330 - accuracy: 0.6330\n",
            "Epoch 5: val_accuracy did not improve from 0.63711\n",
            "46/46 [==============================] - 2s 35ms/step - loss: 0.6552 - precision_3: 0.6330 - recall_3: 0.6330 - accuracy: 0.6330 - val_loss: 0.6463 - val_precision_3: 0.6340 - val_recall_3: 0.6340 - val_accuracy: 0.6340\n",
            "Epoch 6/100\n",
            "45/46 [============================>.] - ETA: 0s - loss: 0.6268 - precision_3: 0.6667 - recall_3: 0.6667 - accuracy: 0.6667\n",
            "Epoch 6: val_accuracy improved from 0.63711 to 0.64536, saving model to /content/SCNNMDE\n",
            "46/46 [==============================] - 3s 71ms/step - loss: 0.6270 - precision_3: 0.6660 - recall_3: 0.6660 - accuracy: 0.6660 - val_loss: 0.6345 - val_precision_3: 0.6454 - val_recall_3: 0.6454 - val_accuracy: 0.6454\n",
            "Epoch 7/100\n",
            "45/46 [============================>.] - ETA: 0s - loss: 0.6149 - precision_3: 0.6747 - recall_3: 0.6747 - accuracy: 0.6747\n",
            "Epoch 7: val_accuracy improved from 0.64536 to 0.65155, saving model to /content/SCNNMDE\n",
            "46/46 [==============================] - 3s 60ms/step - loss: 0.6147 - precision_3: 0.6739 - recall_3: 0.6739 - accuracy: 0.6739 - val_loss: 0.6211 - val_precision_3: 0.6515 - val_recall_3: 0.6515 - val_accuracy: 0.6515\n",
            "Epoch 8/100\n",
            "45/46 [============================>.] - ETA: 0s - loss: 0.6112 - precision_3: 0.6844 - recall_3: 0.6844 - accuracy: 0.6844\n",
            "Epoch 8: val_accuracy improved from 0.65155 to 0.68866, saving model to /content/SCNNMDE\n",
            "46/46 [==============================] - 3s 59ms/step - loss: 0.6107 - precision_3: 0.6849 - recall_3: 0.6849 - accuracy: 0.6849 - val_loss: 0.6064 - val_precision_3: 0.6887 - val_recall_3: 0.6887 - val_accuracy: 0.6887\n",
            "Epoch 9/100\n",
            "45/46 [============================>.] - ETA: 0s - loss: 0.5932 - precision_3: 0.6962 - recall_3: 0.6962 - accuracy: 0.6962\n",
            "Epoch 9: val_accuracy did not improve from 0.68866\n",
            "46/46 [==============================] - 1s 32ms/step - loss: 0.5922 - precision_3: 0.6976 - recall_3: 0.6976 - accuracy: 0.6976 - val_loss: 0.6015 - val_precision_3: 0.6784 - val_recall_3: 0.6784 - val_accuracy: 0.6784\n",
            "Epoch 10/100\n",
            "45/46 [============================>.] - ETA: 0s - loss: 0.5866 - precision_3: 0.6962 - recall_3: 0.6962 - accuracy: 0.6962\n",
            "Epoch 10: val_accuracy did not improve from 0.68866\n",
            "46/46 [==============================] - 2s 41ms/step - loss: 0.5864 - precision_3: 0.6955 - recall_3: 0.6955 - accuracy: 0.6955 - val_loss: 0.6042 - val_precision_3: 0.6670 - val_recall_3: 0.6670 - val_accuracy: 0.6670\n",
            "Epoch 11/100\n",
            "45/46 [============================>.] - ETA: 0s - loss: 0.5622 - precision_3: 0.7177 - recall_3: 0.7177 - accuracy: 0.7177\n",
            "Epoch 11: val_accuracy improved from 0.68866 to 0.71856, saving model to /content/SCNNMDE\n",
            "46/46 [==============================] - 6s 125ms/step - loss: 0.5637 - precision_3: 0.7168 - recall_3: 0.7168 - accuracy: 0.7168 - val_loss: 0.5737 - val_precision_3: 0.7186 - val_recall_3: 0.7186 - val_accuracy: 0.7186\n",
            "Epoch 12/100\n",
            "45/46 [============================>.] - ETA: 0s - loss: 0.5573 - precision_3: 0.7278 - recall_3: 0.7278 - accuracy: 0.7278\n",
            "Epoch 12: val_accuracy did not improve from 0.71856\n",
            "46/46 [==============================] - 2s 35ms/step - loss: 0.5574 - precision_3: 0.7268 - recall_3: 0.7268 - accuracy: 0.7268 - val_loss: 0.5822 - val_precision_3: 0.7134 - val_recall_3: 0.7134 - val_accuracy: 0.7134\n",
            "Epoch 13/100\n",
            "45/46 [============================>.] - ETA: 0s - loss: 0.5260 - precision_3: 0.7406 - recall_3: 0.7406 - accuracy: 0.7406\n",
            "Epoch 13: val_accuracy did not improve from 0.71856\n",
            "46/46 [==============================] - 1s 31ms/step - loss: 0.5260 - precision_3: 0.7409 - recall_3: 0.7409 - accuracy: 0.7409 - val_loss: 0.6426 - val_precision_3: 0.6536 - val_recall_3: 0.6536 - val_accuracy: 0.6536\n",
            "Epoch 14/100\n",
            "45/46 [============================>.] - ETA: 0s - loss: 0.5135 - precision_3: 0.7486 - recall_3: 0.7486 - accuracy: 0.7486\n",
            "Epoch 14: val_accuracy did not improve from 0.71856\n",
            "46/46 [==============================] - 1s 31ms/step - loss: 0.5142 - precision_3: 0.7478 - recall_3: 0.7478 - accuracy: 0.7478 - val_loss: 0.5650 - val_precision_3: 0.7072 - val_recall_3: 0.7072 - val_accuracy: 0.7072\n",
            "Epoch 15/100\n",
            "45/46 [============================>.] - ETA: 0s - loss: 0.4981 - precision_3: 0.7674 - recall_3: 0.7674 - accuracy: 0.7674\n",
            "Epoch 15: val_accuracy did not improve from 0.71856\n",
            "46/46 [==============================] - 1s 31ms/step - loss: 0.4973 - precision_3: 0.7680 - recall_3: 0.7680 - accuracy: 0.7680 - val_loss: 0.5890 - val_precision_3: 0.6876 - val_recall_3: 0.6876 - val_accuracy: 0.6876\n",
            "Epoch 16/100\n",
            "45/46 [============================>.] - ETA: 0s - loss: 0.4922 - precision_3: 0.7670 - recall_3: 0.7670 - accuracy: 0.7670\n",
            "Epoch 16: val_accuracy improved from 0.71856 to 0.71959, saving model to /content/SCNNMDE\n",
            "46/46 [==============================] - 3s 73ms/step - loss: 0.4931 - precision_3: 0.7667 - recall_3: 0.7667 - accuracy: 0.7667 - val_loss: 0.5614 - val_precision_3: 0.7196 - val_recall_3: 0.7196 - val_accuracy: 0.7196\n",
            "Epoch 17/100\n",
            "45/46 [============================>.] - ETA: 0s - loss: 0.4594 - precision_3: 0.7840 - recall_3: 0.7840 - accuracy: 0.7840\n",
            "Epoch 17: val_accuracy did not improve from 0.71959\n",
            "46/46 [==============================] - 2s 49ms/step - loss: 0.4583 - precision_3: 0.7842 - recall_3: 0.7842 - accuracy: 0.7842 - val_loss: 0.5848 - val_precision_3: 0.6856 - val_recall_3: 0.6856 - val_accuracy: 0.6856\n",
            "Epoch 18/100\n",
            "45/46 [============================>.] - ETA: 0s - loss: 0.4523 - precision_3: 0.7858 - recall_3: 0.7858 - accuracy: 0.7858\n",
            "Epoch 18: val_accuracy improved from 0.71959 to 0.73918, saving model to /content/SCNNMDE\n",
            "46/46 [==============================] - 6s 138ms/step - loss: 0.4510 - precision_3: 0.7869 - recall_3: 0.7869 - accuracy: 0.7869 - val_loss: 0.5494 - val_precision_3: 0.7392 - val_recall_3: 0.7392 - val_accuracy: 0.7392\n",
            "Epoch 19/100\n",
            "45/46 [============================>.] - ETA: 0s - loss: 0.4334 - precision_3: 0.8007 - recall_3: 0.8007 - accuracy: 0.8007\n",
            "Epoch 19: val_accuracy did not improve from 0.73918\n",
            "46/46 [==============================] - 2s 38ms/step - loss: 0.4339 - precision_3: 0.7993 - recall_3: 0.7993 - accuracy: 0.7993 - val_loss: 0.6615 - val_precision_3: 0.6464 - val_recall_3: 0.6464 - val_accuracy: 0.6464\n",
            "Epoch 20/100\n",
            "45/46 [============================>.] - ETA: 0s - loss: 0.4120 - precision_3: 0.8115 - recall_3: 0.8115 - accuracy: 0.8115\n",
            "Epoch 20: val_accuracy did not improve from 0.73918\n",
            "46/46 [==============================] - 2s 39ms/step - loss: 0.4101 - precision_3: 0.8124 - recall_3: 0.8124 - accuracy: 0.8124 - val_loss: 0.5726 - val_precision_3: 0.7351 - val_recall_3: 0.7351 - val_accuracy: 0.7351\n",
            "Epoch 21/100\n",
            "46/46 [==============================] - ETA: 0s - loss: 0.3673 - precision_3: 0.8385 - recall_3: 0.8385 - accuracy: 0.8385\n",
            "Epoch 21: val_accuracy improved from 0.73918 to 0.75155, saving model to /content/SCNNMDE\n",
            "46/46 [==============================] - 3s 68ms/step - loss: 0.3673 - precision_3: 0.8385 - recall_3: 0.8385 - accuracy: 0.8385 - val_loss: 0.5373 - val_precision_3: 0.7515 - val_recall_3: 0.7515 - val_accuracy: 0.7515\n",
            "Epoch 22/100\n",
            "45/46 [============================>.] - ETA: 0s - loss: 0.3438 - precision_3: 0.8514 - recall_3: 0.8514 - accuracy: 0.8514\n",
            "Epoch 22: val_accuracy did not improve from 0.75155\n",
            "46/46 [==============================] - 1s 32ms/step - loss: 0.3436 - precision_3: 0.8512 - recall_3: 0.8512 - accuracy: 0.8512 - val_loss: 0.6170 - val_precision_3: 0.7206 - val_recall_3: 0.7206 - val_accuracy: 0.7206\n",
            "Epoch 23/100\n",
            "45/46 [============================>.] - ETA: 0s - loss: 0.3087 - precision_3: 0.8653 - recall_3: 0.8653 - accuracy: 0.8653\n",
            "Epoch 23: val_accuracy did not improve from 0.75155\n",
            "46/46 [==============================] - 2s 37ms/step - loss: 0.3081 - precision_3: 0.8653 - recall_3: 0.8653 - accuracy: 0.8653 - val_loss: 0.5956 - val_precision_3: 0.7247 - val_recall_3: 0.7247 - val_accuracy: 0.7247\n",
            "Epoch 24/100\n",
            "45/46 [============================>.] - ETA: 0s - loss: 0.2717 - precision_3: 0.8819 - recall_3: 0.8819 - accuracy: 0.8819\n",
            "Epoch 24: val_accuracy did not improve from 0.75155\n",
            "46/46 [==============================] - 2s 39ms/step - loss: 0.2721 - precision_3: 0.8818 - recall_3: 0.8818 - accuracy: 0.8818 - val_loss: 0.5736 - val_precision_3: 0.7340 - val_recall_3: 0.7340 - val_accuracy: 0.7340\n",
            "Epoch 25/100\n",
            "45/46 [============================>.] - ETA: 0s - loss: 0.2406 - precision_3: 0.9003 - recall_3: 0.9003 - accuracy: 0.9003\n",
            "Epoch 25: val_accuracy did not improve from 0.75155\n",
            "46/46 [==============================] - 2s 38ms/step - loss: 0.2402 - precision_3: 0.9003 - recall_3: 0.9003 - accuracy: 0.9003 - val_loss: 0.6434 - val_precision_3: 0.7247 - val_recall_3: 0.7247 - val_accuracy: 0.7247\n",
            "Epoch 26/100\n",
            "45/46 [============================>.] - ETA: 0s - loss: 0.2570 - precision_3: 0.8882 - recall_3: 0.8882 - accuracy: 0.8882\n",
            "Epoch 26: val_accuracy did not improve from 0.75155\n",
            "46/46 [==============================] - 2s 33ms/step - loss: 0.2568 - precision_3: 0.8887 - recall_3: 0.8887 - accuracy: 0.8887 - val_loss: 0.6118 - val_precision_3: 0.7165 - val_recall_3: 0.7165 - val_accuracy: 0.7165\n",
            "Epoch 27/100\n",
            "45/46 [============================>.] - ETA: 0s - loss: 0.2296 - precision_3: 0.9007 - recall_3: 0.9007 - accuracy: 0.9007\n",
            "Epoch 27: val_accuracy did not improve from 0.75155\n",
            "46/46 [==============================] - 1s 32ms/step - loss: 0.2290 - precision_3: 0.9010 - recall_3: 0.9010 - accuracy: 0.9010 - val_loss: 0.6619 - val_precision_3: 0.7113 - val_recall_3: 0.7113 - val_accuracy: 0.7113\n",
            "Epoch 28/100\n",
            "45/46 [============================>.] - ETA: 0s - loss: 0.1800 - precision_3: 0.9250 - recall_3: 0.9250 - accuracy: 0.9250\n",
            "Epoch 28: val_accuracy did not improve from 0.75155\n",
            "46/46 [==============================] - 1s 32ms/step - loss: 0.1804 - precision_3: 0.9251 - recall_3: 0.9251 - accuracy: 0.9251 - val_loss: 0.6636 - val_precision_3: 0.7103 - val_recall_3: 0.7103 - val_accuracy: 0.7103\n",
            "Epoch 29/100\n",
            "45/46 [============================>.] - ETA: 0s - loss: 0.1936 - precision_3: 0.9156 - recall_3: 0.9156 - accuracy: 0.9156\n",
            "Epoch 29: val_accuracy did not improve from 0.75155\n",
            "46/46 [==============================] - 1s 32ms/step - loss: 0.1939 - precision_3: 0.9158 - recall_3: 0.9158 - accuracy: 0.9158 - val_loss: 0.6378 - val_precision_3: 0.7412 - val_recall_3: 0.7412 - val_accuracy: 0.7412\n",
            "Epoch 30/100\n",
            "45/46 [============================>.] - ETA: 0s - loss: 0.1602 - precision_3: 0.9351 - recall_3: 0.9351 - accuracy: 0.9351\n",
            "Epoch 30: val_accuracy did not improve from 0.75155\n",
            "46/46 [==============================] - 1s 32ms/step - loss: 0.1619 - precision_3: 0.9340 - recall_3: 0.9340 - accuracy: 0.9340 - val_loss: 0.6642 - val_precision_3: 0.7227 - val_recall_3: 0.7227 - val_accuracy: 0.7227\n",
            "Epoch 31/100\n",
            "45/46 [============================>.] - ETA: 0s - loss: 0.1542 - precision_3: 0.9385 - recall_3: 0.9385 - accuracy: 0.9385\n",
            "Epoch 31: val_accuracy did not improve from 0.75155\n",
            "46/46 [==============================] - 1s 32ms/step - loss: 0.1539 - precision_3: 0.9385 - recall_3: 0.9385 - accuracy: 0.9385 - val_loss: 0.7019 - val_precision_3: 0.7268 - val_recall_3: 0.7268 - val_accuracy: 0.7268\n",
            "Epoch 32/100\n",
            "45/46 [============================>.] - ETA: 0s - loss: 0.1221 - precision_3: 0.9549 - recall_3: 0.9549 - accuracy: 0.9549\n",
            "Epoch 32: val_accuracy did not improve from 0.75155\n",
            "46/46 [==============================] - 2s 35ms/step - loss: 0.1221 - precision_3: 0.9550 - recall_3: 0.9550 - accuracy: 0.9550 - val_loss: 0.6901 - val_precision_3: 0.7392 - val_recall_3: 0.7392 - val_accuracy: 0.7392\n",
            "Epoch 33/100\n",
            "45/46 [============================>.] - ETA: 0s - loss: 0.1227 - precision_3: 0.9566 - recall_3: 0.9566 - accuracy: 0.9566\n",
            "Epoch 33: val_accuracy did not improve from 0.75155\n",
            "46/46 [==============================] - 2s 34ms/step - loss: 0.1229 - precision_3: 0.9560 - recall_3: 0.9560 - accuracy: 0.9560 - val_loss: 0.9397 - val_precision_3: 0.7113 - val_recall_3: 0.7113 - val_accuracy: 0.7113\n",
            "Epoch 34/100\n",
            "45/46 [============================>.] - ETA: 0s - loss: 0.1075 - precision_3: 0.9528 - recall_3: 0.9528 - accuracy: 0.9528\n",
            "Epoch 34: val_accuracy did not improve from 0.75155\n",
            "46/46 [==============================] - 2s 39ms/step - loss: 0.1071 - precision_3: 0.9529 - recall_3: 0.9529 - accuracy: 0.9529 - val_loss: 0.9230 - val_precision_3: 0.7165 - val_recall_3: 0.7165 - val_accuracy: 0.7165\n",
            "Epoch 35/100\n",
            "45/46 [============================>.] - ETA: 0s - loss: 0.1053 - precision_3: 0.9618 - recall_3: 0.9618 - accuracy: 0.9618\n",
            "Epoch 35: val_accuracy did not improve from 0.75155\n",
            "46/46 [==============================] - 2s 36ms/step - loss: 0.1045 - precision_3: 0.9622 - recall_3: 0.9622 - accuracy: 0.9622 - val_loss: 0.8168 - val_precision_3: 0.7227 - val_recall_3: 0.7227 - val_accuracy: 0.7227\n",
            "Epoch 36/100\n",
            "45/46 [============================>.] - ETA: 0s - loss: 0.0982 - precision_3: 0.9628 - recall_3: 0.9628 - accuracy: 0.9628\n",
            "Epoch 36: val_accuracy did not improve from 0.75155\n",
            "46/46 [==============================] - 2s 34ms/step - loss: 0.0976 - precision_3: 0.9632 - recall_3: 0.9632 - accuracy: 0.9632 - val_loss: 0.7077 - val_precision_3: 0.7361 - val_recall_3: 0.7361 - val_accuracy: 0.7361\n",
            "Epoch 37/100\n",
            "45/46 [============================>.] - ETA: 0s - loss: 0.0773 - precision_3: 0.9733 - recall_3: 0.9733 - accuracy: 0.9733\n",
            "Epoch 37: val_accuracy did not improve from 0.75155\n",
            "46/46 [==============================] - 1s 32ms/step - loss: 0.0776 - precision_3: 0.9732 - recall_3: 0.9732 - accuracy: 0.9732 - val_loss: 1.0883 - val_precision_3: 0.7041 - val_recall_3: 0.7041 - val_accuracy: 0.7041\n",
            "Epoch 38/100\n",
            "45/46 [============================>.] - ETA: 0s - loss: 0.0863 - precision_3: 0.9705 - recall_3: 0.9705 - accuracy: 0.9705\n",
            "Epoch 38: val_accuracy did not improve from 0.75155\n",
            "46/46 [==============================] - 1s 32ms/step - loss: 0.0863 - precision_3: 0.9704 - recall_3: 0.9704 - accuracy: 0.9704 - val_loss: 1.0019 - val_precision_3: 0.7186 - val_recall_3: 0.7186 - val_accuracy: 0.7186\n",
            "Epoch 39/100\n",
            "45/46 [============================>.] - ETA: 0s - loss: 0.0782 - precision_3: 0.9708 - recall_3: 0.9708 - accuracy: 0.9708\n",
            "Epoch 39: val_accuracy did not improve from 0.75155\n",
            "46/46 [==============================] - 1s 32ms/step - loss: 0.0775 - precision_3: 0.9711 - recall_3: 0.9711 - accuracy: 0.9711 - val_loss: 0.9140 - val_precision_3: 0.7124 - val_recall_3: 0.7124 - val_accuracy: 0.7124\n",
            "Epoch 40/100\n",
            "45/46 [============================>.] - ETA: 0s - loss: 0.0715 - precision_3: 0.9750 - recall_3: 0.9750 - accuracy: 0.9750\n",
            "Epoch 40: val_accuracy did not improve from 0.75155\n",
            "46/46 [==============================] - 1s 32ms/step - loss: 0.0709 - precision_3: 0.9753 - recall_3: 0.9753 - accuracy: 0.9753 - val_loss: 0.8473 - val_precision_3: 0.7247 - val_recall_3: 0.7247 - val_accuracy: 0.7247\n",
            "Epoch 41/100\n",
            "45/46 [============================>.] - ETA: 0s - loss: 0.0529 - precision_3: 0.9809 - recall_3: 0.9809 - accuracy: 0.9809\n",
            "Epoch 41: val_accuracy did not improve from 0.75155\n",
            "46/46 [==============================] - 1s 32ms/step - loss: 0.0529 - precision_3: 0.9811 - recall_3: 0.9811 - accuracy: 0.9811 - val_loss: 0.8482 - val_precision_3: 0.7227 - val_recall_3: 0.7227 - val_accuracy: 0.7227\n",
            "Epoch 42/100\n",
            "45/46 [============================>.] - ETA: 0s - loss: 0.0540 - precision_3: 0.9816 - recall_3: 0.9816 - accuracy: 0.9816\n",
            "Epoch 42: val_accuracy did not improve from 0.75155\n",
            "46/46 [==============================] - 1s 32ms/step - loss: 0.0570 - precision_3: 0.9814 - recall_3: 0.9814 - accuracy: 0.9814 - val_loss: 0.8088 - val_precision_3: 0.7433 - val_recall_3: 0.7433 - val_accuracy: 0.7433\n",
            "Epoch 43/100\n",
            "45/46 [============================>.] - ETA: 0s - loss: 0.0772 - precision_3: 0.9736 - recall_3: 0.9736 - accuracy: 0.9736Restoring model weights from the end of the best epoch: 18.\n",
            "\n",
            "Epoch 43: val_accuracy did not improve from 0.75155\n",
            "46/46 [==============================] - 2s 34ms/step - loss: 0.0771 - precision_3: 0.9735 - recall_3: 0.9735 - accuracy: 0.9735 - val_loss: 1.1557 - val_precision_3: 0.7082 - val_recall_3: 0.7082 - val_accuracy: 0.7082\n",
            "Epoch 43: early stopping\n"
          ]
        }
      ]
    },
    {
      "cell_type": "markdown",
      "source": [
        "####15-4 Store its history"
      ],
      "metadata": {
        "id": "gLSvL5J2-43z"
      }
    },
    {
      "cell_type": "code",
      "source": [
        "history_dict['SCNNMDE'] = SCNNMDE.history"
      ],
      "metadata": {
        "id": "Hv9rfi2ccsQT"
      },
      "execution_count": 37,
      "outputs": []
    },
    {
      "cell_type": "markdown",
      "source": [
        "### 16-Effect Of Data Augmentation(SCNNMDED)\n",
        "5th model is similar to the privious one besides data augmentation"
      ],
      "metadata": {
        "id": "EE1_7S_rdKoB"
      }
    },
    {
      "cell_type": "markdown",
      "source": [
        "####16-1 Data Augmentation"
      ],
      "metadata": {
        "id": "LPtPEWCf_2SI"
      }
    },
    {
      "cell_type": "code",
      "source": [
        "preprocessing = tf.keras.Sequential([\n",
        "      tfkl.RandomBrightness(0.2, value_range=(0,1)),\n",
        "      tfkl.RandomTranslation(0.2,0.2),\n",
        "\n",
        "  ], name='preprocessing')"
      ],
      "metadata": {
        "id": "VaYr6Er9AAVy"
      },
      "execution_count": 38,
      "outputs": []
    },
    {
      "cell_type": "markdown",
      "source": [
        "####16-2 Define model"
      ],
      "metadata": {
        "id": "QN-Fo0drAK9c"
      }
    },
    {
      "cell_type": "code",
      "source": [
        "def SCNNMDED(input_shape=input_shape):\n",
        "  global preprocessing\n",
        "\n",
        "\n",
        "  input_layer = tfkl.Input(shape=input_shape, name='Input')\n",
        "  preprocessing = preprocessing(input_layer)\n",
        "\n",
        "\n",
        "  x = tfkl.Conv2D(filters=32, kernel_size=3, name='conv0')(preprocessing)\n",
        "  x = tfkl.ReLU(name='relu0')(x)\n",
        "  x = tfkl.MaxPooling2D((2,2),name='mp0')(x)\n",
        "  x = tfkl.Dropout(0.25)(x)\n",
        "\n",
        "  x = tfkl.Conv2D(filters=64, kernel_size=3, name='conv1')(x)\n",
        "  x = tfkl.ReLU(name='relu1')(x)\n",
        "  x = tfkl.MaxPooling2D((2,2),name='mp1')(x)\n",
        "  x = tfkl.Dropout(0.25)(x)\n",
        "\n",
        "  x = tfkl.Conv2D(filters=128, kernel_size=3, name='conv2')(x)\n",
        "  x = tfkl.ReLU(name='relu2')(x)\n",
        "  x = tfkl.MaxPooling2D((2,2),name='mp2')(x)\n",
        "  x = tfkl.Dropout(0.25)(x)\n",
        "\n",
        "  x = tfkl.Conv2D(filters=128, kernel_size=3, name='conv3')(x)\n",
        "  x = tfkl.ReLU(name='relu3')(x)\n",
        "  x = tfkl.MaxPooling2D((2,2),name='mp3')(x)\n",
        "  x = tfkl.Dropout(0.25)(x)\n",
        "\n",
        "  x = tfkl.Flatten()(x)\n",
        "  dense = tfkl.Dense(units=512, activation='relu',name='dense')(x)\n",
        "  output_layer = tfkl.Dense(units=2, activation='Softmax',name='outpu_layer')(dense)\n",
        "\n",
        "   # Connect input and output through the Model class\n",
        "  model = tfk.Model(inputs=input_layer, outputs=output_layer, name='CNN')\n",
        "\n",
        "  return model"
      ],
      "metadata": {
        "id": "GdLv0ZEAdWT7"
      },
      "execution_count": 39,
      "outputs": []
    },
    {
      "cell_type": "markdown",
      "source": [
        "####16-3 Compile model"
      ],
      "metadata": {
        "id": "5hAxGVpHAPoY"
      }
    },
    {
      "cell_type": "code",
      "source": [
        "SCNNMDED = SCNNMDED()\n",
        "SCNNMDED.compile(loss='categorical_crossentropy',\n",
        "              optimizer=tf.keras.optimizers.Adam(learning_rate=learning_rate),\n",
        "              metrics=[keras.metrics.Precision(), keras.metrics.Recall(),'accuracy'],)"
      ],
      "metadata": {
        "id": "2-iwqDWHdp1L"
      },
      "execution_count": 40,
      "outputs": []
    },
    {
      "cell_type": "markdown",
      "source": [
        "####16-4 Fit model"
      ],
      "metadata": {
        "id": "rc7oh8lxAX2t"
      }
    },
    {
      "cell_type": "code",
      "source": [
        "My_all_callbacks = [earlystopping(),Checkpoint(\"/content/SCNNMDED\")] # Use early stopping and checkpoint\n",
        "SCNNMDED = SCNNMDED.fit(\n",
        "    x = x_train,\n",
        "    y = y_train,\n",
        "    validation_data = (x_val, y_val),\n",
        "    batch_size = batch_size,\n",
        "    epochs = epochs,\n",
        "    callbacks=My_all_callbacks\n",
        ")"
      ],
      "metadata": {
        "colab": {
          "base_uri": "https://localhost:8080/"
        },
        "id": "njs_C16XdqJP",
        "outputId": "5aff768a-88d1-49f7-e39d-3454c580542f"
      },
      "execution_count": 41,
      "outputs": [
        {
          "output_type": "stream",
          "name": "stdout",
          "text": [
            "Epoch 1/100\n",
            "45/46 [============================>.] - ETA: 0s - loss: 0.6940 - precision_4: 0.6062 - recall_4: 0.6062 - accuracy: 0.6062\n",
            "Epoch 1: val_accuracy improved from -inf to 0.63093, saving model to /content/SCNNMDED\n",
            "46/46 [==============================] - 9s 91ms/step - loss: 0.6939 - precision_4: 0.6062 - recall_4: 0.6062 - accuracy: 0.6062 - val_loss: 0.6703 - val_precision_4: 0.6309 - val_recall_4: 0.6309 - val_accuracy: 0.6309\n",
            "Epoch 2/100\n",
            "45/46 [============================>.] - ETA: 0s - loss: 0.6600 - precision_4: 0.6323 - recall_4: 0.6323 - accuracy: 0.6323\n",
            "Epoch 2: val_accuracy did not improve from 0.63093\n",
            "46/46 [==============================] - 2s 33ms/step - loss: 0.6606 - precision_4: 0.6309 - recall_4: 0.6309 - accuracy: 0.6309 - val_loss: 0.6702 - val_precision_4: 0.6309 - val_recall_4: 0.6309 - val_accuracy: 0.6309\n",
            "Epoch 3/100\n",
            "45/46 [============================>.] - ETA: 0s - loss: 0.6611 - precision_4: 0.6299 - recall_4: 0.6299 - accuracy: 0.6299\n",
            "Epoch 3: val_accuracy did not improve from 0.63093\n",
            "46/46 [==============================] - 1s 32ms/step - loss: 0.6606 - precision_4: 0.6309 - recall_4: 0.6309 - accuracy: 0.6309 - val_loss: 0.6625 - val_precision_4: 0.6309 - val_recall_4: 0.6309 - val_accuracy: 0.6309\n",
            "Epoch 4/100\n",
            "45/46 [============================>.] - ETA: 0s - loss: 0.6572 - precision_4: 0.6323 - recall_4: 0.6323 - accuracy: 0.6323\n",
            "Epoch 4: val_accuracy did not improve from 0.63093\n",
            "46/46 [==============================] - 1s 32ms/step - loss: 0.6586 - precision_4: 0.6309 - recall_4: 0.6309 - accuracy: 0.6309 - val_loss: 0.6584 - val_precision_4: 0.6309 - val_recall_4: 0.6309 - val_accuracy: 0.6309\n",
            "Epoch 5/100\n",
            "45/46 [============================>.] - ETA: 0s - loss: 0.6600 - precision_4: 0.6309 - recall_4: 0.6309 - accuracy: 0.6309\n",
            "Epoch 5: val_accuracy did not improve from 0.63093\n",
            "46/46 [==============================] - 2s 34ms/step - loss: 0.6600 - precision_4: 0.6309 - recall_4: 0.6309 - accuracy: 0.6309 - val_loss: 0.6607 - val_precision_4: 0.6309 - val_recall_4: 0.6309 - val_accuracy: 0.6309\n",
            "Epoch 6/100\n",
            "45/46 [============================>.] - ETA: 0s - loss: 0.6592 - precision_4: 0.6313 - recall_4: 0.6313 - accuracy: 0.6313\n",
            "Epoch 6: val_accuracy did not improve from 0.63093\n",
            "46/46 [==============================] - 2s 36ms/step - loss: 0.6593 - precision_4: 0.6309 - recall_4: 0.6309 - accuracy: 0.6309 - val_loss: 0.6593 - val_precision_4: 0.6309 - val_recall_4: 0.6309 - val_accuracy: 0.6309\n",
            "Epoch 7/100\n",
            "45/46 [============================>.] - ETA: 0s - loss: 0.6575 - precision_4: 0.6313 - recall_4: 0.6313 - accuracy: 0.6313\n",
            "Epoch 7: val_accuracy did not improve from 0.63093\n",
            "46/46 [==============================] - 2s 38ms/step - loss: 0.6578 - precision_4: 0.6306 - recall_4: 0.6306 - accuracy: 0.6306 - val_loss: 0.6574 - val_precision_4: 0.6309 - val_recall_4: 0.6309 - val_accuracy: 0.6309\n",
            "Epoch 8/100\n",
            "45/46 [============================>.] - ETA: 0s - loss: 0.6560 - precision_4: 0.6316 - recall_4: 0.6316 - accuracy: 0.6316\n",
            "Epoch 8: val_accuracy did not improve from 0.63093\n",
            "46/46 [==============================] - 2s 35ms/step - loss: 0.6566 - precision_4: 0.6309 - recall_4: 0.6309 - accuracy: 0.6309 - val_loss: 0.6563 - val_precision_4: 0.6309 - val_recall_4: 0.6309 - val_accuracy: 0.6309\n",
            "Epoch 9/100\n",
            "45/46 [============================>.] - ETA: 0s - loss: 0.6603 - precision_4: 0.6309 - recall_4: 0.6309 - accuracy: 0.6309\n",
            "Epoch 9: val_accuracy did not improve from 0.63093\n",
            "46/46 [==============================] - 1s 32ms/step - loss: 0.6602 - precision_4: 0.6309 - recall_4: 0.6309 - accuracy: 0.6309 - val_loss: 0.6509 - val_precision_4: 0.6309 - val_recall_4: 0.6309 - val_accuracy: 0.6309\n",
            "Epoch 10/100\n",
            "45/46 [============================>.] - ETA: 0s - loss: 0.6596 - precision_4: 0.6264 - recall_4: 0.6264 - accuracy: 0.6264\n",
            "Epoch 10: val_accuracy did not improve from 0.63093\n",
            "46/46 [==============================] - 1s 32ms/step - loss: 0.6592 - precision_4: 0.6271 - recall_4: 0.6271 - accuracy: 0.6271 - val_loss: 0.6584 - val_precision_4: 0.6309 - val_recall_4: 0.6309 - val_accuracy: 0.6309\n",
            "Epoch 11/100\n",
            "45/46 [============================>.] - ETA: 0s - loss: 0.6574 - precision_4: 0.6323 - recall_4: 0.6323 - accuracy: 0.6323\n",
            "Epoch 11: val_accuracy did not improve from 0.63093\n",
            "46/46 [==============================] - 1s 32ms/step - loss: 0.6581 - precision_4: 0.6309 - recall_4: 0.6309 - accuracy: 0.6309 - val_loss: 0.6566 - val_precision_4: 0.6309 - val_recall_4: 0.6309 - val_accuracy: 0.6309\n",
            "Epoch 12/100\n",
            "45/46 [============================>.] - ETA: 0s - loss: 0.6566 - precision_4: 0.6306 - recall_4: 0.6306 - accuracy: 0.6306\n",
            "Epoch 12: val_accuracy did not improve from 0.63093\n",
            "46/46 [==============================] - 1s 32ms/step - loss: 0.6572 - precision_4: 0.6296 - recall_4: 0.6296 - accuracy: 0.6296 - val_loss: 0.6558 - val_precision_4: 0.6309 - val_recall_4: 0.6309 - val_accuracy: 0.6309\n",
            "Epoch 13/100\n",
            "45/46 [============================>.] - ETA: 0s - loss: 0.6572 - precision_4: 0.6295 - recall_4: 0.6295 - accuracy: 0.6295\n",
            "Epoch 13: val_accuracy did not improve from 0.63093\n",
            "46/46 [==============================] - 1s 31ms/step - loss: 0.6572 - precision_4: 0.6296 - recall_4: 0.6296 - accuracy: 0.6296 - val_loss: 0.6533 - val_precision_4: 0.6309 - val_recall_4: 0.6309 - val_accuracy: 0.6309\n",
            "Epoch 14/100\n",
            "46/46 [==============================] - ETA: 0s - loss: 0.6431 - precision_4: 0.6536 - recall_4: 0.6536 - accuracy: 0.6536\n",
            "Epoch 14: val_accuracy improved from 0.63093 to 0.66598, saving model to /content/SCNNMDED\n",
            "46/46 [==============================] - 5s 114ms/step - loss: 0.6431 - precision_4: 0.6536 - recall_4: 0.6536 - accuracy: 0.6536 - val_loss: 0.6368 - val_precision_4: 0.6660 - val_recall_4: 0.6660 - val_accuracy: 0.6660\n",
            "Epoch 15/100\n",
            "45/46 [============================>.] - ETA: 0s - loss: 0.6365 - precision_4: 0.6573 - recall_4: 0.6573 - accuracy: 0.6573\n",
            "Epoch 15: val_accuracy improved from 0.66598 to 0.68660, saving model to /content/SCNNMDED\n",
            "46/46 [==============================] - 4s 88ms/step - loss: 0.6361 - precision_4: 0.6577 - recall_4: 0.6577 - accuracy: 0.6577 - val_loss: 0.6274 - val_precision_4: 0.6866 - val_recall_4: 0.6866 - val_accuracy: 0.6866\n",
            "Epoch 16/100\n",
            "45/46 [============================>.] - ETA: 0s - loss: 0.6401 - precision_4: 0.6583 - recall_4: 0.6583 - accuracy: 0.6583\n",
            "Epoch 16: val_accuracy did not improve from 0.68660\n",
            "46/46 [==============================] - 2s 33ms/step - loss: 0.6406 - precision_4: 0.6577 - recall_4: 0.6577 - accuracy: 0.6577 - val_loss: 0.6428 - val_precision_4: 0.6433 - val_recall_4: 0.6433 - val_accuracy: 0.6433\n",
            "Epoch 17/100\n",
            "45/46 [============================>.] - ETA: 0s - loss: 0.6464 - precision_4: 0.6469 - recall_4: 0.6469 - accuracy: 0.6469\n",
            "Epoch 17: val_accuracy did not improve from 0.68660\n",
            "46/46 [==============================] - 2s 36ms/step - loss: 0.6461 - precision_4: 0.6478 - recall_4: 0.6478 - accuracy: 0.6478 - val_loss: 0.6266 - val_precision_4: 0.6649 - val_recall_4: 0.6649 - val_accuracy: 0.6649\n",
            "Epoch 18/100\n",
            "45/46 [============================>.] - ETA: 0s - loss: 0.6368 - precision_4: 0.6566 - recall_4: 0.6566 - accuracy: 0.6566\n",
            "Epoch 18: val_accuracy did not improve from 0.68660\n",
            "46/46 [==============================] - 1s 32ms/step - loss: 0.6375 - precision_4: 0.6557 - recall_4: 0.6557 - accuracy: 0.6557 - val_loss: 0.6296 - val_precision_4: 0.6567 - val_recall_4: 0.6567 - val_accuracy: 0.6567\n",
            "Epoch 19/100\n",
            "45/46 [============================>.] - ETA: 0s - loss: 0.6308 - precision_4: 0.6632 - recall_4: 0.6632 - accuracy: 0.6632\n",
            "Epoch 19: val_accuracy did not improve from 0.68660\n",
            "46/46 [==============================] - 2s 35ms/step - loss: 0.6301 - precision_4: 0.6639 - recall_4: 0.6639 - accuracy: 0.6639 - val_loss: 0.6186 - val_precision_4: 0.6835 - val_recall_4: 0.6835 - val_accuracy: 0.6835\n",
            "Epoch 20/100\n",
            "45/46 [============================>.] - ETA: 0s - loss: 0.6315 - precision_4: 0.6590 - recall_4: 0.6590 - accuracy: 0.6590\n",
            "Epoch 20: val_accuracy did not improve from 0.68660\n",
            "46/46 [==============================] - 2s 36ms/step - loss: 0.6303 - precision_4: 0.6608 - recall_4: 0.6608 - accuracy: 0.6608 - val_loss: 0.6238 - val_precision_4: 0.6639 - val_recall_4: 0.6639 - val_accuracy: 0.6639\n",
            "Epoch 21/100\n",
            "45/46 [============================>.] - ETA: 0s - loss: 0.6239 - precision_4: 0.6701 - recall_4: 0.6701 - accuracy: 0.6701\n",
            "Epoch 21: val_accuracy did not improve from 0.68660\n",
            "46/46 [==============================] - 2s 36ms/step - loss: 0.6231 - precision_4: 0.6704 - recall_4: 0.6704 - accuracy: 0.6704 - val_loss: 0.6153 - val_precision_4: 0.6773 - val_recall_4: 0.6773 - val_accuracy: 0.6773\n",
            "Epoch 22/100\n",
            "45/46 [============================>.] - ETA: 0s - loss: 0.6301 - precision_4: 0.6521 - recall_4: 0.6521 - accuracy: 0.6521\n",
            "Epoch 22: val_accuracy did not improve from 0.68660\n",
            "46/46 [==============================] - 2s 39ms/step - loss: 0.6304 - precision_4: 0.6526 - recall_4: 0.6526 - accuracy: 0.6526 - val_loss: 0.6226 - val_precision_4: 0.6691 - val_recall_4: 0.6691 - val_accuracy: 0.6691\n",
            "Epoch 23/100\n",
            "45/46 [============================>.] - ETA: 0s - loss: 0.6177 - precision_4: 0.6656 - recall_4: 0.6656 - accuracy: 0.6656\n",
            "Epoch 23: val_accuracy improved from 0.68660 to 0.68866, saving model to /content/SCNNMDED\n",
            "46/46 [==============================] - 4s 89ms/step - loss: 0.6172 - precision_4: 0.6670 - recall_4: 0.6670 - accuracy: 0.6670 - val_loss: 0.5941 - val_precision_4: 0.6887 - val_recall_4: 0.6887 - val_accuracy: 0.6887\n",
            "Epoch 24/100\n",
            "45/46 [============================>.] - ETA: 0s - loss: 0.6083 - precision_4: 0.6743 - recall_4: 0.6743 - accuracy: 0.6743\n",
            "Epoch 24: val_accuracy improved from 0.68866 to 0.70619, saving model to /content/SCNNMDED\n",
            "46/46 [==============================] - 4s 84ms/step - loss: 0.6090 - precision_4: 0.6729 - recall_4: 0.6729 - accuracy: 0.6729 - val_loss: 0.5910 - val_precision_4: 0.7062 - val_recall_4: 0.7062 - val_accuracy: 0.7062\n",
            "Epoch 25/100\n",
            "45/46 [============================>.] - ETA: 0s - loss: 0.5944 - precision_4: 0.6924 - recall_4: 0.6924 - accuracy: 0.6924\n",
            "Epoch 25: val_accuracy did not improve from 0.70619\n",
            "46/46 [==============================] - 2s 34ms/step - loss: 0.5955 - precision_4: 0.6907 - recall_4: 0.6907 - accuracy: 0.6907 - val_loss: 0.5829 - val_precision_4: 0.6928 - val_recall_4: 0.6928 - val_accuracy: 0.6928\n",
            "Epoch 26/100\n",
            "45/46 [============================>.] - ETA: 0s - loss: 0.6112 - precision_4: 0.6677 - recall_4: 0.6677 - accuracy: 0.6677\n",
            "Epoch 26: val_accuracy did not improve from 0.70619\n",
            "46/46 [==============================] - 1s 32ms/step - loss: 0.6117 - precision_4: 0.6674 - recall_4: 0.6674 - accuracy: 0.6674 - val_loss: 0.6281 - val_precision_4: 0.6526 - val_recall_4: 0.6526 - val_accuracy: 0.6526\n",
            "Epoch 27/100\n",
            "45/46 [============================>.] - ETA: 0s - loss: 0.6090 - precision_4: 0.6726 - recall_4: 0.6726 - accuracy: 0.6726\n",
            "Epoch 27: val_accuracy did not improve from 0.70619\n",
            "46/46 [==============================] - 1s 32ms/step - loss: 0.6089 - precision_4: 0.6718 - recall_4: 0.6718 - accuracy: 0.6718 - val_loss: 0.5771 - val_precision_4: 0.6918 - val_recall_4: 0.6918 - val_accuracy: 0.6918\n",
            "Epoch 28/100\n",
            "45/46 [============================>.] - ETA: 0s - loss: 0.5902 - precision_4: 0.6965 - recall_4: 0.6965 - accuracy: 0.6965\n",
            "Epoch 28: val_accuracy did not improve from 0.70619\n",
            "46/46 [==============================] - 2s 37ms/step - loss: 0.5900 - precision_4: 0.6962 - recall_4: 0.6962 - accuracy: 0.6962 - val_loss: 0.6014 - val_precision_4: 0.6804 - val_recall_4: 0.6804 - val_accuracy: 0.6804\n",
            "Epoch 29/100\n",
            "45/46 [============================>.] - ETA: 0s - loss: 0.5770 - precision_4: 0.6948 - recall_4: 0.6948 - accuracy: 0.6948\n",
            "Epoch 29: val_accuracy did not improve from 0.70619\n",
            "46/46 [==============================] - 2s 39ms/step - loss: 0.5769 - precision_4: 0.6948 - recall_4: 0.6948 - accuracy: 0.6948 - val_loss: 0.5802 - val_precision_4: 0.7031 - val_recall_4: 0.7031 - val_accuracy: 0.7031\n",
            "Epoch 30/100\n",
            "45/46 [============================>.] - ETA: 0s - loss: 0.5702 - precision_4: 0.7021 - recall_4: 0.7021 - accuracy: 0.7021\n",
            "Epoch 30: val_accuracy improved from 0.70619 to 0.70825, saving model to /content/SCNNMDED\n",
            "46/46 [==============================] - 4s 88ms/step - loss: 0.5704 - precision_4: 0.7017 - recall_4: 0.7017 - accuracy: 0.7017 - val_loss: 0.5507 - val_precision_4: 0.7082 - val_recall_4: 0.7082 - val_accuracy: 0.7082\n",
            "Epoch 31/100\n",
            "45/46 [============================>.] - ETA: 0s - loss: 0.5661 - precision_4: 0.7111 - recall_4: 0.7111 - accuracy: 0.7111\n",
            "Epoch 31: val_accuracy did not improve from 0.70825\n",
            "46/46 [==============================] - 2s 37ms/step - loss: 0.5657 - precision_4: 0.7120 - recall_4: 0.7120 - accuracy: 0.7120 - val_loss: 0.5783 - val_precision_4: 0.6990 - val_recall_4: 0.6990 - val_accuracy: 0.6990\n",
            "Epoch 32/100\n",
            "45/46 [============================>.] - ETA: 0s - loss: 0.5547 - precision_4: 0.7208 - recall_4: 0.7208 - accuracy: 0.7208\n",
            "Epoch 32: val_accuracy did not improve from 0.70825\n",
            "46/46 [==============================] - 1s 33ms/step - loss: 0.5554 - precision_4: 0.7199 - recall_4: 0.7199 - accuracy: 0.7199 - val_loss: 0.5594 - val_precision_4: 0.7000 - val_recall_4: 0.7000 - val_accuracy: 0.7000\n",
            "Epoch 33/100\n",
            "45/46 [============================>.] - ETA: 0s - loss: 0.5542 - precision_4: 0.7177 - recall_4: 0.7177 - accuracy: 0.7177\n",
            "Epoch 33: val_accuracy did not improve from 0.70825\n",
            "46/46 [==============================] - 1s 32ms/step - loss: 0.5535 - precision_4: 0.7179 - recall_4: 0.7179 - accuracy: 0.7179 - val_loss: 0.6380 - val_precision_4: 0.6897 - val_recall_4: 0.6897 - val_accuracy: 0.6897\n",
            "Epoch 34/100\n",
            "45/46 [============================>.] - ETA: 0s - loss: 0.5610 - precision_4: 0.7135 - recall_4: 0.7135 - accuracy: 0.7135\n",
            "Epoch 34: val_accuracy did not improve from 0.70825\n",
            "46/46 [==============================] - 1s 32ms/step - loss: 0.5603 - precision_4: 0.7144 - recall_4: 0.7144 - accuracy: 0.7144 - val_loss: 0.6220 - val_precision_4: 0.6814 - val_recall_4: 0.6814 - val_accuracy: 0.6814\n",
            "Epoch 35/100\n",
            "45/46 [============================>.] - ETA: 0s - loss: 0.5542 - precision_4: 0.7125 - recall_4: 0.7125 - accuracy: 0.7125\n",
            "Epoch 35: val_accuracy did not improve from 0.70825\n",
            "46/46 [==============================] - 1s 32ms/step - loss: 0.5546 - precision_4: 0.7120 - recall_4: 0.7120 - accuracy: 0.7120 - val_loss: 0.5790 - val_precision_4: 0.6784 - val_recall_4: 0.6784 - val_accuracy: 0.6784\n",
            "Epoch 36/100\n",
            "45/46 [============================>.] - ETA: 0s - loss: 0.5426 - precision_4: 0.7215 - recall_4: 0.7215 - accuracy: 0.7215\n",
            "Epoch 36: val_accuracy improved from 0.70825 to 0.71237, saving model to /content/SCNNMDED\n",
            "46/46 [==============================] - 4s 93ms/step - loss: 0.5425 - precision_4: 0.7216 - recall_4: 0.7216 - accuracy: 0.7216 - val_loss: 0.5583 - val_precision_4: 0.7124 - val_recall_4: 0.7124 - val_accuracy: 0.7124\n",
            "Epoch 37/100\n",
            "45/46 [============================>.] - ETA: 0s - loss: 0.5283 - precision_4: 0.7257 - recall_4: 0.7257 - accuracy: 0.7257\n",
            "Epoch 37: val_accuracy improved from 0.71237 to 0.73402, saving model to /content/SCNNMDED\n",
            "46/46 [==============================] - 4s 94ms/step - loss: 0.5290 - precision_4: 0.7254 - recall_4: 0.7254 - accuracy: 0.7254 - val_loss: 0.5222 - val_precision_4: 0.7340 - val_recall_4: 0.7340 - val_accuracy: 0.7340\n",
            "Epoch 38/100\n",
            "45/46 [============================>.] - ETA: 0s - loss: 0.5227 - precision_4: 0.7240 - recall_4: 0.7240 - accuracy: 0.7240\n",
            "Epoch 38: val_accuracy did not improve from 0.73402\n",
            "46/46 [==============================] - 2s 33ms/step - loss: 0.5216 - precision_4: 0.7247 - recall_4: 0.7247 - accuracy: 0.7247 - val_loss: 0.5669 - val_precision_4: 0.7320 - val_recall_4: 0.7320 - val_accuracy: 0.7320\n",
            "Epoch 39/100\n",
            "45/46 [============================>.] - ETA: 0s - loss: 0.5213 - precision_4: 0.7351 - recall_4: 0.7351 - accuracy: 0.7351\n",
            "Epoch 39: val_accuracy did not improve from 0.73402\n",
            "46/46 [==============================] - 1s 32ms/step - loss: 0.5198 - precision_4: 0.7361 - recall_4: 0.7361 - accuracy: 0.7361 - val_loss: 0.6622 - val_precision_4: 0.6918 - val_recall_4: 0.6918 - val_accuracy: 0.6918\n",
            "Epoch 40/100\n",
            "45/46 [============================>.] - ETA: 0s - loss: 0.5230 - precision_4: 0.7427 - recall_4: 0.7427 - accuracy: 0.7427\n",
            "Epoch 40: val_accuracy did not improve from 0.73402\n",
            "46/46 [==============================] - 1s 32ms/step - loss: 0.5237 - precision_4: 0.7419 - recall_4: 0.7419 - accuracy: 0.7419 - val_loss: 0.5804 - val_precision_4: 0.7227 - val_recall_4: 0.7227 - val_accuracy: 0.7227\n",
            "Epoch 41/100\n",
            "45/46 [============================>.] - ETA: 0s - loss: 0.5075 - precision_4: 0.7437 - recall_4: 0.7437 - accuracy: 0.7437\n",
            "Epoch 41: val_accuracy did not improve from 0.73402\n",
            "46/46 [==============================] - 1s 32ms/step - loss: 0.5086 - precision_4: 0.7426 - recall_4: 0.7426 - accuracy: 0.7426 - val_loss: 0.5837 - val_precision_4: 0.7134 - val_recall_4: 0.7134 - val_accuracy: 0.7134\n",
            "Epoch 42/100\n",
            "45/46 [============================>.] - ETA: 0s - loss: 0.5109 - precision_4: 0.7392 - recall_4: 0.7392 - accuracy: 0.7392\n",
            "Epoch 42: val_accuracy did not improve from 0.73402\n",
            "46/46 [==============================] - 1s 32ms/step - loss: 0.5092 - precision_4: 0.7402 - recall_4: 0.7402 - accuracy: 0.7402 - val_loss: 0.5886 - val_precision_4: 0.7186 - val_recall_4: 0.7186 - val_accuracy: 0.7186\n",
            "Epoch 43/100\n",
            "45/46 [============================>.] - ETA: 0s - loss: 0.5256 - precision_4: 0.7434 - recall_4: 0.7434 - accuracy: 0.7434\n",
            "Epoch 43: val_accuracy did not improve from 0.73402\n",
            "46/46 [==============================] - 2s 37ms/step - loss: 0.5262 - precision_4: 0.7436 - recall_4: 0.7436 - accuracy: 0.7436 - val_loss: 0.6152 - val_precision_4: 0.7021 - val_recall_4: 0.7021 - val_accuracy: 0.7021\n",
            "Epoch 44/100\n",
            "45/46 [============================>.] - ETA: 0s - loss: 0.5030 - precision_4: 0.7635 - recall_4: 0.7635 - accuracy: 0.7635\n",
            "Epoch 44: val_accuracy did not improve from 0.73402\n",
            "46/46 [==============================] - 2s 40ms/step - loss: 0.5017 - precision_4: 0.7653 - recall_4: 0.7653 - accuracy: 0.7653 - val_loss: 0.5302 - val_precision_4: 0.7278 - val_recall_4: 0.7278 - val_accuracy: 0.7278\n",
            "Epoch 45/100\n",
            "45/46 [============================>.] - ETA: 0s - loss: 0.4985 - precision_4: 0.7646 - recall_4: 0.7646 - accuracy: 0.7646\n",
            "Epoch 45: val_accuracy improved from 0.73402 to 0.73918, saving model to /content/SCNNMDED\n",
            "46/46 [==============================] - 4s 88ms/step - loss: 0.4973 - precision_4: 0.7653 - recall_4: 0.7653 - accuracy: 0.7653 - val_loss: 0.5408 - val_precision_4: 0.7392 - val_recall_4: 0.7392 - val_accuracy: 0.7392\n",
            "Epoch 46/100\n",
            "45/46 [============================>.] - ETA: 0s - loss: 0.4828 - precision_4: 0.7705 - recall_4: 0.7705 - accuracy: 0.7705\n",
            "Epoch 46: val_accuracy did not improve from 0.73918\n",
            "46/46 [==============================] - 2s 33ms/step - loss: 0.4827 - precision_4: 0.7701 - recall_4: 0.7701 - accuracy: 0.7701 - val_loss: 0.5591 - val_precision_4: 0.7206 - val_recall_4: 0.7206 - val_accuracy: 0.7206\n",
            "Epoch 47/100\n",
            "45/46 [============================>.] - ETA: 0s - loss: 0.4895 - precision_4: 0.7569 - recall_4: 0.7569 - accuracy: 0.7569\n",
            "Epoch 47: val_accuracy did not improve from 0.73918\n",
            "46/46 [==============================] - 1s 32ms/step - loss: 0.4895 - precision_4: 0.7574 - recall_4: 0.7574 - accuracy: 0.7574 - val_loss: 0.5881 - val_precision_4: 0.7010 - val_recall_4: 0.7010 - val_accuracy: 0.7010\n",
            "Epoch 48/100\n",
            "45/46 [============================>.] - ETA: 0s - loss: 0.4864 - precision_4: 0.7691 - recall_4: 0.7691 - accuracy: 0.7691\n",
            "Epoch 48: val_accuracy did not improve from 0.73918\n",
            "46/46 [==============================] - 1s 31ms/step - loss: 0.4853 - precision_4: 0.7698 - recall_4: 0.7698 - accuracy: 0.7698 - val_loss: 0.5149 - val_precision_4: 0.7278 - val_recall_4: 0.7278 - val_accuracy: 0.7278\n",
            "Epoch 49/100\n",
            "45/46 [============================>.] - ETA: 0s - loss: 0.4717 - precision_4: 0.7715 - recall_4: 0.7715 - accuracy: 0.7715\n",
            "Epoch 49: val_accuracy did not improve from 0.73918\n",
            "46/46 [==============================] - 1s 33ms/step - loss: 0.4702 - precision_4: 0.7722 - recall_4: 0.7722 - accuracy: 0.7722 - val_loss: 0.5726 - val_precision_4: 0.7371 - val_recall_4: 0.7371 - val_accuracy: 0.7371\n",
            "Epoch 50/100\n",
            "45/46 [============================>.] - ETA: 0s - loss: 0.4777 - precision_4: 0.7708 - recall_4: 0.7708 - accuracy: 0.7708\n",
            "Epoch 50: val_accuracy improved from 0.73918 to 0.74742, saving model to /content/SCNNMDED\n",
            "46/46 [==============================] - 3s 74ms/step - loss: 0.4774 - precision_4: 0.7718 - recall_4: 0.7718 - accuracy: 0.7718 - val_loss: 0.5027 - val_precision_4: 0.7474 - val_recall_4: 0.7474 - val_accuracy: 0.7474\n",
            "Epoch 51/100\n",
            "45/46 [============================>.] - ETA: 0s - loss: 0.4835 - precision_4: 0.7656 - recall_4: 0.7656 - accuracy: 0.7656\n",
            "Epoch 51: val_accuracy did not improve from 0.74742\n",
            "46/46 [==============================] - 2s 37ms/step - loss: 0.4820 - precision_4: 0.7670 - recall_4: 0.7670 - accuracy: 0.7670 - val_loss: 0.5306 - val_precision_4: 0.7423 - val_recall_4: 0.7423 - val_accuracy: 0.7423\n",
            "Epoch 52/100\n",
            "45/46 [============================>.] - ETA: 0s - loss: 0.4642 - precision_4: 0.7778 - recall_4: 0.7778 - accuracy: 0.7778\n",
            "Epoch 52: val_accuracy did not improve from 0.74742\n",
            "46/46 [==============================] - 2s 39ms/step - loss: 0.4657 - precision_4: 0.7766 - recall_4: 0.7766 - accuracy: 0.7766 - val_loss: 0.5152 - val_precision_4: 0.7371 - val_recall_4: 0.7371 - val_accuracy: 0.7371\n",
            "Epoch 53/100\n",
            "45/46 [============================>.] - ETA: 0s - loss: 0.4764 - precision_4: 0.7649 - recall_4: 0.7649 - accuracy: 0.7649\n",
            "Epoch 53: val_accuracy did not improve from 0.74742\n",
            "46/46 [==============================] - 2s 37ms/step - loss: 0.4761 - precision_4: 0.7643 - recall_4: 0.7643 - accuracy: 0.7643 - val_loss: 0.5539 - val_precision_4: 0.7278 - val_recall_4: 0.7278 - val_accuracy: 0.7278\n",
            "Epoch 54/100\n",
            "45/46 [============================>.] - ETA: 0s - loss: 0.4621 - precision_4: 0.7740 - recall_4: 0.7740 - accuracy: 0.7740\n",
            "Epoch 54: val_accuracy did not improve from 0.74742\n",
            "46/46 [==============================] - 2s 36ms/step - loss: 0.4624 - precision_4: 0.7742 - recall_4: 0.7742 - accuracy: 0.7742 - val_loss: 0.5583 - val_precision_4: 0.7299 - val_recall_4: 0.7299 - val_accuracy: 0.7299\n",
            "Epoch 55/100\n",
            "45/46 [============================>.] - ETA: 0s - loss: 0.4410 - precision_4: 0.7924 - recall_4: 0.7924 - accuracy: 0.7924\n",
            "Epoch 55: val_accuracy did not improve from 0.74742\n",
            "46/46 [==============================] - 1s 32ms/step - loss: 0.4442 - precision_4: 0.7918 - recall_4: 0.7918 - accuracy: 0.7918 - val_loss: 0.6993 - val_precision_4: 0.6804 - val_recall_4: 0.6804 - val_accuracy: 0.6804\n",
            "Epoch 56/100\n",
            "45/46 [============================>.] - ETA: 0s - loss: 0.4667 - precision_4: 0.7795 - recall_4: 0.7795 - accuracy: 0.7795\n",
            "Epoch 56: val_accuracy did not improve from 0.74742\n",
            "46/46 [==============================] - 1s 32ms/step - loss: 0.4656 - precision_4: 0.7801 - recall_4: 0.7801 - accuracy: 0.7801 - val_loss: 0.5645 - val_precision_4: 0.7299 - val_recall_4: 0.7299 - val_accuracy: 0.7299\n",
            "Epoch 57/100\n",
            "45/46 [============================>.] - ETA: 0s - loss: 0.4614 - precision_4: 0.7837 - recall_4: 0.7837 - accuracy: 0.7837\n",
            "Epoch 57: val_accuracy improved from 0.74742 to 0.76289, saving model to /content/SCNNMDED\n",
            "46/46 [==============================] - 3s 71ms/step - loss: 0.4601 - precision_4: 0.7849 - recall_4: 0.7849 - accuracy: 0.7849 - val_loss: 0.4918 - val_precision_4: 0.7629 - val_recall_4: 0.7629 - val_accuracy: 0.7629\n",
            "Epoch 58/100\n",
            "45/46 [============================>.] - ETA: 0s - loss: 0.4490 - precision_4: 0.7878 - recall_4: 0.7878 - accuracy: 0.7878\n",
            "Epoch 58: val_accuracy did not improve from 0.76289\n",
            "46/46 [==============================] - 2s 34ms/step - loss: 0.4521 - precision_4: 0.7866 - recall_4: 0.7866 - accuracy: 0.7866 - val_loss: 0.5253 - val_precision_4: 0.7423 - val_recall_4: 0.7423 - val_accuracy: 0.7423\n",
            "Epoch 59/100\n",
            "45/46 [============================>.] - ETA: 0s - loss: 0.4532 - precision_4: 0.7917 - recall_4: 0.7917 - accuracy: 0.7917\n",
            "Epoch 59: val_accuracy did not improve from 0.76289\n",
            "46/46 [==============================] - 2s 37ms/step - loss: 0.4520 - precision_4: 0.7931 - recall_4: 0.7931 - accuracy: 0.7931 - val_loss: 0.4838 - val_precision_4: 0.7557 - val_recall_4: 0.7557 - val_accuracy: 0.7557\n",
            "Epoch 60/100\n",
            "45/46 [============================>.] - ETA: 0s - loss: 0.4343 - precision_4: 0.7937 - recall_4: 0.7937 - accuracy: 0.7937\n",
            "Epoch 60: val_accuracy did not improve from 0.76289\n",
            "46/46 [==============================] - 2s 37ms/step - loss: 0.4336 - precision_4: 0.7945 - recall_4: 0.7945 - accuracy: 0.7945 - val_loss: 0.5290 - val_precision_4: 0.7371 - val_recall_4: 0.7371 - val_accuracy: 0.7371\n",
            "Epoch 61/100\n",
            "45/46 [============================>.] - ETA: 0s - loss: 0.4028 - precision_4: 0.8104 - recall_4: 0.8104 - accuracy: 0.8104\n",
            "Epoch 61: val_accuracy did not improve from 0.76289\n",
            "46/46 [==============================] - 2s 40ms/step - loss: 0.4039 - precision_4: 0.8100 - recall_4: 0.8100 - accuracy: 0.8100 - val_loss: 0.5250 - val_precision_4: 0.7412 - val_recall_4: 0.7412 - val_accuracy: 0.7412\n",
            "Epoch 62/100\n",
            "45/46 [============================>.] - ETA: 0s - loss: 0.4191 - precision_4: 0.8094 - recall_4: 0.8094 - accuracy: 0.8094\n",
            "Epoch 62: val_accuracy did not improve from 0.76289\n",
            "46/46 [==============================] - 2s 40ms/step - loss: 0.4190 - precision_4: 0.8089 - recall_4: 0.8089 - accuracy: 0.8089 - val_loss: 0.6393 - val_precision_4: 0.7031 - val_recall_4: 0.7031 - val_accuracy: 0.7031\n",
            "Epoch 63/100\n",
            "45/46 [============================>.] - ETA: 0s - loss: 0.4394 - precision_4: 0.7976 - recall_4: 0.7976 - accuracy: 0.7976\n",
            "Epoch 63: val_accuracy did not improve from 0.76289\n",
            "46/46 [==============================] - 2s 36ms/step - loss: 0.4387 - precision_4: 0.7979 - recall_4: 0.7979 - accuracy: 0.7979 - val_loss: 0.6041 - val_precision_4: 0.6979 - val_recall_4: 0.6979 - val_accuracy: 0.6979\n",
            "Epoch 64/100\n",
            "45/46 [============================>.] - ETA: 0s - loss: 0.4238 - precision_4: 0.8017 - recall_4: 0.8017 - accuracy: 0.8017\n",
            "Epoch 64: val_accuracy did not improve from 0.76289\n",
            "46/46 [==============================] - 2s 33ms/step - loss: 0.4212 - precision_4: 0.8034 - recall_4: 0.8034 - accuracy: 0.8034 - val_loss: 0.5790 - val_precision_4: 0.7381 - val_recall_4: 0.7381 - val_accuracy: 0.7381\n",
            "Epoch 65/100\n",
            "45/46 [============================>.] - ETA: 0s - loss: 0.4174 - precision_4: 0.8052 - recall_4: 0.8052 - accuracy: 0.8052\n",
            "Epoch 65: val_accuracy did not improve from 0.76289\n",
            "46/46 [==============================] - 1s 32ms/step - loss: 0.4165 - precision_4: 0.8052 - recall_4: 0.8052 - accuracy: 0.8052 - val_loss: 0.6398 - val_precision_4: 0.7010 - val_recall_4: 0.7010 - val_accuracy: 0.7010\n",
            "Epoch 66/100\n",
            "45/46 [============================>.] - ETA: 0s - loss: 0.4121 - precision_4: 0.8059 - recall_4: 0.8059 - accuracy: 0.8059\n",
            "Epoch 66: val_accuracy did not improve from 0.76289\n",
            "46/46 [==============================] - 2s 33ms/step - loss: 0.4124 - precision_4: 0.8058 - recall_4: 0.8058 - accuracy: 0.8058 - val_loss: 0.5622 - val_precision_4: 0.7340 - val_recall_4: 0.7340 - val_accuracy: 0.7340\n",
            "Epoch 67/100\n",
            "45/46 [============================>.] - ETA: 0s - loss: 0.4332 - precision_4: 0.7875 - recall_4: 0.7875 - accuracy: 0.7875\n",
            "Epoch 67: val_accuracy did not improve from 0.76289\n",
            "46/46 [==============================] - 1s 32ms/step - loss: 0.4316 - precision_4: 0.7887 - recall_4: 0.7887 - accuracy: 0.7887 - val_loss: 0.4906 - val_precision_4: 0.7619 - val_recall_4: 0.7619 - val_accuracy: 0.7619\n",
            "Epoch 68/100\n",
            "45/46 [============================>.] - ETA: 0s - loss: 0.4148 - precision_4: 0.8052 - recall_4: 0.8052 - accuracy: 0.8052\n",
            "Epoch 68: val_accuracy did not improve from 0.76289\n",
            "46/46 [==============================] - 1s 32ms/step - loss: 0.4156 - precision_4: 0.8055 - recall_4: 0.8055 - accuracy: 0.8055 - val_loss: 0.5680 - val_precision_4: 0.7371 - val_recall_4: 0.7371 - val_accuracy: 0.7371\n",
            "Epoch 69/100\n",
            "45/46 [============================>.] - ETA: 0s - loss: 0.4093 - precision_4: 0.8049 - recall_4: 0.8049 - accuracy: 0.8049\n",
            "Epoch 69: val_accuracy did not improve from 0.76289\n",
            "46/46 [==============================] - 2s 37ms/step - loss: 0.4105 - precision_4: 0.8041 - recall_4: 0.8041 - accuracy: 0.8041 - val_loss: 0.5442 - val_precision_4: 0.7381 - val_recall_4: 0.7381 - val_accuracy: 0.7381\n",
            "Epoch 70/100\n",
            "45/46 [============================>.] - ETA: 0s - loss: 0.4155 - precision_4: 0.8007 - recall_4: 0.8007 - accuracy: 0.8007\n",
            "Epoch 70: val_accuracy did not improve from 0.76289\n",
            "46/46 [==============================] - 2s 39ms/step - loss: 0.4156 - precision_4: 0.8003 - recall_4: 0.8003 - accuracy: 0.8003 - val_loss: 0.5373 - val_precision_4: 0.7526 - val_recall_4: 0.7526 - val_accuracy: 0.7526\n",
            "Epoch 71/100\n",
            "45/46 [============================>.] - ETA: 0s - loss: 0.4059 - precision_4: 0.8108 - recall_4: 0.8108 - accuracy: 0.8108\n",
            "Epoch 71: val_accuracy did not improve from 0.76289\n",
            "46/46 [==============================] - 2s 40ms/step - loss: 0.4060 - precision_4: 0.8117 - recall_4: 0.8117 - accuracy: 0.8117 - val_loss: 0.5259 - val_precision_4: 0.7361 - val_recall_4: 0.7361 - val_accuracy: 0.7361\n",
            "Epoch 72/100\n",
            "45/46 [============================>.] - ETA: 0s - loss: 0.4098 - precision_4: 0.8080 - recall_4: 0.8080 - accuracy: 0.8080\n",
            "Epoch 72: val_accuracy did not improve from 0.76289\n",
            "46/46 [==============================] - 2s 36ms/step - loss: 0.4103 - precision_4: 0.8082 - recall_4: 0.8082 - accuracy: 0.8082 - val_loss: 0.5543 - val_precision_4: 0.7474 - val_recall_4: 0.7474 - val_accuracy: 0.7474\n",
            "Epoch 73/100\n",
            "45/46 [============================>.] - ETA: 0s - loss: 0.4047 - precision_4: 0.8146 - recall_4: 0.8146 - accuracy: 0.8146\n",
            "Epoch 73: val_accuracy did not improve from 0.76289\n",
            "46/46 [==============================] - 1s 32ms/step - loss: 0.4080 - precision_4: 0.8137 - recall_4: 0.8137 - accuracy: 0.8137 - val_loss: 0.6649 - val_precision_4: 0.7031 - val_recall_4: 0.7031 - val_accuracy: 0.7031\n",
            "Epoch 74/100\n",
            "45/46 [============================>.] - ETA: 0s - loss: 0.4116 - precision_4: 0.8139 - recall_4: 0.8139 - accuracy: 0.8139\n",
            "Epoch 74: val_accuracy did not improve from 0.76289\n",
            "46/46 [==============================] - 2s 36ms/step - loss: 0.4134 - precision_4: 0.8124 - recall_4: 0.8124 - accuracy: 0.8124 - val_loss: 0.5192 - val_precision_4: 0.7577 - val_recall_4: 0.7577 - val_accuracy: 0.7577\n",
            "Epoch 75/100\n",
            "45/46 [============================>.] - ETA: 0s - loss: 0.3894 - precision_4: 0.8233 - recall_4: 0.8233 - accuracy: 0.8233\n",
            "Epoch 75: val_accuracy did not improve from 0.76289\n",
            "46/46 [==============================] - 1s 33ms/step - loss: 0.3888 - precision_4: 0.8237 - recall_4: 0.8237 - accuracy: 0.8237 - val_loss: 0.6721 - val_precision_4: 0.6928 - val_recall_4: 0.6928 - val_accuracy: 0.6928\n",
            "Epoch 76/100\n",
            "45/46 [============================>.] - ETA: 0s - loss: 0.4373 - precision_4: 0.7910 - recall_4: 0.7910 - accuracy: 0.7910\n",
            "Epoch 76: val_accuracy did not improve from 0.76289\n",
            "46/46 [==============================] - 1s 32ms/step - loss: 0.4374 - precision_4: 0.7914 - recall_4: 0.7914 - accuracy: 0.7914 - val_loss: 0.6063 - val_precision_4: 0.7206 - val_recall_4: 0.7206 - val_accuracy: 0.7206\n",
            "Epoch 77/100\n",
            "45/46 [============================>.] - ETA: 0s - loss: 0.3902 - precision_4: 0.8212 - recall_4: 0.8212 - accuracy: 0.8212\n",
            "Epoch 77: val_accuracy did not improve from 0.76289\n",
            "46/46 [==============================] - 1s 32ms/step - loss: 0.3906 - precision_4: 0.8210 - recall_4: 0.8210 - accuracy: 0.8210 - val_loss: 0.5573 - val_precision_4: 0.7278 - val_recall_4: 0.7278 - val_accuracy: 0.7278\n",
            "Epoch 78/100\n",
            "45/46 [============================>.] - ETA: 0s - loss: 0.3905 - precision_4: 0.8247 - recall_4: 0.8247 - accuracy: 0.8247\n",
            "Epoch 78: val_accuracy improved from 0.76289 to 0.77526, saving model to /content/SCNNMDED\n",
            "46/46 [==============================] - 4s 98ms/step - loss: 0.3911 - precision_4: 0.8237 - recall_4: 0.8237 - accuracy: 0.8237 - val_loss: 0.4762 - val_precision_4: 0.7753 - val_recall_4: 0.7753 - val_accuracy: 0.7753\n",
            "Epoch 79/100\n",
            "45/46 [============================>.] - ETA: 0s - loss: 0.3823 - precision_4: 0.8247 - recall_4: 0.8247 - accuracy: 0.8247\n",
            "Epoch 79: val_accuracy improved from 0.77526 to 0.78866, saving model to /content/SCNNMDED\n",
            "46/46 [==============================] - 4s 91ms/step - loss: 0.3823 - precision_4: 0.8244 - recall_4: 0.8244 - accuracy: 0.8244 - val_loss: 0.4518 - val_precision_4: 0.7887 - val_recall_4: 0.7887 - val_accuracy: 0.7887\n",
            "Epoch 80/100\n",
            "45/46 [============================>.] - ETA: 0s - loss: 0.3798 - precision_4: 0.8257 - recall_4: 0.8257 - accuracy: 0.8257\n",
            "Epoch 80: val_accuracy did not improve from 0.78866\n",
            "46/46 [==============================] - 2s 35ms/step - loss: 0.3812 - precision_4: 0.8251 - recall_4: 0.8251 - accuracy: 0.8251 - val_loss: 0.4931 - val_precision_4: 0.7670 - val_recall_4: 0.7670 - val_accuracy: 0.7670\n",
            "Epoch 81/100\n",
            "45/46 [============================>.] - ETA: 0s - loss: 0.3905 - precision_4: 0.8208 - recall_4: 0.8208 - accuracy: 0.8208\n",
            "Epoch 81: val_accuracy did not improve from 0.78866\n",
            "46/46 [==============================] - 2s 37ms/step - loss: 0.3894 - precision_4: 0.8213 - recall_4: 0.8213 - accuracy: 0.8213 - val_loss: 0.4804 - val_precision_4: 0.7742 - val_recall_4: 0.7742 - val_accuracy: 0.7742\n",
            "Epoch 82/100\n",
            "45/46 [============================>.] - ETA: 0s - loss: 0.3705 - precision_4: 0.8267 - recall_4: 0.8267 - accuracy: 0.8267\n",
            "Epoch 82: val_accuracy did not improve from 0.78866\n",
            "46/46 [==============================] - 2s 36ms/step - loss: 0.3716 - precision_4: 0.8268 - recall_4: 0.8268 - accuracy: 0.8268 - val_loss: 0.4742 - val_precision_4: 0.7722 - val_recall_4: 0.7722 - val_accuracy: 0.7722\n",
            "Epoch 83/100\n",
            "45/46 [============================>.] - ETA: 0s - loss: 0.3926 - precision_4: 0.8177 - recall_4: 0.8177 - accuracy: 0.8177\n",
            "Epoch 83: val_accuracy did not improve from 0.78866\n",
            "46/46 [==============================] - 1s 33ms/step - loss: 0.3908 - precision_4: 0.8182 - recall_4: 0.8182 - accuracy: 0.8182 - val_loss: 0.5654 - val_precision_4: 0.7351 - val_recall_4: 0.7351 - val_accuracy: 0.7351\n",
            "Epoch 84/100\n",
            "45/46 [============================>.] - ETA: 0s - loss: 0.4023 - precision_4: 0.8174 - recall_4: 0.8174 - accuracy: 0.8174\n",
            "Epoch 84: val_accuracy did not improve from 0.78866\n",
            "46/46 [==============================] - 2s 36ms/step - loss: 0.4009 - precision_4: 0.8182 - recall_4: 0.8182 - accuracy: 0.8182 - val_loss: 0.5024 - val_precision_4: 0.7485 - val_recall_4: 0.7485 - val_accuracy: 0.7485\n",
            "Epoch 85/100\n",
            "45/46 [============================>.] - ETA: 0s - loss: 0.3722 - precision_4: 0.8389 - recall_4: 0.8389 - accuracy: 0.8389\n",
            "Epoch 85: val_accuracy did not improve from 0.78866\n",
            "46/46 [==============================] - 2s 36ms/step - loss: 0.3729 - precision_4: 0.8385 - recall_4: 0.8385 - accuracy: 0.8385 - val_loss: 0.5392 - val_precision_4: 0.7412 - val_recall_4: 0.7412 - val_accuracy: 0.7412\n",
            "Epoch 86/100\n",
            "45/46 [============================>.] - ETA: 0s - loss: 0.3839 - precision_4: 0.8236 - recall_4: 0.8236 - accuracy: 0.8236\n",
            "Epoch 86: val_accuracy improved from 0.78866 to 0.79381, saving model to /content/SCNNMDED\n",
            "46/46 [==============================] - 4s 99ms/step - loss: 0.3836 - precision_4: 0.8241 - recall_4: 0.8241 - accuracy: 0.8241 - val_loss: 0.4240 - val_precision_4: 0.7938 - val_recall_4: 0.7938 - val_accuracy: 0.7938\n",
            "Epoch 87/100\n",
            "45/46 [============================>.] - ETA: 0s - loss: 0.3765 - precision_4: 0.8271 - recall_4: 0.8271 - accuracy: 0.8271\n",
            "Epoch 87: val_accuracy did not improve from 0.79381\n",
            "46/46 [==============================] - 2s 35ms/step - loss: 0.3774 - precision_4: 0.8261 - recall_4: 0.8261 - accuracy: 0.8261 - val_loss: 0.5495 - val_precision_4: 0.7526 - val_recall_4: 0.7526 - val_accuracy: 0.7526\n",
            "Epoch 88/100\n",
            "45/46 [============================>.] - ETA: 0s - loss: 0.3972 - precision_4: 0.8132 - recall_4: 0.8132 - accuracy: 0.8132\n",
            "Epoch 88: val_accuracy did not improve from 0.79381\n",
            "46/46 [==============================] - 2s 36ms/step - loss: 0.3978 - precision_4: 0.8124 - recall_4: 0.8124 - accuracy: 0.8124 - val_loss: 0.4749 - val_precision_4: 0.7742 - val_recall_4: 0.7742 - val_accuracy: 0.7742\n",
            "Epoch 89/100\n",
            "45/46 [============================>.] - ETA: 0s - loss: 0.3726 - precision_4: 0.8354 - recall_4: 0.8354 - accuracy: 0.8354\n",
            "Epoch 89: val_accuracy did not improve from 0.79381\n",
            "46/46 [==============================] - 2s 33ms/step - loss: 0.3715 - precision_4: 0.8357 - recall_4: 0.8357 - accuracy: 0.8357 - val_loss: 0.5574 - val_precision_4: 0.7340 - val_recall_4: 0.7340 - val_accuracy: 0.7340\n",
            "Epoch 90/100\n",
            "45/46 [============================>.] - ETA: 0s - loss: 0.3520 - precision_4: 0.8378 - recall_4: 0.8378 - accuracy: 0.8378\n",
            "Epoch 90: val_accuracy did not improve from 0.79381\n",
            "46/46 [==============================] - 2s 36ms/step - loss: 0.3523 - precision_4: 0.8378 - recall_4: 0.8378 - accuracy: 0.8378 - val_loss: 0.4830 - val_precision_4: 0.7732 - val_recall_4: 0.7732 - val_accuracy: 0.7732\n",
            "Epoch 91/100\n",
            "45/46 [============================>.] - ETA: 0s - loss: 0.3590 - precision_4: 0.8413 - recall_4: 0.8413 - accuracy: 0.8413\n",
            "Epoch 91: val_accuracy did not improve from 0.79381\n",
            "46/46 [==============================] - 2s 33ms/step - loss: 0.3586 - precision_4: 0.8416 - recall_4: 0.8416 - accuracy: 0.8416 - val_loss: 0.4782 - val_precision_4: 0.7732 - val_recall_4: 0.7732 - val_accuracy: 0.7732\n",
            "Epoch 92/100\n",
            "45/46 [============================>.] - ETA: 0s - loss: 0.3400 - precision_4: 0.8503 - recall_4: 0.8503 - accuracy: 0.8503\n",
            "Epoch 92: val_accuracy did not improve from 0.79381\n",
            "46/46 [==============================] - 2s 33ms/step - loss: 0.3406 - precision_4: 0.8505 - recall_4: 0.8505 - accuracy: 0.8505 - val_loss: 0.4933 - val_precision_4: 0.7928 - val_recall_4: 0.7928 - val_accuracy: 0.7928\n",
            "Epoch 93/100\n",
            "45/46 [============================>.] - ETA: 0s - loss: 0.3634 - precision_4: 0.8382 - recall_4: 0.8382 - accuracy: 0.8382\n",
            "Epoch 93: val_accuracy did not improve from 0.79381\n",
            "46/46 [==============================] - 2s 34ms/step - loss: 0.3628 - precision_4: 0.8388 - recall_4: 0.8388 - accuracy: 0.8388 - val_loss: 0.4984 - val_precision_4: 0.7546 - val_recall_4: 0.7546 - val_accuracy: 0.7546\n",
            "Epoch 94/100\n",
            "45/46 [============================>.] - ETA: 0s - loss: 0.3437 - precision_4: 0.8458 - recall_4: 0.8458 - accuracy: 0.8458\n",
            "Epoch 94: val_accuracy did not improve from 0.79381\n",
            "46/46 [==============================] - 2s 35ms/step - loss: 0.3443 - precision_4: 0.8457 - recall_4: 0.8457 - accuracy: 0.8457 - val_loss: 0.5047 - val_precision_4: 0.7670 - val_recall_4: 0.7670 - val_accuracy: 0.7670\n",
            "Epoch 95/100\n",
            "45/46 [============================>.] - ETA: 0s - loss: 0.3354 - precision_4: 0.8503 - recall_4: 0.8503 - accuracy: 0.8503\n",
            "Epoch 95: val_accuracy did not improve from 0.79381\n",
            "46/46 [==============================] - 2s 35ms/step - loss: 0.3358 - precision_4: 0.8498 - recall_4: 0.8498 - accuracy: 0.8498 - val_loss: 0.5030 - val_precision_4: 0.7773 - val_recall_4: 0.7773 - val_accuracy: 0.7773\n",
            "Epoch 96/100\n",
            "45/46 [============================>.] - ETA: 0s - loss: 0.3534 - precision_4: 0.8378 - recall_4: 0.8378 - accuracy: 0.8378\n",
            "Epoch 96: val_accuracy did not improve from 0.79381\n",
            "46/46 [==============================] - 2s 39ms/step - loss: 0.3521 - precision_4: 0.8385 - recall_4: 0.8385 - accuracy: 0.8385 - val_loss: 0.4886 - val_precision_4: 0.7856 - val_recall_4: 0.7856 - val_accuracy: 0.7856\n",
            "Epoch 97/100\n",
            "45/46 [============================>.] - ETA: 0s - loss: 0.3465 - precision_4: 0.8472 - recall_4: 0.8472 - accuracy: 0.8472\n",
            "Epoch 97: val_accuracy did not improve from 0.79381\n",
            "46/46 [==============================] - 2s 38ms/step - loss: 0.3454 - precision_4: 0.8481 - recall_4: 0.8481 - accuracy: 0.8481 - val_loss: 0.6802 - val_precision_4: 0.7186 - val_recall_4: 0.7186 - val_accuracy: 0.7186\n",
            "Epoch 98/100\n",
            "45/46 [============================>.] - ETA: 0s - loss: 0.3367 - precision_4: 0.8528 - recall_4: 0.8528 - accuracy: 0.8528\n",
            "Epoch 98: val_accuracy did not improve from 0.79381\n",
            "46/46 [==============================] - 2s 37ms/step - loss: 0.3372 - precision_4: 0.8526 - recall_4: 0.8526 - accuracy: 0.8526 - val_loss: 0.5654 - val_precision_4: 0.7588 - val_recall_4: 0.7588 - val_accuracy: 0.7588\n",
            "Epoch 99/100\n",
            "45/46 [============================>.] - ETA: 0s - loss: 0.3325 - precision_4: 0.8549 - recall_4: 0.8549 - accuracy: 0.8549\n",
            "Epoch 99: val_accuracy did not improve from 0.79381\n",
            "46/46 [==============================] - 2s 33ms/step - loss: 0.3323 - precision_4: 0.8546 - recall_4: 0.8546 - accuracy: 0.8546 - val_loss: 0.5612 - val_precision_4: 0.7598 - val_recall_4: 0.7598 - val_accuracy: 0.7598\n",
            "Epoch 100/100\n",
            "45/46 [============================>.] - ETA: 0s - loss: 0.3316 - precision_4: 0.8524 - recall_4: 0.8524 - accuracy: 0.8524\n",
            "Epoch 100: val_accuracy did not improve from 0.79381\n",
            "46/46 [==============================] - 2s 33ms/step - loss: 0.3317 - precision_4: 0.8519 - recall_4: 0.8519 - accuracy: 0.8519 - val_loss: 0.5159 - val_precision_4: 0.7742 - val_recall_4: 0.7742 - val_accuracy: 0.7742\n"
          ]
        }
      ]
    },
    {
      "cell_type": "markdown",
      "source": [
        "####16-5 Store its hisotry"
      ],
      "metadata": {
        "id": "vGavM1SlBLs2"
      }
    },
    {
      "cell_type": "code",
      "source": [
        "history_dict['SCNNMDED'] = SCNNMDED.history"
      ],
      "metadata": {
        "id": "UUor2y__e5Rr"
      },
      "execution_count": 42,
      "outputs": []
    },
    {
      "cell_type": "markdown",
      "source": [
        "###17-Comparison"
      ],
      "metadata": {
        "id": "z08WL9Wj7B3n"
      }
    },
    {
      "cell_type": "markdown",
      "source": [
        "####17-1 Line graph"
      ],
      "metadata": {
        "id": "9RNA66DHDoBg"
      }
    },
    {
      "cell_type": "code",
      "source": [
        "plot_accuracy(history_dict)"
      ],
      "metadata": {
        "colab": {
          "base_uri": "https://localhost:8080/",
          "height": 323
        },
        "id": "ddNh4aijDrc7",
        "outputId": "d88e02ef-bc53-4e74-8957-bd316f05a9db"
      },
      "execution_count": 43,
      "outputs": [
        {
          "output_type": "display_data",
          "data": {
            "text/plain": [
              "<Figure size 2100x400 with 1 Axes>"
            ],
            "image/png": "[encoded data removed]"
          },
          "metadata": {}
        }
      ]
    },
    {
      "cell_type": "markdown",
      "source": [
        "####17-2 Bar graph"
      ],
      "metadata": {
        "id": "MBLQ0mSmDxCh"
      }
    },
    {
      "cell_type": "code",
      "source": [
        "max_val_accuracy = {}\n",
        "max_accuracy = {}\n",
        "for model in history_dict.keys():\n",
        "  max = np.max(history_dict[model]['val_accuracy'])\n",
        "  max_val_accuracy[model] = max\n",
        "\n",
        "  max = np.max(history_dict[model]['accuracy'])\n",
        "  max_accuracy[model] = max\n",
        "\n",
        "plt.bar(x=max_accuracy.keys(), height=max_accuracy.values(),color='green')\n",
        "plt.ylim(0.6,1.05)\n",
        "plt.xticks(rotation=90)\n",
        "plt.xlabel(\"Models\")\n",
        "plt.ylabel(\"Accuracy\")\n",
        "plt.title('Models comparision')\n",
        "plt.show()\n",
        "\n",
        "plt.bar(x=max_val_accuracy.keys(), height=max_val_accuracy.values())\n",
        "plt.ylim(0.6,.85)\n",
        "plt.xticks(rotation=90)\n",
        "plt.xlabel(\"Models\")\n",
        "plt.ylabel(\"Val_Accuracy\")\n",
        "plt.show()"
      ],
      "metadata": {
        "id": "CYP2OhBr7AxE",
        "colab": {
          "base_uri": "https://localhost:8080/",
          "height": 1000
        },
        "outputId": "7c2b1763-db5d-4a03-c64a-fa69e71bcde6"
      },
      "execution_count": 44,
      "outputs": [
        {
          "output_type": "display_data",
          "data": {
            "text/plain": [
              "<Figure size 640x480 with 1 Axes>"
            ],
            "image/png": "[encoded data removed]"
          },
          "metadata": {}
        },
        {
          "output_type": "display_data",
          "data": {
            "text/plain": [
              "<Figure size 640x480 with 1 Axes>"
            ],
            "image/png": "[encoded data removed]"
          },
          "metadata": {}
        }
      ]
    },
    {
      "cell_type": "markdown",
      "source": [
        "###18- Conclusion\n",
        "We concluded that adding layers like maxpooling and dropout can improve the simple convlutional networks. Although we imporved val_accuracy from 66% to 76%, it needs better models to have a remarkable result in classification plants. Also, it is noticeable that there is a sharp difference between accuracy and validation accuracy in diverse models.Hence, this means we are dealing with overfitting problem. In last step, we used data augmentation, giving us 79% val_accuracy, but it wasn't really successful, since our dataset is imbalance and we know overfitting happened.\n",
        "\n",
        "**`Let's go to next notebooks, including more advanced models, addressing overfitting problem.`**"
      ],
      "metadata": {
        "id": "K-1yPgHvTks_"
      }
    }
  ],
  "metadata": {
    "colab": {
      "provenance": [],
      "gpuType": "T4",
      "toc_visible": true
    },
    "kernelspec": {
      "display_name": "Python 3",
      "name": "python3"
    },
    "language_info": {
      "name": "python"
    },
    "accelerator": "GPU"
  },
  "nbformat": 4,
  "nbformat_minor": 0
}